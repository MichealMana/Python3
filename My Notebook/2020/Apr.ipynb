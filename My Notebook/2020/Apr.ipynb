{
 "cells": [
  {
   "cell_type": "markdown",
   "metadata": {},
   "source": [
    "* [**How to filter except some text in a file?**](#How-to-filter-except-some-text-in-a-file?)\n",
    "* [**How to list nologin user?**](#How-to-list-nologin-user?)\n",
    "* [**How to insert text after a specific string in a file?**](#How-to-insert-text-after-a-specific-string-in-a-file?)\n",
    "* [**Draw Truth Table By Python**](#Draw-Truth-Table-By-Python)\n",
    "* [**How To Check Whether keyword Or Not?**](#How-To-Check-Whether-keyword-Or-Not?)\n",
    "* [**How To Combine 2 Files Into 1 File With 2 Columns?**](#How-To-Combine-2-Files-Into-1-File-With-2-Columns?)\n",
    "* [**How To Merge Two Files Into Single File?**](#How-To-Merge-Two-Files-Into-Single-File?)\n",
    "* [**How To Count Occurrence Of Particular Word In A File?**](#How-To-Count-Occurrence-Of-Particular-Word-In-A-File?)\n",
    "* [**How To Read Specific Line In A File?**](#How-To-Read-Specific-Line-In-A-File?)\n",
    "* [**Maximum Element Of The List**](#Maximum-Element-Of-The-List)\n",
    "* [**How To Remove All Characters Except Digit?**](#How-To-Remove-All-Characters-Except-Digit?)\n",
    "* [**How to Get Color Output?**](#How-to-Get-Color-Output?)\n",
    "* [**How To Replace Multiple Spaces With One?**](#How-To-Replace-Multiple-Spaces-With-One?)\n",
    "* [**How To Remove All the Digits And Special Characters From The String?**](#How-To-Remove-All-the-Digits-And-Special-Characters-From-The-String?)\n",
    "* [**How To Child Class Access Method Of Parent Class?**](#How-To-Child-Class-Access-Method-Of-Parent-Class?)\n",
    "* [**Inherit same function name from several classes**](#Inherit-same-function-name-from-several-classes)\n",
    "* [**How To Trace System Call?**](#How-To-Trace-System-Call?)\n",
    "* [**How To Know Error Number Using Error Description?**](#How-To-Know-Error-Number-Using-Error-Description?)\n",
    "* [**How To Collect fstab Entries And Store Into CSV?**](#How-To-Collect-fstab-Entries-And-Store-Into-CSV?)\n",
    "* [**How To List Modified Files Between Specific Range Of Days?**](#How-To-List-Modified-Files-Between-Specific-Range-Of-Days?)\n",
    "* [**How To List Last 12 hrs Modified Files?**](#How-To-List-Last-12-hrs-Modified-Files?)\n",
    "* [**How Initialization Works In OOPS?**](#How-Initialization-Works-In-OOPS?)\n",
    "* [**How To Combine Two Unicode Point To Form New Character?**](#How-To-Combine-Two-Unicode-Point-To-Form-New-Character?)\n",
    "* [**How To Draw Repeated Character?**](#How-To-Draw-Repeated-Character?)\n",
    "* [**How To Convert Hex To Decimal?**](#How-To-Convert-Hex-To-Decimal?)\n",
    "* [**How To Get 10 Days Back Dayname?**](#How-To-Get-10-Days-Back-Dayname?)\n",
    "* [**Python Simple Calculator**](#Python-Simple-Calculator)\n",
    "* [**Convert Integer Number To Octal, Hex**](#Convert-Integer-Number-To-Octal,-Hex)\n",
    "* [**How To Find Empty Directories?**](#How-To-Find-Empty-Directories?)\n",
    "* [**How To Find All Empty Files In Directory?**](#How-To-Find-All-Empty-Files-In-Directory?)\n",
    "* [**How To Two List Comparison Greate Than Works?**](#How-To-Two-List-Comparison-Greate-Than-Works?)\n",
    "* [**How to view Last 30 Minutes Logs?**](#How-to-view-Last-30-Minutes-Logs?)\n",
    "* [**How To View Logs Specific Range Of Time?**](#How-to-view-Logs-Specific-Range-Of-Time?)\n",
    "* [**Bash Reserved Words**](#Bash-Reserved-Words)\n",
    "* [**How To Join Today Date With Username?**](#How-to-Join-Today-Date-With-Username?)\n",
    "* [**How To Run Script In Notebook?**](#How-To-Run-Script-In-Notebook?)\n",
    "* [**How To Shuffle String?**](#How-To-Shuffle-String?)\n",
    "* [**How To Get Error Info Only?**](#How-To-Get-Error-Info-Only?)\n",
    "* [**Check Whether String Empty Or Not**](#Check-Whether-String-Empty-Or-Not)\n",
    "* [**How To Check Whether Port Open Or Not?**](#How-To-Check-Whether-Port-Open-Or-Not?)\n",
    "* [**How To Check Whether Server Up Or Down?**](#How-To-Check-Whether-Server-Up-Or-Down?)\n",
    "* [**How To Get Average Mark Of Student Without Using Sum Function?**](#How-To-Get-Average-Mark-Of-Student-Without-Using-Sum-Function?)\n",
    "* [**How To Get Maximum Number Of List Without Using Max Function?**](#How-To-Get-Maximum-Number-Of-List-Without-Using-Max-Function?)\n",
    "* [**Tree**](#Tree)\n",
    "* [**Factorial One Liner**](#Factorial-One-Liner)\n",
    "* [**How to fetch 13 digit ISBN?**](#How-To-Fetch-13-Digit-Isbn?)\n",
    "* [**How To Sum List Without Sum Function?**](#How-To-Sum-List-Without-Sum-Function?)\n",
    "* [**What Is zip Function?**](#What-Is-zip-Function?)\n",
    "* [**Print Flowers**](#Print-Flowers)\n",
    "* [**List The Filesystem Except Pseudo-Filesystem**](#List-The-Filesystem-Except-Pseudo-Filesystem)\n",
    "* [**Mathematical Operations Between Lists**](#Mathematical-Operations-Between-Lists)\n",
    "* [**How To Remove Empty String in a List?**](#How-To-Remove-Empty-String-In-A-List?)\n",
    "* [**How To Find Maximum Date In The List?**](#How-To-Find-Maximum-Date-In-The-List?)\n",
    "* [**How To Find Minimum Date In The List?**](#How-To-Find-Minimum-Date-In-The-List?)\n",
    "* [**How To Remove Empty Line?**](#How-To-Remove-Empty-Line?)\n",
    "* [**How To Find Last Modified File In A Directory?**](#How-To-Find-Last-Modified-File-In-A-Directory?)\n",
    "* [**How To Reversed A String?**](#How-To-Reversed-A-String?)\n",
    "* [**Membership Operator In Bash**](#Membership-Operator-In-Bash)\n",
    "* [**How To Convert Lower Case To Upper Case?**](#How-To-Convert-Lower-Case-To-Upper-Case?)\n"
   ]
  },
  {
   "cell_type": "markdown",
   "metadata": {},
   "source": [
    "### **How to filter except some text in a file?**\n",
    "Here i filter line text except nologin"
   ]
  },
  {
   "cell_type": "code",
   "execution_count": 77,
   "metadata": {},
   "outputs": [
    {
     "name": "stdout",
     "output_type": "stream",
     "text": [
      "geoclue:x:121:129::/var/geoclue:/usr/sbin/nologin\r\n",
      "mana:x:1000:1000:mana,,,:/home/mana:/bin/bash\r\n",
      "sshd:x:122:65534::/run/sshd:/usr/sbin/nologin\r\n",
      "\r\n"
     ]
    }
   ],
   "source": [
    "!cat ~/Work/user.txt"
   ]
  },
  {
   "cell_type": "code",
   "execution_count": 83,
   "metadata": {},
   "outputs": [
    {
     "name": "stdout",
     "output_type": "stream",
     "text": [
      "mana:x:1000:1000:mana,,,:/home/mana:/bin/bash\n",
      "\n"
     ]
    }
   ],
   "source": [
    "%%bash\n",
    "\n",
    "grep -P '^(?!.*nologin$)' ~/Work/user.txt"
   ]
  },
  {
   "cell_type": "code",
   "execution_count": 70,
   "metadata": {},
   "outputs": [
    {
     "name": "stdout",
     "output_type": "stream",
     "text": [
      "mana:x:1000:1000:mana,,,:/home/mana:/bin/bash \n"
     ]
    }
   ],
   "source": [
    "%%python3\n",
    "\n",
    "from pathlib import Path\n",
    "from re import search\n",
    "\n",
    "fr = Path('/home/mana/user.txt').read_text().splitlines()\n",
    "print(*[i for i in fr if search(r'^(?!.*nologin$)', i)])"
   ]
  },
  {
   "cell_type": "markdown",
   "metadata": {},
   "source": [
    "### **How To List Nologin User?**"
   ]
  },
  {
   "cell_type": "code",
   "execution_count": 11,
   "metadata": {},
   "outputs": [
    {
     "name": "stdout",
     "output_type": "stream",
     "text": [
      "daemon bin sys games\n",
      "man lp mail news\n",
      "uucp proxy www-data backup\n",
      "list irc gnats nobody\n",
      "_apt\n"
     ]
    }
   ],
   "source": [
    "%%bash\n",
    "\n",
    "awk -F \":\" '/nologin$/{print $1}' <<< $(getent passwd) | xargs -n4 "
   ]
  },
  {
   "cell_type": "code",
   "execution_count": 8,
   "metadata": {},
   "outputs": [
    {
     "name": "stdout",
     "output_type": "stream",
     "text": [
      "daemon           bin              sys              games            \n",
      "man              lp               mail             news             \n",
      "uucp             proxy            www-data         backup           \n",
      "list             irc              gnats            nobody           \n"
     ]
    }
   ],
   "source": [
    "%%python3\n",
    "\n",
    "import pwd\n",
    "\n",
    "nologin_user = [i.pw_name for i in pwd.getpwall() \n",
    "                if i.pw_shell.endswith('nologin')]\n",
    "fmt = '{:17s}'*4\n",
    "\n",
    "for user in zip(*[iter(nologin_user)] *4):\n",
    "    print(fmt.format(*user))\n"
   ]
  },
  {
   "cell_type": "markdown",
   "metadata": {},
   "source": [
    "### **How to insert text after a specific string in a file?**"
   ]
  },
  {
   "cell_type": "code",
   "execution_count": 16,
   "metadata": {},
   "outputs": [
    {
     "name": "stdout",
     "output_type": "stream",
     "text": [
      "Apple.\n",
      "\n",
      "Watermelon.\n",
      "\n",
      "Orange.\n"
     ]
    }
   ],
   "source": [
    "%%bash\n",
    "\n",
    "sed  '/Banna/a Mango' /home/jovyan/Work/fruit1.txt"
   ]
  },
  {
   "cell_type": "code",
   "execution_count": 19,
   "metadata": {},
   "outputs": [
    {
     "name": "stdout",
     "output_type": "stream",
     "text": [
      "Apple.\n",
      "\n",
      "Watermelon.\n",
      "\n",
      "Orange.\n"
     ]
    }
   ],
   "source": [
    "%%python3\n",
    "\n",
    "from pathlib import Path\n",
    "\n",
    "fr = Path('/home/jovyan/Work/fruit1.txt').read_text().splitlines()\n",
    "for i,j in enumerate(fr):\n",
    "    if 'Banna' in j:\n",
    "        fr.insert(i+1, 'Mango') \n",
    "        \n",
    "print(*fr, sep = '\\n')"
   ]
  },
  {
   "cell_type": "markdown",
   "metadata": {},
   "source": [
    "### **Draw Truth Table By Python**"
   ]
  },
  {
   "cell_type": "code",
   "execution_count": 22,
   "metadata": {},
   "outputs": [
    {
     "name": "stdout",
     "output_type": "stream",
     "text": [
      "AND:\n",
      "True and True = True\n",
      "True and False = False\n",
      "False and True = False\n",
      "False and False = False\n",
      "*************************\n",
      "OR:\n",
      "True or True = True\n",
      "True or False = True\n",
      "False or True = True\n",
      "False or False = False\n",
      "*************************\n",
      "NOT:\n",
      "Not True = False\n",
      "Not False = True\n"
     ]
    }
   ],
   "source": [
    "a = [True, False]\n",
    "b = [True, False]\n",
    "\n",
    "print(\"AND:\")\n",
    "for i in a:\n",
    "    for j in b:\n",
    "        print(i,'and', j,'=',i and j)\n",
    "print('*'*25)\n",
    "print(\"OR:\")\n",
    "for i in a:\n",
    "    for j in b:\n",
    "        print(i,'or',j,'=',i or j)\n",
    "print('*'*25)\n",
    "print(\"NOT:\")\n",
    "for i in a:\n",
    "    print('Not',i,'=',not i)"
   ]
  },
  {
   "cell_type": "markdown",
   "metadata": {},
   "source": [
    "### **How To Check Whether keyword Or Not?**"
   ]
  },
  {
   "cell_type": "code",
   "execution_count": 26,
   "metadata": {},
   "outputs": [
    {
     "name": "stdout",
     "output_type": "stream",
     "text": [
      "True\n",
      "True\n",
      "False\n"
     ]
    }
   ],
   "source": [
    "import keyword\n",
    "\n",
    "print(keyword.iskeyword('for'))\n",
    "print(keyword.iskeyword('in'))\n",
    "print(keyword.iskeyword('close'))"
   ]
  },
  {
   "cell_type": "markdown",
   "metadata": {},
   "source": [
    "### **How To Combine 2 Files Into 1 File With 2 Columns?**"
   ]
  },
  {
   "cell_type": "code",
   "execution_count": 15,
   "metadata": {},
   "outputs": [
    {
     "name": "stdout",
     "output_type": "stream",
     "text": [
      "Manavalan \r\n",
      "Ram\r\n",
      "Xavier\r\n",
      "Gopal\r\n",
      "\r\n"
     ]
    }
   ],
   "source": [
    "!cat /home/jovyan/Work/name.txt"
   ]
  },
  {
   "cell_type": "code",
   "execution_count": 50,
   "metadata": {},
   "outputs": [
    {
     "name": "stdout",
     "output_type": "stream",
     "text": [
      "32\r\n",
      "18\r\n",
      "21\r\n"
     ]
    }
   ],
   "source": [
    "!cat /home/mana/Work/age.txt"
   ]
  },
  {
   "cell_type": "code",
   "execution_count": 46,
   "metadata": {},
   "outputs": [
    {
     "name": "stdout",
     "output_type": "stream",
     "text": [
      "Manavalan  32\n",
      "Saravanan  18\n",
      "Rani       21\n"
     ]
    }
   ],
   "source": [
    "%%bash\n",
    "\n",
    "cd /home/mana/Work\n",
    "paste name.txt age.txt | column -t"
   ]
  },
  {
   "cell_type": "code",
   "execution_count": 47,
   "metadata": {},
   "outputs": [
    {
     "name": "stdout",
     "output_type": "stream",
     "text": [
      "Manavalan   32\n",
      "Saravanan   18\n",
      "Rani        21\n"
     ]
    }
   ],
   "source": [
    "%%python3\n",
    "\n",
    "from pathlib import Path\n",
    "\n",
    "dir_path = Path('/home/mana/Work')\n",
    "name = (dir_path/'name.txt').read_text().splitlines()\n",
    "age = (dir_path/'age.txt').read_text().splitlines()\n",
    "for i,j in zip(name,age):\n",
    "    print(f'{i:12}{j}')"
   ]
  },
  {
   "cell_type": "markdown",
   "metadata": {},
   "source": [
    "### **How To Merge Two Files Into Single File?**"
   ]
  },
  {
   "cell_type": "code",
   "execution_count": 48,
   "metadata": {},
   "outputs": [
    {
     "name": "stdout",
     "output_type": "stream",
     "text": [
      "Manavalan\r\n",
      "Saravanan\r\n",
      "Rani\r\n"
     ]
    }
   ],
   "source": [
    "!cat /home/mana/Work/name.txt"
   ]
  },
  {
   "cell_type": "code",
   "execution_count": 63,
   "metadata": {},
   "outputs": [
    {
     "name": "stdout",
     "output_type": "stream",
     "text": [
      "32\r\n",
      "18\r\n",
      "21\r\n"
     ]
    }
   ],
   "source": [
    "!cat /home/mana/Work/age.txt"
   ]
  },
  {
   "cell_type": "code",
   "execution_count": 55,
   "metadata": {},
   "outputs": [],
   "source": [
    "%%bash\n",
    "\n",
    "cat /home/mana/Work/{name.txt,age.txt} > out.txt"
   ]
  },
  {
   "cell_type": "code",
   "execution_count": 60,
   "metadata": {},
   "outputs": [],
   "source": [
    "%%python3\n",
    "\n",
    "from pathlib import Path\n",
    "\n",
    "dir_path = Path('/home/mana/Work')\n",
    "name = (dir_path/'name.txt').read_text().splitlines()\n",
    "age = (dir_path/'age.txt').read_text().splitlines()\n",
    "print(*(name+age), sep = '\\n', \n",
    "      file = open(dir_path/'out.txt', 'w'))"
   ]
  },
  {
   "cell_type": "code",
   "execution_count": 61,
   "metadata": {},
   "outputs": [
    {
     "name": "stdout",
     "output_type": "stream",
     "text": [
      "Manavalan\r\n",
      "Saravanan\r\n",
      "Rani\r\n",
      "32\r\n",
      "18\r\n",
      "21\r\n"
     ]
    }
   ],
   "source": [
    "!cat /home/mana/Work/out.txt"
   ]
  },
  {
   "cell_type": "markdown",
   "metadata": {},
   "source": [
    "### **How To Count Occurrence Of Particular Word In A File?**"
   ]
  },
  {
   "cell_type": "code",
   "execution_count": 29,
   "metadata": {},
   "outputs": [
    {
     "name": "stdout",
     "output_type": "stream",
     "text": [
      "127.0.0.1\tlocalhost\r\n",
      "127.0.1.1\tjoe\r\n",
      "\r\n",
      "# The following lines are desirable for IPv6 capable hosts\r\n",
      "::1     ip6-localhost ip6-loopback\r\n",
      "fe00::0 ip6-localnet\r\n",
      "ff00::0 ip6-mcastprefix\r\n",
      "ff02::1 ip6-allnodes\r\n",
      "ff02::2 ip6-allrouters\r\n"
     ]
    }
   ],
   "source": [
    "!cat /etc/hosts"
   ]
  },
  {
   "cell_type": "code",
   "execution_count": 30,
   "metadata": {},
   "outputs": [
    {
     "name": "stdout",
     "output_type": "stream",
     "text": [
      "2\n"
     ]
    }
   ],
   "source": [
    "%%bash\n",
    "\n",
    "grep -ic \"localhost\" /etc/hosts"
   ]
  },
  {
   "cell_type": "code",
   "execution_count": 32,
   "metadata": {},
   "outputs": [
    {
     "name": "stdout",
     "output_type": "stream",
     "text": [
      "2\n"
     ]
    }
   ],
   "source": [
    "%%bash\n",
    "\n",
    "sed -n '/localhost/p' /etc/hosts | wc -l"
   ]
  },
  {
   "cell_type": "code",
   "execution_count": 38,
   "metadata": {},
   "outputs": [
    {
     "name": "stdout",
     "output_type": "stream",
     "text": [
      "2\n"
     ]
    }
   ],
   "source": [
    "%%bash\n",
    "awk '/localhost/{count++} END{print count}' /etc/hosts"
   ]
  },
  {
   "cell_type": "code",
   "execution_count": 37,
   "metadata": {},
   "outputs": [
    {
     "name": "stdout",
     "output_type": "stream",
     "text": [
      "2\n"
     ]
    }
   ],
   "source": [
    "%%python3\n",
    "\n",
    "from re import findall\n",
    "\n",
    "print(len(findall(r'localhost', open('/etc/hosts').read())))"
   ]
  },
  {
   "cell_type": "code",
   "execution_count": 52,
   "metadata": {},
   "outputs": [
    {
     "name": "stdout",
     "output_type": "stream",
     "text": [
      "2\n"
     ]
    }
   ],
   "source": [
    "%%bash\n",
    "\n",
    "echo \"Unix is unix not Linux\" | grep -iwo \"unix\" | wc -l"
   ]
  },
  {
   "cell_type": "markdown",
   "metadata": {},
   "source": [
    "### **How To Read Specific Line In A File?**\n",
    "Here, I read 2nd line."
   ]
  },
  {
   "cell_type": "code",
   "execution_count": 55,
   "metadata": {},
   "outputs": [
    {
     "name": "stdout",
     "output_type": "stream",
     "text": [
      "Apple.\r\n",
      "Watermelon.\r\n",
      "Orange.\r\n",
      "Strawberry.\r\n",
      "Grape.\r\n"
     ]
    }
   ],
   "source": [
    "!cat /home/mana/Work/fruit.txt"
   ]
  },
  {
   "cell_type": "code",
   "execution_count": 59,
   "metadata": {},
   "outputs": [
    {
     "name": "stdout",
     "output_type": "stream",
     "text": [
      "Watermelon.\n"
     ]
    }
   ],
   "source": [
    "%%bash\n",
    "\n",
    "sed -n \"2p\" /home/mana/Work/fruit.txt"
   ]
  },
  {
   "cell_type": "code",
   "execution_count": 60,
   "metadata": {},
   "outputs": [
    {
     "name": "stdout",
     "output_type": "stream",
     "text": [
      "Watermelon.\n"
     ]
    }
   ],
   "source": [
    "%%bash\n",
    "\n",
    "awk 'NR == 2 {print}' /home/mana/Work/fruit.txt"
   ]
  },
  {
   "cell_type": "code",
   "execution_count": 58,
   "metadata": {},
   "outputs": [
    {
     "name": "stdout",
     "output_type": "stream",
     "text": [
      "Watermelon.\n"
     ]
    }
   ],
   "source": [
    "%%python3\n",
    "\n",
    "from pathlib import Path\n",
    "\n",
    "dpath = Path('/home/mana/Work/')\n",
    "print((dpath/'fruit.txt').read_text().splitlines()[1])"
   ]
  },
  {
   "cell_type": "markdown",
   "metadata": {},
   "source": [
    "### **Maximum Element Of The List**"
   ]
  },
  {
   "cell_type": "code",
   "execution_count": 65,
   "metadata": {},
   "outputs": [
    {
     "data": {
      "text/plain": [
       "6"
      ]
     },
     "execution_count": 65,
     "metadata": {},
     "output_type": "execute_result"
    }
   ],
   "source": [
    "lst = [ 1 , 3, 5, 6, 2 ]\n",
    "max(lst)"
   ]
  },
  {
   "cell_type": "code",
   "execution_count": 64,
   "metadata": {},
   "outputs": [
    {
     "data": {
      "text/plain": [
       "6"
      ]
     },
     "execution_count": 64,
     "metadata": {},
     "output_type": "execute_result"
    }
   ],
   "source": [
    "from functools import reduce\n",
    "\n",
    "lst = [ 1 , 3, 5, 6, 2 ]\n",
    "reduce(lambda a, b: a if a > b else b, lst)"
   ]
  },
  {
   "cell_type": "code",
   "execution_count": 66,
   "metadata": {},
   "outputs": [
    {
     "data": {
      "text/plain": [
       "6"
      ]
     },
     "execution_count": 66,
     "metadata": {},
     "output_type": "execute_result"
    }
   ],
   "source": [
    "lst = [ 1 , 3, 5, 6, 2 ]\n",
    "m = lst[0]\n",
    "\n",
    "for i in lst:\n",
    "    if i > m:\n",
    "        m = i\n",
    "m"
   ]
  },
  {
   "cell_type": "markdown",
   "metadata": {},
   "source": [
    "### **How to crack three digit number?**"
   ]
  },
  {
   "cell_type": "code",
   "execution_count": 86,
   "metadata": {},
   "outputs": [
    {
     "name": "stdout",
     "output_type": "stream",
     "text": [
      "139 Number Matched.\n"
     ]
    }
   ],
   "source": [
    "from itertools import product\n",
    "from string import digits\n",
    "\n",
    "secret_number = 139\n",
    "\n",
    "for i in product(digits, repeat = 3):\n",
    "    i = ''.join(i)\n",
    "    if int(i) == secret_number:\n",
    "        print(i, 'Number Matched.')\n",
    "        break    "
   ]
  },
  {
   "cell_type": "markdown",
   "metadata": {},
   "source": [
    "#### **How to generate 0 until 999 using functools and  string module?**"
   ]
  },
  {
   "cell_type": "code",
   "execution_count": 85,
   "metadata": {},
   "outputs": [
    {
     "name": "stdout",
     "output_type": "stream",
     "text": [
      "000\r",
      "001\r",
      "002\r",
      "003\r",
      "004\r",
      "005\r",
      "006\r",
      "007\r",
      "008\r",
      "009\r",
      "010\r",
      "011\r",
      "012\r",
      "013\r",
      "014\r",
      "015\r",
      "016\r",
      "017\r",
      "018\r",
      "019\r",
      "020\r",
      "021\r",
      "022\r",
      "023\r",
      "024\r",
      "025\r",
      "026\r",
      "027\r",
      "028\r",
      "029\r",
      "030\r",
      "031\r",
      "032\r",
      "033\r",
      "034\r",
      "035\r",
      "036\r",
      "037\r",
      "038\r",
      "039\r",
      "040\r",
      "041\r",
      "042\r",
      "043\r",
      "044\r",
      "045\r",
      "046\r",
      "047\r",
      "048\r",
      "049\r",
      "050\r",
      "051\r",
      "052\r",
      "053\r",
      "054\r",
      "055\r",
      "056\r",
      "057\r",
      "058\r",
      "059\r",
      "060\r",
      "061\r",
      "062\r",
      "063\r",
      "064\r",
      "065\r",
      "066\r",
      "067\r",
      "068\r",
      "069\r",
      "070\r",
      "071\r",
      "072\r",
      "073\r",
      "074\r",
      "075\r",
      "076\r",
      "077\r",
      "078\r",
      "079\r",
      "080\r",
      "081\r",
      "082\r",
      "083\r",
      "084\r",
      "085\r",
      "086\r",
      "087\r",
      "088\r",
      "089\r",
      "090\r",
      "091\r",
      "092\r",
      "093\r",
      "094\r",
      "095\r",
      "096\r",
      "097\r",
      "098\r",
      "099\r",
      "100\r",
      "101\r",
      "102\r",
      "103\r",
      "104\r",
      "105\r",
      "106\r",
      "107\r",
      "108\r",
      "109\r",
      "110\r",
      "111\r",
      "112\r",
      "113\r",
      "114\r",
      "115\r",
      "116\r",
      "117\r",
      "118\r",
      "119\r",
      "120\r",
      "121\r",
      "122\r",
      "123\r",
      "124\r",
      "125\r",
      "126\r",
      "127\r",
      "128\r",
      "129\r",
      "130\r",
      "131\r",
      "132\r",
      "133\r",
      "134\r",
      "135\r",
      "136\r",
      "137\r",
      "138\r",
      "139\r",
      "140\r",
      "141\r",
      "142\r",
      "143\r",
      "144\r",
      "145\r",
      "146\r",
      "147\r",
      "148\r",
      "149\r",
      "150\r",
      "151\r",
      "152\r",
      "153\r",
      "154\r",
      "155\r",
      "156\r",
      "157\r",
      "158\r",
      "159\r",
      "160\r",
      "161\r",
      "162\r",
      "163\r",
      "164\r",
      "165\r",
      "166\r",
      "167\r",
      "168\r",
      "169\r",
      "170\r",
      "171\r",
      "172\r",
      "173\r",
      "174\r",
      "175\r",
      "176\r",
      "177\r",
      "178\r",
      "179\r",
      "180\r",
      "181\r",
      "182\r",
      "183\r",
      "184\r",
      "185\r",
      "186\r",
      "187\r",
      "188\r",
      "189\r",
      "190\r",
      "191\r",
      "192\r",
      "193\r",
      "194\r",
      "195\r",
      "196\r",
      "197\r",
      "198\r",
      "199\r",
      "200\r",
      "201\r",
      "202\r",
      "203\r",
      "204\r",
      "205\r",
      "206\r",
      "207\r",
      "208\r",
      "209\r",
      "210\r",
      "211\r",
      "212\r",
      "213\r",
      "214\r",
      "215\r",
      "216\r",
      "217\r",
      "218\r",
      "219\r",
      "220\r",
      "221\r",
      "222\r",
      "223\r",
      "224\r",
      "225\r",
      "226\r",
      "227\r",
      "228\r",
      "229\r",
      "230\r",
      "231\r",
      "232\r",
      "233\r",
      "234\r",
      "235\r",
      "236\r",
      "237\r",
      "238\r",
      "239\r",
      "240\r",
      "241\r",
      "242\r",
      "243\r",
      "244\r",
      "245\r",
      "246\r",
      "247\r",
      "248\r",
      "249\r",
      "250\r",
      "251\r",
      "252\r",
      "253\r",
      "254\r",
      "255\r",
      "256\r",
      "257\r",
      "258\r",
      "259\r",
      "260\r",
      "261\r",
      "262\r",
      "263\r",
      "264\r",
      "265\r",
      "266\r",
      "267\r",
      "268\r",
      "269\r",
      "270\r",
      "271\r",
      "272\r",
      "273\r",
      "274\r",
      "275\r",
      "276\r",
      "277\r",
      "278\r",
      "279\r",
      "280\r",
      "281\r",
      "282\r",
      "283\r",
      "284\r",
      "285\r",
      "286\r",
      "287\r",
      "288\r",
      "289\r",
      "290\r",
      "291\r",
      "292\r",
      "293\r",
      "294\r",
      "295\r",
      "296\r",
      "297\r",
      "298\r",
      "299\r",
      "300\r",
      "301\r",
      "302\r",
      "303\r",
      "304\r",
      "305\r",
      "306\r",
      "307\r",
      "308\r",
      "309\r",
      "310\r",
      "311\r",
      "312\r",
      "313\r",
      "314\r",
      "315\r",
      "316\r",
      "317\r",
      "318\r",
      "319\r",
      "320\r",
      "321\r",
      "322\r",
      "323\r",
      "324\r",
      "325\r",
      "326\r",
      "327\r",
      "328\r",
      "329\r",
      "330\r",
      "331\r",
      "332\r",
      "333\r",
      "334\r",
      "335\r",
      "336\r",
      "337\r",
      "338\r",
      "339\r",
      "340\r",
      "341\r",
      "342\r",
      "343\r",
      "344\r",
      "345\r",
      "346\r",
      "347\r",
      "348\r",
      "349\r",
      "350\r",
      "351\r",
      "352\r",
      "353\r",
      "354\r",
      "355\r",
      "356\r",
      "357\r",
      "358\r",
      "359\r",
      "360\r",
      "361\r",
      "362\r",
      "363\r",
      "364\r",
      "365\r",
      "366\r",
      "367\r",
      "368\r",
      "369\r",
      "370\r",
      "371\r",
      "372\r",
      "373\r",
      "374\r",
      "375\r",
      "376\r",
      "377\r",
      "378\r",
      "379\r",
      "380\r",
      "381\r",
      "382\r",
      "383\r",
      "384\r",
      "385\r",
      "386\r",
      "387\r",
      "388\r",
      "389\r",
      "390\r",
      "391\r",
      "392\r",
      "393\r",
      "394\r",
      "395\r",
      "396\r",
      "397\r",
      "398\r",
      "399\r",
      "400\r",
      "401\r",
      "402\r",
      "403\r",
      "404\r",
      "405\r",
      "406\r",
      "407\r",
      "408\r",
      "409\r",
      "410\r",
      "411\r",
      "412\r",
      "413\r",
      "414\r",
      "415\r",
      "416\r",
      "417\r",
      "418\r",
      "419\r",
      "420\r",
      "421\r",
      "422\r",
      "423\r",
      "424\r",
      "425\r",
      "426\r",
      "427\r",
      "428\r",
      "429\r",
      "430\r",
      "431\r",
      "432\r",
      "433\r",
      "434\r",
      "435\r",
      "436\r",
      "437\r",
      "438\r",
      "439\r",
      "440\r",
      "441\r",
      "442\r",
      "443\r",
      "444\r",
      "445\r",
      "446\r",
      "447\r",
      "448\r",
      "449\r",
      "450\r",
      "451\r",
      "452\r",
      "453\r",
      "454\r",
      "455\r",
      "456\r",
      "457\r",
      "458\r",
      "459\r",
      "460\r",
      "461\r",
      "462\r",
      "463\r",
      "464\r",
      "465\r",
      "466\r",
      "467\r",
      "468\r",
      "469\r",
      "470\r",
      "471\r",
      "472\r",
      "473\r",
      "474\r",
      "475\r",
      "476\r",
      "477\r",
      "478\r",
      "479\r",
      "480\r",
      "481\r",
      "482\r",
      "483\r",
      "484\r",
      "485\r",
      "486\r",
      "487\r",
      "488\r",
      "489\r",
      "490\r",
      "491\r",
      "492\r",
      "493\r",
      "494\r",
      "495\r",
      "496\r",
      "497\r",
      "498\r",
      "499\r",
      "500\r",
      "501\r",
      "502\r",
      "503\r",
      "504\r",
      "505\r",
      "506\r",
      "507\r",
      "508\r",
      "509\r",
      "510\r",
      "511\r",
      "512\r",
      "513\r",
      "514\r",
      "515\r",
      "516\r",
      "517\r",
      "518\r",
      "519\r",
      "520\r",
      "521\r",
      "522\r",
      "523\r",
      "524\r",
      "525\r",
      "526\r",
      "527\r",
      "528\r",
      "529\r",
      "530\r",
      "531\r",
      "532\r",
      "533\r",
      "534\r",
      "535\r",
      "536\r",
      "537\r",
      "538\r",
      "539\r",
      "540\r",
      "541\r",
      "542\r",
      "543\r",
      "544\r",
      "545\r",
      "546\r",
      "547\r",
      "548\r",
      "549\r",
      "550\r",
      "551\r",
      "552\r",
      "553\r",
      "554\r",
      "555\r",
      "556\r",
      "557\r",
      "558\r",
      "559\r",
      "560\r",
      "561\r",
      "562\r",
      "563\r",
      "564\r",
      "565\r",
      "566\r",
      "567\r",
      "568\r",
      "569\r",
      "570\r",
      "571\r",
      "572\r",
      "573\r",
      "574\r",
      "575\r",
      "576\r",
      "577\r",
      "578\r",
      "579\r",
      "580\r",
      "581\r",
      "582\r",
      "583\r",
      "584\r",
      "585\r",
      "586\r",
      "587\r",
      "588\r",
      "589\r",
      "590\r",
      "591\r",
      "592\r",
      "593\r",
      "594\r",
      "595\r",
      "596\r",
      "597\r",
      "598\r",
      "599\r",
      "600\r",
      "601\r",
      "602\r",
      "603\r",
      "604\r",
      "605\r",
      "606\r",
      "607\r",
      "608\r",
      "609\r",
      "610\r",
      "611\r",
      "612\r",
      "613\r",
      "614\r",
      "615\r",
      "616\r",
      "617\r",
      "618\r",
      "619\r",
      "620\r",
      "621\r",
      "622\r",
      "623\r",
      "624\r",
      "625\r",
      "626\r",
      "627\r",
      "628\r",
      "629\r",
      "630\r",
      "631\r",
      "632\r",
      "633\r",
      "634\r",
      "635\r",
      "636\r",
      "637\r",
      "638\r",
      "639\r",
      "640\r",
      "641\r",
      "642\r",
      "643\r",
      "644\r",
      "645\r",
      "646\r",
      "647\r",
      "648\r",
      "649\r",
      "650\r",
      "651\r",
      "652\r",
      "653\r",
      "654\r",
      "655\r",
      "656\r",
      "657\r",
      "658\r",
      "659\r",
      "660\r",
      "661\r",
      "662\r",
      "663\r",
      "664\r",
      "665\r",
      "666\r",
      "667\r",
      "668\r",
      "669\r",
      "670\r",
      "671\r",
      "672\r",
      "673\r",
      "674\r",
      "675\r",
      "676\r",
      "677\r",
      "678\r",
      "679\r",
      "680\r",
      "681\r",
      "682\r",
      "683\r",
      "684\r",
      "685\r",
      "686\r",
      "687\r",
      "688\r",
      "689\r",
      "690\r",
      "691\r",
      "692\r",
      "693\r",
      "694\r",
      "695\r",
      "696\r",
      "697\r",
      "698\r",
      "699\r",
      "700\r",
      "701\r",
      "702\r",
      "703\r",
      "704\r",
      "705\r",
      "706\r",
      "707\r",
      "708\r",
      "709\r",
      "710\r",
      "711\r",
      "712\r",
      "713\r",
      "714\r",
      "715\r",
      "716\r",
      "717\r",
      "718\r",
      "719\r",
      "720\r",
      "721\r",
      "722\r",
      "723\r",
      "724\r",
      "725\r",
      "726\r",
      "727\r",
      "728\r",
      "729\r",
      "730\r",
      "731\r",
      "732\r",
      "733\r",
      "734\r",
      "735\r",
      "736\r",
      "737\r",
      "738\r",
      "739\r",
      "740\r",
      "741\r",
      "742\r",
      "743\r",
      "744\r",
      "745\r",
      "746\r",
      "747\r",
      "748\r",
      "749\r",
      "750\r",
      "751\r",
      "752\r",
      "753\r",
      "754\r",
      "755\r",
      "756\r",
      "757\r",
      "758\r",
      "759\r",
      "760\r",
      "761\r",
      "762\r",
      "763\r",
      "764\r",
      "765\r",
      "766\r",
      "767\r",
      "768\r",
      "769\r",
      "770\r",
      "771\r",
      "772\r",
      "773\r",
      "774\r",
      "775\r",
      "776\r",
      "777\r",
      "778\r",
      "779\r",
      "780\r",
      "781\r",
      "782\r",
      "783\r",
      "784\r",
      "785\r",
      "786\r",
      "787\r",
      "788\r",
      "789\r",
      "790\r",
      "791\r",
      "792\r",
      "793\r",
      "794\r",
      "795\r",
      "796\r",
      "797\r",
      "798\r",
      "799\r",
      "800\r",
      "801\r",
      "802\r",
      "803\r",
      "804\r",
      "805\r",
      "806\r",
      "807\r",
      "808\r",
      "809\r",
      "810\r",
      "811\r",
      "812\r",
      "813\r",
      "814\r",
      "815\r",
      "816\r",
      "817\r",
      "818\r",
      "819\r",
      "820\r",
      "821\r",
      "822\r",
      "823\r",
      "824\r",
      "825\r",
      "826\r",
      "827\r",
      "828\r",
      "829\r",
      "830\r",
      "831\r",
      "832\r",
      "833\r",
      "834\r",
      "835\r",
      "836\r",
      "837\r",
      "838\r",
      "839\r",
      "840\r",
      "841\r",
      "842\r",
      "843\r",
      "844\r",
      "845\r",
      "846\r",
      "847\r",
      "848\r",
      "849\r",
      "850\r",
      "851\r",
      "852\r",
      "853\r",
      "854\r",
      "855\r",
      "856\r",
      "857\r",
      "858\r",
      "859\r",
      "860\r",
      "861\r",
      "862\r",
      "863\r",
      "864\r",
      "865\r",
      "866\r",
      "867\r",
      "868\r",
      "869\r",
      "870\r",
      "871\r",
      "872\r",
      "873\r",
      "874\r",
      "875\r",
      "876\r",
      "877\r",
      "878\r",
      "879\r",
      "880\r",
      "881\r",
      "882\r",
      "883\r",
      "884\r",
      "885\r",
      "886\r",
      "887\r",
      "888\r",
      "889\r",
      "890\r",
      "891\r",
      "892\r",
      "893\r",
      "894\r",
      "895\r",
      "896\r",
      "897\r",
      "898\r",
      "899\r",
      "900\r",
      "901\r",
      "902\r",
      "903\r",
      "904\r",
      "905\r",
      "906\r",
      "907\r",
      "908\r",
      "909\r",
      "910\r",
      "911\r",
      "912\r",
      "913\r",
      "914\r",
      "915\r",
      "916\r",
      "917\r",
      "918\r",
      "919\r",
      "920\r",
      "921\r",
      "922\r",
      "923\r",
      "924\r",
      "925\r",
      "926\r",
      "927\r",
      "928\r",
      "929\r",
      "930\r",
      "931\r",
      "932\r",
      "933\r",
      "934\r",
      "935\r",
      "936\r",
      "937\r",
      "938\r",
      "939\r",
      "940\r",
      "941\r",
      "942\r",
      "943\r",
      "944\r",
      "945\r",
      "946\r",
      "947\r",
      "948\r",
      "949\r",
      "950\r",
      "951\r",
      "952\r",
      "953\r",
      "954\r",
      "955\r",
      "956\r",
      "957\r",
      "958\r",
      "959\r",
      "960\r",
      "961\r",
      "962\r",
      "963\r",
      "964\r",
      "965\r",
      "966\r",
      "967\r",
      "968\r",
      "969\r",
      "970\r",
      "971\r",
      "972\r",
      "973\r",
      "974\r",
      "975\r",
      "976\r",
      "977\r",
      "978\r",
      "979\r",
      "980\r",
      "981\r",
      "982\r",
      "983\r",
      "984\r",
      "985\r",
      "986\r",
      "987\r",
      "988\r",
      "989\r",
      "990\r",
      "991\r",
      "992\r",
      "993\r",
      "994\r",
      "995\r",
      "996\r",
      "997\r",
      "998\r",
      "999\r"
     ]
    }
   ],
   "source": [
    "from itertools import product\n",
    "from string import digits\n",
    "\n",
    "\n",
    "for i in product(digits, repeat = 3):\n",
    "    print(''.join(i), end = '\\r')"
   ]
  },
  {
   "cell_type": "markdown",
   "metadata": {},
   "source": [
    "### **With and Without initialization**"
   ]
  },
  {
   "cell_type": "markdown",
   "metadata": {},
   "source": [
    "#### **With initialization**"
   ]
  },
  {
   "cell_type": "code",
   "execution_count": 93,
   "metadata": {},
   "outputs": [
    {
     "name": "stdout",
     "output_type": "stream",
     "text": [
      "Hi Manavalan\n"
     ]
    }
   ],
   "source": [
    "class display:\n",
    "    def __init__(self, name):\n",
    "        self.name = name\n",
    "    \n",
    "    def hello(self):\n",
    "        print('Hi', self.name)\n",
    "        \n",
    "d1 = display('Manavalan')\n",
    "d1.hello()"
   ]
  },
  {
   "cell_type": "markdown",
   "metadata": {},
   "source": [
    "#### **Without initialization**"
   ]
  },
  {
   "cell_type": "code",
   "execution_count": 92,
   "metadata": {},
   "outputs": [
    {
     "name": "stdout",
     "output_type": "stream",
     "text": [
      "Hi Mana\n"
     ]
    }
   ],
   "source": [
    "class display:\n",
    "    def hello(self, name):\n",
    "        print('Hi', name)\n",
    "        \n",
    "d1 = display()\n",
    "d1.hello('Mana')"
   ]
  },
  {
   "cell_type": "markdown",
   "metadata": {},
   "source": [
    "### **How many words in a line?**"
   ]
  },
  {
   "cell_type": "code",
   "execution_count": 11,
   "metadata": {},
   "outputs": [
    {
     "name": "stdout",
     "output_type": "stream",
     "text": [
      "5\n",
      "5\n"
     ]
    }
   ],
   "source": [
    "%%bash\n",
    "\n",
    "text=\"Linux is Good Operating System.\"\n",
    "echo $text | egrep -o \"\\w+\" | wc -l\n",
    ": OR\n",
    "echo $text | egrep -o \"\\w+\" | awk 'END {print NR}'"
   ]
  },
  {
   "cell_type": "code",
   "execution_count": 10,
   "metadata": {},
   "outputs": [
    {
     "name": "stdout",
     "output_type": "stream",
     "text": [
      "5\n"
     ]
    }
   ],
   "source": [
    "%%bash\n",
    "\n",
    "text=\"Linux is Good Operating System.\"\n",
    "echo $text | awk '{print NF}'"
   ]
  },
  {
   "cell_type": "code",
   "execution_count": 12,
   "metadata": {},
   "outputs": [
    {
     "name": "stdout",
     "output_type": "stream",
     "text": [
      "5\n"
     ]
    }
   ],
   "source": [
    "%%python3\n",
    "\n",
    "text=\"Linux is Good Operating System.\"\n",
    "print(len(text.split()))"
   ]
  },
  {
   "cell_type": "code",
   "execution_count": 32,
   "metadata": {},
   "outputs": [
    {
     "name": "stdout",
     "output_type": "stream",
     "text": [
      "5\n"
     ]
    }
   ],
   "source": [
    "%%python3\n",
    "\n",
    "from re import findall\n",
    "\n",
    "text=\"Linux is Good Operating System.\"\n",
    "print(len(findall(r'\\w+', text)))"
   ]
  },
  {
   "cell_type": "markdown",
   "metadata": {},
   "source": [
    "### **How to count specific word occurrence in a same line?**"
   ]
  },
  {
   "cell_type": "code",
   "execution_count": 41,
   "metadata": {},
   "outputs": [
    {
     "name": "stdout",
     "output_type": "stream",
     "text": [
      "2\n",
      "2\n"
     ]
    }
   ],
   "source": [
    "%%bash\n",
    "\n",
    "text='Unix is unix not Linux.'\n",
    "echo $text | grep -iwo \"unix\" | wc -l\n",
    ": OR\n",
    "echo $text | grep -iwo \"unix\" | awk 'END {print NR}'"
   ]
  },
  {
   "cell_type": "code",
   "execution_count": 3,
   "metadata": {},
   "outputs": [
    {
     "name": "stdout",
     "output_type": "stream",
     "text": [
      "Unix is unix not Linux.\n"
     ]
    }
   ],
   "source": [
    "%%bash\n",
    "\n",
    "text='Unix is unix not Linux.'\n",
    "echo $text | sort -u"
   ]
  },
  {
   "cell_type": "code",
   "execution_count": 38,
   "metadata": {},
   "outputs": [
    {
     "name": "stdout",
     "output_type": "stream",
     "text": [
      "2\n"
     ]
    }
   ],
   "source": [
    "%%python3\n",
    "\n",
    "text='Unix is unix not Linux.'\n",
    "print(len([i for i in text.split() \n",
    "           if i.casefold() == 'unix']))"
   ]
  },
  {
   "cell_type": "code",
   "execution_count": 39,
   "metadata": {},
   "outputs": [
    {
     "name": "stdout",
     "output_type": "stream",
     "text": [
      "2\n"
     ]
    }
   ],
   "source": [
    "%%python3\n",
    "\n",
    "from re import findall, I\n",
    "\n",
    "text='Unix is unix not Linux.'\n",
    "print(len(findall(r'unix', text, I)))"
   ]
  },
  {
   "cell_type": "markdown",
   "metadata": {},
   "source": [
    "### **Check status of services and store into csv file**"
   ]
  },
  {
   "cell_type": "code",
   "execution_count": 69,
   "metadata": {},
   "outputs": [],
   "source": [
    "%%bash\n",
    "\n",
    "systemctl --type=service | sed -n '/service/p' | \\\n",
    "sed -rn 's/(^.*)loaded.*(running|exited|failed)(.*)/\\1, \\2/p'| \\\n",
    "sort -rk3 > ~/Work/status.csv"
   ]
  },
  {
   "cell_type": "code",
   "execution_count": 70,
   "metadata": {},
   "outputs": [],
   "source": [
    "%%python3\n",
    "\n",
    "from subprocess import check_output\n",
    "from re import search\n",
    "import csv\n",
    "\n",
    "cmd = 'systemctl --type=service'\n",
    "services = check_output(cmd.split()).decode().splitlines()[1:]\n",
    "status = []\n",
    "\n",
    "for i in services:\n",
    "    match = search(r'(^.*)loaded.*(running|exited|failed)',i)\n",
    "    if match:\n",
    "        status.append(list(match.groups()))\n",
    "\n",
    "status = sorted(status, key = lambda x: x[1], reverse = True)\n",
    "\n",
    "with open('/home/mana/Work/status.csv','w') as file:\n",
    "    writer = csv.writer(file)\n",
    "    writer.writerows(status)"
   ]
  },
  {
   "cell_type": "code",
   "execution_count": 71,
   "metadata": {},
   "outputs": [
    {
     "name": "stdout",
     "output_type": "stream",
     "text": [
      "  accounts-daemon.service                   ,running\r",
      "\r\n",
      "  acpid.service                             ,running\r",
      "\r\n",
      "  avahi-daemon.service                      ,running\r",
      "\r\n"
     ]
    }
   ],
   "source": [
    "!head -3 /home/mana/Work/status.csv"
   ]
  },
  {
   "cell_type": "markdown",
   "metadata": {},
   "source": [
    "### **Recursion**\n",
    "\n",
    "A function is said to be a recursive if it calls itself. \n",
    "\n",
    "For example,<br></br> lets say we have a function xyx() and in the body of xyz() there is a call to the abc().\n",
    "\n",
    "**Example of Recursion:**<br></br>In this example we are defining a user-defined function factorial(). \n",
    "\n",
    "This function finds the factorial of a number by calling itself repeatedly until the base case is reached."
   ]
  },
  {
   "cell_type": "code",
   "execution_count": 4,
   "metadata": {},
   "outputs": [
    {
     "name": "stdout",
     "output_type": "stream",
     "text": [
      "Factorial of 5 is:  120\n"
     ]
    }
   ],
   "source": [
    "# find the factorial of a given number\n",
    "\n",
    "def factorial(num):\n",
    "    \"\"\"This function calls itself to find\n",
    "    the factorial of a number\"\"\"\n",
    "\n",
    "    if num == 1:\n",
    "        return 1\n",
    "    else:\n",
    "        return (num * factorial(num - 1))\n",
    "\n",
    "num = 5\n",
    "print(\"Factorial of\", num, \"is: \", factorial(num))"
   ]
  },
  {
   "cell_type": "markdown",
   "metadata": {},
   "source": [
    "### **How to convert file /etc/passwd to csv file?**\n",
    "Note: This program perfectly convert passwd file to csv file.\n"
   ]
  },
  {
   "cell_type": "code",
   "execution_count": 5,
   "metadata": {},
   "outputs": [],
   "source": [
    "%%python3\n",
    "\n",
    "import csv\n",
    "\n",
    "with open('/etc/passwd', newline = '') as prfile, open('/home/mana/Work/pass.csv', 'w') as pwfile:\n",
    "    csvreader = csv.reader(prfile, delimiter = ':')\n",
    "    writer = csv.writer(pwfile, delimiter = ',',quoting = csv.QUOTE_MINIMAL)\n",
    "    writer.writerows(csvreader)    "
   ]
  },
  {
   "cell_type": "code",
   "execution_count": 5,
   "metadata": {},
   "outputs": [],
   "source": [
    "%%python3\n",
    "\n",
    "import csv\n",
    "\n",
    "with open('/etc/passwd', newline = '') as prfile, open('/home/mana/Work/pass.csv', 'w') as pwfile:\n",
    "    csvreader = csv.reader(prfile, delimiter = ':')\n",
    "    writer = csv.writer(pwfile, delimiter = ',',quoting = csv.QUOTE_MINIMAL)\n",
    "    \n",
    "    for x in csvreader:\n",
    "        writer.writerow(x)    "
   ]
  },
  {
   "cell_type": "markdown",
   "metadata": {},
   "source": [
    "### **How to read and write at same time in csv file?**"
   ]
  },
  {
   "cell_type": "code",
   "execution_count": null,
   "metadata": {},
   "outputs": [],
   "source": [
    "import csv\n",
    "\n",
    "with open('/etc/passwd', newline = '') as prfile, open('/home/mana/Work/pass.csv', 'w') as pwfile:\n",
    "    csvreader = csv.reader(prfile, delimiter = ':')\n",
    "    writer = csv.writer(pwfile, delimiter = ',',quoting = csv.QUOTE_MINIMAL)\n",
    "    \n",
    "    for x in csvreader:\n",
    "        writer.writerow(x)    "
   ]
  },
  {
   "cell_type": "markdown",
   "metadata": {},
   "source": [
    "### **How to read two text files convert into csv file?**\n",
    "**One file have name information, another one file have age information.**"
   ]
  },
  {
   "cell_type": "code",
   "execution_count": 6,
   "metadata": {},
   "outputs": [
    {
     "name": "stdout",
     "output_type": "stream",
     "text": [
      "Manavalan\r\n",
      "Ram\r\n",
      "Xavier\r\n"
     ]
    }
   ],
   "source": [
    "!cat /home/mana/Work/name.txt"
   ]
  },
  {
   "cell_type": "code",
   "execution_count": 7,
   "metadata": {},
   "outputs": [
    {
     "name": "stdout",
     "output_type": "stream",
     "text": [
      "32\r\n",
      "18\r\n",
      "21\r\n"
     ]
    }
   ],
   "source": [
    "!cat /home/mana/Work/age.txt"
   ]
  },
  {
   "cell_type": "code",
   "execution_count": 18,
   "metadata": {},
   "outputs": [],
   "source": [
    "%%python3\n",
    "\n",
    "from pathlib import Path\n",
    "import csv\n",
    "\n",
    "dir_path = Path('/home/mana/Work')\n",
    "name = (dir_path/'name.txt').read_text().splitlines()\n",
    "age = (dir_path/'age.txt').read_text().splitlines()\n",
    "csv_info = list(zip(name,age))\n",
    "\n",
    "with open('/home/mana/Work/data.csv', 'w') as csvfile:\n",
    "    writer = csv.writer(csvfile)\n",
    "    writer.writerows(csv_info)"
   ]
  },
  {
   "cell_type": "code",
   "execution_count": 15,
   "metadata": {},
   "outputs": [
    {
     "name": "stdout",
     "output_type": "stream",
     "text": [
      "Manavalan,32\r",
      "\r\n",
      "Ram,18\r",
      "\r\n",
      "Xavier,21\r",
      "\r\n"
     ]
    }
   ],
   "source": [
    "!cat /home/mana/Work/data.csv"
   ]
  },
  {
   "cell_type": "markdown",
   "metadata": {},
   "source": [
    "### **Jupyter Add Table**"
   ]
  },
  {
   "cell_type": "markdown",
   "metadata": {},
   "source": [
    "### &nbsp;\n",
    "\n",
    "|Layer        | $k$ (m/d) | $z_b$ (m) | $z_t$ | $c$ (days) |\n",
    "|:-----------:|----------:|----------:|------:|-----------:|\n",
    "|Aquifer 0    |    2      |     0     |   20  |    -       |\n",
    "|Leaky Layer 1|    -      |    -10    |   0   |   500      |\n",
    "|Aquifer 1    |    80     |    -30    |   -10 |   -        |"
   ]
  },
  {
   "cell_type": "markdown",
   "metadata": {},
   "source": [
    "### &nbsp;\n",
    "| Country  | Capital |\n",
    "| -------- | --------|\n",
    "| Portugal | Lisbon  |\n",
    "| Spain    | Madrid  |\n",
    "| Cuba     | Havana  |"
   ]
  },
  {
   "cell_type": "markdown",
   "metadata": {},
   "source": [
    "### **Alternamte &nbsp**"
   ]
  },
  {
   "cell_type": "markdown",
   "metadata": {},
   "source": [
    "<pre>\n",
    "    1 \n",
    "   / \\ \n",
    "  2   2 \n",
    " / \\ / \\ \n",
    "3  4 4  3 \n",
    "</pre>"
   ]
  },
  {
   "cell_type": "markdown",
   "metadata": {},
   "source": [
    "<pre>\n",
    "| Country  | Capital |\n",
    "| -------- | --------|\n",
    "| Portugal | Lisbon  |\n",
    "| Spain    | Madrid  |\n",
    "| Cuba     | Havana  |\n",
    "</pre>\n"
   ]
  },
  {
   "cell_type": "markdown",
   "metadata": {},
   "source": [
    "### **Jupyter Draw Equations**"
   ]
  },
  {
   "cell_type": "markdown",
   "metadata": {},
   "source": [
    "&nbsp; $K$ (m/d) $Z_b$"
   ]
  },
  {
   "cell_type": "markdown",
   "metadata": {},
   "source": [
    "&nbsp;\n",
    "$K$ (m/d) $Z_b$"
   ]
  },
  {
   "cell_type": "markdown",
   "metadata": {},
   "source": [
    "&nbsp;\n",
    "&lt;"
   ]
  },
  {
   "cell_type": "markdown",
   "metadata": {},
   "source": [
    "### **How to find your original MAC address?**\n",
    "**Hardware address means the MAC address of a network interface.**\n",
    "\n",
    "This program collect your Hardware address. then convert Hex.\n",
    "\n",
    "Finally produce converted MAC address.\n",
    "\n",
    "**Note:** ip a command would not show your original MAC address<br></br>if you use virtual MAC.\n"
   ]
  },
  {
   "cell_type": "code",
   "execution_count": 8,
   "metadata": {},
   "outputs": [
    {
     "name": "stdout",
     "output_type": "stream",
     "text": [
      "Orginal MAC Address => 242ec614dfe\n",
      "Converted MAC Address => 24:2e:c6:14:df\n"
     ]
    }
   ],
   "source": [
    "%%python3\n",
    "\n",
    "from uuid import getnode\n",
    "from re import findall\n",
    "\n",
    "node_mac = f'{getnode():x}'\n",
    "print('Orginal MAC Address =>',node_mac)\n",
    "mac = ':'.join(findall(r'..',node_mac))\n",
    "print('Converted MAC Address =>', mac)"
   ]
  },
  {
   "cell_type": "markdown",
   "metadata": {},
   "source": [
    "### **How to collect daily Hardware error notification and calculate <br></br> which error came how many times from syslog?**"
   ]
  },
  {
   "cell_type": "code",
   "execution_count": 26,
   "metadata": {},
   "outputs": [
    {
     "name": "stdout",
     "output_type": "stream",
     "text": [
      "[]\n"
     ]
    }
   ],
   "source": [
    "from itertools import groupby\n",
    "from pathlib import Path\n",
    "from re import search\n",
    "import csv\n",
    "\n",
    "logfile = Path('/var/log/syslog').read_text().splitlines()\n",
    "hard_error = [text for text in logfile if 'kernel' in text and 'error:' in text]\n",
    "error_list = []\n",
    "for x in hard_error:\n",
    "    match = search(r'(\\w{3}\\s{1,2}\\d{1,2}).*(\\].*error.*)',x)\n",
    "    if match:\n",
    "        error_list.append((match.group(1), \n",
    "                           match.group(2).replace(']','')))\n",
    "        \n",
    "errors = [[''.join(e), len(list(n))] for e, n in \n",
    "          groupby(sorted(error_list))]\n",
    "print(errors)"
   ]
  },
  {
   "cell_type": "markdown",
   "metadata": {},
   "source": [
    "If you want store as report in CSV format, Use below program."
   ]
  },
  {
   "cell_type": "code",
   "execution_count": 47,
   "metadata": {},
   "outputs": [],
   "source": [
    "log_data = [(' '.join(date[0].split()[:2]), ' '.join(date[0].split()[2:]),\n",
    "             date[1]) for date in errors]\n",
    "\n",
    "with open('/home/mana/Work/log_report.csv', 'w', newline = '') as logcsv:\n",
    "    writer = csv.writer(logcsv, quoting = csv.QUOTE_MINIMAL)\n",
    "    writer.writerows(log_data)\n",
    "    "
   ]
  },
  {
   "cell_type": "markdown",
   "metadata": {},
   "source": [
    "### **How to convert /etc/passwd file to csv file using Python?**\n",
    "\n",
    "Some project needs collect user information for inventory purpose.<br></br>This script helps who needs collect user information for inventory purpose.\n",
    "\n",
    "This script perfectly convert to CSV format."
   ]
  },
  {
   "cell_type": "code",
   "execution_count": 11,
   "metadata": {},
   "outputs": [],
   "source": [
    "import csv\n",
    "\n",
    "with open('/etc/passwd', newline = '') as passfile:\n",
    "    reader = csv.reader(passfile, delimiter = ':')\n",
    "    with open('/home/mana/Work/password.csv', 'w', newline = '') as wpass:\n",
    "        writer = csv.writer(wpass, delimiter = ',')\n",
    "        writer.writerows(reader)        "
   ]
  },
  {
   "cell_type": "markdown",
   "metadata": {},
   "source": [
    "### **How to list of tcp services and port number and<br></br> store into csv file ?**\n"
   ]
  },
  {
   "cell_type": "code",
   "execution_count": 53,
   "metadata": {},
   "outputs": [],
   "source": [
    "%%bash\n",
    "\n",
    "grep -Po \"^\\w+.*\\d{1,5}/tcp\" /etc/services  \\\n",
    "| sed 's/\\s/,/g' > services.csv"
   ]
  },
  {
   "cell_type": "code",
   "execution_count": 54,
   "metadata": {},
   "outputs": [],
   "source": [
    "%%python3\n",
    "\n",
    "from pathlib import Path\n",
    "from re import search\n",
    "import csv\n",
    "\n",
    "file_read = Path('/etc/services').read_text().splitlines()\n",
    "services = [i.replace('\\t', ' ').rpartition('/tcp')[0].split()\n",
    "        for i in file_read if search(r'/tcp', i)]\n",
    "\n",
    "with open('services.csv', 'w', newline = '') as file:\n",
    "    fieldnames = ['Services', 'Port']\n",
    "    wrih = csv.DictWriter(file, fieldnames)\n",
    "    wrih.writeheader()\n",
    "    wrir = csv.writer(file, delimiter = ',', \n",
    "                      quoting = csv.QUOTE_NONE)\n",
    "    wrir.writerows(services)    "
   ]
  },
  {
   "cell_type": "code",
   "execution_count": 60,
   "metadata": {},
   "outputs": [],
   "source": [
    "%%bash\n",
    "\n",
    "grep -Po \"^\\w+.*\\d{1,5}/tcp\" /etc/services  \\\n",
    "| sed 's/\\s/,/g' > services.csv"
   ]
  },
  {
   "cell_type": "code",
   "execution_count": 52,
   "metadata": {},
   "outputs": [],
   "source": [
    "%%bash\n",
    "\n",
    "awk '!/^#|udp/{print $1 \"\\t\" $2}' /etc/services | \\\n",
    "sed -n '/^$/d'"
   ]
  },
  {
   "cell_type": "markdown",
   "metadata": {},
   "source": [
    "### **How to search network service name using port number?**"
   ]
  },
  {
   "cell_type": "markdown",
   "metadata": {},
   "source": [
    "#### **Bash**"
   ]
  },
  {
   "cell_type": "code",
   "execution_count": 235,
   "metadata": {},
   "outputs": [],
   "source": [
    "%%bash\n",
    "\n",
    "read -p \"Enter Port Number: \" port\n",
    "grep \"\\s$port/tcp\" /etc/services | awk -v p=$port ' {print p,\"-->\", $1}'"
   ]
  },
  {
   "cell_type": "markdown",
   "metadata": {},
   "source": [
    "#### **python3**"
   ]
  },
  {
   "cell_type": "code",
   "execution_count": 288,
   "metadata": {},
   "outputs": [
    {
     "name": "stdout",
     "output_type": "stream",
     "text": [
      "Enter Port Number:25\n",
      "25 --> smtp\n"
     ]
    }
   ],
   "source": [
    "from pathlib import Path\n",
    "import re\n",
    "\n",
    "port = input('Enter Port Number:')\n",
    "file_read = Path('/etc/services').read_text().splitlines()\n",
    "service = [i.split('\\t')[0] for i in file_read \n",
    " if re.search(r'\\s'+port+'/tcp',i)]\n",
    "\n",
    "print(f'{port} --> {service[0]}')"
   ]
  },
  {
   "cell_type": "code",
   "execution_count": 286,
   "metadata": {},
   "outputs": [
    {
     "name": "stdout",
     "output_type": "stream",
     "text": [
      "Enter Port Number:26\n",
      "26 --> Port not Available.\n"
     ]
    }
   ],
   "source": [
    "tcpl = [i.replace('\\t', ' ').rpartition('/tcp')[0].split()\n",
    "        for i in  file_read if re.search(r'/tcp', i)]\n",
    "port_dict = {int(no): na  for na, no in tcpl}\n",
    "\n",
    "def chk(pno):\n",
    "    if pno in port_dict:\n",
    "        print(pno,'-->', port_dict[pno])\n",
    "    else:\n",
    "        print(pno, '-->', port_dict.get(pno,'Port not Available.'))\n",
    "\n",
    "inp = int(input('Enter Port Number:'))\n",
    "chk(inp)"
   ]
  },
  {
   "cell_type": "markdown",
   "metadata": {},
   "source": [
    "### **Is it possible decode the string again from message digest?**"
   ]
  },
  {
   "cell_type": "code",
   "execution_count": 74,
   "metadata": {},
   "outputs": [
    {
     "data": {
      "text/plain": [
       "'96d91ec12563de18f0e68cc3fde1124dbf345226ca6b38800c3bc7bac352273d'"
      ]
     },
     "execution_count": 74,
     "metadata": {},
     "output_type": "execute_result"
    }
   ],
   "source": [
    "from hashlib import sha256\n",
    "sha256(b'Manavalan').hexdigest()"
   ]
  },
  {
   "cell_type": "markdown",
   "metadata": {},
   "source": [
    "### **What is output?**"
   ]
  },
  {
   "cell_type": "code",
   "execution_count": null,
   "metadata": {},
   "outputs": [],
   "source": [
    "x = y = z = \"rwx\"\n",
    "\n",
    "print(x is z)"
   ]
  },
  {
   "cell_type": "markdown",
   "metadata": {},
   "source": [
    "**1. True**\n",
    "\n",
    "**2. False**\n",
    "\n",
    "**3. rwx**\n",
    "\n",
    "**4. None**\n"
   ]
  },
  {
   "cell_type": "markdown",
   "metadata": {},
   "source": [
    "### **What is output?**"
   ]
  },
  {
   "cell_type": "code",
   "execution_count": null,
   "metadata": {},
   "outputs": [],
   "source": [
    "print('G' > 'g')"
   ]
  },
  {
   "cell_type": "markdown",
   "metadata": {},
   "source": [
    "**1. True**\n",
    "\n",
    "**2. False**\n",
    "\n",
    "**3. Error**\n",
    "\n",
    "**4. None**\n",
    "\n",
    "\n"
   ]
  },
  {
   "cell_type": "markdown",
   "metadata": {},
   "source": [
    "### **What is the difference between sticky bit and suid?**\n",
    "<img src=\"stick.gif\" height=\"350\" width=\"350\" align=\"left\">\n",
    "\n"
   ]
  },
  {
   "cell_type": "markdown",
   "metadata": {},
   "source": [
    "#### **Sticky bit:**\n",
    "**Sticky bit** is to allow anyone to **create** a file in the directory, but only allow that<br></br> user or root to **remove** the file.\n",
    "\n",
    "**Turn ON sticky bit:**<br></br>\n",
    "chmod +t Work/<br></br>\n",
    "**Turn OFF sticky bit:**<br></br>\n",
    "chmod -t Work/\n",
    "\n",
    "\n",
    "\n",
    "#### **Suid:**\n",
    "**Suid is setuid.** When the program runs, set the <b>effective userid</b> to the owner <br></br>of the file instead of the logged in user. \n",
    "\n",
    "\n",
    "**Turn ON suid:**<br></br>\n",
    "chmod +s status.py<br></br>\n",
    "**Turn OFF suid:**<br></br>\n",
    "chmod -s status.py"
   ]
  },
  {
   "cell_type": "markdown",
   "metadata": {},
   "source": [
    "### **How to search directory recursively?**\n",
    "you may use find command. Here i use different approach.<br></br>\n",
    "$ find /home/mana/ -type d -name \"test\" -print"
   ]
  },
  {
   "cell_type": "markdown",
   "metadata": {},
   "source": [
    "**Python3:**"
   ]
  },
  {
   "cell_type": "code",
   "execution_count": 33,
   "metadata": {},
   "outputs": [
    {
     "name": "stdout",
     "output_type": "stream",
     "text": [
      "Enter Search Directory:test\n",
      "\"test\" Directory exists.\n"
     ]
    }
   ],
   "source": [
    "from pathlib import Path\n",
    "\n",
    "mydir = input('Enter Search Directory:')\n",
    "dir_list = Path('/home/mana/').rglob('Work/*')\n",
    "only_dir = [i.name for i in dir_list if i.is_dir()]\n",
    "if mydir in only_dir:\n",
    "    print(f'\"{mydir}\" Directory exists.')"
   ]
  },
  {
   "cell_type": "markdown",
   "metadata": {},
   "source": [
    "**Bash:**"
   ]
  },
  {
   "cell_type": "code",
   "execution_count": 34,
   "metadata": {},
   "outputs": [
    {
     "name": "stdout",
     "output_type": "stream",
     "text": [
      "'test' Directory exists.\n"
     ]
    }
   ],
   "source": [
    "%%bash\n",
    "\n",
    "mydir=test\n",
    "for i in /home/mana/Work/*\n",
    "do\n",
    "if [[ -d $i ]]\n",
    "then\n",
    "if [[ $(basename $i) == $mydir ]]\n",
    "then\n",
    "echo \"'$mydir' Directory exists.\"\n",
    "fi\n",
    "fi\n",
    "done"
   ]
  },
  {
   "cell_type": "markdown",
   "metadata": {},
   "source": [
    "### **Python Quiz**\n",
    "#### **What is output?**"
   ]
  },
  {
   "cell_type": "markdown",
   "metadata": {},
   "source": [
    "**1. P**\n",
    "\n",
    "**2. Python**\n",
    "\n",
    "**3. Blank Output**\n",
    "\n",
    "**4. Error**"
   ]
  },
  {
   "cell_type": "markdown",
   "metadata": {},
   "source": [
    "### **How google map works?**\n",
    "\n",
    "**Google Maps developed by Python**<br></br>\n",
    "\n",
    "**What is Latitude and Longitude?**<br></br>\n",
    "Latitude and Longitude are the units that represent the coordinates at geographic<br></br> coordinate system.\n",
    "<ol type='1'>\n",
    "<li>Latitudes and longitudes are horizontal and vertical lines respectively.</li>\n",
    "\n",
    "<li>Latitudes are parellel to equator and equator itself is also a latitude i.e. 0° Latitude.</li>\n",
    "\n",
    "<li>Longitude intersects with equator at 90°</li>\n",
    "</pre>"
   ]
  },
  {
   "cell_type": "code",
   "execution_count": 124,
   "metadata": {},
   "outputs": [
    {
     "data": {
      "text/plain": [
       "'Latitude 37.0902, Longitude 95.7129 is USA'"
      ]
     },
     "execution_count": 124,
     "metadata": {},
     "output_type": "execute_result"
    }
   ],
   "source": [
    "import bisect \n",
    "\n",
    "lati_long = [[], [20.5937,78.9629], [37.0902,95.7129], \n",
    "             [52.1326,5.2913], [55.3781, 3.4360]]\n",
    "country = ['', 'India', 'USA', 'Netherlands', 'UK']\n",
    "\n",
    "def map(arg):\n",
    "    idx = bisect.bisect(lati_long, arg) -1\n",
    "    return f'Latitude {arg[0]}, Longitude {arg[1]} is {country[idx]}'\n",
    "\n",
    "map([37.0902, 95.7129])"
   ]
  },
  {
   "cell_type": "markdown",
   "metadata": {},
   "source": [
    "### **How Google Transliteration Works?**\n",
    "\n",
    "**Google Transliteration use Python to transliteration(Convert English to other Language.)**\n",
    "\n",
    "Here I explain How Google Transliteration convert English charcters(\"i\") to Tamil(\"ஐ\").\n",
    "<img src=\"unicode.png\" height=\"475\" width=\"475\" align=\"left\">"
   ]
  },
  {
   "cell_type": "markdown",
   "metadata": {},
   "source": [
    "**Map unicode point English character(i) to Tamil unicode point('ஐ')**"
   ]
  },
  {
   "cell_type": "code",
   "execution_count": 125,
   "metadata": {},
   "outputs": [],
   "source": [
    "trans_table = {105: 0xb90}"
   ]
  },
  {
   "cell_type": "markdown",
   "metadata": {},
   "source": [
    "**Now Transliterate from i to ஐ**"
   ]
  },
  {
   "cell_type": "code",
   "execution_count": 20,
   "metadata": {},
   "outputs": [
    {
     "name": "stdout",
     "output_type": "stream",
     "text": [
      "Enter Character: i\n",
      "i transliterate to ஐ.\n"
     ]
    }
   ],
   "source": [
    "value = input('Enter Character: ')\n",
    "result = value.translate(trans_table)\n",
    "print(f'{value} transliterate to {result}.')"
   ]
  },
  {
   "cell_type": "markdown",
   "metadata": {},
   "source": [
    "**This is dirctely mapped to character.**"
   ]
  },
  {
   "cell_type": "code",
   "execution_count": 198,
   "metadata": {},
   "outputs": [
    {
     "name": "stdout",
     "output_type": "stream",
     "text": [
      "{105: 2960}\n"
     ]
    }
   ],
   "source": [
    "dict = str.maketrans('i', 'ஐ')\n",
    "print(dict)"
   ]
  },
  {
   "cell_type": "markdown",
   "metadata": {},
   "source": [
    "### **Python Quiz**\n",
    "#### **What is output?**"
   ]
  },
  {
   "cell_type": "code",
   "execution_count": null,
   "metadata": {},
   "outputs": [],
   "source": [
    "print(0.0 > 0)"
   ]
  },
  {
   "cell_type": "markdown",
   "metadata": {},
   "source": [
    "<h4><span style=\"padding-left:10px;color:black;\"><b>1. True</b></span></h4>\n",
    "<h4><span style=\"padding-left:10px;color:black;\"><b>2. False</b></span></h4>\n",
    "<h4><span style=\"padding-left:10px;color:black;\"><b>3. Error</b></span></h4>\n",
    "<h4><span style=\"padding-left:10px;color:black;\"><b>4. None</b></span></h4>"
   ]
  },
  {
   "cell_type": "markdown",
   "metadata": {},
   "source": [
    "### **What is c value?**"
   ]
  },
  {
   "cell_type": "code",
   "execution_count": null,
   "metadata": {},
   "outputs": [],
   "source": [
    "a=5\n",
    "b=6\n",
    "c = a if a > b else b\n",
    "print(c)"
   ]
  },
  {
   "cell_type": "markdown",
   "metadata": {},
   "source": [
    "<h4><span style=\"padding-left:10px;color:black;\"><b>A). 5</b></span></h4>\n",
    "<h4><span style=\"padding-left:10px;color:black;\"><b>B). 6</b></span></h4>\n",
    "<h4><span style=\"padding-left:10px;color:black;\"><b>C). Error</b></span></h4>\n",
    "<h4><span style=\"padding-left:10px;color:black;\"><b>D). None</b></span></h4>"
   ]
  },
  {
   "cell_type": "markdown",
   "metadata": {},
   "source": [
    "### **Python Quiz**\n",
    "#### **What is output?**"
   ]
  },
  {
   "cell_type": "code",
   "execution_count": null,
   "metadata": {},
   "outputs": [],
   "source": [
    "if 'a':\n",
    "    print('True')\n",
    "else:\n",
    "    print('False')"
   ]
  },
  {
   "cell_type": "markdown",
   "metadata": {},
   "source": [
    "<h4><span style=\"padding-left:10px;color:black;\"><b>1. True</b></span></h4>\n",
    "<h4><span style=\"padding-left:10px;color:black;\"><b>2. False</b></span></h4>\n",
    "<h4><span style=\"padding-left:10px;color:black;\"><b>3. Error</b></span></h4>\n",
    "<h4><span style=\"padding-left:10px;color:black;\"><b>4. None</b></span></h4>"
   ]
  },
  {
   "cell_type": "markdown",
   "metadata": {},
   "source": [
    "### **Python Quiz**\n",
    "#### **What is output?**"
   ]
  },
  {
   "cell_type": "code",
   "execution_count": null,
   "metadata": {},
   "outputs": [],
   "source": [
    "score = 50 > 35\n",
    "print(\"Pass\" if score  else \"Fail\")"
   ]
  },
  {
   "cell_type": "markdown",
   "metadata": {},
   "source": [
    "<h4><span style=\"padding-left:10px;color:black;\"><b>1. Pass</b></span></h4>\n",
    "<h4><span style=\"padding-left:10px;color:black;\"><b>2. Fail</b></span></h4>\n",
    "<h4><span style=\"padding-left:10px;color:black;\"><b>3. None</b></span></h4>\n",
    "<h4><span style=\"padding-left:10px;color:black;\"><b>4. score</b></span></h4>"
   ]
  },
  {
   "cell_type": "markdown",
   "metadata": {},
   "source": [
    "### **Python Quiz**\n",
    "#### **What is output?**"
   ]
  },
  {
   "cell_type": "code",
   "execution_count": null,
   "metadata": {},
   "outputs": [],
   "source": [
    "print('ma123*'.isalnum())"
   ]
  },
  {
   "cell_type": "markdown",
   "metadata": {},
   "source": [
    "<h4><span style=\"padding-left:10px;color:black;\"><b>1. True</b></span></h4>\n",
    "<h4><span style=\"padding-left:10px;color:black;\"><b>2. False</b></span></h4>\n",
    "<h4><span style=\"padding-left:10px;color:black;\"><b>3. Error</b></span></h4>\n",
    "<h4><span style=\"padding-left:10px;color:black;\"><b>4. None</b></span></h4>"
   ]
  },
  {
   "cell_type": "markdown",
   "metadata": {},
   "source": [
    "### **Python Quiz**\n",
    "#### **What is output?**"
   ]
  },
  {
   "cell_type": "code",
   "execution_count": null,
   "metadata": {},
   "outputs": [],
   "source": [
    "name = 'Mari Muthu'\n",
    "print(name.rfind('M'))"
   ]
  },
  {
   "cell_type": "markdown",
   "metadata": {},
   "source": [
    "<h4><span style=\"padding-left:10px;color:black;\"><b>A). 0</b></span></h4>\n",
    "<h4><span style=\"padding-left:10px;color:black;\"><b>B). 6</b></span></h4>\n",
    "<h4><span style=\"padding-left:10px;color:black;\"><b>C). 5</b></span></h4>\n",
    "<h4><span style=\"padding-left:10px;color:black;\"><b>D). 4</b></span></h4>"
   ]
  },
  {
   "cell_type": "markdown",
   "metadata": {},
   "source": [
    "### **Python Quiz**\n",
    "#### **What is output?**"
   ]
  },
  {
   "cell_type": "code",
   "execution_count": null,
   "metadata": {},
   "outputs": [],
   "source": [
    "print([77, 97, 110, 97]  <  [109, 97, 110, 97])"
   ]
  },
  {
   "cell_type": "markdown",
   "metadata": {},
   "source": [
    "<h4><span style=\"padding-left:10px;color:black;\"><b>1. True</b></span></h4>\n",
    "<h4><span style=\"padding-left:10px;color:black;\"><b>2. False</b></span></h4>\n",
    "<h4><span style=\"padding-left:10px;color:black;\"><b>3. Error</b></span></h4>\n",
    "<h4><span style=\"padding-left:10px;color:black;\"><b>4. None</b></span></h4>"
   ]
  },
  {
   "cell_type": "markdown",
   "metadata": {},
   "source": [
    "### **Python Quiz**\n",
    "#### **What is output?** "
   ]
  },
  {
   "cell_type": "code",
   "execution_count": 246,
   "metadata": {},
   "outputs": [],
   "source": [
    "while 0:\n",
    "    print('Hello')"
   ]
  },
  {
   "cell_type": "markdown",
   "metadata": {},
   "source": [
    "**A). 0**\n",
    "\n",
    "**B). loop execute infinite**\n",
    "\n",
    "**C). Blank Output**\n",
    "\n",
    "**D). Error**"
   ]
  },
  {
   "cell_type": "markdown",
   "metadata": {},
   "source": [
    "### **How to read csv filed header only?**"
   ]
  },
  {
   "cell_type": "markdown",
   "metadata": {},
   "source": [
    "**Method: 1**"
   ]
  },
  {
   "cell_type": "code",
   "execution_count": 237,
   "metadata": {},
   "outputs": [
    {
     "data": {
      "text/plain": [
       "['Name', 'Age', 'Profession']"
      ]
     },
     "execution_count": 237,
     "metadata": {},
     "output_type": "execute_result"
    }
   ],
   "source": [
    "import csv\n",
    "\n",
    "with open('/home/mana/Work/peoples.csv', newline = '') as csvfile:\n",
    "    reader = csv.reader(csvfile)\n",
    "    header = next(reader)\n",
    "    \n",
    "header"
   ]
  },
  {
   "cell_type": "markdown",
   "metadata": {},
   "source": [
    "**Method: 2**"
   ]
  },
  {
   "cell_type": "code",
   "execution_count": 236,
   "metadata": {},
   "outputs": [
    {
     "data": {
      "text/plain": [
       "['Name', 'Age', 'Profession']"
      ]
     },
     "execution_count": 236,
     "metadata": {},
     "output_type": "execute_result"
    }
   ],
   "source": [
    "import csv\n",
    "\n",
    "with open('/home/mana/Work/peoples.csv', newline = '') as csvfile:\n",
    "    header = csv.DictReader(csvfile).fieldnames    \n",
    "    \n",
    "header"
   ]
  },
  {
   "cell_type": "markdown",
   "metadata": {},
   "source": [
    "### **Write function that takes two args: list of strings and a prefix <br></br>(string). The function should iterate over the list and find all <br></br>strings which start with the prefix, then return list of such strings**"
   ]
  },
  {
   "cell_type": "code",
   "execution_count": 253,
   "metadata": {},
   "outputs": [
    {
     "data": {
      "text/plain": [
       "['Rani', 'Ram', 'Rex']"
      ]
     },
     "execution_count": 253,
     "metadata": {},
     "output_type": "execute_result"
    }
   ],
   "source": [
    "string_list = ['Rani', \"Lawerence\", 'Ram', 'Xavier', 'Veena', 'Rex']\n",
    "def start(a, *string_list):\n",
    "    return [i for i in string_list if i.startswith(a)]\n",
    "\n",
    "\n",
    "start('R', *string_list)"
   ]
  },
  {
   "cell_type": "markdown",
   "metadata": {},
   "source": [
    "### **Write function which takes string AAAAaaBCCCDDe as argument<br></br> and returns its compressed version A4a2B1C3D2e1**"
   ]
  },
  {
   "cell_type": "code",
   "execution_count": 266,
   "metadata": {},
   "outputs": [
    {
     "name": "stdout",
     "output_type": "stream",
     "text": [
      "A4a2B1C3D2e1"
     ]
    }
   ],
   "source": [
    "S = 'AAAAaaBCCCDDe'\n",
    "uni = {x: S.count(x) for x in S}\n",
    "for m, n in uni.items():\n",
    "    print(m+str(n), end = '')"
   ]
  },
  {
   "cell_type": "code",
   "execution_count": 275,
   "metadata": {},
   "outputs": [
    {
     "name": "stdout",
     "output_type": "stream",
     "text": [
      "A4a2B1C3D2e1"
     ]
    }
   ],
   "source": [
    "from itertools import groupby\n",
    "\n",
    "S = 'AAAAaaBCCCDDe'\n",
    "chacount = [(x, len(list(y))) for x, y in groupby(S)]\n",
    "\n",
    "for m, n in chacount:\n",
    "    print(m+str(n), end = '')"
   ]
  },
  {
   "cell_type": "markdown",
   "metadata": {},
   "source": [
    "### **Linux Quiz**"
   ]
  },
  {
   "cell_type": "code",
   "execution_count": 46,
   "metadata": {},
   "outputs": [
    {
     "name": "stdout",
     "output_type": "stream",
     "text": [
      "Manavalan \r\n",
      "Ram\r\n",
      "Xavier\r\n",
      "Gopal\r\n"
     ]
    }
   ],
   "source": [
    "!cat ~/Work/name.txt"
   ]
  },
  {
   "cell_type": "markdown",
   "metadata": {},
   "source": [
    "\n",
    "#### **What is sed output?**"
   ]
  },
  {
   "cell_type": "code",
   "execution_count": null,
   "metadata": {},
   "outputs": [],
   "source": [
    "!sed -n '$p' ~/Work/name.txt"
   ]
  },
  {
   "cell_type": "markdown",
   "metadata": {},
   "source": [
    "<h4><span style=\"padding-left:10px;color:black;\"><b>1. Manavalan</b></span></h4>\n",
    "<h4><span style=\"padding-left:10px;color:black;\"><b>2. Gopal</b></span></h4>\n",
    "<h4><span style=\"padding-left:10px;color:black;\"><b>3. Xavier</b></span></h4>\n",
    "<h4><span style=\"padding-left:10px;color:black;\"><b>4. Ram</b></span></h4>"
   ]
  },
  {
   "cell_type": "markdown",
   "metadata": {},
   "source": [
    "### **How to read specific column in file ?**"
   ]
  },
  {
   "cell_type": "code",
   "execution_count": 57,
   "metadata": {},
   "outputs": [
    {
     "name": "stdout",
     "output_type": "stream",
     "text": [
      "Name,Age,Profession\r\n",
      "Jack,23,Doctor\r\n",
      "Miller,22,Engineer\r\n",
      "Xavier,25,Worker\r\n"
     ]
    }
   ],
   "source": [
    "!cat /home/mana/Work/peoples.csv"
   ]
  },
  {
   "cell_type": "code",
   "execution_count": 56,
   "metadata": {},
   "outputs": [
    {
     "name": "stdout",
     "output_type": "stream",
     "text": [
      "Jack\n",
      "Miller\n",
      "Xavier\n"
     ]
    }
   ],
   "source": [
    "import csv\n",
    "\n",
    "with open('/home/mana/Work/peoples.csv') as csvfile:\n",
    "    reader = csv.DictReader(csvfile)\n",
    "    \n",
    "    for row in reader:\n",
    "        print(row.get('Name'))"
   ]
  },
  {
   "cell_type": "markdown",
   "metadata": {},
   "source": [
    "### **How to calculate total cost and total product count from quoted csv file?**"
   ]
  },
  {
   "cell_type": "code",
   "execution_count": 97,
   "metadata": {},
   "outputs": [
    {
     "name": "stdout",
     "output_type": "stream",
     "text": [
      "﻿\"TimeStamp,RID,MSISDN,ProductID,ProductName,ProductType,ProductCost,SubsciptionChannel,PaySource,FailedCommand,Interface,FailuerReason\"\r",
      "\r\n",
      "\"2020-04-08 12:48:30:988, http_10.131.13.143_d665091f-d1a6-4728-8917-62f68fe1445f, 2349062058463, 603, Share N Sell 1, Time2Share, null, ussd, CIS_SCAPv2, Refund, CIS_SCAPv2, DIAMETER_UNABLE_TO_COMPLY\"\r",
      "\r\n",
      "\"2020-04-08 13:01:23:901,WEB_10.129.7.178_f0b765a0-ecdf-4fc0-8c38-3264d95b7c2a,2349013977971,152,350MB Weekly data plan,DATA,300,evd,CIS_SCAPv2,GetAccountDetails,UCIP,Subscriber not found\"\r",
      "\r\n",
      "\"2020-04-08 13:03:03:719,WEB_10.128.12.217_9a149815-b84c-40b2-a9c8-993df8a4f503,2348085298734,745,8GB Monthly Plan,DATA,3000,evd,CIS_SCAPv2,GetAccountDetails,UCIP,Subscriber not found\"\r",
      "\r\n"
     ]
    }
   ],
   "source": [
    "!cat /home/mana/Work/sample.csv"
   ]
  },
  {
   "cell_type": "code",
   "execution_count": 10,
   "metadata": {},
   "outputs": [
    {
     "name": "stdout",
     "output_type": "stream",
     "text": [
      "Total Cost: 3300\n",
      "Total Count: 2\n"
     ]
    }
   ],
   "source": [
    "import csv\n",
    "\n",
    "total_cost = []\n",
    "total_count = []\n",
    "    \n",
    "with open('/home/mana/Work/sample.csv', newline = '') as csvfile:\n",
    "    reader = csv.DictReader(csvfile, quoting = csv.QUOTE_NONE)\n",
    "    for row in reader:\n",
    "        dcon = dict(row)\n",
    "        if dcon.get('ProductCost') != ' null':\n",
    "            total_cost.append(int(dcon.get('ProductCost')))\n",
    "            total_count.append(dcon.get('ProductID'))\n",
    "\n",
    "print('Total Cost:', sum(total_cost))\n",
    "print('Total Count:', len(total_count))"
   ]
  },
  {
   "cell_type": "code",
   "execution_count": 343,
   "metadata": {},
   "outputs": [
    {
     "name": "stdout",
     "output_type": "stream",
     "text": [
      "TotalCost: 0\n",
      "TotalCount: 0\n",
      "Currency: NGN\n"
     ]
    }
   ],
   "source": [
    "total_cost = []\n",
    "currency = 'NGN'\n",
    "\n",
    "with open('/home/mana/Work/sample.csv', newline = '') as csvfile:\n",
    "    reader = csv.DictReader(csvfile, quoting = csv.QUOTE_NONE)\n",
    "    for data in reader:\n",
    "        dcon = dict(data)\n",
    "        if data.get('ProductID') == '603' and data.get('ProductCost') != ' null':\n",
    "            total_cost.append(int(dcon.get('ProductCost')))\n",
    "\n",
    "costsum,total_count = sum(total_cost), len(total_cost)\n",
    "print(f'TotalCost: {costsum}\\nTotalCount: {total_count}\\nCurrency: {currency}')        "
   ]
  },
  {
   "cell_type": "markdown",
   "metadata": {},
   "source": [
    "### **Convert From Lower  Case To Upper Case**"
   ]
  },
  {
   "cell_type": "code",
   "execution_count": 21,
   "metadata": {},
   "outputs": [
    {
     "name": "stdout",
     "output_type": "stream",
     "text": [
      "MANAVALAN MICHEAL\n"
     ]
    }
   ],
   "source": [
    "%%bash\n",
    "name=\"Manavalan Micheal\"\n",
    "echo ${name^^}"
   ]
  },
  {
   "cell_type": "code",
   "execution_count": 31,
   "metadata": {},
   "outputs": [
    {
     "name": "stdout",
     "output_type": "stream",
     "text": [
      "MANAVALAN MICHEAL\n"
     ]
    }
   ],
   "source": [
    "%%bash\n",
    "echo \"Manavalan Micheal\" | tr \"[:lower:]\" \"[:upper:]\""
   ]
  },
  {
   "cell_type": "code",
   "execution_count": 32,
   "metadata": {},
   "outputs": [
    {
     "name": "stdout",
     "output_type": "stream",
     "text": [
      "MANAVALAN MICHEAL\n"
     ]
    }
   ],
   "source": [
    "%%bash\n",
    "echo \"Manavalan Micheal\" | awk '{print toupper($0)}'"
   ]
  },
  {
   "cell_type": "code",
   "execution_count": 6,
   "metadata": {},
   "outputs": [
    {
     "name": "stdout",
     "output_type": "stream",
     "text": [
      "CESAR RIZZO\n"
     ]
    }
   ],
   "source": [
    "%%bash\n",
    "\n",
    "awk '{print toupper($0)}' < <(echo \"Cesar Rizzo\" )\n"
   ]
  },
  {
   "cell_type": "code",
   "execution_count": 33,
   "metadata": {},
   "outputs": [
    {
     "name": "stdout",
     "output_type": "stream",
     "text": [
      "MANAVALAN MICHEAL\n"
     ]
    }
   ],
   "source": [
    "%%bash\n",
    "echo \"Manavalan Micheal\" | sed -r 's/(^.*$)/\\U\\1/'"
   ]
  },
  {
   "cell_type": "code",
   "execution_count": 34,
   "metadata": {},
   "outputs": [
    {
     "name": "stdout",
     "output_type": "stream",
     "text": [
      "MANAVALAN MICHEAL\n"
     ]
    }
   ],
   "source": [
    "%%python3\n",
    "text = \"Manavalan Micheal\"\n",
    "print(text.upper())"
   ]
  },
  {
   "cell_type": "markdown",
   "metadata": {},
   "source": [
    "### **Find and Replace The String**\n",
    "Here, I find **whitespace(\\s)** replace by **Underscore(_)**."
   ]
  },
  {
   "cell_type": "code",
   "execution_count": 58,
   "metadata": {},
   "outputs": [
    {
     "name": "stdout",
     "output_type": "stream",
     "text": [
      "Linux_is_Good_Operating_System.\n"
     ]
    }
   ],
   "source": [
    "%%bash\n",
    "text=\"Linux is Good Operating System.\"\n",
    "echo ${text// /_}"
   ]
  },
  {
   "cell_type": "code",
   "execution_count": 336,
   "metadata": {},
   "outputs": [
    {
     "name": "stdout",
     "output_type": "stream",
     "text": [
      "Linux_is_Good_Operating_System.\n",
      "\u001b[36;1m\tOR\u001b[m\n",
      "Linux_is_Good_Operating_System.\n"
     ]
    }
   ],
   "source": [
    "%%bash\n",
    "\n",
    "text=\"Linux is Good Operating System.\"\n",
    "echo $text | sed \"s/\\s/_/g\"\n",
    "echo  $'\\e[36;1m\\tOR\\e[m'\n",
    "echo $text | tr  \"[:blank:]\" \"_\""
   ]
  },
  {
   "cell_type": "code",
   "execution_count": 117,
   "metadata": {},
   "outputs": [
    {
     "name": "stdout",
     "output_type": "stream",
     "text": [
      "Linux_is_Good_Operating_System.\n"
     ]
    }
   ],
   "source": [
    "%%python3\n",
    "text=\"Linux is Good Operating System.\"\n",
    "print(text.replace(' ','_'))"
   ]
  },
  {
   "cell_type": "code",
   "execution_count": 119,
   "metadata": {},
   "outputs": [
    {
     "name": "stdout",
     "output_type": "stream",
     "text": [
      "Linux_is_Good_Operating_System.\n"
     ]
    }
   ],
   "source": [
    "%%python3\n",
    "\n",
    "import re\n",
    "text=\"Linux is Good Operating System.\"\n",
    "print(re.sub(r'\\s','_',text))"
   ]
  },
  {
   "cell_type": "markdown",
   "metadata": {},
   "source": [
    "### **How To Remove All Characters Except Digit?**"
   ]
  },
  {
   "cell_type": "code",
   "execution_count": 144,
   "metadata": {},
   "outputs": [
    {
     "name": "stdout",
     "output_type": "stream",
     "text": [
      "8123"
     ]
    }
   ],
   "source": [
    "%%bash\n",
    " echo \"8Micheal@123\" | tr -cd [:digit:]"
   ]
  },
  {
   "cell_type": "code",
   "execution_count": 131,
   "metadata": {},
   "outputs": [
    {
     "name": "stdout",
     "output_type": "stream",
     "text": [
      "M\n",
      "i\n",
      "c\n",
      "h\n",
      "e\n",
      "a\n",
      "l\n"
     ]
    }
   ],
   "source": [
    "%%bash\n",
    "\n",
    "echo \"8Micheal@123\" | grep -o \"[!a-zA-Z]\""
   ]
  },
  {
   "cell_type": "code",
   "execution_count": 151,
   "metadata": {},
   "outputs": [
    {
     "name": "stdout",
     "output_type": "stream",
     "text": [
      "8123\n"
     ]
    }
   ],
   "source": [
    "%%bash\n",
    "echo \"8Micheal@123\" | grep -o \"[0-9]\" | \\\n",
    "awk NF=NF RS= OFS="
   ]
  },
  {
   "cell_type": "code",
   "execution_count": 174,
   "metadata": {},
   "outputs": [
    {
     "name": "stdout",
     "output_type": "stream",
     "text": [
      "8123\n"
     ]
    }
   ],
   "source": [
    "%%bash\n",
    "echo \"8Micheal@123\" | \\\n",
    "sed -re 's/([[:alpha:]]|[[:punct:]])//g'"
   ]
  },
  {
   "cell_type": "code",
   "execution_count": 176,
   "metadata": {},
   "outputs": [
    {
     "name": "stdout",
     "output_type": "stream",
     "text": [
      "8123\n"
     ]
    }
   ],
   "source": [
    "%%python3\n",
    "text = '8Micheal@123'\n",
    "print(''.join([i for i in text if i.isdigit()]))"
   ]
  },
  {
   "cell_type": "code",
   "execution_count": 186,
   "metadata": {},
   "outputs": [
    {
     "name": "stdout",
     "output_type": "stream",
     "text": [
      "8123\n"
     ]
    }
   ],
   "source": [
    "%%python3\n",
    "from re import findall\n",
    "text = '8Micheal@123'\n",
    "print(''.join(findall(r'\\d+',text)))"
   ]
  },
  {
   "cell_type": "markdown",
   "metadata": {},
   "source": [
    "### **How to Get Color Output?**"
   ]
  },
  {
   "cell_type": "code",
   "execution_count": 245,
   "metadata": {},
   "outputs": [
    {
     "name": "stdout",
     "output_type": "stream",
     "text": [
      "\u001b[30m\u001b[01m\tBlack\u001b[m\n",
      "\u001b[31m\u001b[01m\tRed\u001b[m\n",
      "\u001b[34m\u001b[01m\tGreen\u001b[m\n",
      "\u001b[35m\u001b[01m\tMagento\u001b[m\n",
      "\u001b[36m\u001b[01m\tCyan\u001b[m\n",
      "\u001b[37m\u001b[01m\tWhite\u001b[m\n"
     ]
    }
   ],
   "source": [
    "print(\"\\033[30m\\033[01m\\tBlack\\033[m\")\n",
    "print(\"\\033[31m\\033[01m\\tRed\\033[m\")\n",
    "print(\"\\033[34m\\033[01m\\tGreen\\033[m\")\n",
    "print(\"\\033[35m\\033[01m\\tMagento\\033[m\")\n",
    "print(\"\\033[36m\\033[01m\\tCyan\\033[m\")\n",
    "print(\"\\033[37m\\033[01m\\tWhite\\033[m\")"
   ]
  },
  {
   "cell_type": "code",
   "execution_count": 244,
   "metadata": {
    "scrolled": true
   },
   "outputs": [
    {
     "name": "stdout",
     "output_type": "stream",
     "text": [
      "\u001b[30;1m\tBlack\u001b[m\n",
      "\u001b[31;1m\tRed\u001b[m\n",
      "\u001b[34;1m\tGreen\u001b[m\n",
      "\u001b[35;1m\tMagento\u001b[m\n",
      "\u001b[36;1m\tCyan\u001b[m\n",
      "\u001b[37;1m\tWhite\u001b[m\n"
     ]
    }
   ],
   "source": [
    "%%bash\n",
    "echo  $'\\e[30;1m\\tBlack\\e[m'\n",
    "echo  $'\\e[31;1m\\tRed\\e[m'\n",
    "echo  $'\\e[34;1m\\tGreen\\e[m'\n",
    "echo  $'\\e[35;1m\\tMagento\\e[m'\n",
    "echo  $'\\e[36;1m\\tCyan\\e[m'\n",
    "echo  $'\\e[37;1m\\tWhite\\e[m'"
   ]
  },
  {
   "cell_type": "markdown",
   "metadata": {},
   "source": [
    "<h3 style=\"padding-left:40px;font-size:15.5px;font-weight:bolder\">How To Remove Digits, Special Characters From The String?</h3>"
   ]
  },
  {
   "cell_type": "code",
   "execution_count": 307,
   "metadata": {},
   "outputs": [
    {
     "name": "stdout",
     "output_type": "stream",
     "text": [
      "Micheal"
     ]
    }
   ],
   "source": [
    "%%bash\n",
    "\n",
    "echo '8Micheal@123' | tr -cd [:alpha:]"
   ]
  },
  {
   "cell_type": "code",
   "execution_count": 313,
   "metadata": {},
   "outputs": [
    {
     "name": "stdout",
     "output_type": "stream",
     "text": [
      "Micheal\n"
     ]
    }
   ],
   "source": [
    "%%bash\n",
    "\n",
    "echo '8Micheal@123' | grep -o \"[[:alpha:]]\" \\\n",
    "| awk NF=NF RS= OFS="
   ]
  },
  {
   "cell_type": "code",
   "execution_count": 325,
   "metadata": {},
   "outputs": [
    {
     "name": "stdout",
     "output_type": "stream",
     "text": [
      "Micheal\n"
     ]
    }
   ],
   "source": [
    "%%bash\n",
    "\n",
    "echo '8Micheal@123' | \\\n",
    "sed -r \"s/([[:digit:]]|[[:punct:]])//g\""
   ]
  },
  {
   "cell_type": "code",
   "execution_count": 333,
   "metadata": {},
   "outputs": [
    {
     "name": "stdout",
     "output_type": "stream",
     "text": [
      "Micheal\n"
     ]
    }
   ],
   "source": [
    "%%python3\n",
    "\n",
    "print(''.join([i for i in '8Micheal@123' \n",
    "               if i.isalpha()]))"
   ]
  },
  {
   "cell_type": "markdown",
   "metadata": {},
   "source": [
    "### **How To Replace Multiple Spaces With One?**"
   ]
  },
  {
   "cell_type": "code",
   "execution_count": 7,
   "metadata": {},
   "outputs": [
    {
     "name": "stdout",
     "output_type": "stream",
     "text": [
      "ID     Name\r\n",
      "1      a\r\n",
      "2         b\r\n",
      "3   g\r\n",
      "6            f\r\n"
     ]
    }
   ],
   "source": [
    "!cat ~/Work/collapse.txt"
   ]
  },
  {
   "cell_type": "code",
   "execution_count": 5,
   "metadata": {},
   "outputs": [
    {
     "name": "stdout",
     "output_type": "stream",
     "text": [
      "ID Name\n",
      "1 a\n",
      "2 b\n",
      "3 g\n",
      "6 f\n"
     ]
    }
   ],
   "source": [
    "%%bash\n",
    "cat ~/Work/collapse.txt | tr -s \" \"\n",
    ": OR USE AWK\n",
    ": awk '{$2=$2}' ~/Work/collapse.txt\n",
    ": OR USE SED\n",
    ": sed -r 's/\\s\\s+/ /g' ~/Work/collapse.txt"
   ]
  },
  {
   "cell_type": "code",
   "execution_count": 49,
   "metadata": {},
   "outputs": [
    {
     "name": "stdout",
     "output_type": "stream",
     "text": [
      "1\t2\n",
      "3\t4\n",
      "\n",
      "1\t2\n",
      "3\t4\n",
      "\n"
     ]
    }
   ],
   "source": [
    "%%bash\n",
    "\n",
    "echo -e \"1\\t2\\n3\\t4\\n\"\n",
    "\n",
    "echo -e \"1\\t2\\n3\\t4\\n\" | awk '{$1};1'\n",
    "echo -e \"1\\t2\\n3\\t4\\n\" | awk '{$1}'"
   ]
  },
  {
   "cell_type": "code",
   "execution_count": 291,
   "metadata": {},
   "outputs": [
    {
     "name": "stdout",
     "output_type": "stream",
     "text": [
      "ID Name\n",
      "1 a\n",
      "2 b\n",
      "3 g\n",
      "6 f\n"
     ]
    }
   ],
   "source": [
    "%%python3\n",
    "from pathlib import Path\n",
    "from re import sub\n",
    "file = Path('/home/mana//Work/collapse.txt')\n",
    "file_read = (file).read_text().splitlines()\n",
    "print(*[sub(r'\\s\\s+',' ',i) \n",
    "        for i in file_read], sep = '\\n')"
   ]
  },
  {
   "cell_type": "markdown",
   "metadata": {},
   "source": [
    "### **How to use end parameter in \"for loop\"?**\n",
    "**It print like this 0 1 2 3 4 if change end aparemeter**\n"
   ]
  },
  {
   "cell_type": "code",
   "execution_count": 76,
   "metadata": {},
   "outputs": [
    {
     "name": "stdout",
     "output_type": "stream",
     "text": [
      "0 1 2 3 4 "
     ]
    }
   ],
   "source": [
    "for x in range(5):\n",
    "    print(x, end = ' ')"
   ]
  },
  {
   "cell_type": "markdown",
   "metadata": {},
   "source": [
    "### **How To Child Class Access Attribute Of Parent Class?**\n",
    "Attribute means Data(Variable),Function."
   ]
  },
  {
   "cell_type": "code",
   "execution_count": 16,
   "metadata": {},
   "outputs": [
    {
     "name": "stdout",
     "output_type": "stream",
     "text": [
      "Good Morning My Son.\n",
      "Good Morning Dad.\n"
     ]
    }
   ],
   "source": [
    "class A:\n",
    "    def test1(self):\n",
    "        return 'Good Morning My Son.'\n",
    "    \n",
    "class B(A):\n",
    "    def test2(self):\n",
    "        return 'Good Morning Dad.'\n",
    "\n",
    "hello = B()\n",
    "print(hello.test1())\n",
    "print(hello.test2())"
   ]
  },
  {
   "cell_type": "markdown",
   "metadata": {},
   "source": [
    "### **In multiple inheritance, if all parents have the same<br></br> method, How does the child call every method in its <br></br>parents class?**"
   ]
  },
  {
   "cell_type": "code",
   "execution_count": 32,
   "metadata": {},
   "outputs": [
    {
     "name": "stdout",
     "output_type": "stream",
     "text": [
      "Hi Good Morning.\n",
      "Hi Good Evening.\n",
      "Hi Good Night.\n"
     ]
    }
   ],
   "source": [
    "class A:\n",
    "    def test(self):\n",
    "        print('Hi Good Morning.')\n",
    "    \n",
    "class B:\n",
    "    def test(self):\n",
    "        print('Hi Good Evening.')\n",
    "    \n",
    "class C(A,B):\n",
    "    def test(self):\n",
    "        A.test(self)\n",
    "        B.test(self)\n",
    "        print('Hi Good Night.')\n",
    "    \n",
    "\n",
    "hello = C()\n",
    "hello.test()\n"
   ]
  },
  {
   "cell_type": "markdown",
   "metadata": {},
   "source": [
    "### **Direct Call Class Without Creating Object**"
   ]
  },
  {
   "cell_type": "code",
   "execution_count": 56,
   "metadata": {},
   "outputs": [
    {
     "name": "stdout",
     "output_type": "stream",
     "text": [
      "Priya\n",
      "False\n",
      "Priya\n"
     ]
    }
   ],
   "source": [
    "class A:\n",
    "    name = 'Priya'\n",
    "    \n",
    "print(getattr(A, 'name'))\n",
    "print(isinstance(A, A))\n",
    "#Call class directly to access attribute.\n",
    "print(A.name)  "
   ]
  },
  {
   "cell_type": "markdown",
   "metadata": {},
   "source": [
    "### **Directly Create Object And Call Attributes Of Class Without Assign Any Identifier**"
   ]
  },
  {
   "cell_type": "code",
   "execution_count": 59,
   "metadata": {},
   "outputs": [
    {
     "name": "stdout",
     "output_type": "stream",
     "text": [
      "Priya\n",
      "True\n",
      "Priya\n"
     ]
    }
   ],
   "source": [
    "class A:\n",
    "    name = 'Priya'\n",
    "    \n",
    "print(getattr(A(), 'name'))\n",
    "print(isinstance(A(), A))\n",
    "#Create object directly without any object name\n",
    "print(A().name) "
   ]
  },
  {
   "cell_type": "markdown",
   "metadata": {},
   "source": [
    "### **How Initialization Works In OOPS?**\n",
    "How Initialization Data Pass To Class Function In OOPS?\n",
    "<br></br>\n",
    "\n",
    "#### **What is Initialization?**\n",
    "<p><span style ='color:red';><b>Class functions that begins with double underscore (__) are called Initialization</b></span></p>\n",
    "\n",
    "* **Initialization (or initialisation) is the assignment of an initial value for a object.**\n",
    "\n",
    "\n",
    "* **This Initialization function called whenever a new object creation.**\n",
    "\n",
    "\n",
    "* **This type of function is also called constructors in Object Oriented Programming (OOP). We <br></br>normally use it to initialize all the variables.**\n"
   ]
  },
  {
   "cell_type": "code",
   "execution_count": 127,
   "metadata": {},
   "outputs": [
    {
     "name": "stdout",
     "output_type": "stream",
     "text": [
      "Manavalan Micheal\n",
      "Celin Micheal\n"
     ]
    }
   ],
   "source": [
    "class FatherName:\n",
    "    def __init__(self, fname):\n",
    "        self.fname = fname\n",
    "        \n",
    "    def babyname(self, bname):\n",
    "        print(bname, self.fname)\n",
    "        \n",
    "son = FatherName('Micheal')\n",
    "daughter = FatherName('Micheal')\n",
    "son.babyname('Manavalan')\n",
    "daughter.babyname('Celin')"
   ]
  },
  {
   "cell_type": "markdown",
   "metadata": {},
   "source": [
    "### **How To Trace System Call?**"
   ]
  },
  {
   "cell_type": "code",
   "execution_count": 3,
   "metadata": {},
   "outputs": [
    {
     "name": "stdout",
     "output_type": "stream",
     "text": [
      "\n"
     ]
    },
    {
     "name": "stderr",
     "output_type": "stream",
     "text": [
      "execve(\"/bin/bash\", [\"bash\", \"-c\", \"awk '{print toupper(bash)}' < <(\"...], 0x7ffc766c3c38 /* 69 vars */) = 0\n",
      "read(3, \"\\177ELF\\2\\1\\1\\0\\0\\0\\0\\0\\0\\0\\0\\0\\3\\0>\\0\\1\\0\\0\\0\\220\\311\\0\\0\\0\\0\\0\\0\"..., 832) = 832\n",
      "read(3, \"\\177ELF\\2\\1\\1\\0\\0\\0\\0\\0\\0\\0\\0\\0\\3\\0>\\0\\1\\0\\0\\0P\\16\\0\\0\\0\\0\\0\\0\"..., 832) = 832\n",
      "read(3, \"\\177ELF\\2\\1\\1\\3\\0\\0\\0\\0\\0\\0\\0\\0\\3\\0>\\0\\1\\0\\0\\0\\260\\34\\2\\0\\0\\0\\0\\0\"..., 832) = 832\n",
      "strace: Process 20866 attached\n",
      "[pid 20866] dup2(3, 63)                 = 63\n",
      "[pid 20866] dup2(3, 0)                  = 0\n",
      "[pid 20866] execve(\"/usr/bin/awk\", [\"awk\", \"{print toupper(bash)}\"], 0x55ae7a83d260 /* 69 vars */strace: Process 20867 attached\n",
      " <unfinished ...>\n",
      "[pid 20867] dup2(4, 1)                  = 1\n",
      "[pid 20867] write(1, \"Cesar Rizzo\\n\", 12) = 12\n",
      "[pid 20867] +++ exited with 0 +++\n",
      "[pid 20866] <... execve resumed> )      = 0\n",
      "[pid 20866] --- SIGCHLD {si_signo=SIGCHLD, si_code=CLD_EXITED, si_pid=20867, si_uid=1000, si_status=0, si_utime=0, si_stime=0} ---\n",
      "[pid 20866] read(3, \"\\177ELF\\2\\1\\1\\3\\0\\0\\0\\0\\0\\0\\0\\0\\3\\0>\\0\\1\\0\\0\\0\\200\\272\\0\\0\\0\\0\\0\\0\"..., 832) = 832\n",
      "[pid 20866] read(3, \"\\177ELF\\2\\1\\1\\3\\0\\0\\0\\0\\0\\0\\0\\0\\3\\0>\\0\\1\\0\\0\\0\\260\\34\\2\\0\\0\\0\\0\\0\"..., 832) = 832\n",
      "[pid 20866] read(0, \"Cesar Rizzo\\n\", 4096) = 12\n",
      "[pid 20866] read(0, \"\", 4084)           = 0\n",
      "[pid 20866] write(1, \"\\n\", 1)           = 1\n",
      "[pid 20866] +++ exited with 0 +++\n",
      "--- SIGCHLD {si_signo=SIGCHLD, si_code=CLD_EXITED, si_pid=20866, si_uid=1000, si_status=0, si_utime=0, si_stime=0} ---\n",
      "+++ exited with 0 +++\n"
     ]
    }
   ],
   "source": [
    "%%bash\n",
    "\n",
    "strace -f -e open,read,write,dup2,unlink,execve bash -c \"awk '{print toupper($0)}' < <(echo 'Cesar Rizzo' )\""
   ]
  },
  {
   "cell_type": "markdown",
   "metadata": {},
   "source": [
    "### **How To Collect fstab Entries And Store Into CSV?**"
   ]
  },
  {
   "cell_type": "code",
   "execution_count": 1,
   "metadata": {},
   "outputs": [],
   "source": [
    "%%bash\n",
    "\n",
    "echo \"Device,Mount-Point,FS-Type,Options,Dump,Pass-Num\"\\\n",
    "> fstab.csv\n",
    "grep \"^UUID.*\" /etc/fstab | sed -r 's/\\s+/,/g'>> fstab.csv"
   ]
  },
  {
   "cell_type": "code",
   "execution_count": 2,
   "metadata": {},
   "outputs": [],
   "source": [
    "%%python3\n",
    "\n",
    "from pathlib import Path\n",
    "import csv\n",
    "\n",
    "dpath = Path('/etc/')\n",
    "fstab = (dpath/'fstab').read_text().splitlines()\n",
    "fs = [x.split() for x in fstab if x.startswith('UUID')]\n",
    "fields = ['Device','Mount-Point','FS-Type','Options',\n",
    "          'Dump','Pass-Num']\n",
    "\n",
    "with open('fstab.csv', 'w', newline ='') as csvfile:\n",
    "    wrih = csv.DictWriter(csvfile, fields)\n",
    "    wrir = csv.writer(csvfile)\n",
    "    wrih.writeheader()\n",
    "    wrir.writerows(fs)"
   ]
  },
  {
   "cell_type": "markdown",
   "metadata": {},
   "source": [
    "### **How To List Modified Files Between Specific Range Of Days?**\n",
    "\n",
    "**Here, I list modified files Apr 08 to Apr 10.**"
   ]
  },
  {
   "cell_type": "code",
   "execution_count": 25,
   "metadata": {},
   "outputs": [
    {
     "name": "stdout",
     "output_type": "stream",
     "text": [
      "/home/mana/Work/map.txt\n",
      "/home/mana/Work/log_report.csv\n"
     ]
    }
   ],
   "source": [
    "%%bash\n",
    "\n",
    "find /home/mana/Work/ -type f -newermt 20200408 \\! \\\n",
    "-newermt 20200410"
   ]
  },
  {
   "cell_type": "code",
   "execution_count": 97,
   "metadata": {},
   "outputs": [
    {
     "name": "stdout",
     "output_type": "stream",
     "text": [
      "08-04-2020 => /home/mana/Work/map.txt\n",
      "08-04-2020 => /home/mana/Work/log_report.csv\n"
     ]
    }
   ],
   "source": [
    "%%python3\n",
    "\n",
    "from datetime import datetime\n",
    "from pathlib import Path\n",
    "\n",
    "start_day = datetime.strptime('08/4/2020 00',\"%d/%m/%Y %H\")\n",
    "end_day = datetime.strptime('10/4/2020 00',\"%d/%m/%Y %H\")\n",
    "files = Path('/home/mana/Work/')\n",
    "ftime = [(datetime.fromtimestamp(i.stat()[-2]),i) \n",
    "         for i in files.iterdir() if i.is_file()]\n",
    "\n",
    "for x,y in ftime:\n",
    "    if start_day < x < end_day:\n",
    "        print(f'{x:%d-%m-%Y} => {y}')"
   ]
  },
  {
   "cell_type": "markdown",
   "metadata": {},
   "source": [
    "### **How To List Last 12 hrs Modified Files?**"
   ]
  },
  {
   "cell_type": "code",
   "execution_count": 26,
   "metadata": {},
   "outputs": [
    {
     "name": "stdout",
     "output_type": "stream",
     "text": [
      "/home/mana/Work/eggs.csv\n",
      "/home/mana/Work/name.txt\n"
     ]
    }
   ],
   "source": [
    "%%bash\n",
    "\n",
    "find ~/Work -type f -mtime -0.5"
   ]
  },
  {
   "cell_type": "code",
   "execution_count": 27,
   "metadata": {},
   "outputs": [
    {
     "name": "stdout",
     "output_type": "stream",
     "text": [
      "14-04-2020 20:28 => /home/mana/Work/eggs.csv\n",
      "14-04-2020 20:28 => /home/mana/Work/name.txt\n"
     ]
    }
   ],
   "source": [
    "%%python3\n",
    "\n",
    "from datetime import datetime, timedelta\n",
    "from pathlib import Path\n",
    "\n",
    "now = datetime.now()\n",
    "last_12 = datetime.now() - timedelta(hours = 12)\n",
    "files = Path('/home/mana/Work/')\n",
    "ftime = [(datetime.fromtimestamp(i.stat()[-2]),i) \n",
    "         for i in files.iterdir() if i.is_file()]\n",
    "\n",
    "for x,y in ftime:\n",
    "    if last_12 < x < now:\n",
    "        print(f'{x:%d-%m-%Y %H:%M} => {y}')"
   ]
  },
  {
   "cell_type": "markdown",
   "metadata": {},
   "source": [
    "### **How To Quickly Take Backup An File?**"
   ]
  },
  {
   "cell_type": "code",
   "execution_count": 44,
   "metadata": {},
   "outputs": [
    {
     "name": "stdout",
     "output_type": "stream",
     "text": [
      "/home/mana/Work/port.py\r\n"
     ]
    }
   ],
   "source": [
    "!ls -1 ~/Work/port*"
   ]
  },
  {
   "cell_type": "code",
   "execution_count": 46,
   "metadata": {},
   "outputs": [],
   "source": [
    "%%bash\n",
    "\n",
    "cp ~/Work/port.py{,-bkp}"
   ]
  },
  {
   "cell_type": "code",
   "execution_count": 47,
   "metadata": {},
   "outputs": [
    {
     "name": "stdout",
     "output_type": "stream",
     "text": [
      "/home/mana/Work/port.py\r\n",
      "/home/mana/Work/port.py-bkp\r\n"
     ]
    }
   ],
   "source": [
    "!ls -1 ~/Work/port.*"
   ]
  },
  {
   "cell_type": "markdown",
   "metadata": {},
   "source": [
    "### **How To Combine Two Unicode Point To Form New Character?**\n",
    "\n",
    "Here, I used Tamil Language 'ழ்'. It has two unicode point. You may use your language. <br>But Charcter should be 2 unicode point."
   ]
  },
  {
   "cell_type": "markdown",
   "metadata": {},
   "source": [
    "#### **Collect Unicode Point**"
   ]
  },
  {
   "cell_type": "code",
   "execution_count": 30,
   "metadata": {},
   "outputs": [
    {
     "data": {
      "text/plain": [
       "['0xbb4', '0xbcd']"
      ]
     },
     "execution_count": 30,
     "metadata": {},
     "output_type": "execute_result"
    }
   ],
   "source": [
    " [hex(ord(i)) for i in 'ழ்']"
   ]
  },
  {
   "cell_type": "markdown",
   "metadata": {},
   "source": [
    "#### **Print Characters**"
   ]
  },
  {
   "cell_type": "code",
   "execution_count": 32,
   "metadata": {},
   "outputs": [
    {
     "data": {
      "text/plain": [
       "'ழ'"
      ]
     },
     "execution_count": 32,
     "metadata": {},
     "output_type": "execute_result"
    }
   ],
   "source": [
    "chr(0xbb4)"
   ]
  },
  {
   "cell_type": "code",
   "execution_count": 33,
   "metadata": {},
   "outputs": [
    {
     "data": {
      "text/plain": [
       "'்'"
      ]
     },
     "execution_count": 33,
     "metadata": {},
     "output_type": "execute_result"
    }
   ],
   "source": [
    "chr(0xbcd)"
   ]
  },
  {
   "cell_type": "markdown",
   "metadata": {},
   "source": [
    "#### **Combine Two Unicode Point**"
   ]
  },
  {
   "cell_type": "code",
   "execution_count": 34,
   "metadata": {},
   "outputs": [
    {
     "data": {
      "text/plain": [
       "'ழ்'"
      ]
     },
     "execution_count": 34,
     "metadata": {},
     "output_type": "execute_result"
    }
   ],
   "source": [
    "chr(0xbb4) + chr(0xbcd)"
   ]
  },
  {
   "cell_type": "markdown",
   "metadata": {},
   "source": [
    "### **How This Command(awk NF=NF RS= OFS=) Works?**"
   ]
  },
  {
   "cell_type": "markdown",
   "metadata": {},
   "source": [
    "**Number of Fileds(NF):**<br></br>\n",
    "NF= Number of fileds overwrite to *NF*\n",
    "\n",
    "\n",
    "**Row Separator(RS):**<br></br>\n",
    "RS =  *None*<br></br>\n",
    "Actually Default Row separtor \\n(newline).<br></br>\n",
    "Here we changed to None.\n",
    "\n",
    "\n",
    "**Output Filed Separator(OFS):**<br></br>\n",
    "OFS = *None*<br></br>\n",
    "Default Filed Separator \\s(Whitespace).<br></br>\n",
    "Here we changed to None."
   ]
  },
  {
   "cell_type": "code",
   "execution_count": 15,
   "metadata": {},
   "outputs": [
    {
     "name": "stdout",
     "output_type": "stream",
     "text": [
      "1\n",
      "2\n",
      "3\n"
     ]
    }
   ],
   "source": [
    "%%bash\n",
    "\n",
    "echo -e \"1\\n2\\n3\" | awk NF=NF"
   ]
  },
  {
   "cell_type": "code",
   "execution_count": 17,
   "metadata": {},
   "outputs": [
    {
     "name": "stdout",
     "output_type": "stream",
     "text": [
      "1 2 3\n"
     ]
    }
   ],
   "source": [
    "%%bash\n",
    "\n",
    "echo -e \"1\\n2\\n3\" | awk NF=NF RS="
   ]
  },
  {
   "cell_type": "code",
   "execution_count": 19,
   "metadata": {},
   "outputs": [
    {
     "name": "stdout",
     "output_type": "stream",
     "text": [
      "123\n"
     ]
    }
   ],
   "source": [
    "%%bash\n",
    "\n",
    "echo -e \"1\\n2\\n3\" | awk NF=NF RS= OFS="
   ]
  },
  {
   "cell_type": "markdown",
   "metadata": {},
   "source": [
    "### **How To Draw Repeated Character?**"
   ]
  },
  {
   "cell_type": "code",
   "execution_count": 114,
   "metadata": {},
   "outputs": [
    {
     "name": "stdout",
     "output_type": "stream",
     "text": [
      "==================================================\n"
     ]
    }
   ],
   "source": [
    "%%bash\n",
    "\n",
    "printf \"%0.s=\" {1..50}; echo"
   ]
  },
  {
   "cell_type": "code",
   "execution_count": 31,
   "metadata": {},
   "outputs": [
    {
     "name": "stdout",
     "output_type": "stream",
     "text": [
      "==================================================\n"
     ]
    }
   ],
   "source": [
    "%%bash\n",
    "\n",
    "yes \"=\" | head -50 | tr -d '\\n'; echo"
   ]
  },
  {
   "cell_type": "code",
   "execution_count": 90,
   "metadata": {},
   "outputs": [
    {
     "name": "stdout",
     "output_type": "stream",
     "text": [
      "==================================================\n"
     ]
    }
   ],
   "source": [
    "%%python3\n",
    "\n",
    "print('='*50)"
   ]
  },
  {
   "cell_type": "markdown",
   "metadata": {},
   "source": [
    "### **How To Convert Hex To Decimal?**"
   ]
  },
  {
   "cell_type": "code",
   "execution_count": 98,
   "metadata": {},
   "outputs": [
    {
     "name": "stdout",
     "output_type": "stream",
     "text": [
      "65\n"
     ]
    }
   ],
   "source": [
    "print(0x41)"
   ]
  },
  {
   "cell_type": "code",
   "execution_count": 100,
   "metadata": {},
   "outputs": [
    {
     "data": {
      "text/plain": [
       "' 65'"
      ]
     },
     "execution_count": 100,
     "metadata": {},
     "output_type": "execute_result"
    }
   ],
   "source": [
    "f'{0x41: d}'"
   ]
  },
  {
   "cell_type": "markdown",
   "metadata": {},
   "source": [
    "### **Python Simple Calculator**\n",
    "**You can add,sub,mul,div more than 2 numbers**\n",
    "\n",
    "<p style=\"color:red\";><b>Note:</b></p> \n",
    "\n",
    "**This is Prototype model. You can made(sub,mul,div) or<br></br> Scientific calculator.**"
   ]
  },
  {
   "cell_type": "code",
   "execution_count": 58,
   "metadata": {},
   "outputs": [
    {
     "name": "stdout",
     "output_type": "stream",
     "text": [
      "Enter Numbers: 12+34.548+25+2.7+1000\n",
      "Add Multiple Numbers: \n",
      " 1074.2\n"
     ]
    }
   ],
   "source": [
    "from operator import add,sub,mul,truediv\n",
    "from functools import reduce\n",
    "from re import sub\n",
    "\n",
    "enter_num = input(\"Enter Numbers: \")\n",
    "inp = sub(r'(\\+|-|\\*|/)',' ',enter_num)\n",
    "num = [int(i) if not '.' in i  else float(i)\n",
    "       for i in inp.split()]\n",
    "\n",
    "print(\"Add Multiple Numbers: \")\n",
    "print(f'{reduce(add, num): .1f}')"
   ]
  },
  {
   "cell_type": "markdown",
   "metadata": {},
   "source": [
    "### **Convert Integer Number To Octal, Hex**"
   ]
  },
  {
   "cell_type": "code",
   "execution_count": 82,
   "metadata": {},
   "outputs": [
    {
     "name": "stdout",
     "output_type": "stream",
     "text": [
      "Octal: 245\n",
      "Hex: A5\n"
     ]
    }
   ],
   "source": [
    "%%bash\n",
    "\n",
    "printf \"Octal: %o\\n\" 165\n",
    "printf \"Hex: %X\\n\" 165"
   ]
  },
  {
   "cell_type": "code",
   "execution_count": 93,
   "metadata": {},
   "outputs": [
    {
     "name": "stdout",
     "output_type": "stream",
     "text": [
      " 245\n",
      " A5\n"
     ]
    }
   ],
   "source": [
    "%%python3\n",
    "\n",
    "print(f'{165: o}')\n",
    "print(f'{165: X}')"
   ]
  },
  {
   "cell_type": "markdown",
   "metadata": {},
   "source": [
    "### **How To Get 10 Days Back Dayname?**"
   ]
  },
  {
   "cell_type": "code",
   "execution_count": 71,
   "metadata": {},
   "outputs": [
    {
     "name": "stdout",
     "output_type": "stream",
     "text": [
      "Monday\n"
     ]
    }
   ],
   "source": [
    "%%python3\n",
    "\n",
    "from datetime import datetime, timedelta\n",
    "\n",
    "backdat = (datetime.today() - timedelta(days = 10))\n",
    "print(backdat.strftime(\"%A\"))"
   ]
  },
  {
   "cell_type": "code",
   "execution_count": 70,
   "metadata": {},
   "outputs": [
    {
     "name": "stdout",
     "output_type": "stream",
     "text": [
      "Monday\n"
     ]
    }
   ],
   "source": [
    "%%bash\n",
    "\n",
    "date +\"%A\" -d \"-10 day\""
   ]
  },
  {
   "cell_type": "markdown",
   "metadata": {},
   "source": [
    "### **Whatis exec?**"
   ]
  },
  {
   "cell_type": "code",
   "execution_count": 37,
   "metadata": {},
   "outputs": [
    {
     "name": "stdout",
     "output_type": "stream",
     "text": [
      "exec (3)             - execute a file\n"
     ]
    }
   ],
   "source": [
    "%%bash\n",
    "\n",
    "whatis exec"
   ]
  },
  {
   "cell_type": "code",
   "execution_count": 47,
   "metadata": {},
   "outputs": [
    {
     "name": "stdout",
     "output_type": "stream",
     "text": [
      "EXEC(3)                    Linux Programmer's Manual                   EXEC(3)\r\n",
      "\r\n",
      "N\bNA\bAM\bME\bE\r\n",
      "       execl, execlp, execle, execv, execvp, execvpe - execute a file\r\n",
      "\r\n",
      "S\bSY\bYN\bNO\bOP\bPS\bSI\bIS\bS\r\n",
      "       #\b#i\bin\bnc\bcl\blu\bud\bde\be <\b<u\bun\bni\bis\bst\btd\bd.\b.h\bh>\b>\r\n",
      "\r\n",
      "       e\bex\bxt\bte\ber\brn\bn c\bch\bha\bar\br *\b**\b*e\ben\bnv\bvi\bir\bro\bon\bn;\b;\r\n",
      "\r\n",
      "       i\bin\bnt\bt e\bex\bxe\bec\bcl\bl(\b(c\bco\bon\bns\bst\bt c\bch\bha\bar\br *\b*_\bp_\ba_\bt_\bh,\b, c\bco\bon\bns\bst\bt c\bch\bha\bar\br *\b*_\ba_\br_\bg,\b, .\b..\b..\b.\r\n",
      "                       /\b/*\b* (\b(c\bch\bha\bar\br  *\b*)\b) N\bNU\bUL\bLL\bL *\b*/\b/)\b);\b;\r\n",
      "       i\bin\bnt\bt e\bex\bxe\bec\bcl\blp\bp(\b(c\bco\bon\bns\bst\bt c\bch\bha\bar\br *\b*_\bf_\bi_\bl_\be,\b, c\bco\bon\bns\bst\bt c\bch\bha\bar\br *\b*_\ba_\br_\bg,\b, .\b..\b..\b.\r\n",
      "                       /\b/*\b* (\b(c\bch\bha\bar\br  *\b*)\b) N\bNU\bUL\bLL\bL *\b*/\b/)\b);\b;\r\n",
      "       i\bin\bnt\bt e\bex\bxe\bec\bcl\ble\be(\b(c\bco\bon\bns\bst\bt c\bch\bha\bar\br *\b*_\bp_\ba_\bt_\bh,\b, c\bco\bon\bns\bst\bt c\bch\bha\bar\br *\b*_\ba_\br_\bg,\b, .\b..\b..\b.\r\n",
      "                       /\b/*\b*,\b, (\b(c\bch\bha\bar\br *\b*)\b) N\bNU\bUL\bLL\bL,\b, c\bch\bha\bar\br *\b* c\bco\bon\bns\bst\bt _\be_\bn_\bv_\bp[\b[]\b] *\b*/\b/)\b);\b;\r\n",
      "       i\bin\bnt\bt e\bex\bxe\bec\bcv\bv(\b(c\bco\bon\bns\bst\bt c\bch\bha\bar\br *\b*_\bp_\ba_\bt_\bh,\b, c\bch\bha\bar\br *\b*c\bco\bon\bns\bst\bt _\ba_\br_\bg_\bv[\b[]\b])\b);\b;\r\n",
      "       i\bin\bnt\bt e\bex\bxe\bec\bcv\bvp\bp(\b(c\bco\bon\bns\bst\bt c\bch\bha\bar\br *\b*_\bf_\bi_\bl_\be,\b, c\bch\bha\bar\br *\b*c\bco\bon\bns\bst\bt _\ba_\br_\bg_\bv[\b[]\b])\b);\b;\r\n",
      "       i\bin\bnt\bt e\bex\bxe\bec\bcv\bvp\bpe\be(\b(c\bco\bon\bns\bst\bt c\bch\bha\bar\br *\b*_\bf_\bi_\bl_\be,\b, c\bch\bha\bar\br *\b*c\bco\bon\bns\bst\bt _\ba_\br_\bg_\bv[\b[]\b],\b,\r\n",
      "                       c\bch\bha\bar\br *\b*c\bco\bon\bns\bst\bt _\be_\bn_\bv_\bp[\b[]\b])\b);\b;\r\n",
      "\r\n",
      "   Feature Test Macro Requirements for glibc (see f\bfe\bea\bat\btu\bur\bre\be_\b_t\bte\bes\bst\bt_\b_m\bma\bac\bcr\bro\bos\bs(7)):\r\n",
      "\r\n",
      "       e\bex\bxe\bec\bcv\bvp\bpe\be(): _GNU_SOURCE\r\n",
      "\r\n",
      "D\bDE\bES\bSC\bCR\bRI\bIP\bPT\bTI\bIO\bON\bN\r\n",
      "       The  e\bex\bxe\bec\bc() family of functions replaces the current process image with\r\n",
      "       a new process image.  The functions described in this manual  page  are\r\n",
      "       front-ends  for e\bex\bxe\bec\bcv\bve\be(2).  (See the manual page for e\bex\bxe\bec\bcv\bve\be(2) for fur‐\r\n",
      "       ther details about the replacement of the current process image.)\r\n",
      "\r\n",
      "       The initial argument for these functions is the name of a file that  is\r\n",
      "       to be executed.\r\n",
      "\r\n",
      "       The  _\bc_\bo_\bn_\bs_\bt  _\bc_\bh_\ba_\br _\b*_\ba_\br_\bg and subsequent ellipses in the e\bex\bxe\bec\bcl\bl(), e\bex\bxe\bec\bcl\blp\bp(),\r\n",
      "       and e\bex\bxe\bec\bcl\ble\be() functions can be thought of  as  _\ba_\br_\bg_\b0,  _\ba_\br_\bg_\b1,  ...,  _\ba_\br_\bg_\bn.\r\n",
      "       Together  they  describe  a list of one or more pointers to null-termi‐\r\n",
      "       nated strings that represent the argument list available  to  the  exe‐\r\n",
      "       cuted  program.  The first argument, by convention, should point to the\r\n",
      "       filename associated with the file being executed.  The  list  of  argu‐\r\n",
      "       ments  _\bm_\bu_\bs_\bt be terminated by a null pointer, and, since these are vari‐\r\n",
      "       adic functions, this pointer must be cast _\b(_\bc_\bh_\ba_\br _\b*_\b) _\bN_\bU_\bL_\bL.\r\n",
      "\r\n",
      "       The e\bex\bxe\bec\bcv\bv(), e\bex\bxe\bec\bcv\bvp\bp(), and e\bex\bxe\bec\bcv\bvp\bpe\be()  functions  provide  an  array  of\r\n",
      "       pointers  to  null-terminated  strings that represent the argument list\r\n",
      "       available to the new  program.   The  first  argument,  by  convention,\r\n",
      "       should  point  to the filename associated with the file being executed.\r\n",
      "       The array of pointers _\bm_\bu_\bs_\bt be terminated by a null pointer.\r\n",
      "\r\n",
      "       The e\bex\bxe\bec\bcl\ble\be() and e\bex\bxe\bec\bcv\bvp\bpe\be() functions allow the caller  to  specify  the\r\n",
      "       environment  of  the  executed program via the argument _\be_\bn_\bv_\bp.  The _\be_\bn_\bv_\bp\r\n",
      "       argument is an array of pointers to null-terminated strings and _\bm_\bu_\bs_\bt be\r\n",
      "       terminated by a null pointer.  The other functions take the environment\r\n",
      "       for the new process image from the external  variable  _\be_\bn_\bv_\bi_\br_\bo_\bn  in  the\r\n",
      "       calling process.\r\n",
      "\r\n",
      "   S\bSp\bpe\bec\bci\bia\bal\bl s\bse\bem\bma\ban\bnt\bti\bic\bcs\bs f\bfo\bor\br e\bex\bxe\bec\bcl\blp\bp(\b()\b) a\ban\bnd\bd e\bex\bxe\bec\bcv\bvp\bp(\b()\b)\r\n",
      "       The  e\bex\bxe\bec\bcl\blp\bp(),  e\bex\bxe\bec\bcv\bvp\bp(), and e\bex\bxe\bec\bcv\bvp\bpe\be() functions duplicate the actions\r\n",
      "       of the shell in searching for an executable file if the specified file‐\r\n",
      "       name does not contain a slash (/) character.  The file is sought in the\r\n",
      "       colon-separated list of directory pathnames specified in the P\bPA\bAT\bTH\bH envi‐\r\n",
      "       ronment  variable.   If  this  variable  isn't  defined,  the path list\r\n",
      "       defaults to a list that includes  the  directories  returned  by  _\bc_\bo_\bn_\bf_\b‐\r\n",
      "       _\bs_\bt_\br_\b(_\b__\bC_\bS_\b__\bP_\bA_\bT_\bH_\b)  (which  typically returns the value \"/bin:/usr/bin\") and\r\n",
      "       possibly also the current working  directory;  see  NOTES  for  further\r\n",
      "       details.\r\n",
      "\r\n",
      "       If  the  specified  filename  includes  a slash character, then P\bPA\bAT\bTH\bH is\r\n",
      "       ignored, and the file at the specified pathname is executed.\r\n",
      "\r\n",
      "       In addition, certain errors are treated specially.\r\n",
      "\r\n",
      "       If permission is denied for a file (the attempted e\bex\bxe\bec\bcv\bve\be(2) failed with\r\n",
      "       the  error E\bEA\bAC\bCC\bCE\bES\bS), these functions will continue searching the rest of\r\n",
      "       the search path.  If no other file is found, however, they will  return\r\n",
      "       with _\be_\br_\br_\bn_\bo set to E\bEA\bAC\bCC\bCE\bES\bS.\r\n",
      "\r\n",
      "       If  the  header  of  a  file  isn't recognized (the attempted e\bex\bxe\bec\bcv\bve\be(2)\r\n",
      "       failed with the error E\bEN\bNO\bOE\bEX\bXE\bEC\bC), these functions will execute the  shell\r\n",
      "       (_\b/_\bb_\bi_\bn_\b/_\bs_\bh)  with  the  path of the file as its first argument.  (If this\r\n",
      "       attempt fails, no further searching is done.)\r\n",
      "\r\n",
      "R\bRE\bET\bTU\bUR\bRN\bN V\bVA\bAL\bLU\bUE\bE\r\n",
      "       The e\bex\bxe\bec\bc() functions return only if an error has occurred.  The  return\r\n",
      "       value is -1, and _\be_\br_\br_\bn_\bo is set to indicate the error.\r\n",
      "\r\n",
      "E\bER\bRR\bRO\bOR\bRS\bS\r\n",
      "       All  of  these  functions  may fail and set _\be_\br_\br_\bn_\bo for any of the errors\r\n",
      "       specified for e\bex\bxe\bec\bcv\bve\be(2).\r\n",
      "\r\n",
      "V\bVE\bER\bRS\bSI\bIO\bON\bNS\bS\r\n",
      "       The e\bex\bxe\bec\bcv\bvp\bpe\be() function first appeared in glibc 2.11.\r\n",
      "\r\n",
      "A\bAT\bTT\bTR\bRI\bIB\bBU\bUT\bTE\bES\bS\r\n",
      "       For  an  explanation  of  the  terms  used   in   this   section,   see\r\n",
      "       a\bat\btt\btr\bri\bib\bbu\but\bte\bes\bs(7).\r\n",
      "\r\n",
      "       ┌──────────────────────────────┬───────────────┬─────────────┐\r\n",
      "       │I\bIn\bnt\bte\ber\brf\bfa\bac\bce\be                     │ A\bAt\btt\btr\bri\bib\bbu\but\bte\be     │ V\bVa\bal\blu\bue\be       │\r\n",
      "       ├──────────────────────────────┼───────────────┼─────────────┤\r\n",
      "       │e\bex\bxe\bec\bcl\bl(), e\bex\bxe\bec\bcl\ble\be(), e\bex\bxe\bec\bcv\bv()    │ Thread safety │ MT-Safe     │\r\n",
      "       ├──────────────────────────────┼───────────────┼─────────────┤\r\n",
      "       │e\bex\bxe\bec\bcl\blp\bp(), e\bex\bxe\bec\bcv\bvp\bp(), e\bex\bxe\bec\bcv\bvp\bpe\be() │ Thread safety │ MT-Safe env │\r\n",
      "       └──────────────────────────────┴───────────────┴─────────────┘\r\n",
      "C\bCO\bON\bNF\bFO\bOR\bRM\bMI\bIN\bNG\bG T\bTO\bO\r\n",
      "       POSIX.1-2001, POSIX.1-2008.\r\n",
      "\r\n",
      "       The e\bex\bxe\bec\bcv\bvp\bpe\be() function is a GNU extension.\r\n",
      "\r\n",
      "N\bNO\bOT\bTE\bES\bS\r\n",
      "       The default search path (used when the environment does not contain the\r\n",
      "       variable P\bPA\bAT\bTH\bH) shows  some  variation  across  systems.   It  generally\r\n",
      "       includes  _\b/_\bb_\bi_\bn  and  _\b/_\bu_\bs_\br_\b/_\bb_\bi_\bn  (in that order) and may also include the\r\n",
      "       current working directory.  On some other systems, the current  working\r\n",
      "       is  included  after _\b/_\bb_\bi_\bn and _\b/_\bu_\bs_\br_\b/_\bb_\bi_\bn, as an anti-Trojan-horse measure.\r\n",
      "       The glibc implementation long followed the  traditional  default  where\r\n",
      "       the  current  working  directory is included at the start of the search\r\n",
      "       path.  However, some code refactoring during the development  of  glibc\r\n",
      "       2.24 caused the current working directory to be dropped altogether from\r\n",
      "       the default search path.  This accidental behavior change is considered\r\n",
      "       mildly beneficial, and won't be reverted.\r\n",
      "\r\n",
      "       The  behavior of e\bex\bxe\bec\bcl\blp\bp() and e\bex\bxe\bec\bcv\bvp\bp() when errors occur while attempt‐\r\n",
      "       ing to execute the file is historic practice, but has not traditionally\r\n",
      "       been  documented  and is not specified by the POSIX standard.  BSD (and\r\n",
      "       possibly other systems) do an automatic sleep and retry if  E\bET\bTX\bXT\bTB\bBS\bSY\bY  is\r\n",
      "       encountered.  Linux treats it as a hard error and returns immediately.\r\n",
      "\r\n",
      "       Traditionally,  the  functions e\bex\bxe\bec\bcl\blp\bp() and e\bex\bxe\bec\bcv\bvp\bp() ignored all errors\r\n",
      "       except for the ones described above and E\bEN\bNO\bOM\bME\bEM\bM and  E\bE2\b2B\bBI\bIG\bG,  upon  which\r\n",
      "       they  returned.   They  now  return  if  any  error other than the ones\r\n",
      "       described above occurs.\r\n",
      "\r\n",
      "B\bBU\bUG\bGS\bS\r\n",
      "       Before glibc 2.24, e\bex\bxe\bec\bcl\bl() and e\bex\bxe\bec\bcl\ble\be() employed r\bre\bea\bal\bll\blo\boc\bc(3)  internally\r\n",
      "       and  were  consequently  not  async-signal-safe,  in  violation  of the\r\n",
      "       requirements of POSIX.1.  This was fixed in glibc 2.24.\r\n",
      "\r\n",
      "S\bSE\bEE\bE A\bAL\bLS\bSO\bO\r\n",
      "       s\bsh\bh(1), e\bex\bxe\bec\bcv\bve\be(2), e\bex\bxe\bec\bcv\bve\bea\bat\bt(2),  f\bfo\bor\brk\bk(2),  p\bpt\btr\bra\bac\bce\be(2),  f\bfe\bex\bxe\bec\bcv\bve\be(3),  s\bsy\bys\bs‐\b‐\r\n",
      "       t\bte\bem\bm(3), e\ben\bnv\bvi\bir\bro\bon\bn(7)\r\n",
      "\r\n",
      "C\bCO\bOL\bLO\bOP\bPH\bHO\bON\bN\r\n",
      "       This  page  is  part of release 4.15 of the Linux _\bm_\ba_\bn_\b-_\bp_\ba_\bg_\be_\bs project.  A\r\n",
      "       description of the project, information about reporting bugs,  and  the\r\n",
      "       latest     version     of     this    page,    can    be    found    at\r\n",
      "       https://www.kernel.org/doc/man-pages/.\r\n",
      "\r\n",
      "GNU                               2017-09-15                           EXEC(3)\r\n"
     ]
    }
   ],
   "source": [
    "!man 3 exec"
   ]
  },
  {
   "cell_type": "markdown",
   "metadata": {},
   "source": [
    "### **How To Find Empty Directories?**"
   ]
  },
  {
   "cell_type": "code",
   "execution_count": 36,
   "metadata": {},
   "outputs": [
    {
     "name": "stdout",
     "output_type": "stream",
     "text": [
      "/home/mana/Work/mana empty. This is block of commands.\n"
     ]
    }
   ],
   "source": [
    "%%bash\n",
    "\n",
    "find ~/Work/ -type d -empty -exec echo {} empty. \\\n",
    "\"This is block of commands.\" \\;"
   ]
  },
  {
   "cell_type": "code",
   "execution_count": 26,
   "metadata": {},
   "outputs": [
    {
     "name": "stdout",
     "output_type": "stream",
     "text": [
      "/home/mana/Work/mana empty.\n"
     ]
    }
   ],
   "source": [
    "%%python3\n",
    "\n",
    "from pathlib import Path\n",
    "from os import listdir\n",
    "\n",
    "dpath = Path('/home/mana/Work')\n",
    "dlist = [i for i in dpath.iterdir() if i.is_dir()]\n",
    "\n",
    "for d in dlist:\n",
    "    if len(listdir(d)) == 0:\n",
    "        print(d, 'empty.')"
   ]
  },
  {
   "cell_type": "markdown",
   "metadata": {},
   "source": [
    "### **How To Find All Empty Files In Directory?**"
   ]
  },
  {
   "cell_type": "code",
   "execution_count": 32,
   "metadata": {},
   "outputs": [
    {
     "name": "stdout",
     "output_type": "stream",
     "text": [
      "/home/mana/Work/fruit2.txt empty.\n",
      "/home/mana/Work/port.py empty.\n",
      "/home/mana/Work/port.py-bkp empty.\n",
      "/home/mana/Work/log_report.csv empty.\n"
     ]
    }
   ],
   "source": [
    "%%bash\n",
    "\n",
    "find ~/Work/ -type f -empty -exec echo {} empty. \\;"
   ]
  },
  {
   "cell_type": "code",
   "execution_count": 33,
   "metadata": {},
   "outputs": [
    {
     "name": "stdout",
     "output_type": "stream",
     "text": [
      "/home/mana/Work/fruit2.txt empty.\n",
      "/home/mana/Work/port.py empty.\n",
      "/home/mana/Work/port.py-bkp empty.\n",
      "/home/mana/Work/log_report.csv empty.\n"
     ]
    }
   ],
   "source": [
    "%%python3\n",
    "\n",
    "from pathlib import Path\n",
    "\n",
    "dpath = Path('/home/mana/Work')\n",
    "files = [i for i in dpath.iterdir() if i.is_file()]\n",
    "\n",
    "for x in files:\n",
    "    if not x.read_text():\n",
    "        print(x, 'empty.')"
   ]
  },
  {
   "cell_type": "markdown",
   "metadata": {},
   "source": [
    "### **How To Two List Comparison Works?**"
   ]
  },
  {
   "cell_type": "code",
   "execution_count": 119,
   "metadata": {},
   "outputs": [
    {
     "data": {
      "text/plain": [
       "True"
      ]
     },
     "execution_count": 119,
     "metadata": {},
     "output_type": "execute_result"
    }
   ],
   "source": [
    "[21, 7,170, 13] > [21, 7,167, 34, 12]"
   ]
  },
  {
   "cell_type": "code",
   "execution_count": 120,
   "metadata": {},
   "outputs": [
    {
     "data": {
      "text/plain": [
       "True"
      ]
     },
     "execution_count": 120,
     "metadata": {},
     "output_type": "execute_result"
    }
   ],
   "source": [
    "from itertools import zip_longest\n",
    "\n",
    "L1 = [21, 7, 170, 13]\n",
    "L2 = [21, 7, 167, 34, 12]\n",
    "pack = zip_longest(L1, L2, fillvalue = 0)\n",
    "\n",
    "def com(*args):\n",
    "    for i,j in args:\n",
    "        if i > j:\n",
    "            return True\n",
    "    return False\n",
    "        \n",
    "com(*pack)"
   ]
  },
  {
   "cell_type": "markdown",
   "metadata": {},
   "source": [
    "### **How To Two List Comparison(Less Than) Works?**"
   ]
  },
  {
   "cell_type": "code",
   "execution_count": 38,
   "metadata": {},
   "outputs": [
    {
     "data": {
      "text/plain": [
       "True"
      ]
     },
     "execution_count": 38,
     "metadata": {},
     "output_type": "execute_result"
    }
   ],
   "source": [
    "[22, 2, 15] < [22, 2,19]"
   ]
  },
  {
   "cell_type": "code",
   "execution_count": 37,
   "metadata": {},
   "outputs": [
    {
     "data": {
      "text/plain": [
       "True"
      ]
     },
     "execution_count": 37,
     "metadata": {},
     "output_type": "execute_result"
    }
   ],
   "source": [
    "from itertools import zip_longest\n",
    "\n",
    "L1 = [22, 2, 15]\n",
    "L2 = [22, 2,19]\n",
    "pack = zip_longest(L1, L2, fillvalue = 0)\n",
    "\n",
    "def com(*args):\n",
    "    for i,j in args:\n",
    "        if i < j:\n",
    "            return True\n",
    "    return False\n",
    "        \n",
    "com(*pack)"
   ]
  },
  {
   "cell_type": "markdown",
   "metadata": {},
   "source": [
    "### **How to view Last 30 Minutes Logs?**\n",
    "Python provide better solution this task rather than Bash."
   ]
  },
  {
   "cell_type": "code",
   "execution_count": null,
   "metadata": {},
   "outputs": [],
   "source": [
    "%%bash\n",
    "\n",
    "for i in {30..1}\n",
    "do\n",
    "min=$(date +\"%b %d %H:%M\" -d \"-$i minute\")\n",
    "sed -n \"/$min/p\" /var/log/syslog\n",
    "done"
   ]
  },
  {
   "cell_type": "code",
   "execution_count": 130,
   "metadata": {},
   "outputs": [
    {
     "name": "stdout",
     "output_type": "stream",
     "text": [
      "Apr 19 02:33:04 joe budgie-panel[1670]: wnck_window_is_skip_pager: assertion 'WNCK_IS_WINDOW (window)' failed\n",
      "Apr 19 02:33:04 joe budgie-panel[1670]: wnck_window_is_skip_tasklist: assertion 'WNCK_IS_WINDOW (window)' failed\n",
      "Apr 19 02:33:04 joe budgie-panel[1670]: wnck_window_get_geometry: assertion 'WNCK_IS_WINDOW (window)' failed\n",
      "Apr 19 02:33:53 joe plank.desktop[1703]: [23287:23287:0419/023353.919292:ERROR:CONSOLE(0)] \"Unchecked runtime.lastError: Could not find guest\", source: chrome-extension://mpognobbkildjkofajifpdfhcoklimli/browser.html (0)\n",
      "Apr 19 02:33:53 joe plank.desktop[1703]: [23287:23287:0419/023353.961537:ERROR:CONSOLE(0)] \"Unchecked runtime.lastError: Could not find guest\", source: chrome-extension://mpognobbkildjkofajifpdfhcoklimli/browser.html (0)\n",
      "Apr 19 02:33:53 joe plank.desktop[1703]: [23287:23287:0419/023353.962041:ERROR:CONSOLE(0)] \"Unchecked runtime.lastError: Could not find guest\", source: chrome-extension://mpognobbkildjkofajifpdfhcoklimli/browser.html (0)\n",
      "Apr 19 02:34:52 joe plank.desktop[1703]: [23287:23287:0419/023452.141280:ERROR:CONSOLE(1)] \"WebSocket connection to 'wss://bifrost.vivaldi.com:15674/ws' failed: Error in connection establishment: net::ERR_CONNECTION_TIMED_OUT\", source: chrome-extension://mpognobbkildjkofajifpdfhcoklimli/background-bundle.js (1)\n",
      "Apr 19 02:35:01 joe CRON[3158]: (root) CMD (command -v debian-sa1 > /dev/null && debian-sa1 1 1)\n",
      "Apr 19 02:35:15 joe plank.desktop[1703]: [23287:23287:0419/023515.495801:ERROR:CONSOLE(1)] \"Uncaught (in promise) Capture cancelled\", source: chrome-extension://mpognobbkildjkofajifpdfhcoklimli/bundle.js (1)\n",
      "Apr 19 02:35:37 joe org.gnome.Nautilus[1317]: ('Handling file: ', 'file:///home/mana/Code')\n",
      "Apr 19 02:35:37 joe org.gnome.Nautilus[1317]: ('file scheme: ', 'file')\n",
      "Apr 19 02:35:37 joe org.gnome.Nautilus[1317]: RuntimeError: object at 0x7f2b9dca9b40 of type FolderColorMenu is not initialized\n",
      "Apr 19 02:36:54 joe org.gnome.Nautilus[1317]: ('Handling file: ', 'file:///home/mana/Code')\n",
      "Apr 19 02:36:54 joe org.gnome.Nautilus[1317]: ('file scheme: ', 'file')\n",
      "Apr 19 02:36:54 joe org.gnome.Nautilus[1317]: RuntimeError: object at 0x7f2b9dca9b40 of type FolderColorMenu is not initialized\n",
      "Apr 19 02:38:16 joe plank.desktop[1703]: [23287:23287:0419/023816.616565:ERROR:CONSOLE(0)] \"Unchecked runtime.lastError: Could not find guest\", source: chrome-extension://mpognobbkildjkofajifpdfhcoklimli/browser.html (0)\n",
      "Apr 19 02:38:16 joe plank.desktop[1703]: [23287:23287:0419/023816.621439:ERROR:CONSOLE(0)] \"Unchecked runtime.lastError: Could not find guest\", source: chrome-extension://mpognobbkildjkofajifpdfhcoklimli/browser.html (0)\n",
      "Apr 19 02:40:21 joe plank.desktop[1703]: [23287:23287:0419/024021.929120:ERROR:CONSOLE(1)] \"WebSocket connection to 'wss://bifrost.vivaldi.com:15674/ws' failed: Error in connection establishment: net::ERR_ADDRESS_UNREACHABLE\", source: chrome-extension://mpognobbkildjkofajifpdfhcoklimli/background-bundle.js (1)\n",
      "Apr 19 02:43:24 joe gnome-screensav[1421]: Source ID 5163 was not found when attempting to remove it\n",
      "Apr 19 02:44:24 joe org.gnome.Nautilus[1317]: ('Handling file: ', 'file:///home/mana/Code')\n",
      "Apr 19 02:44:24 joe org.gnome.Nautilus[1317]: ('file scheme: ', 'file')\n",
      "Apr 19 02:44:24 joe org.gnome.Nautilus[1317]: RuntimeError: object at 0x7f2b9dca9b40 of type FolderColorMenu is not initialized\n",
      "Apr 19 02:44:29 joe org.gnome.Nautilus[1317]: ('Handling file: ', 'file:///home/mana/Code')\n",
      "Apr 19 02:44:29 joe org.gnome.Nautilus[1317]: ('file scheme: ', 'file')\n",
      "Apr 19 02:44:29 joe org.gnome.Nautilus[1317]: RuntimeError: object at 0x7f2b9dca9b40 of type FolderColorMenu is not initialized\n",
      "Apr 19 02:45:01 joe CRON[5857]: (root) CMD (command -v debian-sa1 > /dev/null && debian-sa1 1 1)\n",
      "Apr 19 02:46:04 joe org.gnome.Nautilus[1317]: ('Handling file: ', 'file:///home/mana/Code')\n",
      "Apr 19 02:46:04 joe org.gnome.Nautilus[1317]: ('file scheme: ', 'file')\n",
      "Apr 19 02:46:04 joe org.gnome.Nautilus[1317]: RuntimeError: object at 0x7f2b9dca9b40 of type FolderColorMenu is not initialized\n",
      "Apr 19 02:47:43 joe budgie-panel[1670]: wnck_window_is_skip_pager: assertion 'WNCK_IS_WINDOW (window)' failed\n",
      "Apr 19 02:47:43 joe budgie-panel[1670]: wnck_window_is_skip_tasklist: assertion 'WNCK_IS_WINDOW (window)' failed\n",
      "Apr 19 02:47:43 joe budgie-panel[1670]: wnck_window_get_geometry: assertion 'WNCK_IS_WINDOW (window)' failed\n",
      "Apr 19 02:47:54 joe plank.desktop[1703]: [23287:23287:0419/024754.477042:ERROR:CONSOLE(1)] \"WebSocket connection to 'wss://bifrost.vivaldi.com:15674/ws' failed: Error in connection establishment: net::ERR_CONNECTION_TIMED_OUT\", source: chrome-extension://mpognobbkildjkofajifpdfhcoklimli/background-bundle.js (1)\n",
      "Apr 19 02:48:38 joe org.gnome.Nautilus[1317]: ('Handling file: ', 'file:///home/mana/Code')\n",
      "Apr 19 02:48:38 joe org.gnome.Nautilus[1317]: ('file scheme: ', 'file')\n",
      "Apr 19 02:48:38 joe org.gnome.Nautilus[1317]: RuntimeError: object at 0x7f2b9dca9b40 of type FolderColorMenu is not initialized\n",
      "Apr 19 02:49:20 joe org.gnome.Nautilus[1317]: ('Handling file: ', 'file:///home/mana/Code')\n",
      "Apr 19 02:49:20 joe org.gnome.Nautilus[1317]: ('file scheme: ', 'file')\n",
      "Apr 19 02:49:20 joe org.gnome.Nautilus[1317]: RuntimeError: object at 0x7f2b9dca9b40 of type FolderColorMenu is not initialized\n",
      "Apr 19 02:50:00 joe budgie-panel[1670]: wnck_window_is_skip_pager: assertion 'WNCK_IS_WINDOW (window)' failed\n",
      "Apr 19 02:50:00 joe budgie-panel[1670]: wnck_window_is_skip_tasklist: assertion 'WNCK_IS_WINDOW (window)' failed\n",
      "Apr 19 02:50:00 joe budgie-panel[1670]: wnck_window_get_geometry: assertion 'WNCK_IS_WINDOW (window)' failed\n",
      "Apr 19 02:50:04 joe budgie-panel[1670]: wnck_window_is_skip_pager: assertion 'WNCK_IS_WINDOW (window)' failed\n",
      "Apr 19 02:50:04 joe budgie-panel[1670]: wnck_window_is_skip_tasklist: assertion 'WNCK_IS_WINDOW (window)' failed\n",
      "Apr 19 02:50:04 joe budgie-panel[1670]: wnck_window_get_geometry: assertion 'WNCK_IS_WINDOW (window)' failed\n",
      "Apr 19 02:50:30 joe budgie-panel[1670]: wnck_window_is_skip_pager: assertion 'WNCK_IS_WINDOW (window)' failed\n",
      "Apr 19 02:50:30 joe budgie-panel[1670]: wnck_window_is_skip_tasklist: assertion 'WNCK_IS_WINDOW (window)' failed\n",
      "Apr 19 02:50:30 joe budgie-panel[1670]: wnck_window_get_geometry: assertion 'WNCK_IS_WINDOW (window)' failed\n",
      "Apr 19 02:50:49 joe budgie-panel[1670]: wnck_window_is_skip_pager: assertion 'WNCK_IS_WINDOW (window)' failed\n",
      "Apr 19 02:50:49 joe budgie-panel[1670]: wnck_window_is_skip_tasklist: assertion 'WNCK_IS_WINDOW (window)' failed\n",
      "Apr 19 02:50:49 joe budgie-panel[1670]: wnck_window_get_geometry: assertion 'WNCK_IS_WINDOW (window)' failed\n",
      "Apr 19 02:52:00 joe org.gnome.Nautilus[1317]: RuntimeError: object at 0x7f2b9dca9b40 of type FolderColorMenu is not initialized\n",
      "Apr 19 02:52:00 joe org.gnome.Nautilus[1317]: message repeated 2 times: [ RuntimeError: object at 0x7f2b9dca9b40 of type FolderColorMenu is not initialized]\n",
      "Apr 19 02:52:02 joe org.gnome.Nautilus[1317]: ('Handling file: ', 'file:///home/mana/Code/Temp')\n",
      "Apr 19 02:52:02 joe org.gnome.Nautilus[1317]: ('file scheme: ', 'file')\n",
      "Apr 19 02:52:02 joe org.gnome.Nautilus[1317]: RuntimeError: object at 0x7f2b9dca9b40 of type FolderColorMenu is not initialized\n",
      "Apr 19 02:52:06 joe org.gnome.Nautilus[1317]: message repeated 6 times: [ RuntimeError: object at 0x7f2b9dca9b40 of type FolderColorMenu is not initialized]\n",
      "Apr 19 02:52:13 joe budgie-panel[1670]: wnck_window_is_skip_pager: assertion 'WNCK_IS_WINDOW (window)' failed\n",
      "Apr 19 02:52:13 joe budgie-panel[1670]: wnck_window_is_skip_tasklist: assertion 'WNCK_IS_WINDOW (window)' failed\n",
      "Apr 19 02:52:13 joe budgie-panel[1670]: wnck_window_get_geometry: assertion 'WNCK_IS_WINDOW (window)' failed\n",
      "Apr 19 02:52:15 joe dbus-daemon[747]: [system] Activating via systemd: service name='org.freedesktop.hostname1' unit='dbus-org.freedesktop.hostname1.service' requested by ':1.892' (uid=1000 pid=4712 comm=\"/usr/bin/nautilus --gapplication-service \" label=\"unconfined\")\n",
      "Apr 19 02:52:15 joe systemd[1]: Starting Hostname Service...\n",
      "Apr 19 02:52:15 joe dbus-daemon[747]: [system] Successfully activated service 'org.freedesktop.hostname1'\n",
      "Apr 19 02:52:15 joe systemd[1]: Started Hostname Service.\n",
      "Apr 19 02:52:15 joe nautilus[4712]: _gtk_accel_group_detach: assertion 'g_slist_find (accel_group->priv->acceleratables, object) != NULL' failed\n",
      "Apr 19 02:52:15 joe org.gnome.Nautilus[1317]: RuntimeError: object at 0x7f2b9dca9b40 of type FolderColorMenu is not initialized\n",
      "Apr 19 02:52:15 joe org.gnome.Nautilus[1317]: message repeated 2 times: [ RuntimeError: object at 0x7f2b9dca9b40 of type FolderColorMenu is not initialized]\n",
      "Apr 19 02:52:34 joe org.gnome.Nautilus[1317]: ('Handling file: ', 'file:///home/mana/Code')\n",
      "Apr 19 02:52:34 joe org.gnome.Nautilus[1317]: ('file scheme: ', 'file')\n",
      "Apr 19 02:52:34 joe org.gnome.Nautilus[1317]: RuntimeError: object at 0x7f2b9dca9b40 of type FolderColorMenu is not initialized\n",
      "Apr 19 02:52:34 joe org.gnome.Nautilus[1317]: message repeated 3 times: [ RuntimeError: object at 0x7f2b9dca9b40 of type FolderColorMenu is not initialized]\n",
      "Apr 19 02:52:39 joe org.gnome.Nautilus[1317]: ('Handling file: ', 'file:///home/mana/Code/Month')\n",
      "Apr 19 02:52:39 joe org.gnome.Nautilus[1317]: ('file scheme: ', 'file')\n",
      "Apr 19 02:52:39 joe org.gnome.Nautilus[1317]: RuntimeError: object at 0x7f2b9dca9b40 of type FolderColorMenu is not initialized\n",
      "Apr 19 02:52:39 joe org.gnome.Nautilus[1317]: message repeated 3 times: [ RuntimeError: object at 0x7f2b9dca9b40 of type FolderColorMenu is not initialized]\n",
      "Apr 19 02:52:40 joe org.gnome.Nautilus[1317]: ('Handling file: ', 'file:///home/mana/Code/Month/2020')\n",
      "Apr 19 02:52:40 joe org.gnome.Nautilus[1317]: ('file scheme: ', 'file')\n",
      "Apr 19 02:52:40 joe org.gnome.Nautilus[1317]: RuntimeError: object at 0x7f2b9dca9b40 of type FolderColorMenu is not initialized\n",
      "Apr 19 02:52:42 joe org.gnome.Nautilus[1317]: message repeated 3 times: [ RuntimeError: object at 0x7f2b9dca9b40 of type FolderColorMenu is not initialized]\n",
      "Apr 19 02:52:46 joe org.gnome.Nautilus[1317]: ('Handling file: ', 'file:///home/mana/Code/Month/2020/)')\n",
      "Apr 19 02:52:46 joe org.gnome.Nautilus[1317]: ('file scheme: ', 'file')\n",
      "Apr 19 02:52:46 joe org.gnome.Nautilus[1317]: RuntimeError: object at 0x7f2b9dca9b40 of type FolderColorMenu is not initialized\n",
      "Apr 19 02:52:47 joe org.gnome.Nautilus[1317]: RuntimeError: object at 0x7f2b9dca9b40 of type FolderColorMenu is not initialized\n",
      "Apr 19 02:52:48 joe nautilus[4712]: gtk_label_set_markup: assertion 'GTK_IS_LABEL (label)' failed\n",
      "Apr 19 02:52:48 joe nautilus[4712]: gtk_revealer_set_reveal_child: assertion 'GTK_IS_REVEALER (revealer)' failed\n",
      "Apr 19 02:52:48 joe nautilus[4712]: gtk_label_set_markup: assertion 'GTK_IS_LABEL (label)' failed\n",
      "Apr 19 02:52:48 joe nautilus[4712]: gtk_revealer_set_reveal_child: assertion 'GTK_IS_REVEALER (revealer)' failed\n",
      "Apr 19 02:52:48 joe nautilus[4712]: gtk_label_set_markup: assertion 'GTK_IS_LABEL (label)' failed\n",
      "Apr 19 02:52:48 joe nautilus[4712]: gtk_revealer_set_reveal_child: assertion 'GTK_IS_REVEALER (revealer)' failed\n",
      "Apr 19 02:52:48 joe nautilus[4712]: gtk_label_set_markup: assertion 'GTK_IS_LABEL (label)' failed\n",
      "Apr 19 02:52:48 joe nautilus[4712]: gtk_revealer_set_reveal_child: assertion 'GTK_IS_REVEALER (revealer)' failed\n",
      "Apr 19 02:52:48 joe nautilus[4712]: gtk_label_set_markup: assertion 'GTK_IS_LABEL (label)' failed\n",
      "Apr 19 02:52:48 joe nautilus[4712]: gtk_revealer_set_reveal_child: assertion 'GTK_IS_REVEALER (revealer)' failed\n",
      "Apr 19 02:52:48 joe nautilus[4712]: gtk_label_set_markup: assertion 'GTK_IS_LABEL (label)' failed\n",
      "Apr 19 02:52:48 joe nautilus[4712]: gtk_revealer_set_reveal_child: assertion 'GTK_IS_REVEALER (revealer)' failed\n",
      "Apr 19 02:52:48 joe nautilus[4712]: gtk_label_set_markup: assertion 'GTK_IS_LABEL (label)' failed\n",
      "Apr 19 02:52:48 joe nautilus[4712]: gtk_revealer_set_reveal_child: assertion 'GTK_IS_REVEALER (revealer)' failed\n",
      "Apr 19 02:52:48 joe org.gnome.Nautilus[1317]: RuntimeError: object at 0x7f2b9dca9b40 of type FolderColorMenu is not initialized\n",
      "Apr 19 02:52:49 joe org.gnome.Nautilus[1317]: RuntimeError: object at 0x7f2b9dca9b40 of type FolderColorMenu is not initialized\n",
      "Apr 19 02:52:55 joe nautilus[4712]: gtk_revealer_set_reveal_child: assertion 'GTK_IS_REVEALER (revealer)' failed\n",
      "Apr 19 02:52:55 joe nautilus[4712]: message repeated 6 times: [ gtk_revealer_set_reveal_child: assertion 'GTK_IS_REVEALER (revealer)' failed]\n",
      "Apr 19 02:53:02 joe plank.desktop[1703]: [23287:23287:0419/025302.189371:ERROR:CONSOLE(0)] \"Unchecked runtime.lastError: Cannot access \"about:blank\" at origin \"http://localhost:8888\". Extension must have permission to access the frame's origin, and matchAboutBlank must be true.\", source: chrome-extension://mpognobbkildjkofajifpdfhcoklimli/browser.html (0)\n",
      "Apr 19 02:53:35 joe org.gnome.Nautilus[1317]: RuntimeError: object at 0x7f2b9dca9b40 of type FolderColorMenu is not initialized\n",
      "Apr 19 02:54:45 joe org.gnome.Nautilus[1317]: message repeated 5 times: [ RuntimeError: object at 0x7f2b9dca9b40 of type FolderColorMenu is not initialized]\n",
      "Apr 19 02:55:01 joe CRON[8700]: (root) CMD (command -v debian-sa1 > /dev/null && debian-sa1 1 1)\n",
      "Apr 19 02:55:08 joe plank.desktop[1703]: [23287:23287:0419/025508.652896:ERROR:CONSOLE(1)] \"WebSocket connection to 'wss://bifrost.vivaldi.com:15674/ws' failed: Error in connection establishment: net::ERR_CONNECTION_TIMED_OUT\", source: chrome-extension://mpognobbkildjkofajifpdfhcoklimli/background-bundle.js (1)\n",
      "Apr 19 02:56:51 joe plank.desktop[1703]: [23287:23287:0419/025651.678401:ERROR:CONSOLE(0)] \"Unchecked runtime.lastError: Could not find guest\", source: chrome-extension://mpognobbkildjkofajifpdfhcoklimli/browser.html (0)\n",
      "Apr 19 02:56:51 joe plank.desktop[1703]: [23287:23287:0419/025651.689082:ERROR:CONSOLE(0)] \"Unchecked runtime.lastError: Could not find guest\", source: chrome-extension://mpognobbkildjkofajifpdfhcoklimli/browser.html (0)\n",
      "Apr 19 02:56:51 joe plank.desktop[1703]: [23287:23287:0419/025651.689182:ERROR:CONSOLE(0)] \"Unchecked runtime.lastError: Could not find guest\", source: chrome-extension://mpognobbkildjkofajifpdfhcoklimli/browser.html (0)\n",
      "Apr 19 02:57:50 joe org.gnome.Nautilus[1317]: RuntimeError: object at 0x7f2b9dca9b40 of type FolderColorMenu is not initialized\n",
      "Apr 19 02:58:11 joe org.gnome.Nautilus[1317]: RuntimeError: object at 0x7f2b9dca9b40 of type FolderColorMenu is not initialized\n",
      "Apr 19 03:00:13 joe plank.desktop[1703]: [10100:1:0419/030013.778231:ERROR:child_process_sandbox_support_impl_linux.cc(79)] FontService unique font name matching request did not receive a response.\n",
      "Apr 19 03:00:13 joe plank.desktop[1703]: [10100:1:0419/030013.779805:ERROR:child_process_sandbox_support_impl_linux.cc(79)] FontService unique font name matching request did not receive a response.\n",
      "Apr 19 03:00:13 joe plank.desktop[1703]: [10100:1:0419/030013.780801:ERROR:child_process_sandbox_support_impl_linux.cc(79)] FontService unique font name matching request did not receive a response.\n",
      "Apr 19 03:00:13 joe plank.desktop[1703]: [10100:1:0419/030013.781467:ERROR:child_process_sandbox_support_impl_linux.cc(79)] FontService unique font name matching request did not receive a response.\n",
      "Apr 19 03:00:58 joe org.gnome.Nautilus[1317]: RuntimeError: object at 0x7f2b9dca9b40 of type FolderColorMenu is not initialized\n",
      "Apr 19 03:00:58 joe org.gnome.Nautilus[1317]: RuntimeError: object at 0x7f2b9dca9b40 of type FolderColorMenu is not initialized\n",
      "Apr 19 03:00:59 joe org.gnome.Nautilus[1317]: ('Handling file: ', 'file:///home/mana/Code/Month')\n",
      "Apr 19 03:00:59 joe org.gnome.Nautilus[1317]: ('file scheme: ', 'file')\n",
      "Apr 19 03:00:59 joe org.gnome.Nautilus[1317]: RuntimeError: object at 0x7f2b9dca9b40 of type FolderColorMenu is not initialized\n",
      "Apr 19 03:01:00 joe org.gnome.Nautilus[1317]: ('Handling file: ', 'file:///home/mana/Code/Temp')\n",
      "Apr 19 03:01:00 joe org.gnome.Nautilus[1317]: ('file scheme: ', 'file')\n",
      "Apr 19 03:01:00 joe org.gnome.Nautilus[1317]: RuntimeError: object at 0x7f2b9dca9b40 of type FolderColorMenu is not initialized\n",
      "Apr 19 03:01:00 joe org.gnome.Nautilus[1317]: message repeated 3 times: [ RuntimeError: object at 0x7f2b9dca9b40 of type FolderColorMenu is not initialized]\n",
      "Apr 19 03:01:01 joe org.gnome.Nautilus[1317]: ('Handling file: ', 'file:///home/mana/Code/Temp/How-to-view-Last-30-Minutes-Logs.ipynb')\n",
      "Apr 19 03:01:01 joe org.gnome.Nautilus[1317]: ('file scheme: ', 'file')\n",
      "Apr 19 03:01:01 joe org.gnome.Nautilus[1317]: RuntimeError: object at 0x7f2b9dca9b40 of type FolderColorMenu is not initialized\n",
      "Apr 19 03:01:52 joe org.gnome.Nautilus[1317]: ('Handling file: ', 'file:///home/mana/Code/Temp/How-to-view-Last-30-Minutes-Logs.ipynb')\n",
      "Apr 19 03:01:52 joe org.gnome.Nautilus[1317]: ('file scheme: ', 'file')\n",
      "Apr 19 03:01:52 joe org.gnome.Nautilus[1317]: RuntimeError: object at 0x7f2b9dca9b40 of type FolderColorMenu is not initialized\n"
     ]
    }
   ],
   "source": [
    "%%python3\n",
    "\n",
    "from datetime import datetime, timedelta\n",
    "from pathlib import Path\n",
    "from re import search\n",
    "\n",
    "tdiff = (datetime.now() - timedelta(minutes = 30))\n",
    "last_30 = tdiff.strftime('%b %d %H:%M') \n",
    "log_lines = Path('/var/log/syslog').read_text().splitlines()\n",
    "\n",
    "for x in log_lines:\n",
    "    log_time = search(r'^\\w{3}\\s+\\d+\\s\\d{2}:\\d{2}',x).group()\n",
    "    if last_30 < log_time:\n",
    "        print(x)    "
   ]
  },
  {
   "cell_type": "code",
   "execution_count": null,
   "metadata": {},
   "outputs": [],
   "source": [
    "%%python3\n",
    "\n",
    "from datetime import datetime, timedelta\n",
    "from pathlib import PathL\n",
    "from re import search\n",
    "\n",
    "mintues = [(datetime.now() - timedelta(minutes = i))\n",
    "           .strftime('%b %d %H:%M') for i in range(1, 30)]\n",
    "log_lines = Path('/var/log/syslog').read_text().splitlines()\n",
    "for x in log_lines:\n",
    "    log_time = search(r'^\\w{3}\\s+\\d+\\s\\d{2}:\\d{2}',x).group()\n",
    "    if log_time in mintues:\n",
    "        print(x)    "
   ]
  },
  {
   "cell_type": "markdown",
   "metadata": {},
   "source": [
    "### **How to view Logs Specific Range Of Time?**\n",
    "**Here, I fetched logs from 'Apr 18 20:14' to 'Apr 18 20:27'.**"
   ]
  },
  {
   "cell_type": "code",
   "execution_count": null,
   "metadata": {},
   "outputs": [],
   "source": [
    "from datetime import datetime, timedelta\n",
    "from pathlib import Path\n",
    "from re import search\n",
    "\n",
    "start_time = 'Apr 18 20:14'\n",
    "end_time = 'Apr 18 20:27'\n",
    "log_lines = Path('/var/log/syslog').read_text().splitlines()\n",
    "\n",
    "for x in log_lines:\n",
    "    log_time = search(r'^\\w{3}\\s+\\d+\\s\\d{2}:\\d{2}',x).group()\n",
    "    if start_time <=  log_time <= end_time:\n",
    "        print(x)"
   ]
  },
  {
   "cell_type": "markdown",
   "metadata": {},
   "source": [
    "### **Bash Reserved Words**\n",
    "**Reserved words are words that have special meaning to the shell**\n",
    "\n",
    "|! |{| }| case|\n",
    "|--|--|---|---|\n",
    "|**do** |**done** |**elif** |**else**|\n",
    "|**esac** |**fi** |**for** |**if**|\n",
    "|**in** |**then** |**until** |**while**|\n",
    "\n",
    "<br>\n",
    "The following words may be recognized as reserved words on some <br>implementations.\n",
    "\n",
    "> **[[ ]], function, select**\n",
    "\n"
   ]
  },
  {
   "cell_type": "markdown",
   "metadata": {},
   "source": [
    "### **Python  Reserved Words**"
   ]
  },
  {
   "cell_type": "markdown",
   "metadata": {},
   "source": [
    "|**False**|**None**|**True**|**and**|\n",
    "|--|--|--|--|\n",
    "|**as**|**assert**|**break**|**class**|\n",
    "|**continue**|**def**|**del**|**elif**|\n",
    "|**else**|**except**|**finally**|**for**|\n",
    "|**from**|**global**|**if**|**import**|\n",
    "|**in**|**is**|**lambda**|**nonlocal**|\n",
    "|**not**|**or**|**pass**|**raise**|\n",
    "|**return**|**try**|**while**|**with**|\n",
    "\n",
    "<br>\n",
    "\n",
    "**All the keywords except True, False and None are in lowercase**"
   ]
  },
  {
   "cell_type": "markdown",
   "metadata": {},
   "source": [
    "### **How to Join Today Date With Username?**"
   ]
  },
  {
   "cell_type": "code",
   "execution_count": 30,
   "metadata": {},
   "outputs": [
    {
     "name": "stdout",
     "output_type": "stream",
     "text": [
      "19-Apr-mana\n"
     ]
    }
   ],
   "source": [
    "%%bash\n",
    "\n",
    "date +\"%d-%b-\"$USER"
   ]
  },
  {
   "cell_type": "code",
   "execution_count": 10,
   "metadata": {},
   "outputs": [
    {
     "name": "stdout",
     "output_type": "stream",
     "text": [
      "19-Apr-mana\n"
     ]
    }
   ],
   "source": [
    "%%python3\n",
    "\n",
    "from datetime import datetime as da\n",
    "from os import environ\n",
    "\n",
    "print(da.now().strftime(\"%d-%b-\")+environ['USER'])"
   ]
  },
  {
   "cell_type": "markdown",
   "metadata": {},
   "source": [
    "### **How To Run Script In Notebook?**"
   ]
  },
  {
   "cell_type": "code",
   "execution_count": null,
   "metadata": {},
   "outputs": [],
   "source": [
    "# file: myscript.py\n",
    "\n",
    "def square(x):\n",
    "    \"\"\"square a number\"\"\"\n",
    "    return x ** 2\n",
    "\n",
    "for N in range(1, 4):\n",
    "    print(N, \"squared is\", square(N))"
   ]
  },
  {
   "cell_type": "code",
   "execution_count": 77,
   "metadata": {},
   "outputs": [
    {
     "name": "stdout",
     "output_type": "stream",
     "text": [
      "1 squared is 1\n",
      "2 squared is 4\n",
      "3 squared is 9\n"
     ]
    }
   ],
   "source": [
    "%run myscript.py"
   ]
  },
  {
   "cell_type": "markdown",
   "metadata": {},
   "source": [
    "### **How To Shuffle String?**"
   ]
  },
  {
   "cell_type": "code",
   "execution_count": 6,
   "metadata": {},
   "outputs": [
    {
     "name": "stdout",
     "output_type": "stream",
     "text": [
      "aehMcli"
     ]
    }
   ],
   "source": [
    "%%bash\n",
    "\n",
    "echo \"Micheal\" | grep -o \".\" | shuf | tr -d \"\\n\""
   ]
  },
  {
   "cell_type": "code",
   "execution_count": 8,
   "metadata": {},
   "outputs": [
    {
     "name": "stdout",
     "output_type": "stream",
     "text": [
      "ihalcMe\n"
     ]
    }
   ],
   "source": [
    "%%bash\n",
    "\n",
    "echo \"Micheal\" | fold -w1 | shuf | awk NF=NF RS= OFS="
   ]
  },
  {
   "cell_type": "code",
   "execution_count": 19,
   "metadata": {},
   "outputs": [
    {
     "name": "stdout",
     "output_type": "stream",
     "text": [
      "laMecih\n"
     ]
    }
   ],
   "source": [
    "%%python3\n",
    "\n",
    "from random import shuffle\n",
    "\n",
    "S = list(\"Micheal\")\n",
    "shuffle(S)\n",
    "print(''.join(S))"
   ]
  },
  {
   "cell_type": "code",
   "execution_count": 23,
   "metadata": {},
   "outputs": [
    {
     "name": "stdout",
     "output_type": "stream",
     "text": [
      "iehaclM\n"
     ]
    }
   ],
   "source": [
    "%%python3\n",
    "\n",
    "from random import sample\n",
    "\n",
    "S = \"Micheal\"\n",
    "print(*sample(S, len(S)), sep = '')"
   ]
  },
  {
   "cell_type": "markdown",
   "metadata": {},
   "source": [
    "### **Select Random Upper Case Letter  from Given String**"
   ]
  },
  {
   "cell_type": "code",
   "execution_count": 67,
   "metadata": {},
   "outputs": [
    {
     "name": "stdout",
     "output_type": "stream",
     "text": [
      "C\n"
     ]
    }
   ],
   "source": [
    "%%bash\n",
    "\n",
    "echo \"Micheal\" | grep -o \".\" | shuf | \\\n",
    "awk 'BEGIN{RS=\" \"} {print toupper($NF)}'"
   ]
  },
  {
   "cell_type": "code",
   "execution_count": 74,
   "metadata": {},
   "outputs": [
    {
     "name": "stdout",
     "output_type": "stream",
     "text": [
      " H"
     ]
    }
   ],
   "source": [
    "%%bash\n",
    "\n",
    "echo \"Micheal\" | grep -o \".\" | shuf | \\\n",
    "tr -d \"\\n\" | sed -r 's/.*(.$)/\\U \\1/'"
   ]
  },
  {
   "cell_type": "markdown",
   "metadata": {},
   "source": [
    "### **How  To Get Error Info Only?**"
   ]
  },
  {
   "cell_type": "code",
   "execution_count": 148,
   "metadata": {},
   "outputs": [
    {
     "name": "stdout",
     "output_type": "stream",
     "text": [
      "'str' object does not support item assignment\n"
     ]
    }
   ],
   "source": [
    "from sys import exc_info\n",
    "\n",
    "name = ''\n",
    "try:\n",
    "    name[0] = 'P'\n",
    "except:\n",
    "    print(exc_info()[1])"
   ]
  },
  {
   "cell_type": "markdown",
   "metadata": {},
   "source": [
    "### **Check Whether String Empty Or Not**"
   ]
  },
  {
   "cell_type": "code",
   "execution_count": 166,
   "metadata": {},
   "outputs": [
    {
     "name": "stdout",
     "output_type": "stream",
     "text": [
      "String is Empty.\n"
     ]
    }
   ],
   "source": [
    "%%bash\n",
    "\n",
    "S=''\n",
    "\n",
    "test -z $S  && echo \"String is Empty.\" || \\\n",
    " echo \"String Not Empty.\""
   ]
  },
  {
   "cell_type": "code",
   "execution_count": 171,
   "metadata": {},
   "outputs": [
    {
     "name": "stdout",
     "output_type": "stream",
     "text": [
      "String is Empty.\n"
     ]
    }
   ],
   "source": [
    "%%python3\n",
    "\n",
    "S = ''\n",
    "\n",
    "if S:\n",
    "    print(\"String Not Empty.\")\n",
    "else:\n",
    "    print(\"String is Empty.\")"
   ]
  },
  {
   "cell_type": "markdown",
   "metadata": {},
   "source": [
    "<h2 style=\"padding-left:50px;color:black;font-size:17px;font-weight:bolder\">How To Check  String Password Complexity Policy?</h2>\n"
   ]
  },
  {
   "cell_type": "code",
   "execution_count": 12,
   "metadata": {},
   "outputs": [
    {
     "name": "stdout",
     "output_type": "stream",
     "text": [
      "Enter More Than 4 Charcters: \n",
      "No.\n"
     ]
    }
   ],
   "source": [
    "from re import search\n",
    "\n",
    "usr_inp = input('Enter More Than 4 Charcters: ')\n",
    "passwd =  usr_inp if len(usr_inp) >= 4 else \"\"\n",
    "rgx = ['\\W', '[a-z]', '[A-Z]', '\\d']\n",
    "match = [x for x in rgx if search(x, passwd)]\n",
    "\n",
    "if len(match) == 4:\n",
    "    print('Yes.')\n",
    "else:\n",
    "    print('No.')"
   ]
  },
  {
   "cell_type": "code",
   "execution_count": 109,
   "metadata": {},
   "outputs": [
    {
     "name": "stdout",
     "output_type": "stream",
     "text": [
      "Enter More Than 4 Charcters: Welcome123*\n",
      "Yes.\"Welcome123*\" string satisfied complexity policy.\n"
     ]
    }
   ],
   "source": [
    "from re import search\n",
    "\n",
    "usr_inp = input('Enter More Than 4 Charcters: ')\n",
    "passwd =  usr_inp if len(usr_inp) >= 4 else \"\"\n",
    "rgx = ['\\W', '[a-z]', '[A-Z]', '\\d']\n",
    "match = [x for x in rgx if search(x, passwd)]\n",
    "\n",
    "if len(match) == 4:\n",
    "    print(f'Yes.\"{passwd}\" string satisfied complexity policy.')\n",
    "else:\n",
    "    print(f'No.\"{passwd}\"\" string not satisfied complexity policy.')"
   ]
  },
  {
   "cell_type": "markdown",
   "metadata": {},
   "source": [
    "<h3 style=\"padding-left:140px;font-size:17px;font-weight:bolder\">List The Filesystem Except Virtual File System</h3>"
   ]
  },
  {
   "cell_type": "markdown",
   "metadata": {},
   "source": [
    "### **How To Check Whether Port Open Or Not?**"
   ]
  },
  {
   "cell_type": "code",
   "execution_count": 5,
   "metadata": {},
   "outputs": [
    {
     "name": "stdout",
     "output_type": "stream",
     "text": [
      "State  Address:Port\n"
     ]
    }
   ],
   "source": [
    "%%bash\n",
    "\n",
    "ss -t dst example.com:80 | awk '{print $1, $NF}'| \\\n",
    "column -t"
   ]
  },
  {
   "cell_type": "code",
   "execution_count": 4,
   "metadata": {},
   "outputs": [
    {
     "name": "stdout",
     "output_type": "stream",
     "text": [
      "Port is open.\n"
     ]
    }
   ],
   "source": [
    "%%python3\n",
    "\n",
    "import socket\n",
    "\n",
    "sock = socket.socket(socket.AF_INET, socket.SOCK_STREAM)\n",
    "result = sock.connect_ex(('example.com', 80))\n",
    "if not result:\n",
    "    print(\"Port is open.\")\n",
    "else:\n",
    "    print(\"Port is not open.\")"
   ]
  },
  {
   "cell_type": "markdown",
   "metadata": {},
   "source": [
    "### **How To Check Whether Server Up Or Down?**"
   ]
  },
  {
   "cell_type": "code",
   "execution_count": 2,
   "metadata": {},
   "outputs": [
    {
     "name": "stdout",
     "output_type": "stream",
     "text": [
      "Host UP.\n"
     ]
    }
   ],
   "source": [
    "%%python3\n",
    "\n",
    "from subprocess import Popen,PIPE\n",
    "\n",
    "args = dict(stdin=PIPE, stdout=PIPE, stderr=PIPE)\n",
    "command = 'ssh -t mana@joe \"uptime\"'\n",
    "\n",
    "try:\n",
    "    ssh = Popen(command.split(), **args)\n",
    "    stat = ssh.stdout.read().decode().split()[1]\n",
    "\n",
    "except:\n",
    "    print('Host Down.')\n",
    "else:\n",
    "    print(f'Host {stat.upper()}.')"
   ]
  },
  {
   "cell_type": "code",
   "execution_count": 21,
   "metadata": {},
   "outputs": [
    {
     "name": "stdout",
     "output_type": "stream",
     "text": [
      "Host UP.\n"
     ]
    }
   ],
   "source": [
    "%%python3 \n",
    "\n",
    "from subprocess import PIPE, run\n",
    "\n",
    "args = dict(stdin=PIPE, stdout=PIPE, stderr=PIPE)\n",
    "command = 'ping -c3 joe'\n",
    "ssh = run(command.split(), **args)\n",
    "\n",
    "try:\n",
    "    stat = ssh.stdout.decode().splitlines()[6]\n",
    "except:\n",
    "    print('Host Down.')\n",
    "else:\n",
    "    print(f'Host UP.')"
   ]
  },
  {
   "cell_type": "markdown",
   "metadata": {},
   "source": [
    "### **How To Get Average Mark Of Student Without Using Sum Function?**"
   ]
  },
  {
   "cell_type": "code",
   "execution_count": 26,
   "metadata": {},
   "outputs": [
    {
     "name": "stdout",
     "output_type": "stream",
     "text": [
      "79.0\n"
     ]
    }
   ],
   "source": [
    "student_mark = [80, 90, 80, 70, 75]\n",
    "temp = 0\n",
    "for i in student_mark:\n",
    "    temp += i\n",
    "print(temp/len(student_mark))"
   ]
  },
  {
   "cell_type": "markdown",
   "metadata": {},
   "source": [
    "### **How To Get Maximum Number Of List Without Using Max Function?**"
   ]
  },
  {
   "cell_type": "code",
   "execution_count": 13,
   "metadata": {},
   "outputs": [
    {
     "name": "stdout",
     "output_type": "stream",
     "text": [
      "90\n"
     ]
    }
   ],
   "source": [
    "student_mark = [80, 90, 65, 70, 75]\n",
    "temp = student_mark[1]\n",
    "for i in student_mark:\n",
    "    if i > temp:\n",
    "        temp = i\n",
    "print(temp)"
   ]
  },
  {
   "cell_type": "markdown",
   "metadata": {},
   "source": [
    "<p style=\"padding-left:95px;color:green;font-size:18px;font-weight:bolder\">Tree</p>"
   ]
  },
  {
   "cell_type": "code",
   "execution_count": 111,
   "metadata": {},
   "outputs": [
    {
     "name": "stdout",
     "output_type": "stream",
     "text": [
      "              x               \n",
      "             xxx              \n",
      "            xxxxx             \n",
      "           xxxxxxx            \n",
      "          xxxxxxxxx           \n",
      "         xxxxxxxxxxx          \n",
      "        xxxxxxxxxxxxx         \n",
      "       xxxxxxxxxxxxxxx        \n",
      "      xxxxxxxxxxxxxxxxx       \n",
      "     xxxxxxxxxxxxxxxxxxx      \n",
      "            xxxxx             \n"
     ]
    }
   ],
   "source": [
    "for leaf in [*range(10)] + [2]: \n",
    "    print(f'{\"x\"*(leaf*2+1):^30}')"
   ]
  },
  {
   "cell_type": "markdown",
   "metadata": {},
   "source": [
    "#### <p style=\"padding-left:160px;color:green;font-size:18px;font-weight:bolder\">One line Tree</p>"
   ]
  },
  {
   "cell_type": "code",
   "execution_count": 16,
   "metadata": {},
   "outputs": [
    {
     "name": "stdout",
     "output_type": "stream",
     "text": [
      "                          x                          \n",
      "                         xxx                         \n",
      "                        xxxxx                        \n",
      "                       xxxxxxx                       \n",
      "                      xxxxxxxxx                      \n",
      "                     xxxxxxxxxxx                     \n",
      "                    xxxxxxxxxxxxx                    \n",
      "                   xxxxxxxxxxxxxxx                   \n",
      "                  xxxxxxxxxxxxxxxxx                  \n",
      "                 xxxxxxxxxxxxxxxxxxx                 \n",
      "                        xxxxx                        \n"
     ]
    }
   ],
   "source": [
    "for l in [*range(10)]+[2]: print(f'{\"x\"*(l*2+1):^53}')"
   ]
  },
  {
   "cell_type": "markdown",
   "metadata": {},
   "source": [
    "### **Factorial One Liner**"
   ]
  },
  {
   "cell_type": "code",
   "execution_count": 20,
   "metadata": {},
   "outputs": [
    {
     "data": {
      "text/plain": [
       "120"
      ]
     },
     "execution_count": 20,
     "metadata": {},
     "output_type": "execute_result"
    }
   ],
   "source": [
    "from functools import reduce; reduce(lambda x, y: x * y, range(1, 6))"
   ]
  },
  {
   "cell_type": "markdown",
   "metadata": {},
   "source": [
    "### **How to fetch 13 digit ISBN?**"
   ]
  },
  {
   "cell_type": "markdown",
   "metadata": {},
   "source": [
    "#### **What is ISBN?**\n",
    "\n",
    "An ISBN is an International Standard Book Number. ISBNs were 10 digits in length up to the <br>end of December 2006, but since 1 January 2007 they now always consist of 13 digits. ISBNs <br>are calculated using a specific mathematical formula and include a check digit to validate the number.\n",
    "\n",
    "Each ISBN consists of 5 elements with each section being separated by spaces or hyphens. <br>Three of the five elements may be of varying length:\n",
    "\n",
    "* **Prefix element** – currently this can only be either 978 or 979. It is always 3 digits in length\n",
    "\n",
    "* **Registration group element** – this identifies the particular country, geographical region, or <br>language area participating in the ISBN system. This element may be between 1 and 5 digits in length\n",
    "\n",
    "* **Registrant element** - this identifies the particular publisher or imprint. This may be up to 7 digits in length\n",
    "\n",
    "* **Publication element** – this identifies the particular edition and format of a specific title. This may be up to <br>6 digits in length\n",
    "\n",
    "* **Check digit** – this is always the final single digit that mathematically validates the rest of the number. <br>It is calculated using a Modulus 10 system with alternate weights of 1 and 3."
   ]
  },
  {
   "cell_type": "code",
   "execution_count": 46,
   "metadata": {},
   "outputs": [
    {
     "name": "stdout",
     "output_type": "stream",
     "text": [
      "9781861978769\n"
     ]
    }
   ],
   "source": [
    "%%python3\n",
    "\n",
    "from re import search\n",
    "\n",
    "isbn_string = \"978-1-86197-876-9\"\n",
    "match = search(r'(\\d{3})-(\\d{1,5})-(\\d{1,7})-(\\d{1,6})-(\\d{1,3})',\n",
    "               isbn_string).groups()\n",
    "print(*match, sep = '')"
   ]
  },
  {
   "cell_type": "code",
   "execution_count": 43,
   "metadata": {},
   "outputs": [
    {
     "name": "stdout",
     "output_type": "stream",
     "text": [
      "9781861978769\n"
     ]
    }
   ],
   "source": [
    "%%bash\n",
    "\n",
    "isbn_string=978-1-86197-876-9\n",
    "\n",
    "echo $isbn_string | \\\n",
    "sed -r \"s/(.{3})-(.{1,5})-(.{1,7})-(.{1,6})-(.{1,3})/\\1\\2\\3\\4\\5/\" "
   ]
  },
  {
   "cell_type": "markdown",
   "metadata": {},
   "source": [
    "### **How To Sum List Without Sum Function?**"
   ]
  },
  {
   "cell_type": "markdown",
   "metadata": {},
   "source": [
    "##### **Method: 1**"
   ]
  },
  {
   "cell_type": "code",
   "execution_count": 60,
   "metadata": {},
   "outputs": [
    {
     "name": "stdout",
     "output_type": "stream",
     "text": [
      "240\n"
     ]
    }
   ],
   "source": [
    "lst = [4, 67, 33, 92, 15, 1, 28]\n",
    "x = 0\n",
    "for i in lst:\n",
    "    x += i\n",
    "else:\n",
    "    print(x)"
   ]
  },
  {
   "cell_type": "markdown",
   "metadata": {},
   "source": [
    "##### **Method:2**"
   ]
  },
  {
   "cell_type": "code",
   "execution_count": 63,
   "metadata": {},
   "outputs": [
    {
     "data": {
      "text/plain": [
       "240"
      ]
     },
     "execution_count": 63,
     "metadata": {},
     "output_type": "execute_result"
    }
   ],
   "source": [
    "from functools import reduce\n",
    "lst = [4, 67, 33, 92, 15, 1, 28]\n",
    "def add(x ,y):\n",
    "    return x + y\n",
    "\n",
    "reduce(add, lst)"
   ]
  },
  {
   "cell_type": "code",
   "execution_count": 59,
   "metadata": {},
   "outputs": [
    {
     "data": {
      "text/plain": [
       "240"
      ]
     },
     "execution_count": 59,
     "metadata": {},
     "output_type": "execute_result"
    }
   ],
   "source": [
    "from functools import reduce\n",
    "lst = [4, 67, 33, 92, 15, 1, 28]\n",
    "reduce(lambda x, y: x + y, lst)"
   ]
  },
  {
   "cell_type": "code",
   "execution_count": 61,
   "metadata": {},
   "outputs": [
    {
     "data": {
      "text/plain": [
       "240"
      ]
     },
     "execution_count": 61,
     "metadata": {},
     "output_type": "execute_result"
    }
   ],
   "source": [
    "from functools import reduce\n",
    "from operator import add\n",
    "lst = [4, 67, 33, 92, 15, 1, 28]\n",
    "reduce(add, lst)"
   ]
  },
  {
   "cell_type": "markdown",
   "metadata": {},
   "source": [
    "### **What Is zip Function?**\n",
    "**Zip will pack the elements from two or more iterables.**"
   ]
  },
  {
   "cell_type": "code",
   "execution_count": 11,
   "metadata": {},
   "outputs": [
    {
     "data": {
      "text/plain": [
       "[('Manavalan', 25), ('Priya', 21)]"
      ]
     },
     "execution_count": 11,
     "metadata": {},
     "output_type": "execute_result"
    }
   ],
   "source": [
    "name = ['Manavalan', 'Priya']\n",
    "age = [25, 21]\n",
    "list(zip(name, age))"
   ]
  },
  {
   "cell_type": "code",
   "execution_count": 12,
   "metadata": {},
   "outputs": [
    {
     "data": {
      "text/plain": [
       "{'Manavalan': 25, 'Priya': 21}"
      ]
     },
     "execution_count": 12,
     "metadata": {},
     "output_type": "execute_result"
    }
   ],
   "source": [
    "name = ['Manavalan', 'Priya']\n",
    "age = [25, 21]\n",
    "dict(zip(name, age))"
   ]
  },
  {
   "cell_type": "markdown",
   "metadata": {},
   "source": [
    "#### **Example:**"
   ]
  },
  {
   "cell_type": "code",
   "execution_count": 10,
   "metadata": {},
   "outputs": [
    {
     "name": "stdout",
     "output_type": "stream",
     "text": [
      "Manavalan       25\n",
      "Priya           21\n"
     ]
    }
   ],
   "source": [
    "name = ['Manavalan', 'Priya']\n",
    "age = [25, 21]\n",
    "pack = zip(name, age)\n",
    "\n",
    "for i,j in pack:\n",
    "    print(f'{i:15} {j}')"
   ]
  },
  {
   "cell_type": "code",
   "execution_count": null,
   "metadata": {},
   "outputs": [],
   "source": [
    "name = 'Manavalan'\n",
    "'a'*name.count('a')"
   ]
  },
  {
   "cell_type": "markdown",
   "metadata": {},
   "source": [
    "<h3 style=\"padding-left:41px;color:black;font-size:15.5px;font-weight:bolder\">Print Flowers</h3>"
   ]
  },
  {
   "cell_type": "code",
   "execution_count": 20,
   "metadata": {},
   "outputs": [
    {
     "name": "stdout",
     "output_type": "stream",
     "text": [
      "🌷 🌸 🌹 🌺 🌻 🌼 "
     ]
    }
   ],
   "source": [
    "for i in range(127799, 127805):\n",
    "    print(chr(i), end = ' ')"
   ]
  },
  {
   "cell_type": "markdown",
   "metadata": {},
   "source": [
    "<h3 style=\"padding-left:41px;color:black;font-size:15.5px;font-weight:bolder\">Print Animals Using Python</h3>"
   ]
  },
  {
   "cell_type": "code",
   "execution_count": 15,
   "metadata": {},
   "outputs": [
    {
     "name": "stdout",
     "output_type": "stream",
     "text": [
      "🐀 🐁 🐂 🐃 🐄 🐅 🐆 🐇 🐈 "
     ]
    }
   ],
   "source": [
    "for i in range(128000, 128009):\n",
    "    print(chr(i), end = ' ')"
   ]
  },
  {
   "cell_type": "markdown",
   "metadata": {},
   "source": [
    "<h3 style=\"padding-left:40px;color:red;font-size:15.5px;font-weight:bolder\"> How To Remove Newline In  File? </h3>"
   ]
  },
  {
   "cell_type": "code",
   "execution_count": 334,
   "metadata": {},
   "outputs": [
    {
     "name": "stdout",
     "output_type": "stream",
     "text": [
      "Apple.\r\n",
      "Watermelon.\r\n",
      "Orange.\r\n",
      "Strawberry.\r\n",
      "Grape.\r\n"
     ]
    }
   ],
   "source": [
    "!cat ~/Work/fruit.txt"
   ]
  },
  {
   "cell_type": "code",
   "execution_count": 30,
   "metadata": {},
   "outputs": [
    {
     "name": "stdout",
     "output_type": "stream",
     "text": [
      "Apple.Watermelon.Orange.Strawberry.Grape.Lemon.\n"
     ]
    }
   ],
   "source": [
    "%%bash\n",
    "\n",
    "awk NF=NF RS= OFS= ~/Work/fruit1.txt"
   ]
  },
  {
   "cell_type": "code",
   "execution_count": 32,
   "metadata": {},
   "outputs": [
    {
     "name": "stdout",
     "output_type": "stream",
     "text": [
      "Apple.Watermelon.Orange.Strawberry.Grape.Lemon."
     ]
    }
   ],
   "source": [
    "%%bash\n",
    "\n",
    "cat  ~/Work/fruit1.txt | tr -d '\\n'"
   ]
  },
  {
   "cell_type": "code",
   "execution_count": 1,
   "metadata": {},
   "outputs": [
    {
     "name": "stdout",
     "output_type": "stream",
     "text": [
      "Apple.Watermelon.Orange.Strawberry.Grape.Lemon.\n"
     ]
    }
   ],
   "source": [
    "%%python3\n",
    "\n",
    "from pathlib import Path\n",
    "\n",
    "P = Path('/home/mana/Work/fruit1.txt').read_text()\n",
    "print(P.replace('\\n',''))"
   ]
  },
  {
   "cell_type": "markdown",
   "metadata": {},
   "source": [
    "<h3 style=\"padding-left:160px;font-size:16px;font-weight:bolder\">List The Filesystem Except Pseudo-Filesystem</h3>\n",
    "<p style=\"padding-left:160px;color:red;font-size:14px;font-weight:bolder\">This Regex to be list all lvm and raid filesystems.</p>"
   ]
  },
  {
   "cell_type": "code",
   "execution_count": 1,
   "metadata": {},
   "outputs": [
    {
     "name": "stdout",
     "output_type": "stream",
     "text": [
      "==================================================\n",
      "Filesystem      Size  Used Avail Use% Mounted on\n",
      "==================================================\n",
      "/dev/sda5        29G   19G   11G  64% /\n",
      "/dev/sda2        83G  9.9G   74G  12% /media/mana/DATA\n"
     ]
    }
   ],
   "source": [
    "%%bash\n",
    "\n",
    "printf \"%0.s=\" {1..50}; echo\n",
    "df -h | head -1\n",
    "printf \"%0.s=\" {1..50}; echo\n",
    "df -h | grep -P \"^(?!(tmpfs|udev|.*snap|File))\""
   ]
  },
  {
   "cell_type": "code",
   "execution_count": 7,
   "metadata": {},
   "outputs": [
    {
     "name": "stdout",
     "output_type": "stream",
     "text": [
      "==================================================\n",
      "Filesystem      Size  Used Avail Use% Mounted on\n",
      "==================================================\n",
      "/dev/sda5        29G   20G  9.0G  69% /\n",
      "/dev/sda2        83G  7.0G   76G   9% /media/mana/DATA\n"
     ]
    }
   ],
   "source": [
    "%%python3\n",
    "\n",
    "from subprocess import PIPE,run\n",
    "from re import search\n",
    "\n",
    "fd = dict(stdin=PIPE, stdout=PIPE, stderr=PIPE)\n",
    "cout = run(['df', '-h'], **fd)\n",
    "fs = cout.stdout.decode().splitlines()\n",
    "disk = [i for i in fs if search(r\"^(?!(tmpfs|udev|.*snap|File))\",i)]\n",
    "print('='*50)\n",
    "print(fs[0])\n",
    "print('='*50)\n",
    "print(*disk, sep = '\\n')"
   ]
  },
  {
   "cell_type": "code",
   "execution_count": 132,
   "metadata": {},
   "outputs": [
    {
     "name": "stdout",
     "output_type": "stream",
     "text": [
      "==================================================\n",
      "Filesystem      Size  Used Avail Use% Mounted on\n",
      "==================================================\n",
      "/dev/sda5        29G   20G  9.9G  66% /\n",
      "/dev/sda2        83G  7.0G   76G   9% /media/mana/DATA\n"
     ]
    }
   ],
   "source": [
    "%%bash\n",
    "\n",
    "printf \"%0.s=\" {1..50}; echo\n",
    "df -h | head -1\n",
    "printf \"%0.s=\" {1..50}; echo\n",
    "df -h | egrep \"sd[a-z]\""
   ]
  },
  {
   "cell_type": "code",
   "execution_count": 45,
   "metadata": {},
   "outputs": [
    {
     "name": "stdout",
     "output_type": "stream",
     "text": [
      "==================================================\n",
      "Filesystem      Size  Used Avail Use% Mounted on\n",
      "==================================================\n",
      "/dev/sda5        29G   19G  9.9G  66% /\n",
      "/dev/sda2        83G  7.0G   76G   9% /media/mana/DATA\n"
     ]
    }
   ],
   "source": [
    "%%bash\n",
    "\n",
    "printf \"%0.s=\" {1..50}; echo\n",
    "df -h | awk 'NR == 1'\n",
    "printf \"%0.s=\" {1..50}; echo\n",
    "df -h | grep -P \"^.*(?=sd[a-z])\""
   ]
  },
  {
   "cell_type": "markdown",
   "metadata": {},
   "source": [
    "<h3 style=\"padding-left:41px;color:black;font-size:15.5px;font-weight:bolder\">Mathematical Operations Between Lists</h3>"
   ]
  },
  {
   "cell_type": "code",
   "execution_count": 146,
   "metadata": {},
   "outputs": [
    {
     "data": {
      "text/plain": [
       "[3, 8, 13, 12, 21]"
      ]
     },
     "execution_count": 146,
     "metadata": {},
     "output_type": "execute_result"
    }
   ],
   "source": [
    "L1 = [2, 3, 6, 8, 9]\n",
    "L2 = [1, 5, 7, 4, 12]\n",
    "[x + y for x, y in zip(L1, L2)]"
   ]
  },
  {
   "cell_type": "code",
   "execution_count": 133,
   "metadata": {},
   "outputs": [
    {
     "data": {
      "text/plain": [
       "[3, 8, 13, 12, 21]"
      ]
     },
     "execution_count": 133,
     "metadata": {},
     "output_type": "execute_result"
    }
   ],
   "source": [
    "from operator import add\n",
    "\n",
    "L1 = [2, 3, 6, 8, 9]\n",
    "L2 = [1, 5, 7, 4, 12]\n",
    "[add(x, y) for x, y in zip(L1, L2)]"
   ]
  },
  {
   "cell_type": "markdown",
   "metadata": {},
   "source": [
    "<h3 style=\"padding-left:140px;font-size:15.5px;font-weight:bolder\">How To Remove Empty String in a List?</h3>"
   ]
  },
  {
   "cell_type": "code",
   "execution_count": 32,
   "metadata": {},
   "outputs": [],
   "source": [
    "city = ['Delhi', 'Paris', '', '', 'London', '', 'New York']"
   ]
  },
  {
   "cell_type": "code",
   "execution_count": 33,
   "metadata": {},
   "outputs": [
    {
     "data": {
      "text/plain": [
       "['Delhi', 'Paris', 'London', 'New York']"
      ]
     },
     "execution_count": 33,
     "metadata": {},
     "output_type": "execute_result"
    }
   ],
   "source": [
    "[i for i in city if i ]"
   ]
  },
  {
   "cell_type": "code",
   "execution_count": 34,
   "metadata": {},
   "outputs": [
    {
     "data": {
      "text/plain": [
       "['Delhi', 'Paris', 'London', 'New York']"
      ]
     },
     "execution_count": 34,
     "metadata": {},
     "output_type": "execute_result"
    }
   ],
   "source": [
    "[i for i in city if bool(i)]"
   ]
  },
  {
   "cell_type": "code",
   "execution_count": 35,
   "metadata": {},
   "outputs": [
    {
     "data": {
      "text/plain": [
       "['Delhi', 'Paris', 'London', 'New York']"
      ]
     },
     "execution_count": 35,
     "metadata": {},
     "output_type": "execute_result"
    }
   ],
   "source": [
    "list(filter(bool, city))"
   ]
  },
  {
   "cell_type": "markdown",
   "metadata": {},
   "source": [
    "<h3 style=\"padding-left:200px;font-size:16px;font-weight:bolder\">How To Find Maximum Date In The List?</h3."
   ]
  },
  {
   "cell_type": "code",
   "execution_count": 42,
   "metadata": {},
   "outputs": [
    {
     "name": "stdout",
     "output_type": "stream",
     "text": [
      "                2020-04-28 04:39:41.615921\n",
      "                2020-04-27 04:39:41.615932\n",
      "                2020-04-26 04:39:41.615937\n",
      "                2020-04-25 04:39:41.615940\n",
      "                2020-04-24 04:39:41.615943\n",
      "                2020-04-23 04:39:41.615947\n",
      "                2020-04-22 04:39:41.615950\n"
     ]
    }
   ],
   "source": [
    "from datetime import datetime, timedelta\n",
    "\n",
    "dates = [datetime.today() - timedelta(days = i) for i in range(7)]\n",
    "for x in dates:\n",
    "    print(f'{str(x):>42}')"
   ]
  },
  {
   "cell_type": "code",
   "execution_count": 43,
   "metadata": {},
   "outputs": [
    {
     "name": "stdout",
     "output_type": "stream",
     "text": [
      "                2020-04-28 04:39:41.615921\n"
     ]
    }
   ],
   "source": [
    "print(f'{str(max(dates)):>42}')"
   ]
  },
  {
   "cell_type": "markdown",
   "metadata": {},
   "source": [
    "<h3 style=\"padding-left:200px;font-size:16px;font-weight:bolder\">How To Find Minimum Date In The List?</h3>"
   ]
  },
  {
   "cell_type": "code",
   "execution_count": 37,
   "metadata": {},
   "outputs": [
    {
     "name": "stdout",
     "output_type": "stream",
     "text": [
      "                2020-04-28 04:36:45.754455\n",
      "                2020-04-27 04:36:45.754467\n",
      "                2020-04-26 04:36:45.754471\n",
      "                2020-04-25 04:36:45.754474\n",
      "                2020-04-24 04:36:45.754478\n",
      "                2020-04-23 04:36:45.754481\n",
      "                2020-04-22 04:36:45.754484\n"
     ]
    }
   ],
   "source": [
    "from datetime import datetime, timedelta\n",
    "\n",
    "dates = [datetime.today() - timedelta(days = i) for i in range(7)]\n",
    "for x in dates:\n",
    "    print(f'{str(x):>42}')"
   ]
  },
  {
   "cell_type": "code",
   "execution_count": 41,
   "metadata": {},
   "outputs": [
    {
     "name": "stdout",
     "output_type": "stream",
     "text": [
      "                2020-04-22 04:36:45.754484\n"
     ]
    }
   ],
   "source": [
    "print(f'{str(min(dates)):>42}')"
   ]
  },
  {
   "cell_type": "markdown",
   "metadata": {},
   "source": [
    "<h3 style=\"padding-left:125px;font-size:15.5px;font-weight:bolder\">How To Remove Empty Line?</h3>"
   ]
  },
  {
   "cell_type": "code",
   "execution_count": 77,
   "metadata": {},
   "outputs": [
    {
     "name": "stdout",
     "output_type": "stream",
     "text": [
      "Apple.\r\n",
      "\r\n",
      "Watermelon.\r\n",
      "\r\n",
      "Orange.\r\n"
     ]
    }
   ],
   "source": [
    "cat ~/Work/fruit1.txt"
   ]
  },
  {
   "cell_type": "code",
   "execution_count": 2,
   "metadata": {},
   "outputs": [
    {
     "name": "stdout",
     "output_type": "stream",
     "text": [
      "Apple.\n",
      "Watermelon.\n",
      "Orange.\n"
     ]
    }
   ],
   "source": [
    "%%bash \n",
    "\n",
    "sed -n '/^$/!p'  ~/Work/fruit1.txt\n",
    ": OR\n",
    ": sed  '/^$/d'  ~/Work/fruit1.txt\n",
    ": OR\n",
    ": awk \"NF\" ~/Work/fruit1.txt"
   ]
  },
  {
   "cell_type": "code",
   "execution_count": 3,
   "metadata": {},
   "outputs": [
    {
     "name": "stdout",
     "output_type": "stream",
     "text": [
      "Apple.\n",
      "Watermelon.\n",
      "Orange.\n"
     ]
    }
   ],
   "source": [
    "%%python3\n",
    "\n",
    "from pathlib import Path\n",
    "\n",
    "path = Path('/home/mana/Work/')\n",
    "text = (path/\"fruit1.txt\").read_text().splitlines()\n",
    "text = [i for i in text if i]\n",
    "print(*text, sep = '\\n')"
   ]
  },
  {
   "cell_type": "markdown",
   "metadata": {},
   "source": [
    "<h3 style=\"padding-left:85px;font-size:16px;font-weight:bolder\">How To Find Last Modified File In A Directory?</h3>"
   ]
  },
  {
   "cell_type": "code",
   "execution_count": 4,
   "metadata": {},
   "outputs": [
    {
     "name": "stdout",
     "output_type": "stream",
     "text": [
      "Wed Jan 29 08:10:28.8597580950 2020 fruits.csv\n"
     ]
    }
   ],
   "source": [
    "%%bash\n",
    "\n",
    "find ~/Work -type f -printf '%t %f\\n' | sort | tail -1"
   ]
  },
  {
   "cell_type": "code",
   "execution_count": 2,
   "metadata": {},
   "outputs": [
    {
     "name": "stdout",
     "output_type": "stream",
     "text": [
      "('fruit1.txt', 1587979664.4237294)\n",
      "('fruit1.txt', 1587979664.4237294)\n"
     ]
    }
   ],
   "source": [
    "%%python3\n",
    "\n",
    "from datetime import datetime\n",
    "from pathlib import Path\n",
    "\n",
    "dpath = Path(\"/home/mana/Work\")\n",
    "files = {i.name: i.stat().st_mtime for i in dpath.iterdir() \n",
    "         if i.is_file()}\n",
    "print(max(files.items(), key = lambda x: x[1]))\n",
    "print(sorted(files.items(), key = lambda x: x[1], reverse = True)[0])"
   ]
  },
  {
   "cell_type": "markdown",
   "metadata": {},
   "source": [
    "<h3 style=\"padding-left:50px;font-size:16px;font-weight:bolder\">How To Reversed A String?</h3>"
   ]
  },
  {
   "cell_type": "code",
   "execution_count": 3,
   "metadata": {},
   "outputs": [
    {
     "name": "stdout",
     "output_type": "stream",
     "text": [
      "xuniL\n"
     ]
    }
   ],
   "source": [
    "%%bash\n",
    "\n",
    "os='Linux'\n",
    "rev <<< $os"
   ]
  },
  {
   "cell_type": "code",
   "execution_count": 8,
   "metadata": {},
   "outputs": [
    {
     "name": "stdout",
     "output_type": "stream",
     "text": [
      "xuniL\n"
     ]
    }
   ],
   "source": [
    "%%python3\n",
    "\n",
    "os = 'Linux'\n",
    "print(*reversed(os), sep ='')"
   ]
  },
  {
   "cell_type": "markdown",
   "metadata": {
    "slideshow": {
     "slide_type": "notes"
    }
   },
   "source": [
    "<h3 style=\"padding-left:40px;font-size:15px;font-weight:bolder\">Membership Operator In Bash</h3>\n",
    "    <h3 style=\"padding-left:40px;font-size:11px;font-weight:bolder\">How To Check City \"London\" Whether exists or Not in City Array List?</h3>"
   ]
  },
  {
   "cell_type": "code",
   "execution_count": 33,
   "metadata": {
    "slideshow": {
     "slide_type": "notes"
    }
   },
   "outputs": [
    {
     "name": "stdout",
     "output_type": "stream",
     "text": [
      "False\n"
     ]
    }
   ],
   "source": [
    "%%bash\n",
    "\n",
    "city=(\"Madurai\", \"Chennai\", \"Paris\", \"New York\")\n",
    "\n",
    "[[ \"${city[@]}\"  == *\"London\"* ]] && echo \"True\" \\\n",
    "|| echo \"False\""
   ]
  },
  {
   "cell_type": "code",
   "execution_count": 34,
   "metadata": {},
   "outputs": [
    {
     "name": "stdout",
     "output_type": "stream",
     "text": [
      "False\n"
     ]
    }
   ],
   "source": [
    "%%python3\n",
    "\n",
    "city=(\"Madurai\", \"Chennai\", \"Paris\", \"New York\")\n",
    "print(\"London\" in city)"
   ]
  },
  {
   "cell_type": "markdown",
   "metadata": {},
   "source": [
    "<h3 style=\"padding-left:50px;font-size:16px;font-weight:bolder\">How To Convert Lower Case To Upper Case?</h3>"
   ]
  },
  {
   "cell_type": "code",
   "execution_count": 10,
   "metadata": {},
   "outputs": [
    {
     "name": "stdout",
     "output_type": "stream",
     "text": [
      "RED GREEN BLUE\n"
     ]
    }
   ],
   "source": [
    "%%bash\n",
    "\n",
    "echo \"Red Green Blue\" | awk '{print toupper($0)}'"
   ]
  },
  {
   "cell_type": "code",
   "execution_count": 15,
   "metadata": {},
   "outputs": [
    {
     "name": "stdout",
     "output_type": "stream",
     "text": [
      "RED GREEN BLUE\n"
     ]
    }
   ],
   "source": [
    "%%bash\n",
    "\n",
    "echo \"Red Green Blue\" | sed -r 's/(.*)/\\U\\1/'"
   ]
  },
  {
   "cell_type": "code",
   "execution_count": 16,
   "metadata": {},
   "outputs": [
    {
     "name": "stdout",
     "output_type": "stream",
     "text": [
      "RED GREEN BLUE\n"
     ]
    }
   ],
   "source": [
    "%%bash\n",
    "\n",
    "echo \"Red Green Blue\" | tr [a-z] [A-Z]"
   ]
  },
  {
   "cell_type": "code",
   "execution_count": 18,
   "metadata": {},
   "outputs": [
    {
     "name": "stdout",
     "output_type": "stream",
     "text": [
      "RED GREEN BLUE\n"
     ]
    }
   ],
   "source": [
    "%%python3\n",
    "\n",
    "S = \"Red Green Blue\"\n",
    "print(S.upper())"
   ]
  }
 ],
 "metadata": {
  "kernelspec": {
   "display_name": "Python 3",
   "language": "python",
   "name": "python3"
  },
  "language_info": {
   "codemirror_mode": {
    "name": "ipython",
    "version": 3
   },
   "file_extension": ".py",
   "mimetype": "text/x-python",
   "name": "python",
   "nbconvert_exporter": "python",
   "pygments_lexer": "ipython3",
   "version": "3.6.9"
  }
 },
 "nbformat": 4,
 "nbformat_minor": 2
}
