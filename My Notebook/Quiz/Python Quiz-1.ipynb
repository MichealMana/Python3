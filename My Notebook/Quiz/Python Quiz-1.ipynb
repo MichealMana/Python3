{
 "cells": [
  {
   "cell_type": "markdown",
   "metadata": {},
   "source": [
    "<h2 align=\"center\"><b>Python Quiz</h2>"
   ]
  },
  {
   "cell_type": "markdown",
   "metadata": {},
   "source": [
    "&nbsp;"
   ]
  },
  {
   "cell_type": "markdown",
   "metadata": {},
   "source": [
    "****"
   ]
  },
  {
   "cell_type": "markdown",
   "metadata": {},
   "source": [
    "#### **What Flower Will Bloom After Run This Code?**"
   ]
  },
  {
   "cell_type": "code",
   "execution_count": null,
   "metadata": {},
   "outputs": [],
   "source": [
    "print(chr(127803))"
   ]
  },
  {
   "cell_type": "markdown",
   "metadata": {},
   "source": [
    "<h1><span style=\"padding-left:10px;color:k;\"><b>🌹 </b></span></h1>\n",
    "<h1><span style=\"padding-left:10px;color:k;\"><b>🌷</b></span></h1>\n",
    "<h1><span style=\"padding-left:10px;color:k;\"><b>🌻 </b></span></h1>\n",
    "<h1><span style=\"padding-left:10px;color:k;\"><b>🌼</b></span></h1>\n",
    "\n"
   ]
  },
  {
   "cell_type": "markdown",
   "metadata": {},
   "source": [
    "***"
   ]
  },
  {
   "cell_type": "markdown",
   "metadata": {},
   "source": [
    "### **Template: 1**"
   ]
  },
  {
   "cell_type": "markdown",
   "metadata": {},
   "source": [
    "<h3 style=\"padding-left:40px;font-size:16px;font-weight:bolder\">\n",
    "Python Quiz</h3>\n",
    "<h4 style=\"padding-left:40px;font-size:14.5px;font-weight:bolder\">What is output?</h4>\n"
   ]
  },
  {
   "cell_type": "code",
   "execution_count": null,
   "metadata": {},
   "outputs": [],
   "source": []
  },
  {
   "cell_type": "markdown",
   "metadata": {},
   "source": [
    "<h4><span style=\"padding-left:40px;color:black;\"><b>1). True</b></span></h4>\n",
    "<h4><span style=\"padding-left:40px;color:black;\"><b>2). False</b></span></h4>\n",
    "<h4><span style=\"padding-left:40px;color:black;\"><b>3). Error</b></span></h4>\n",
    "<h4><span style=\"padding-left:40px;color:black;\"><b>4). None</b></span></h4>"
   ]
  },
  {
   "cell_type": "markdown",
   "metadata": {},
   "source": [
    "*** "
   ]
  },
  {
   "cell_type": "markdown",
   "metadata": {},
   "source": [
    "<h2 style=\"padding-left:95px;color:red;font-size:16px;font-weight:bolder\">   Python Quiz</h2>\n",
    "<h2 style=\"padding-left:95px;color:red;font-size:14.5px;font-weight:bolder\">   What is output?</h2>"
   ]
  },
  {
   "cell_type": "code",
   "execution_count": null,
   "metadata": {},
   "outputs": [],
   "source": []
  },
  {
   "cell_type": "markdown",
   "metadata": {},
   "source": [
    "<h4><span style=\"padding-left:95px;color:black;\"><b>A). Today</b></span></h4>\n",
    "<h4><span style=\"padding-left:95px;color:black;\"><b>B). Tommorrow</b></span></h4>\n",
    "<h4><span style=\"padding-left:95px;color:black;\"><b>C). Error</b></span></h4>\n",
    "<h4><span style=\"padding-left:95px;color:black;\"><b>D). None</b></span></h4>"
   ]
  },
  {
   "cell_type": "markdown",
   "metadata": {},
   "source": [
    "***"
   ]
  },
  {
   "cell_type": "markdown",
   "metadata": {},
   "source": [
    "<h3 style=\"padding-left:140px;font-size:16px;font-weight:bolder\">\n",
    "Python Quiz</h3>\n",
    "<h4 style=\"padding-left:140px;font-size:14.5px;font-weight:bolder\">What is output?</h4>\n"
   ]
  },
  {
   "cell_type": "code",
   "execution_count": null,
   "metadata": {},
   "outputs": [],
   "source": []
  },
  {
   "cell_type": "markdown",
   "metadata": {},
   "source": [
    "<h4><span style=\"padding-left:140px;color:black;\"><b>1). True</b></span></h4>\n",
    "<h4><span style=\"padding-left:140px;color:black;\"><b>2). False</b></span></h4>\n",
    "<h4><span style=\"padding-left:140px;color:black;\"><b>3). Error</b></span></h4>\n",
    "<h4><span style=\"padding-left:140px;color:black;\"><b>4). None</b></span></h4>"
   ]
  },
  {
   "cell_type": "markdown",
   "metadata": {},
   "source": [
    "***"
   ]
  },
  {
   "cell_type": "markdown",
   "metadata": {},
   "source": [
    "### **Template: 2**"
   ]
  },
  {
   "cell_type": "markdown",
   "metadata": {},
   "source": [
    "### **Python Quiz**\n",
    "#### **What is output?**"
   ]
  },
  {
   "cell_type": "code",
   "execution_count": null,
   "metadata": {},
   "outputs": [],
   "source": []
  },
  {
   "cell_type": "markdown",
   "metadata": {},
   "source": [
    "<h4><span style=\"padding-left:10px;color:black;\"><b>A). True</b></span></h4>\n",
    "<h4><span style=\"padding-left:10px;color:black;\"><b>B). False</b></span></h4>\n",
    "<h4><span style=\"padding-left:10px;color:black;\"><b>C). Error</b></span></h4>\n",
    "<h4><span style=\"padding-left:10px;color:black;\"><b>D). None</b></span></h4>"
   ]
  },
  {
   "cell_type": "markdown",
   "metadata": {},
   "source": [
    "***"
   ]
  },
  {
   "cell_type": "markdown",
   "metadata": {},
   "source": [
    "***"
   ]
  },
  {
   "cell_type": "code",
   "execution_count": 1,
   "metadata": {},
   "outputs": [
    {
     "data": {
      "text/plain": [
       "True"
      ]
     },
     "execution_count": 1,
     "metadata": {},
     "output_type": "execute_result"
    }
   ],
   "source": [
    "city = 'Chennai'\n",
    "not city == 'Delhi'"
   ]
  },
  {
   "cell_type": "code",
   "execution_count": 16,
   "metadata": {},
   "outputs": [
    {
     "data": {
      "text/plain": [
       "True"
      ]
     },
     "execution_count": 16,
     "metadata": {},
     "output_type": "execute_result"
    }
   ],
   "source": [
    "class A:\n",
    "    def f1(self):\n",
    "        return self \n",
    "    def f2(self):\n",
    "        return self\n",
    "    \n",
    "obj = A()\n",
    "obj.f1() == obj.f2()"
   ]
  },
  {
   "cell_type": "markdown",
   "metadata": {},
   "source": [
    "<h3 style=\"padding-left:40px;font-size:16px;font-weight:bolder\">\n",
    "Python Quiz</h3>\n",
    "<h4 style=\"padding-left:40px;font-size:14.5px;font-weight:bolder\">What is output?</h4>\n"
   ]
  },
  {
   "cell_type": "code",
   "execution_count": null,
   "metadata": {},
   "outputs": [],
   "source": [
    "bool(eval('5+5-10'))"
   ]
  },
  {
   "cell_type": "markdown",
   "metadata": {},
   "source": [
    "<h4><span style=\"padding-left:40px;color:black;\"><b>1). True</b></span></h4>\n",
    "<h4><span style=\"padding-left:40px;color:black;\"><b>2). False</b></span></h4>\n",
    "<h4><span style=\"padding-left:40px;color:black;\"><b>3). Error</b></span></h4>\n",
    "<h4><span style=\"padding-left:40px;color:black;\"><b>4). None</b></span></h4>"
   ]
  },
  {
   "cell_type": "code",
   "execution_count": 3,
   "metadata": {},
   "outputs": [
    {
     "data": {
      "text/plain": [
       "False"
      ]
     },
     "execution_count": 3,
     "metadata": {},
     "output_type": "execute_result"
    }
   ],
   "source": [
    "bool(())"
   ]
  },
  {
   "cell_type": "code",
   "execution_count": 1,
   "metadata": {},
   "outputs": [
    {
     "data": {
      "text/plain": [
       "'Kuthrai'"
      ]
     },
     "execution_count": 1,
     "metadata": {},
     "output_type": "execute_result"
    }
   ],
   "source": [
    "L = ['Kuthrai', 'Lion', 'Panni', 'Siruttuhai', 'Nari']\n",
    "min(L,  key = ascii)"
   ]
  },
  {
   "cell_type": "code",
   "execution_count": 5,
   "metadata": {},
   "outputs": [
    {
     "name": "stdout",
     "output_type": "stream",
     "text": [
      "True\n"
     ]
    }
   ],
   "source": [
    "L = []\n",
    "print(all(L))"
   ]
  },
  {
   "cell_type": "code",
   "execution_count": 9,
   "metadata": {},
   "outputs": [
    {
     "data": {
      "text/plain": [
       "True"
      ]
     },
     "execution_count": 9,
     "metadata": {},
     "output_type": "execute_result"
    }
   ],
   "source": [
    "'¥'.isprintable()"
   ]
  },
  {
   "cell_type": "code",
   "execution_count": 14,
   "metadata": {},
   "outputs": [
    {
     "data": {
      "text/plain": [
       "True"
      ]
     },
     "execution_count": 14,
     "metadata": {},
     "output_type": "execute_result"
    }
   ],
   "source": [
    "lang = 'Pascal'\n",
    "lang[1:].startswith('a')"
   ]
  },
  {
   "cell_type": "code",
   "execution_count": 15,
   "metadata": {},
   "outputs": [
    {
     "data": {
      "text/plain": [
       "True"
      ]
     },
     "execution_count": 15,
     "metadata": {},
     "output_type": "execute_result"
    }
   ],
   "source": [
    "lang = 'Pascal'\n",
    "lang.startswith('s',2)"
   ]
  },
  {
   "cell_type": "code",
   "execution_count": null,
   "metadata": {},
   "outputs": [],
   "source": [
    "S = '10.5'\n",
    "int(S)"
   ]
  },
  {
   "cell_type": "markdown",
   "metadata": {},
   "source": [
    "<h4><span style=\"padding-left:10px;color:black;\"><b>A). True</b></span></h4>\n",
    "<h4><span style=\"padding-left:10px;color:black;\"><b>B). False</b></span></h4>\n",
    "<h4><span style=\"padding-left:10px;color:black;\"><b>C). Error</b></span></h4>\n",
    "<h4><span style=\"padding-left:10px;color:black;\"><b>D). None</b></span></h4>"
   ]
  },
  {
   "cell_type": "markdown",
   "metadata": {},
   "source": [
    "<h2 style=\"padding-left:95px;color:red;font-size:17px;font-weight:bolder\">   Python Quiz</h2>\n",
    "<h2 style=\"padding-left:95px;color:red;font-size:17px;font-weight:bolder\">   What is output?</h2>"
   ]
  },
  {
   "cell_type": "code",
   "execution_count": null,
   "metadata": {},
   "outputs": [],
   "source": [
    "from datetime import date, timedelta\n",
    "\n",
    "day = date.today() - timedelta(days = 1)\n",
    "print(date.strftime(day, \"%A\"))"
   ]
  },
  {
   "cell_type": "markdown",
   "metadata": {},
   "source": [
    "<h4><span style=\"padding-left:95px;color:black;\"><b>A). Today</b></span></h4>\n",
    "<h4><span style=\"padding-left:95px;color:black;\"><b>B). Tommorrow</b></span></h4>\n",
    "<h4><span style=\"padding-left:95px;color:black;\"><b>C). Yesterday</b></span></h4>\n",
    "<h4><span style=\"padding-left:95px;color:black;\"><b>D). None</b></span></h4>"
   ]
  },
  {
   "cell_type": "markdown",
   "metadata": {},
   "source": [
    "### **Python Quiz**\n",
    "#### **What is output?**"
   ]
  },
  {
   "cell_type": "code",
   "execution_count": null,
   "metadata": {},
   "outputs": [],
   "source": [
    "name = ['Gopal', 'Pugaz', 'Vinoth', \"Srinivasan\"]\n",
    "\n",
    "for i in name:\n",
    "    if len(i) == 6:\n",
    "        break\n",
    "        print(i)"
   ]
  },
  {
   "cell_type": "markdown",
   "metadata": {},
   "source": [
    "<h4><span style=\"padding-left:10px;color:black;\"><b>A). True</b></span></h4>\n",
    "<h4><span style=\"padding-left:10px;color:black;\"><b>B). False</b></span></h4>\n",
    "<h4><span style=\"padding-left:10px;color:black;\"><b>C). Error</b></span></h4>\n",
    "<h4><span style=\"padding-left:10px;color:black;\"><b>D). None</b></span></h4>"
   ]
  },
  {
   "cell_type": "markdown",
   "metadata": {},
   "source": [
    "### **Python Quiz**\n",
    "#### **What is output?**"
   ]
  },
  {
   "cell_type": "code",
   "execution_count": null,
   "metadata": {},
   "outputs": [],
   "source": [
    "name = 'Manavalan'\n",
    "print('a'*name.count('a'))"
   ]
  },
  {
   "cell_type": "markdown",
   "metadata": {},
   "source": [
    "<h4><span style=\"padding-left:10px;color:black;\"><b>A). 4</b></span></h4>\n",
    "<h4><span style=\"padding-left:10px;color:black;\"><b>B). aaaa</b></span></h4>\n",
    "<h4><span style=\"padding-left:10px;color:black;\"><b>C). Manavalan</b></span></h4>\n",
    "<h4><span style=\"padding-left:10px;color:black;\"><b>D). None</b></span></h4>"
   ]
  },
  {
   "cell_type": "markdown",
   "metadata": {},
   "source": [
    "### **Python Quiz**\n",
    "#### **What is output?**"
   ]
  },
  {
   "cell_type": "code",
   "execution_count": 1,
   "metadata": {},
   "outputs": [
    {
     "data": {
      "text/plain": [
       "'Joe Chennai'"
      ]
     },
     "execution_count": 1,
     "metadata": {},
     "output_type": "execute_result"
    }
   ],
   "source": [
    "def foo(name, city = ''):\n",
    "    return f'{name} {city}'\n",
    "\n",
    "foo('Joe', 'Chennai')"
   ]
  },
  {
   "cell_type": "markdown",
   "metadata": {},
   "source": [
    "<h4><span style=\"padding-left:10px;color:black;\"><b>A). True</b></span></h4>\n",
    "<h4><span style=\"padding-left:10px;color:black;\"><b>B). False</b></span></h4>\n",
    "<h4><span style=\"padding-left:10px;color:black;\"><b>C). Error</b></span></h4>\n",
    "<h4><span style=\"padding-left:10px;color:black;\"><b>D). None</b></span></h4>"
   ]
  },
  {
   "cell_type": "markdown",
   "metadata": {},
   "source": [
    "### **Python Quiz**\n",
    "#### **What is output?**"
   ]
  },
  {
   "cell_type": "code",
   "execution_count": 12,
   "metadata": {},
   "outputs": [
    {
     "name": "stdout",
     "output_type": "stream",
     "text": [
      "None\n"
     ]
    }
   ],
   "source": [
    "def hello():\n",
    "    'Hi'\n",
    "\n",
    "print(hello())"
   ]
  },
  {
   "cell_type": "markdown",
   "metadata": {},
   "source": [
    "<h4><span style=\"padding-left:10px;color:black;\"><b>A). True</b></span></h4>\n",
    "<h4><span style=\"padding-left:10px;color:black;\"><b>B). False</b></span></h4>\n",
    "<h4><span style=\"padding-left:10px;color:black;\"><b>C). Error</b></span></h4>\n",
    "<h4><span style=\"padding-left:10px;color:black;\"><b>D). None</b></span></h4>"
   ]
  },
  {
   "cell_type": "markdown",
   "metadata": {},
   "source": [
    "### **Python Quiz**\n",
    "#### **What is output?**"
   ]
  },
  {
   "cell_type": "code",
   "execution_count": 12,
   "metadata": {},
   "outputs": [
    {
     "name": "stdout",
     "output_type": "stream",
     "text": [
      "{'Name': 'Micheal'}\n"
     ]
    }
   ],
   "source": [
    "mydict = {'Name': 'Micheal'}\n",
    "data = mydict.get('City', 'Chennai')\n",
    "print(mydict)"
   ]
  },
  {
   "cell_type": "markdown",
   "metadata": {},
   "source": [
    "<h4><span style=\"padding-left:10px;color:black;\"><b>A). True</b></span></h4>\n",
    "<h4><span style=\"padding-left:10px;color:black;\"><b>B). False</b></span></h4>\n",
    "<h4><span style=\"padding-left:10px;color:black;\"><b>C). Error</b></span></h4>\n",
    "<h4><span style=\"padding-left:10px;color:black;\"><b>D). None</b></span></h4>"
   ]
  },
  {
   "cell_type": "code",
   "execution_count": 8,
   "metadata": {},
   "outputs": [
    {
     "name": "stdout",
     "output_type": "stream",
     "text": [
      "Hi\n"
     ]
    }
   ],
   "source": [
    "name = not ''\n",
    "\n",
    "if name:\n",
    "    print('Hi')\n",
    "else:\n",
    "    print('Bye')"
   ]
  },
  {
   "cell_type": "code",
   "execution_count": null,
   "metadata": {},
   "outputs": [],
   "source": [
    "dict(A=1, B=2, C=3)"
   ]
  },
  {
   "cell_type": "code",
   "execution_count": 7,
   "metadata": {},
   "outputs": [
    {
     "name": "stdout",
     "output_type": "stream",
     "text": [
      "False\n"
     ]
    }
   ],
   "source": [
    "S = ''\n",
    "print(True if S else False)"
   ]
  },
  {
   "cell_type": "markdown",
   "metadata": {},
   "source": [
    "### **Python Quiz**\n",
    "#### **What is output?**"
   ]
  },
  {
   "cell_type": "code",
   "execution_count": null,
   "metadata": {},
   "outputs": [],
   "source": [
    "L =  [[0,1], [2], [3,4]]\n",
    "print(sum(L, []))"
   ]
  },
  {
   "cell_type": "markdown",
   "metadata": {},
   "source": [
    "<h4><span style=\"padding-left:10px;color:black;\"><b>A). [0, 1, 2, 3, 4]</b></span></h4>\n",
    "<h4><span style=\"padding-left:10px;color:black;\"><b>B). [[0,1], [2], [3,4]]</b></span></h4>\n",
    "<h4><span style=\"padding-left:10px;color:black;\"><b>C). Error</b></span></h4>\n",
    "<h4><span style=\"padding-left:10px;color:black;\"><b>D). None</b></span></h4>"
   ]
  },
  {
   "cell_type": "markdown",
   "metadata": {},
   "source": [
    "***"
   ]
  },
  {
   "cell_type": "markdown",
   "metadata": {},
   "source": [
    "### **Python Quiz**\n",
    "#### **What is output?**"
   ]
  },
  {
   "cell_type": "code",
   "execution_count": null,
   "metadata": {},
   "outputs": [],
   "source": [
    "name = 'Micheal'\n",
    "isinstance(name, str)"
   ]
  },
  {
   "cell_type": "markdown",
   "metadata": {},
   "source": [
    "<h4><span style=\"padding-left:10px;color:black;\"><b>A). True</b></span></h4>\n",
    "<h4><span style=\"padding-left:10px;color:black;\"><b>B). False</b></span></h4>\n",
    "<h4><span style=\"padding-left:10px;color:black;\"><b>C). Error</b></span></h4>\n",
    "<h4><span style=\"padding-left:10px;color:black;\"><b>D). None</b></span></h4>"
   ]
  },
  {
   "cell_type": "markdown",
   "metadata": {},
   "source": [
    "***"
   ]
  },
  {
   "cell_type": "code",
   "execution_count": null,
   "metadata": {},
   "outputs": [],
   "source": [
    "dict('Name' = 'Uday')"
   ]
  },
  {
   "cell_type": "markdown",
   "metadata": {},
   "source": [
    "### **Python Quiz**\n",
    "#### **What is output?**"
   ]
  },
  {
   "cell_type": "code",
   "execution_count": 7,
   "metadata": {},
   "outputs": [
    {
     "data": {
      "text/plain": [
       "'Joe Madurai'"
      ]
     },
     "execution_count": 7,
     "metadata": {},
     "output_type": "execute_result"
    }
   ],
   "source": [
    "def foo(name, city = 'Chennai'):\n",
    "    return f'{name} {city}'\n",
    "\n",
    "foo('Joe', city = 'Madurai')"
   ]
  },
  {
   "cell_type": "markdown",
   "metadata": {},
   "source": [
    "<h4><span style=\"padding-left:10px;color:black;\"><b>A). True</b></span></h4>\n",
    "<h4><span style=\"padding-left:10px;color:black;\"><b>B). False</b></span></h4>\n",
    "<h4><span style=\"padding-left:10px;color:black;\"><b>C). Error</b></span></h4>\n",
    "<h4><span style=\"padding-left:10px;color:black;\"><b>D). None</b></span></h4>"
   ]
  },
  {
   "cell_type": "markdown",
   "metadata": {},
   "source": [
    "### **Python Quiz**\n",
    "#### **What is output?**"
   ]
  },
  {
   "cell_type": "code",
   "execution_count": null,
   "metadata": {},
   "outputs": [],
   "source": [
    "mydict = {'Name': 'Micheal', 'Age': 10}\n",
    "mydict['Age'] = 25\n",
    "print(mydict)"
   ]
  },
  {
   "cell_type": "markdown",
   "metadata": {},
   "source": [
    "<h4><span style=\"padding-left:10px;color:black;\"><b>A). {'Name': 'Micheal', 'Age': 10}</b></span></h4>\n",
    "<h4><span style=\"padding-left:10px;color:black;\"><b>B). {'Name': 'Micheal', 'Age': 25}</b></span></h4>\n",
    "<h4><span style=\"padding-left:10px;color:black;\"><b>C). Key Error</b></span></h4>\n",
    "<h4><span style=\"padding-left:10px;color:black;\"><b>D). None</b></span></h4>"
   ]
  },
  {
   "cell_type": "code",
   "execution_count": 40,
   "metadata": {},
   "outputs": [
    {
     "name": "stdout",
     "output_type": "stream",
     "text": [
      "{'Name': 'Micheal', 'City': 'Chennai', 'address': 'Madurai'}\n"
     ]
    }
   ],
   "source": [
    "mydict = {'Name': 'Micheal', 'City': 'Chennai'}\n",
    "mydict['address'] = 'Madurai'\n",
    "print(mydict)"
   ]
  },
  {
   "cell_type": "markdown",
   "metadata": {},
   "source": [
    "***"
   ]
  },
  {
   "cell_type": "markdown",
   "metadata": {},
   "source": [
    "### **Python Quiz**\n",
    "#### **What is output?**"
   ]
  },
  {
   "cell_type": "code",
   "execution_count": null,
   "metadata": {},
   "outputs": [],
   "source": [
    "color = ['Red', 'Green', 'Blue']\n",
    "R, G, B = color\n",
    "print(G)"
   ]
  },
  {
   "cell_type": "markdown",
   "metadata": {},
   "source": [
    "<h4><span style=\"padding-left:10px;color:black;\"><b>A). Red</b></span></h4>\n",
    "<h4><span style=\"padding-left:10px;color:black;\"><b>B). Green</b></span></h4>\n",
    "<h4><span style=\"padding-left:10px;color:black;\"><b>C). G</b></span></h4>\n",
    "<h4><span style=\"padding-left:10px;color:black;\"><b>D). None</b></span></h4>"
   ]
  },
  {
   "cell_type": "markdown",
   "metadata": {},
   "source": [
    "### **Python Quiz**\n",
    "#### **What is output?**"
   ]
  },
  {
   "cell_type": "code",
   "execution_count": null,
   "metadata": {},
   "outputs": [],
   "source": [
    "class A:\n",
    "    pass\n",
    "\n",
    "print(isinstance(A(), A))"
   ]
  },
  {
   "cell_type": "markdown",
   "metadata": {},
   "source": [
    "<h4><span style=\"padding-left:10px;color:black;\"><b>1. True</b></span></h4>\n",
    "<h4><span style=\"padding-left:10px;color:black;\"><b>2. False</b></span></h4>\n",
    "<h4><span style=\"padding-left:10px;color:black;\"><b>3. Error</b></span></h4>\n",
    "<h4><span style=\"padding-left:10px;color:black;\"><b>4. None</b></span></h4>"
   ]
  },
  {
   "cell_type": "markdown",
   "metadata": {},
   "source": [
    "### **Python Quiz**\n",
    "#### **What is output?**"
   ]
  },
  {
   "cell_type": "code",
   "execution_count": null,
   "metadata": {},
   "outputs": [],
   "source": [
    "print([] != None)"
   ]
  },
  {
   "cell_type": "markdown",
   "metadata": {},
   "source": [
    "<h4><span style=\"padding-left:10px;color:black;\"><b>1. True</b></span></h4>\n",
    "<h4><span style=\"padding-left:10px;color:black;\"><b>2. False</b></span></h4>\n",
    "<h4><span style=\"padding-left:10px;color:black;\"><b>3. Error</b></span></h4>\n",
    "<h4><span style=\"padding-left:10px;color:black;\"><b>4. None</b></span></h4>"
   ]
  },
  {
   "cell_type": "markdown",
   "metadata": {},
   "source": [
    "### **Python Quiz**\n",
    "#### **What is output?**"
   ]
  },
  {
   "cell_type": "code",
   "execution_count": null,
   "metadata": {},
   "outputs": [],
   "source": [
    "() != []"
   ]
  },
  {
   "cell_type": "markdown",
   "metadata": {},
   "source": [
    "<h4><span style=\"padding-left:10px;color:black;\"><b>1. True</b></span></h4>\n",
    "<h4><span style=\"padding-left:10px;color:black;\"><b>2. False</b></span></h4>\n",
    "<h4><span style=\"padding-left:10px;color:black;\"><b>3. Error</b></span></h4>\n",
    "<h4><span style=\"padding-left:10px;color:black;\"><b>4. None</b></span></h4>"
   ]
  },
  {
   "cell_type": "markdown",
   "metadata": {},
   "source": [
    "### **Python Quiz**\n",
    "#### **What is output?**"
   ]
  },
  {
   "cell_type": "code",
   "execution_count": null,
   "metadata": {},
   "outputs": [],
   "source": [
    "65 > 'A'"
   ]
  },
  {
   "cell_type": "markdown",
   "metadata": {},
   "source": [
    "<h4><span style=\"padding-left:10px;color:black;\"><b>1. True</b></span></h4>\n",
    "<h4><span style=\"padding-left:10px;color:black;\"><b>2. False</b></span></h4>\n",
    "<h4><span style=\"padding-left:10px;color:black;\"><b>3. Error</b></span></h4>\n",
    "<h4><span style=\"padding-left:10px;color:black;\"><b>4. None</b></span></h4>"
   ]
  },
  {
   "cell_type": "markdown",
   "metadata": {},
   "source": [
    "### **Python Quiz**\n",
    "#### **What is output?**"
   ]
  },
  {
   "cell_type": "code",
   "execution_count": null,
   "metadata": {},
   "outputs": [],
   "source": [
    "try = 100\n",
    "print(try)"
   ]
  },
  {
   "cell_type": "markdown",
   "metadata": {},
   "source": [
    "<h4><span style=\"padding-left:10px;color:black;\"><b>1. True</b></span></h4>\n",
    "<h4><span style=\"padding-left:10px;color:black;\"><b>2. False</b></span></h4>\n",
    "<h4><span style=\"padding-left:10px;color:black;\"><b>3. Error</b></span></h4>\n",
    "<h4><span style=\"padding-left:10px;color:black;\"><b>4. None</b></span></h4>"
   ]
  },
  {
   "cell_type": "markdown",
   "metadata": {},
   "source": [
    "### **Python Quiz**\n",
    "#### **What is output?**"
   ]
  },
  {
   "cell_type": "code",
   "execution_count": 8,
   "metadata": {},
   "outputs": [
    {
     "data": {
      "text/plain": [
       "'Joe Chennai'"
      ]
     },
     "execution_count": 8,
     "metadata": {},
     "output_type": "execute_result"
    }
   ],
   "source": [
    "def foo(name, city = 'Chennai'):\n",
    "    return f'{name} {city}'\n",
    "\n",
    "foo('Joe')"
   ]
  },
  {
   "cell_type": "markdown",
   "metadata": {},
   "source": [
    "<h4><span style=\"padding-left:10px;color:black;\"><b>A). True</b></span></h4>\n",
    "<h4><span style=\"padding-left:10px;color:black;\"><b>B). False</b></span></h4>\n",
    "<h4><span style=\"padding-left:10px;color:black;\"><b>C). Error</b></span></h4>\n",
    "<h4><span style=\"padding-left:10px;color:black;\"><b>D). None</b></span></h4>"
   ]
  },
  {
   "cell_type": "code",
   "execution_count": null,
   "metadata": {},
   "outputs": [],
   "source": [
    "L = [*range(4)]"
   ]
  },
  {
   "cell_type": "markdown",
   "metadata": {},
   "source": [
    "### **Python Quiz**\n",
    "#### **What is output?**"
   ]
  },
  {
   "cell_type": "code",
   "execution_count": null,
   "metadata": {},
   "outputs": [],
   "source": [
    "L = ['M', 'a', 'n', 'a', 'v', 'a', 'l', 'a', 'n']\n",
    "del L[::2]\n",
    "L"
   ]
  },
  {
   "cell_type": "markdown",
   "metadata": {},
   "source": [
    "<h4><span style=\"padding-left:10px;color:black;\"><b>1. ['M', 'a', 'n', 'a', 'v', 'a', 'l', 'a', 'n']</b></span></h4>\n",
    "<h4><span style=\"padding-left:10px;color:black;\"><b>2. ['a', 'a', 'a', 'a']</b></span></h4>\n",
    "<h4><span style=\"padding-left:10px;color:black;\"><b>3. None</b></span></h4>\n",
    "<h4><span style=\"padding-left:10px;color:black;\"><b>4. Error</b></span></h4>"
   ]
  },
  {
   "cell_type": "markdown",
   "metadata": {},
   "source": [
    "### **Python Quiz**\n",
    "#### **What is output?**"
   ]
  },
  {
   "cell_type": "code",
   "execution_count": null,
   "metadata": {},
   "outputs": [],
   "source": [
    "L = [1, 2, 3]\n",
    "L[:] = 'xyz'\n",
    "print(L)"
   ]
  },
  {
   "cell_type": "markdown",
   "metadata": {},
   "source": [
    "<h4><span style=\"padding-left:10px;color:black;\"><b>A). [1, 2, 3]</b></span></h4>\n",
    "<h4><span style=\"padding-left:10px;color:black;\"><b>B). 'xyz'</b></span></h4>\n",
    "<h4><span style=\"padding-left:10px;color:black;\"><b>C). ['x', 'y', 'z']</b></span></h4>\n",
    "<h4><span style=\"padding-left:10px;color:black;\"><b>D). None</b></span></h4>"
   ]
  },
  {
   "cell_type": "code",
   "execution_count": null,
   "metadata": {},
   "outputs": [],
   "source": [
    "L = ['P', 'y', 't', 'h', 'o', 'n']\n",
    "del L[3:]\n"
   ]
  },
  {
   "cell_type": "markdown",
   "metadata": {},
   "source": [
    "### **Python Quiz**\n",
    "#### **What is output?**"
   ]
  },
  {
   "cell_type": "code",
   "execution_count": null,
   "metadata": {},
   "outputs": [],
   "source": [
    "S = 'one,two,three'\n",
    "print(S.split())"
   ]
  },
  {
   "cell_type": "markdown",
   "metadata": {},
   "source": [
    "<h4><span style=\"padding-left:10px;color:black;\"><b>1. ['one', 'two', 'three']</b></span></h4>\n",
    "<h4><span style=\"padding-left:10px;color:black;\"><b>2. ['one,two,three']</b></span></h4>\n",
    "<h4><span style=\"padding-left:10px;color:black;\"><b>3. 'one', 'two', 'three'</b></span></h4>\n",
    "<h4><span style=\"padding-left:10px;color:black;\"><b>4. Error</b></span></h4>"
   ]
  },
  {
   "cell_type": "markdown",
   "metadata": {},
   "source": [
    "### **Python Quiz**\n",
    "#### **What is output?**"
   ]
  },
  {
   "cell_type": "code",
   "execution_count": null,
   "metadata": {},
   "outputs": [],
   "source": [
    "print(--10)"
   ]
  },
  {
   "cell_type": "markdown",
   "metadata": {},
   "source": [
    "<h4><span style=\"padding-left:10px;color:black;\"><b>A). --10</b></span></h4>\n",
    "<h4><span style=\"padding-left:10px;color:black;\"><b>B). -10</b></span></h4>\n",
    "<h4><span style=\"padding-left:10px;color:black;\"><b>C). 10</b></span></h4>\n",
    "<h4><span style=\"padding-left:10px;color:black;\"><b>D). None</b></span></h4> "
   ]
  },
  {
   "cell_type": "code",
   "execution_count": null,
   "metadata": {},
   "outputs": [],
   "source": []
  },
  {
   "cell_type": "markdown",
   "metadata": {},
   "source": [
    "### **Python Quiz**\n",
    "#### **What is output?**"
   ]
  },
  {
   "cell_type": "code",
   "execution_count": null,
   "metadata": {},
   "outputs": [],
   "source": [
    " print(True if 5 else False)"
   ]
  },
  {
   "cell_type": "markdown",
   "metadata": {},
   "source": [
    "<h4><span style=\"padding-left:10px;color:black;\"><b>A). True</b></span></h4>\n",
    "<h4><span style=\"padding-left:10px;color:black;\"><b>B). Error</b></span></h4>\n",
    "<h4><span style=\"padding-left:10px;color:black;\"><b>C). False</b></span></h4>\n",
    "<h4><span style=\"padding-left:10px;color:black;\"><b>D). None</b></span></h4>"
   ]
  },
  {
   "cell_type": "markdown",
   "metadata": {},
   "source": [
    "### **Python Quiz**\n",
    "#### **What is output?**"
   ]
  },
  {
   "cell_type": "code",
   "execution_count": null,
   "metadata": {},
   "outputs": [],
   "source": [
    "D = {0: 'Hi', 1: 'Python'}\n",
    "print(all(D))"
   ]
  },
  {
   "cell_type": "markdown",
   "metadata": {},
   "source": [
    "<h4><span style=\"padding-left:10px;color:black;\"><b>A). True</b></span></h4>\n",
    "<h4><span style=\"padding-left:10px;color:black;\"><b>B). Error</b></span></h4>\n",
    "<h4><span style=\"padding-left:10px;color:black;\"><b>C). None</b></span></h4>\n",
    "<h4><span style=\"padding-left:10px;color:black;\"><b>D). False</b></span></h4>"
   ]
  },
  {
   "cell_type": "markdown",
   "metadata": {},
   "source": [
    "### **Python Quiz**\n",
    "#### **What is output?**"
   ]
  },
  {
   "cell_type": "code",
   "execution_count": null,
   "metadata": {},
   "outputs": [],
   "source": [
    "L = [1, 2, 0, 3]\n",
    "\n",
    "def chk(values):\n",
    "    for val in values:\n",
    "        if not val:\n",
    "            return False\n",
    "    return True\n",
    "    \n",
    "chk(L)"
   ]
  },
  {
   "cell_type": "markdown",
   "metadata": {},
   "source": [
    "<h4><span style=\"padding-left:10px;color:black;\"><b>A). True</b></span></h4>\n",
    "<h4><span style=\"padding-left:10px;color:black;\"><b>B). [1, 2, 0, 3]</b></span></h4>\n",
    "<h4><span style=\"padding-left:10px;color:black;\"><b>C). None</b></span></h4>\n",
    "<h4><span style=\"padding-left:10px;color:black;\"><b>D). False</b></span></h4>"
   ]
  },
  {
   "cell_type": "markdown",
   "metadata": {},
   "source": [
    "### **Python Quiz**\n",
    "#### **What is output?**"
   ]
  },
  {
   "cell_type": "code",
   "execution_count": null,
   "metadata": {},
   "outputs": [],
   "source": [
    " print(True if [] else False)"
   ]
  },
  {
   "cell_type": "markdown",
   "metadata": {},
   "source": [
    "<h4><span style=\"padding-left:10px;color:black;\"><b>A). True</b></span></h4>\n",
    "<h4><span style=\"padding-left:10px;color:black;\"><b>B). []</b></span></h4>\n",
    "<h4><span style=\"padding-left:10px;color:black;\"><b>C). False</b></span></h4>\n",
    "<h4><span style=\"padding-left:10px;color:black;\"><b>D). None</b></span></h4>"
   ]
  },
  {
   "cell_type": "markdown",
   "metadata": {},
   "source": [
    "### **Python Quiz**\n",
    "#### **What is output?**"
   ]
  },
  {
   "cell_type": "code",
   "execution_count": null,
   "metadata": {},
   "outputs": [],
   "source": [
    "print({} or 3)"
   ]
  },
  {
   "cell_type": "markdown",
   "metadata": {},
   "source": [
    "<h4><span style=\"padding-left:10px;color:black;\"><b>A). Error</b></span></h4>\n",
    "<h4><span style=\"padding-left:10px;color:black;\"><b>B). 3</b></span></h4>\n",
    "<h4><span style=\"padding-left:10px;color:black;\"><b>C). {}</b></span></h4>\n",
    "<h4><span style=\"padding-left:10px;color:black;\"><b>D). None</b></span></h4>"
   ]
  },
  {
   "cell_type": "markdown",
   "metadata": {},
   "source": [
    "### **Python Quiz**\n",
    "#### **What is output?**"
   ]
  },
  {
   "cell_type": "code",
   "execution_count": 16,
   "metadata": {},
   "outputs": [
    {
     "name": "stdout",
     "output_type": "stream",
     "text": [
      "['M', 'n', 'v', 'l', 'n']\n"
     ]
    }
   ],
   "source": [
    "S = 'Manavalan'\n",
    "print(S.split('a'))"
   ]
  },
  {
   "cell_type": "markdown",
   "metadata": {},
   "source": [
    "<h4><span style=\"padding-left:10px;color:black;\"><b>A). Error</b></span></h4>\n",
    "<h4><span style=\"padding-left:10px;color:black;\"><b>B). Manavalan</b></span></h4>\n",
    "<h4><span style=\"padding-left:10px;color:black;\"><b>C). ['M', 'n', 'v', 'l', 'n']</b></span></h4>\n",
    "<h4><span style=\"padding-left:10px;color:black;\"><b>D). ['a', 'a', 'a', 'a']</b></span></h4>"
   ]
  },
  {
   "cell_type": "code",
   "execution_count": 28,
   "metadata": {},
   "outputs": [
    {
     "ename": "ValueError",
     "evalue": "bytes must be in range(0, 256)",
     "output_type": "error",
     "traceback": [
      "\u001b[0;31m---------------------------------------------------------------------------\u001b[0m",
      "\u001b[0;31mValueError\u001b[0m                                Traceback (most recent call last)",
      "\u001b[0;32m<ipython-input-28-21a83be4de00>\u001b[0m in \u001b[0;36m<module>\u001b[0;34m\u001b[0m\n\u001b[0;32m----> 1\u001b[0;31m \u001b[0mprint\u001b[0m\u001b[0;34m(\u001b[0m\u001b[0mbytes\u001b[0m\u001b[0;34m(\u001b[0m\u001b[0;34m[\u001b[0m\u001b[0;36m257\u001b[0m\u001b[0;34m]\u001b[0m\u001b[0;34m)\u001b[0m\u001b[0;34m)\u001b[0m\u001b[0;34m\u001b[0m\u001b[0;34m\u001b[0m\u001b[0m\n\u001b[0m",
      "\u001b[0;31mValueError\u001b[0m: bytes must be in range(0, 256)"
     ]
    }
   ],
   "source": [
    "print(bytes([257]))"
   ]
  },
  {
   "cell_type": "code",
   "execution_count": 29,
   "metadata": {},
   "outputs": [
    {
     "ename": "ValueError",
     "evalue": "chr() arg not in range(0x110000)",
     "output_type": "error",
     "traceback": [
      "\u001b[0;31m---------------------------------------------------------------------------\u001b[0m",
      "\u001b[0;31mValueError\u001b[0m                                Traceback (most recent call last)",
      "\u001b[0;32m<ipython-input-29-cc75ca4b8514>\u001b[0m in \u001b[0;36m<module>\u001b[0;34m\u001b[0m\n\u001b[0;32m----> 1\u001b[0;31m \u001b[0mprint\u001b[0m\u001b[0;34m(\u001b[0m\u001b[0mchr\u001b[0m\u001b[0;34m(\u001b[0m\u001b[0;34m-\u001b[0m\u001b[0;36m65\u001b[0m\u001b[0;34m)\u001b[0m\u001b[0;34m)\u001b[0m\u001b[0;34m\u001b[0m\u001b[0;34m\u001b[0m\u001b[0m\n\u001b[0m",
      "\u001b[0;31mValueError\u001b[0m: chr() arg not in range(0x110000)"
     ]
    }
   ],
   "source": [
    "print(chr(-65))"
   ]
  },
  {
   "cell_type": "code",
   "execution_count": 30,
   "metadata": {},
   "outputs": [
    {
     "data": {
      "text/plain": [
       "'M***'"
      ]
     },
     "execution_count": 30,
     "metadata": {},
     "output_type": "execute_result"
    }
   ],
   "source": [
    "S = '****M***'\n",
    "S.lstrip('*')"
   ]
  },
  {
   "cell_type": "code",
   "execution_count": 1,
   "metadata": {},
   "outputs": [
    {
     "data": {
      "text/plain": [
       "1"
      ]
     },
     "execution_count": 1,
     "metadata": {},
     "output_type": "execute_result"
    }
   ],
   "source": [
    "L = [3, 3, 26, 5, 2, 1]\n",
    "L.pop()"
   ]
  },
  {
   "cell_type": "code",
   "execution_count": 3,
   "metadata": {},
   "outputs": [
    {
     "data": {
      "text/plain": [
       "False"
      ]
     },
     "execution_count": 3,
     "metadata": {},
     "output_type": "execute_result"
    }
   ],
   "source": [
    "name = \"micheal@\"\n",
    "name.isidentifier()"
   ]
  },
  {
   "cell_type": "markdown",
   "metadata": {},
   "source": [
    "### **Python Quiz**\n",
    "#### **What is output?**"
   ]
  },
  {
   "cell_type": "code",
   "execution_count": null,
   "metadata": {},
   "outputs": [],
   "source": [
    "currency& = 10"
   ]
  },
  {
   "cell_type": "markdown",
   "metadata": {},
   "source": [
    "<h4><span style=\"padding-left:10px;color:black;\"><b>1. True</b></span></h4>\n",
    "<h4><span style=\"padding-left:10px;color:black;\"><b>2. False</b></span></h4>\n",
    "<h4><span style=\"padding-left:10px;color:black;\"><b>3. Error</b></span></h4>\n",
    "<h4><span style=\"padding-left:10px;color:black;\"><b>4. None</b></span></h4>"
   ]
  },
  {
   "cell_type": "markdown",
   "metadata": {},
   "source": [
    "### **What is output ?**"
   ]
  },
  {
   "cell_type": "code",
   "execution_count": null,
   "metadata": {},
   "outputs": [],
   "source": [
    "s = iter('Micheal')\n",
    "print([s][1])"
   ]
  },
  {
   "cell_type": "raw",
   "metadata": {},
   "source": [
    "1. Error\n",
    "2. Micheal\n",
    "3. i\n",
    "4. M"
   ]
  },
  {
   "cell_type": "markdown",
   "metadata": {},
   "source": [
    "### **What is output?**"
   ]
  },
  {
   "cell_type": "code",
   "execution_count": null,
   "metadata": {},
   "outputs": [],
   "source": [
    "def add(a, b):\n",
    "    a + b\n",
    "    \n",
    "print(add(2, 3))"
   ]
  },
  {
   "cell_type": "raw",
   "metadata": {},
   "source": [
    "A. 5\n",
    "B. None\n",
    "C. a + b\n",
    "D. 2, 3"
   ]
  },
  {
   "cell_type": "markdown",
   "metadata": {},
   "source": [
    "### **What is output of this program?**"
   ]
  },
  {
   "cell_type": "code",
   "execution_count": null,
   "metadata": {},
   "outputs": [],
   "source": [
    "%%python3\n",
    "\n",
    "for i in range(6):\n",
    "    pass\n",
    "else:\n",
    "    print(i)"
   ]
  },
  {
   "cell_type": "raw",
   "metadata": {},
   "source": [
    "A). Error\n",
    "B). 5\n",
    "C). 6\n",
    "D). None"
   ]
  },
  {
   "cell_type": "markdown",
   "metadata": {},
   "source": [
    "### **What is output of this program?**"
   ]
  },
  {
   "cell_type": "code",
   "execution_count": null,
   "metadata": {},
   "outputs": [],
   "source": [
    "%%bash\n",
    "\n",
    "for i in {1..6}; do\n",
    ": echo $i\n",
    "done\n",
    "echo $i"
   ]
  },
  {
   "cell_type": "raw",
   "metadata": {},
   "source": [
    "A). Error\n",
    "B). 5\n",
    "C). 6\n",
    "D). None"
   ]
  },
  {
   "cell_type": "markdown",
   "metadata": {},
   "source": [
    "### **Python Quiz**\n",
    "#### **What is output?**"
   ]
  },
  {
   "cell_type": "code",
   "execution_count": 6,
   "metadata": {},
   "outputs": [
    {
     "ename": "SyntaxError",
     "evalue": "positional argument follows keyword argument (<ipython-input-6-69eb09b582fe>, line 4)",
     "output_type": "error",
     "traceback": [
      "\u001b[0;36m  File \u001b[0;32m\"<ipython-input-6-69eb09b582fe>\"\u001b[0;36m, line \u001b[0;32m4\u001b[0m\n\u001b[0;31m    foo(city = 'Madurai', Joe)\u001b[0m\n\u001b[0m                         ^\u001b[0m\n\u001b[0;31mSyntaxError\u001b[0m\u001b[0;31m:\u001b[0m positional argument follows keyword argument\n"
     ]
    }
   ],
   "source": [
    "def foo(name, city = 'Chennai'):\n",
    "    return f'{name} {city}'\n",
    "\n",
    "foo(city = 'Madurai', Joe)"
   ]
  },
  {
   "cell_type": "markdown",
   "metadata": {},
   "source": [
    "<h4><span style=\"padding-left:10px;color:black;\"><b>A). True</b></span></h4>\n",
    "<h4><span style=\"padding-left:10px;color:black;\"><b>B). False</b></span></h4>\n",
    "<h4><span style=\"padding-left:10px;color:black;\"><b>C). Error</b></span></h4>\n",
    "<h4><span style=\"padding-left:10px;color:black;\"><b>D). None</b></span></h4>"
   ]
  },
  {
   "cell_type": "markdown",
   "metadata": {},
   "source": [
    "### What is output of this program?"
   ]
  },
  {
   "cell_type": "raw",
   "metadata": {},
   "source": [
    "a = [ 1,2,3,4,5]\n",
    "for i in range(1,5):\n",
    "    a[~i+1] = a[i]\n",
    "for i in range(0,5):\n",
    "    print(a[i], end = ' ')"
   ]
  },
  {
   "cell_type": "raw",
   "metadata": {},
   "source": [
    "1. 1,2,3,4,5\n",
    "2. 2,4,6,8,10\n",
    "3. 1 2 3 3 2\n",
    "4. 1 2 3 4 2 "
   ]
  },
  {
   "cell_type": "markdown",
   "metadata": {},
   "source": [
    "### What is Output this Program?"
   ]
  },
  {
   "cell_type": "raw",
   "metadata": {},
   "source": [
    "print(7 and 'O' and 1)"
   ]
  },
  {
   "cell_type": "raw",
   "metadata": {},
   "source": [
    "1. 7\n",
    "2. O\n",
    "3. 1\n",
    "4. True\n",
    "5. False"
   ]
  },
  {
   "cell_type": "markdown",
   "metadata": {},
   "source": [
    "### **Python Quiz**\n",
    "#### **What is output?**"
   ]
  },
  {
   "cell_type": "code",
   "execution_count": null,
   "metadata": {},
   "outputs": [],
   "source": [
    "print(not '')"
   ]
  },
  {
   "cell_type": "markdown",
   "metadata": {},
   "source": [
    "<h4><span style=\"padding-left:10px;color:black;\"><b>A). True</b></span></h4>\n",
    "<h4><span style=\"padding-left:10px;color:black;\"><b>B). ''</b></span></h4>\n",
    "<h4><span style=\"padding-left:10px;color:black;\"><b>C). False</b></span></h4>\n",
    "<h4><span style=\"padding-left:10px;color:black;\"><b>D). None</b></span></h4>"
   ]
  },
  {
   "cell_type": "markdown",
   "metadata": {},
   "source": [
    "### What is Output this Program?"
   ]
  },
  {
   "cell_type": "code",
   "execution_count": null,
   "metadata": {},
   "outputs": [],
   "source": [
    "lst = ['M', '', \"A\", 'N']\n",
    "print([i for i in lst if i])"
   ]
  },
  {
   "cell_type": "raw",
   "metadata": {},
   "source": [
    "1. ['M', 'A', 'N']\n",
    "2. ['M', '', \"A\", 'N']\n",
    "3. ['MAN']\n",
    "4. ['M AN']"
   ]
  },
  {
   "cell_type": "markdown",
   "metadata": {},
   "source": [
    "### What is Output this Program?"
   ]
  },
  {
   "cell_type": "raw",
   "metadata": {},
   "source": [
    "first_name = 'Manavalan'\n",
    "last_name = 'Micheal'\n",
    "name = first_name or last_name\n",
    "print(name)"
   ]
  },
  {
   "cell_type": "raw",
   "metadata": {},
   "source": [
    "1. Manavalan Micheal\n",
    "2. Micheal\n",
    "3. Manavalan\n",
    "4. None"
   ]
  },
  {
   "cell_type": "markdown",
   "metadata": {},
   "source": [
    "### What is Output this Program?"
   ]
  },
  {
   "cell_type": "code",
   "execution_count": null,
   "metadata": {},
   "outputs": [],
   "source": [
    "name = 'Manavalan'\n",
    "name.replace('a','',1)"
   ]
  },
  {
   "cell_type": "raw",
   "metadata": {},
   "source": [
    "1. 'Mnvln'\n",
    "2.  Mnavalan\n",
    "3.  Manavaln\n",
    "4. Error"
   ]
  },
  {
   "cell_type": "markdown",
   "metadata": {},
   "source": [
    "### What is Output this Program?"
   ]
  },
  {
   "cell_type": "raw",
   "metadata": {},
   "source": [
    "'Python'.split()"
   ]
  },
  {
   "cell_type": "raw",
   "metadata": {},
   "source": [
    "1. ['P', 'y', 't', 'h', 'o', 'n']\n",
    "2. None\n",
    "3. ['Python']\n",
    "4. 'Python'\n",
    "5. Python"
   ]
  },
  {
   "cell_type": "markdown",
   "metadata": {},
   "source": [
    "### What are correct statement to fetch 5 only?"
   ]
  },
  {
   "cell_type": "raw",
   "metadata": {},
   "source": [
    "num = '3257560159585'\n",
    "\n",
    "1. import re; re.findall(r'5',num)\n",
    "2. [i for i in list(num) if i ==5]\n",
    "3. [i for i in num if i ==5]\n",
    "4. [i for i in num if int(i) ==5]"
   ]
  },
  {
   "cell_type": "code",
   "execution_count": null,
   "metadata": {},
   "outputs": [],
   "source": [
    "s = iter('Micheal')\n",
    "list(zip(s, range(1,4),s))[0]"
   ]
  },
  {
   "cell_type": "markdown",
   "metadata": {},
   "source": [
    "### What is output of this program?"
   ]
  },
  {
   "cell_type": "raw",
   "metadata": {},
   "source": [
    "import re\n",
    "mystring = 'P*&yt-*h$%o@n+'\n",
    "''.join(re.findall(r'[a-zA-Z', mystring)"
   ]
  },
  {
   "cell_type": "raw",
   "metadata": {},
   "source": [
    "1. 'Python'\n",
    "2. "
   ]
  },
  {
   "cell_type": "markdown",
   "metadata": {},
   "source": [
    "### What is output of this program?"
   ]
  },
  {
   "cell_type": "raw",
   "metadata": {},
   "source": [
    "string = 'AB' + 'BA'\n",
    "print(string[::-1])"
   ]
  },
  {
   "cell_type": "raw",
   "metadata": {},
   "source": [
    "1. ABBA\n",
    "2. BAAB\n",
    "3. AABB\n",
    "4. BBAA"
   ]
  },
  {
   "cell_type": "markdown",
   "metadata": {},
   "source": [
    "### What is output of this program?"
   ]
  },
  {
   "cell_type": "raw",
   "metadata": {},
   "source": [
    "'Correct' if 'AB' + 'BA' == 'AB' else 'Wrong'"
   ]
  },
  {
   "cell_type": "markdown",
   "metadata": {},
   "source": [
    "### What is output of this program?"
   ]
  },
  {
   "cell_type": "raw",
   "metadata": {},
   "source": [
    "lst = [1,4,6,10]\n",
    "lst[4]"
   ]
  },
  {
   "cell_type": "raw",
   "metadata": {},
   "source": [
    "1. 10\n",
    "2. In"
   ]
  },
  {
   "cell_type": "markdown",
   "metadata": {},
   "source": [
    "### What is output of this program?"
   ]
  },
  {
   "cell_type": "raw",
   "metadata": {},
   "source": [
    "def num(x,y):\n",
    "    return x+y, x-y\n",
    "print(num(19,4))"
   ]
  },
  {
   "cell_type": "raw",
   "metadata": {},
   "source": [
    "1. 23, 15\n",
    "2. 19, 4\n",
    "3. (23, 15)\n",
    "4. 38"
   ]
  },
  {
   "cell_type": "markdown",
   "metadata": {},
   "source": [
    "### What is output of this program?"
   ]
  },
  {
   "cell_type": "raw",
   "metadata": {},
   "source": [
    "numbers = [1, 2, 2, 4, 5, 7, 8, 3, 4, 6, 1, 4, 6]\n",
    "print(list({num for num in numbers}))"
   ]
  },
  {
   "cell_type": "raw",
   "metadata": {},
   "source": [
    "1. {1:1,2:2,4:3,5:1,6:2,7:1,8:1}\n",
    "2. {1:2,2:2,3:1,4:3,5:1,6:2,7:1,8:1}\n",
    "3. ValueError\n",
    "4. [1, 2, 3, 4, 5, 6, 7, 8]"
   ]
  },
  {
   "cell_type": "markdown",
   "metadata": {},
   "source": [
    "### What is output of this program?"
   ]
  },
  {
   "cell_type": "code",
   "execution_count": null,
   "metadata": {},
   "outputs": [],
   "source": [
    "lst = [100, 388, 567, 3]\n",
    "for i in range(len(lst)):\n",
    "    lst[i] = i\n",
    "lst"
   ]
  },
  {
   "cell_type": "markdown",
   "metadata": {},
   "source": [
    "### What is output of this program?"
   ]
  },
  {
   "cell_type": "code",
   "execution_count": null,
   "metadata": {},
   "outputs": [],
   "source": [
    "a = {0:0}\n",
    "del a[0]\n",
    "a[0] = 0\n",
    "a"
   ]
  },
  {
   "cell_type": "markdown",
   "metadata": {},
   "source": [
    "### **What is output of this program?**"
   ]
  },
  {
   "cell_type": "code",
   "execution_count": null,
   "metadata": {},
   "outputs": [],
   "source": [
    "result = True if len('Micheal') >= 7 else False\n",
    "print(result)"
   ]
  },
  {
   "cell_type": "markdown",
   "metadata": {},
   "source": [
    "### **What is output of this program?**"
   ]
  },
  {
   "cell_type": "code",
   "execution_count": null,
   "metadata": {},
   "outputs": [],
   "source": [
    "bool('HI' and 1)"
   ]
  },
  {
   "cell_type": "markdown",
   "metadata": {},
   "source": [
    "### **Is this solvable?**"
   ]
  },
  {
   "cell_type": "code",
   "execution_count": null,
   "metadata": {},
   "outputs": [],
   "source": [
    "What is () + () + () = 30 using 1,3,5,7,9,11,13,15?"
   ]
  },
  {
   "cell_type": "code",
   "execution_count": null,
   "metadata": {},
   "outputs": [],
   "source": [
    "1. Yes\n",
    "2. No\n",
    "3. If Yes, explain\n",
    "4. If No, explain \n"
   ]
  },
  {
   "cell_type": "markdown",
   "metadata": {},
   "source": [
    "### What is output"
   ]
  },
  {
   "cell_type": "code",
   "execution_count": null,
   "metadata": {},
   "outputs": [],
   "source": [
    "print('' or 20)"
   ]
  },
  {
   "cell_type": "markdown",
   "metadata": {},
   "source": [
    "### **What is output?**"
   ]
  },
  {
   "cell_type": "code",
   "execution_count": null,
   "metadata": {},
   "outputs": [],
   "source": [
    "lst = M, A, N, A, V, A, L, A, N = [i%8 for i in range(9)]\n",
    "print(V)"
   ]
  },
  {
   "cell_type": "markdown",
   "metadata": {},
   "source": [
    "### **What is output?**"
   ]
  },
  {
   "cell_type": "code",
   "execution_count": null,
   "metadata": {},
   "outputs": [],
   "source": [
    "lst = ['M', '', \"A\", 0, 5 , 'N',  1, None, 3, 'S']\n",
    "[i for i in lst if i or i == 0]"
   ]
  },
  {
   "cell_type": "markdown",
   "metadata": {},
   "source": [
    "### What is output?"
   ]
  },
  {
   "cell_type": "code",
   "execution_count": null,
   "metadata": {},
   "outputs": [],
   "source": [
    "print(*(i*2 for i in range(9)))"
   ]
  },
  {
   "cell_type": "markdown",
   "metadata": {},
   "source": [
    "### **What is output?**"
   ]
  },
  {
   "cell_type": "code",
   "execution_count": null,
   "metadata": {},
   "outputs": [],
   "source": [
    "%%bash\n",
    "\n",
    "name=(\"Ram\", \"Robert\", \"Micheal\", \"Siva\")\n",
    "echo ${name[2+1]}\n"
   ]
  },
  {
   "cell_type": "raw",
   "metadata": {},
   "source": [
    "I), Ram\n",
    "II). Robert\n",
    "III). Mcheal\n",
    "IV). Siva"
   ]
  },
  {
   "cell_type": "markdown",
   "metadata": {},
   "source": [
    "### **Python Quiz**\n",
    "#### **What is output?**"
   ]
  },
  {
   "cell_type": "code",
   "execution_count": null,
   "metadata": {},
   "outputs": [],
   "source": [
    "() > []"
   ]
  },
  {
   "cell_type": "markdown",
   "metadata": {},
   "source": [
    "<h4><span style=\"padding-left:10px;color:black;\"><b>1. True</b></span></h4>\n",
    "<h4><span style=\"padding-left:10px;color:black;\"><b>2. False</b></span></h4>\n",
    "<h4><span style=\"padding-left:10px;color:black;\"><b>3. Error</b></span></h4>\n",
    "<h4><span style=\"padding-left:10px;color:black;\"><b>4. None</b></span></h4>"
   ]
  },
  {
   "cell_type": "markdown",
   "metadata": {},
   "source": [
    "### **What is output?**"
   ]
  },
  {
   "cell_type": "code",
   "execution_count": null,
   "metadata": {},
   "outputs": [],
   "source": [
    "%%python3\n",
    "\n",
    "name=(\"Ram\", \"Robert\", \"Micheal\", \"Siva\")\n",
    "\n",
    "print(f\"{name[-1]}\")"
   ]
  },
  {
   "cell_type": "raw",
   "metadata": {},
   "source": [
    "I). Ram\n",
    "II). Robert\n",
    "III). Mcheal\n",
    "IV). Siva"
   ]
  },
  {
   "cell_type": "markdown",
   "metadata": {},
   "source": [
    "### **What is output?**"
   ]
  },
  {
   "cell_type": "code",
   "execution_count": null,
   "metadata": {},
   "outputs": [],
   "source": [
    "name = 'Manavalan Micheal'.split()[1]\n",
    "print(name)"
   ]
  },
  {
   "cell_type": "raw",
   "metadata": {},
   "source": [
    "1. Manavalan\n",
    "2. None\n",
    "3. Micheal\n",
    "4. Manavalan Micheal"
   ]
  },
  {
   "cell_type": "markdown",
   "metadata": {},
   "source": [
    "### **What is output?**"
   ]
  },
  {
   "cell_type": "code",
   "execution_count": null,
   "metadata": {},
   "outputs": [],
   "source": [
    "echo \"Manavalan Micheal\" | awk '{print $2}'"
   ]
  },
  {
   "cell_type": "raw",
   "metadata": {},
   "source": [
    "1. Manavalan\n",
    "2. None\n",
    "3. Micheal\n",
    "4. Manavalan Micheal"
   ]
  },
  {
   "cell_type": "markdown",
   "metadata": {},
   "source": [
    "### **Guess What output will come?**"
   ]
  },
  {
   "cell_type": "code",
   "execution_count": 2,
   "metadata": {},
   "outputs": [
    {
     "name": "stdout",
     "output_type": "stream",
     "text": [
      "1\n"
     ]
    }
   ],
   "source": [
    "from random import randrange\n",
    "\n",
    "print(randrange(20))"
   ]
  },
  {
   "cell_type": "raw",
   "metadata": {},
   "source": [
    "A). 15\n",
    "B). 12\n",
    "C). 4\n",
    "D). We could not Guess it."
   ]
  },
  {
   "cell_type": "markdown",
   "metadata": {},
   "source": [
    "### **Guess What Color Print?**"
   ]
  },
  {
   "cell_type": "code",
   "execution_count": null,
   "metadata": {},
   "outputs": [],
   "source": [
    "from random import choice\n",
    "\n",
    "colors = ['Red', 'Rose', 'Black', 'Gold']\n",
    "choice(colors)"
   ]
  },
  {
   "cell_type": "raw",
   "metadata": {},
   "source": [
    "1. Red\n",
    "2. Rose\n",
    "3. Black\n",
    "4. Not Guess"
   ]
  },
  {
   "cell_type": "markdown",
   "metadata": {},
   "source": [
    "### **How many elements in this list?**"
   ]
  },
  {
   "cell_type": "code",
   "execution_count": 1,
   "metadata": {},
   "outputs": [
    {
     "data": {
      "text/plain": [
       "1"
      ]
     },
     "execution_count": 1,
     "metadata": {},
     "output_type": "execute_result"
    }
   ],
   "source": [
    "lst = ['SN;\"Name\";\"Quotes\"']\n",
    "print(len(lst))"
   ]
  },
  {
   "cell_type": "markdown",
   "metadata": {},
   "source": [
    "### **Python Quiz**\n",
    "#### **What is output?**"
   ]
  },
  {
   "cell_type": "code",
   "execution_count": null,
   "metadata": {},
   "outputs": [],
   "source": [
    "lang = 'Python'\n",
    "lang[-2:-4]"
   ]
  },
  {
   "cell_type": "markdown",
   "metadata": {},
   "source": [
    "**1. yth**\n",
    "\n",
    "**2. tho**\n",
    "\n",
    "**3. Blank Output**\n",
    "\n",
    "**4. Error**"
   ]
  },
  {
   "cell_type": "markdown",
   "metadata": {},
   "source": [
    "### **Python Quiz**\n",
    "#### **What is output?**"
   ]
  },
  {
   "cell_type": "code",
   "execution_count": null,
   "metadata": {},
   "outputs": [],
   "source": [
    "L = []\n",
    "all(L)"
   ]
  },
  {
   "cell_type": "markdown",
   "metadata": {},
   "source": [
    "<h4><span style=\"padding-left:10px;color:black;\"><b>1. True</b></span></h4>\n",
    "<h4><span style=\"padding-left:10px;color:black;\"><b>2. False</b></span></h4>\n",
    "<h4><span style=\"padding-left:10px;color:black;\"><b>3. Error</b></span></h4>\n",
    "<h4><span style=\"padding-left:10px;color:black;\"><b>4. None</b></span></h4>"
   ]
  },
  {
   "cell_type": "markdown",
   "metadata": {},
   "source": [
    "### **Python Quiz**\n",
    "#### **What is output?**"
   ]
  },
  {
   "cell_type": "code",
   "execution_count": 13,
   "metadata": {},
   "outputs": [
    {
     "data": {
      "text/plain": [
       "False"
      ]
     },
     "execution_count": 13,
     "metadata": {},
     "output_type": "execute_result"
    }
   ],
   "source": [
    "from datetime import datetime, timedelta\n",
    "\n",
    "today = date.today()\n",
    "yesterday = today - timedelta(days = 1)\n",
    "yesterday > today"
   ]
  },
  {
   "cell_type": "markdown",
   "metadata": {},
   "source": [
    "<h4><span style=\"padding-left:10px;color:black;\"><b>1. True</b></span></h4>\n",
    "<h4><span style=\"padding-left:10px;color:black;\"><b>2. False</b></span></h4>\n",
    "<h4><span style=\"padding-left:10px;color:black;\"><b>3. Error</b></span></h4>\n",
    "<h4><span style=\"padding-left:10px;color:black;\"><b>4. None</b></span></h4>"
   ]
  },
  {
   "cell_type": "code",
   "execution_count": 9,
   "metadata": {},
   "outputs": [
    {
     "name": "stdout",
     "output_type": "stream",
     "text": [
      "65\n"
     ]
    }
   ],
   "source": [
    "print(0x41)"
   ]
  },
  {
   "cell_type": "markdown",
   "metadata": {},
   "source": [
    "1). 65\n",
    "\n",
    "2). 0x41\n",
    "\n",
    "3). 41\n",
    "\n",
    "4). None\n"
   ]
  },
  {
   "cell_type": "code",
   "execution_count": null,
   "metadata": {},
   "outputs": [],
   "source": [
    "print(chr(0x41))"
   ]
  },
  {
   "cell_type": "markdown",
   "metadata": {},
   "source": [
    "1). 65\n",
    "\n",
    "2). 0x41\n",
    "\n",
    "3). A\n",
    "\n",
    "4). None"
   ]
  },
  {
   "cell_type": "markdown",
   "metadata": {},
   "source": [
    "### **Python Quiz**\n",
    "#### **What is output?**"
   ]
  },
  {
   "cell_type": "code",
   "execution_count": null,
   "metadata": {},
   "outputs": [],
   "source": [
    "None != None"
   ]
  },
  {
   "cell_type": "markdown",
   "metadata": {},
   "source": [
    "<h4><span style=\"padding-left:10px;color:black;\"><b>1. True</b></span></h4>\n",
    "<h4><span style=\"padding-left:10px;color:black;\"><b>2. False</b></span></h4>\n",
    "<h4><span style=\"padding-left:10px;color:black;\"><b>3. Error</b></span></h4>\n",
    "<h4><span style=\"padding-left:10px;color:black;\"><b>4. None</b></span></h4>"
   ]
  },
  {
   "cell_type": "code",
   "execution_count": 41,
   "metadata": {},
   "outputs": [
    {
     "name": "stdout",
     "output_type": "stream",
     "text": [
      "True\n"
     ]
    }
   ],
   "source": [
    "class A:\n",
    "    pass\n",
    "\n",
    "print(issubclass(A, A))"
   ]
  },
  {
   "cell_type": "code",
   "execution_count": null,
   "metadata": {},
   "outputs": [],
   "source": [
    "my_set ={5, 6, 7}\n",
    "my_set[0]"
   ]
  },
  {
   "cell_type": "code",
   "execution_count": 44,
   "metadata": {},
   "outputs": [
    {
     "name": "stdout",
     "output_type": "stream",
     "text": [
      "{5, 6, 7}\n"
     ]
    }
   ],
   "source": [
    "my_set = {5, 7}\n",
    "my_set.add(6)\n",
    "print(my_set)"
   ]
  },
  {
   "cell_type": "markdown",
   "metadata": {},
   "source": [
    "### **Python Quiz**\n",
    "#### **What is output?**"
   ]
  },
  {
   "cell_type": "code",
   "execution_count": null,
   "metadata": {},
   "outputs": [],
   "source": [
    "print(8 > '7')"
   ]
  },
  {
   "cell_type": "markdown",
   "metadata": {},
   "source": [
    "<h4><span style=\"padding-left:10px;color:black;\"><b>1. True</b></span></h4>\n",
    "<h4><span style=\"padding-left:10px;color:black;\"><b>2. False</b></span></h4>\n",
    "<h4><span style=\"padding-left:10px;color:black;\"><b>3. Error</b></span></h4>\n",
    "<h4><span style=\"padding-left:10px;color:black;\"><b>4. None</b></span></h4>"
   ]
  },
  {
   "cell_type": "code",
   "execution_count": 3,
   "metadata": {},
   "outputs": [
    {
     "name": "stdout",
     "output_type": "stream",
     "text": [
      "<zip object at 0x7f4e54377ac8>\n"
     ]
    }
   ],
   "source": [
    "x = [[31,17],\n",
    "[40 ,51],\n",
    "[13 ,12]]\n",
    "print (zip(*x))"
   ]
  },
  {
   "cell_type": "code",
   "execution_count": 4,
   "metadata": {},
   "outputs": [
    {
     "name": "stdout",
     "output_type": "stream",
     "text": [
      "PointPointPoint\n"
     ]
    }
   ],
   "source": [
    "str =\"Point\";\n",
    "print(str * 3);"
   ]
  },
  {
   "cell_type": "code",
   "execution_count": 13,
   "metadata": {},
   "outputs": [
    {
     "ename": "TypeError",
     "evalue": "'>' not supported between instances of 'int' and 'NoneType'",
     "output_type": "error",
     "traceback": [
      "\u001b[0;31m---------------------------------------------------------------------------\u001b[0m",
      "\u001b[0;31mTypeError\u001b[0m                                 Traceback (most recent call last)",
      "\u001b[0;32m<ipython-input-13-84134e7bdf39>\u001b[0m in \u001b[0;36m<module>\u001b[0;34m\u001b[0m\n\u001b[0;32m----> 1\u001b[0;31m \u001b[0;36m0\u001b[0m \u001b[0;34m>\u001b[0m \u001b[0;32mNone\u001b[0m\u001b[0;34m\u001b[0m\u001b[0;34m\u001b[0m\u001b[0m\n\u001b[0m",
      "\u001b[0;31mTypeError\u001b[0m: '>' not supported between instances of 'int' and 'NoneType'"
     ]
    }
   ],
   "source": [
    "0 > None"
   ]
  },
  {
   "cell_type": "code",
   "execution_count": 181,
   "metadata": {},
   "outputs": [
    {
     "data": {
      "text/plain": [
       "True"
      ]
     },
     "execution_count": 181,
     "metadata": {},
     "output_type": "execute_result"
    }
   ],
   "source": [
    "name = \"Srini\"\n",
    "city = 'Chennai'\n",
    "\n",
    "not name == 'srini' and city == 'Chennai'"
   ]
  },
  {
   "cell_type": "code",
   "execution_count": 189,
   "metadata": {},
   "outputs": [
    {
     "data": {
      "text/plain": [
       "True"
      ]
     },
     "execution_count": 189,
     "metadata": {},
     "output_type": "execute_result"
    }
   ],
   "source": [
    "data = {'Name': 'Viveak', 'Age': 50, 'City': 'Chennai'}\n",
    "\n",
    "data.get('Age') in data.values()"
   ]
  },
  {
   "cell_type": "code",
   "execution_count": 1,
   "metadata": {},
   "outputs": [
    {
     "data": {
      "text/plain": [
       "'R'"
      ]
     },
     "execution_count": 1,
     "metadata": {},
     "output_type": "execute_result"
    }
   ],
   "source": [
    "a, b, c = 'Ravi'[:3]\n",
    "\n",
    "a"
   ]
  },
  {
   "cell_type": "markdown",
   "metadata": {},
   "source": [
    "### **Python Quiz**\n",
    "#### **What is output?**"
   ]
  },
  {
   "cell_type": "code",
   "execution_count": null,
   "metadata": {},
   "outputs": [],
   "source": [
    "class Count:\n",
    "    def __init__(self, name = ''):\n",
    "        self.name = name\n",
    "               \n",
    "print(Count('Ranga') is Count('Ranga'))"
   ]
  },
  {
   "cell_type": "markdown",
   "metadata": {},
   "source": [
    "<h4><span style=\"padding-left:10px;color:black;\"><b>1. True</b></span></h4>\n",
    "<h4><span style=\"padding-left:10px;color:black;\"><b>2. False</b></span></h4>\n",
    "<h4><span style=\"padding-left:10px;color:black;\"><b>3. Error</b></span></h4>\n",
    "<h4><span style=\"padding-left:10px;color:black;\"><b>4. None</b></span></h4>"
   ]
  },
  {
   "cell_type": "markdown",
   "metadata": {},
   "source": [
    "<h2 style=\"padding-left:135px;color:red;font-size:16.5px;font-weight:bolder\">   Python Quiz</h2>\n",
    "<h2 style=\"padding-left:128px;color:red;font-size:14.5px;font-weight:bolder\">   What is output?</h2>"
   ]
  },
  {
   "cell_type": "code",
   "execution_count": null,
   "metadata": {},
   "outputs": [],
   "source": [
    "values = ['a', 0, 'Chennai', 0.0, {}, 300]\n",
    "print([i for i in values if not i])"
   ]
  },
  {
   "cell_type": "markdown",
   "metadata": {},
   "source": [
    "<h4><span style=\"padding-left:115px;color:black;\"><b>A). ['a', 0, 'Chennai', 0.0, {}, 300]</b></span></h4>\n",
    "<h4><span style=\"padding-left:115px;color:black;\"><b>B). [0, 0.0, {}]</b></span></h4>\n",
    "<h4><span style=\"padding-left:115px;color:black;\"><b>C). ['a', 'Chennai', 300]</b></span></h4>\n",
    "<h4><span style=\"padding-left:115px;color:black;\"><b>D). None</b></span></h4>"
   ]
  },
  {
   "cell_type": "markdown",
   "metadata": {},
   "source": [
    "************************************************"
   ]
  },
  {
   "cell_type": "markdown",
   "metadata": {},
   "source": [
    "### **Already Posted**"
   ]
  },
  {
   "cell_type": "markdown",
   "metadata": {},
   "source": [
    "### **Python Quiz**\n",
    "#### **What is output?**"
   ]
  },
  {
   "cell_type": "code",
   "execution_count": 2,
   "metadata": {},
   "outputs": [],
   "source": [
    "while 0:\n",
    "    print('Hello')"
   ]
  },
  {
   "cell_type": "markdown",
   "metadata": {},
   "source": [
    "<h4><span style=\"padding-left:10px;color:black;\"><b>1. Hello</b></span></h4>\n",
    "<h4><span style=\"padding-left:10px;color:black;\"><b>2. Blank Output</b></span></h4>\n",
    "<h4><span style=\"padding-left:10px;color:black;\"><b>3. Loop Execute Infinite</b></span></h4>\n",
    "<h4><span style=\"padding-left:10px;color:black;\"><b>4. 0</b></span></h4>"
   ]
  },
  {
   "cell_type": "markdown",
   "metadata": {},
   "source": [
    "### **Python Quiz**\n",
    "#### **What is output?**"
   ]
  },
  {
   "cell_type": "code",
   "execution_count": null,
   "metadata": {},
   "outputs": [],
   "source": [
    "print(0x64)"
   ]
  },
  {
   "cell_type": "markdown",
   "metadata": {},
   "source": [
    "<h4><span style=\"padding-left:10px;color:black;\"><b>A). 64</b></span></h4>\n",
    "<h4><span style=\"padding-left:10px;color:black;\"><b>B). 0x64</b></span></h4>\n",
    "<h4><span style=\"padding-left:10px;color:black;\"><b>C). '0x64'</b></span></h4>\n",
    "<h4><span style=\"padding-left:10px;color:black;\"><b>D). 100</b></span></h4>"
   ]
  },
  {
   "cell_type": "markdown",
   "metadata": {},
   "source": [
    "<h2 style=\"padding-left:195px;color:red;font-size:17px;font-weight:bolder\">   Python Quiz</h2>\n",
    "<h2 style=\"padding-left:195px;color:red;font-size:17px;font-weight:bolder\">   What is output?</h2>"
   ]
  },
  {
   "cell_type": "code",
   "execution_count": null,
   "metadata": {},
   "outputs": [],
   "source": [
    "lang = ['JAVA', 'PYTHON', 'GO', 'COBAL', 'PHP', 'RUST']\n",
    "out = [i for i in lang if i[1].casefold() == chr(0x79)]\n",
    "print(*out)"
   ]
  },
  {
   "cell_type": "markdown",
   "metadata": {},
   "source": [
    "<h4><span style=\"padding-left:195px;color:black;\"><b>A). GO</b></span></h4>\n",
    "<h4><span style=\"padding-left:195px;color:black;\"><b>B). PYTHON</b></span></h4>\n",
    "<h4><span style=\"padding-left:195px;color:black;\"><b>C). COBAL</b></span></h4>\n",
    "<h4><span style=\"padding-left:195px;color:black;\"><b>D). JAVA</b></span></h4>\n",
    "<h4><span style=\"padding-left:195px;color:black;\"><b>E). PHP</b></span></h4>"
   ]
  },
  {
   "cell_type": "markdown",
   "metadata": {},
   "source": [
    "### **Python Quiz**\n",
    "#### **What is output?**"
   ]
  },
  {
   "cell_type": "code",
   "execution_count": null,
   "metadata": {},
   "outputs": [],
   "source": [
    "print(60+5//(5*3))"
   ]
  },
  {
   "cell_type": "markdown",
   "metadata": {},
   "source": [
    "<h4><span style=\"padding-left:10px;color:black;\"><b>A). 9</b></span></h4>\n",
    "<h4><span style=\"padding-left:10px;color:black;\"><b>B). 60</b></span></h4>\n",
    "<h4><span style=\"padding-left:10px;color:black;\"><b>C). Error</b></span></h4>\n",
    "<h4><span style=\"padding-left:10px;color:black;\"><b>D). 4</b></span></h4>"
   ]
  },
  {
   "cell_type": "markdown",
   "metadata": {},
   "source": [
    "<h2 style=\"padding-left:95px;color:red;font-size:17px;font-weight:bolder\">   Python Quiz</h2>\n",
    "<h2 style=\"padding-left:95px;color:red;font-size:17px;font-weight:bolder\">   What is output?</h2>"
   ]
  },
  {
   "cell_type": "code",
   "execution_count": null,
   "metadata": {},
   "outputs": [],
   "source": [
    "mydict = {'Name': 'Micheal'}\n",
    "fruit = mydict.setdefault('Apple')\n",
    "print(fruit)"
   ]
  },
  {
   "cell_type": "markdown",
   "metadata": {},
   "source": [
    "<h4><span style=\"padding-left:95px;color:black;\"><b>A). Apple</b></span></h4>\n",
    "<h4><span style=\"padding-left:95px;color:black;\"><b>B). {'Name': 'Micheal', 'Apple': None }</b></span></h4>\n",
    "<h4><span style=\"padding-left:95px;color:black;\"><b>C). (fruit, Apple)</b></span></h4>\n",
    "<h4><span style=\"padding-left:95px;color:black;\"><b>D). None</b></span></h4>"
   ]
  },
  {
   "cell_type": "markdown",
   "metadata": {},
   "source": [
    "<h2 style=\"padding-left:95px;color:red;font-size:17px;font-weight:bolder\">   Python Quiz</h2>\n",
    "<h2 style=\"padding-left:95px;color:red;font-size:17px;font-weight:bolder\">   What is output?</h2>"
   ]
  },
  {
   "cell_type": "code",
   "execution_count": null,
   "metadata": {},
   "outputs": [],
   "source": [
    "name = 'Ram'\n",
    "stu_name = name if name == 'Micheal' else 'Krishna'\n",
    "print(stu_name)"
   ]
  },
  {
   "cell_type": "markdown",
   "metadata": {},
   "source": [
    "<h4><span style=\"padding-left:95px;color:black;\"><b>A). Ram</b></span></h4>\n",
    "<h4><span style=\"padding-left:95px;color:black;\"><b>B). Micheal</b></span></h4>\n",
    "<h4><span style=\"padding-left:95px;color:black;\"><b>C). Krishna</b></span></h4>\n",
    "<h4><span style=\"padding-left:95px;color:black;\"><b>D). None</b></span></h4>"
   ]
  },
  {
   "cell_type": "markdown",
   "metadata": {},
   "source": [
    "<h2 style=\"padding-left:135px;color:red;font-size:16.5px;font-weight:bolder\">   Python Quiz</h2>\n",
    "<h2 style=\"padding-left:128px;color:red;font-size:14.5px;font-weight:bolder\">   What is output?</h2>"
   ]
  },
  {
   "cell_type": "code",
   "execution_count": null,
   "metadata": {},
   "outputs": [],
   "source": [
    "values = ['a', 0, 'Chennai', '', [], 300]\n",
    "print([i for i in values if i])"
   ]
  },
  {
   "cell_type": "markdown",
   "metadata": {},
   "source": [
    "<h4><span style=\"padding-left:115px;color:black;\"><b>A). ['a', 0, 'Chennai', '', [], 300]</b></span></h4>\n",
    "<h4><span style=\"padding-left:115px;color:black;\"><b>B). Error</b></span></h4>\n",
    "<h4><span style=\"padding-left:115px;color:black;\"><b>C). ['a', 'Chennai', 300]</b></span></h4>\n",
    "<h4><span style=\"padding-left:115px;color:black;\"><b>D). None</b></span></h4>"
   ]
  },
  {
   "cell_type": "markdown",
   "metadata": {},
   "source": [
    "<h3 style=\"padding-left:160px;font-size:16.5px;font-weight:bolder\">\n",
    "Python Quiz</h3>\n",
    "<h4 style=\"padding-left:154px;font-size:15px;font-weight:bolder\">What is output?</h4>\n"
   ]
  },
  {
   "cell_type": "code",
   "execution_count": null,
   "metadata": {},
   "outputs": [],
   "source": [
    "mark = [37, 11]\n",
    "\n",
    "print({i:'Pass' if 35 < i else 'Fail' for i in mark})"
   ]
  },
  {
   "cell_type": "markdown",
   "metadata": {},
   "source": [
    "<h4><span style=\"padding-left:160px;color:black;\"><b>A). Error</b></span></h4>\n",
    "<h4><span style=\"padding-left:160px;color:black;\"><b>B). 37, 11</b></span></h4>\n",
    "<h4><span style=\"padding-left:160px;color:black;\"><b>C). {37: 'Pass', 11: 'Fail'}</b></span></h4>\n",
    "<h4><span style=\"padding-left:160px;color:black;\"><b>D). None</b></span></h4>"
   ]
  }
 ],
 "metadata": {
  "kernelspec": {
   "display_name": "Python 3",
   "language": "python",
   "name": "python3"
  },
  "language_info": {
   "codemirror_mode": {
    "name": "ipython",
    "version": 3
   },
   "file_extension": ".py",
   "mimetype": "text/x-python",
   "name": "python",
   "nbconvert_exporter": "python",
   "pygments_lexer": "ipython3",
   "version": "3.6.9"
  }
 },
 "nbformat": 4,
 "nbformat_minor": 2
}
