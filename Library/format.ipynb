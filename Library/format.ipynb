{
 "cells": [
  {
   "cell_type": "markdown",
   "metadata": {},
   "source": [
    "### format --- > \"{replacement field}\".format('string')"
   ]
  },
  {
   "cell_type": "raw",
   "metadata": {},
   "source": [
    "format() method takes any number of parameters. But, is divided into two types of parameters:\n",
    "\n",
    "Positional parameters - list of parameters that can be accessed with index of parameter inside curly braces {index}\n",
    "Keyword parameters - list of parameters of type key=value, that can be accessed with key of parameter inside curly braces {key}"
   ]
  },
  {
   "cell_type": "markdown",
   "metadata": {},
   "source": [
    "### esacpe chracter {{ and }}"
   ]
  },
  {
   "cell_type": "raw",
   "metadata": {},
   "source": [
    "If you need to include a brace character in the literal text, it can be escaped by doubling: {{ and }}."
   ]
  },
  {
   "cell_type": "code",
   "execution_count": 45,
   "metadata": {},
   "outputs": [
    {
     "data": {
      "text/plain": [
       "'{Hi}'"
      ]
     },
     "execution_count": 45,
     "metadata": {},
     "output_type": "execute_result"
    }
   ],
   "source": [
    "\"{{Hi}}\".format()"
   ]
  },
  {
   "cell_type": "markdown",
   "metadata": {},
   "source": [
    "### filedname"
   ]
  },
  {
   "cell_type": "markdown",
   "metadata": {},
   "source": [
    "#### attribute_name"
   ]
  },
  {
   "cell_type": "code",
   "execution_count": 27,
   "metadata": {},
   "outputs": [
    {
     "data": {
      "text/plain": [
       "'Manavalan Micheal'"
      ]
     },
     "execution_count": 27,
     "metadata": {},
     "output_type": "execute_result"
    }
   ],
   "source": [
    "\"{firstname} {lastname}\".format(firstname = 'Manavalan', lastname = 'Micheal')"
   ]
  },
  {
   "cell_type": "markdown",
   "metadata": {},
   "source": [
    "#### Positional argument specifiers"
   ]
  },
  {
   "cell_type": "raw",
   "metadata": {},
   "source": [
    "The positional argument specifiers can be omitted for str.format(), \n",
    "so '{} {}'.format(a, b) is equivalent to '{0} {1}'.format(a, b)."
   ]
  },
  {
   "cell_type": "code",
   "execution_count": 48,
   "metadata": {},
   "outputs": [
    {
     "data": {
      "text/plain": [
       "'a b'"
      ]
     },
     "execution_count": 48,
     "metadata": {},
     "output_type": "execute_result"
    }
   ],
   "source": [
    "'{} {}'.format('a', 'b')"
   ]
  },
  {
   "cell_type": "code",
   "execution_count": 50,
   "metadata": {},
   "outputs": [
    {
     "data": {
      "text/plain": [
       "'a b'"
      ]
     },
     "execution_count": 50,
     "metadata": {},
     "output_type": "execute_result"
    }
   ],
   "source": [
    "'{0} {1}'.format('a', 'b')"
   ]
  },
  {
   "cell_type": "markdown",
   "metadata": {},
   "source": [
    "#### element_index"
   ]
  },
  {
   "cell_type": "code",
   "execution_count": 8,
   "metadata": {},
   "outputs": [
    {
     "data": {
      "text/plain": [
       "'Linux Python'"
      ]
     },
     "execution_count": 8,
     "metadata": {},
     "output_type": "execute_result"
    }
   ],
   "source": [
    "\"{0} {1}\".format('Linux','Python')"
   ]
  },
  {
   "cell_type": "markdown",
   "metadata": {},
   "source": [
    "#### index_string"
   ]
  },
  {
   "cell_type": "code",
   "execution_count": 31,
   "metadata": {},
   "outputs": [
    {
     "data": {
      "text/plain": [
       "'i'"
      ]
     },
     "execution_count": 31,
     "metadata": {},
     "output_type": "execute_result"
    }
   ],
   "source": [
    "\"{1}\".format('L','i','n','u','x')"
   ]
  },
  {
   "cell_type": "markdown",
   "metadata": {},
   "source": [
    "### conversion"
   ]
  },
  {
   "cell_type": "markdown",
   "metadata": {},
   "source": [
    "#### repr --> quote"
   ]
  },
  {
   "cell_type": "code",
   "execution_count": 16,
   "metadata": {},
   "outputs": [
    {
     "data": {
      "text/plain": [
       "\"'Linux'\""
      ]
     },
     "execution_count": 16,
     "metadata": {},
     "output_type": "execute_result"
    }
   ],
   "source": [
    "\"{!r}\".format(\"Linux\")"
   ]
  },
  {
   "cell_type": "code",
   "execution_count": 38,
   "metadata": {},
   "outputs": [
    {
     "name": "stdout",
     "output_type": "stream",
     "text": [
      "'Linux'\n"
     ]
    }
   ],
   "source": [
    "print(\"{!r}\".format(\"Linux\"))"
   ]
  },
  {
   "cell_type": "markdown",
   "metadata": {},
   "source": [
    "#### string"
   ]
  },
  {
   "cell_type": "code",
   "execution_count": 33,
   "metadata": {},
   "outputs": [
    {
     "name": "stdout",
     "output_type": "stream",
     "text": [
      "Linux\n"
     ]
    }
   ],
   "source": [
    "\"{!s}\".format(\"Linux\")"
   ]
  },
  {
   "cell_type": "code",
   "execution_count": 37,
   "metadata": {},
   "outputs": [
    {
     "name": "stdout",
     "output_type": "stream",
     "text": [
      "Linux\n"
     ]
    }
   ],
   "source": [
    "print(\"{!s}\".format(\"Linux\"))"
   ]
  },
  {
   "cell_type": "markdown",
   "metadata": {},
   "source": [
    "#### ascii"
   ]
  },
  {
   "cell_type": "code",
   "execution_count": 36,
   "metadata": {},
   "outputs": [
    {
     "data": {
      "text/plain": [
       "\"'Linux'\""
      ]
     },
     "execution_count": 36,
     "metadata": {},
     "output_type": "execute_result"
    }
   ],
   "source": [
    "\"{!a}\".format(\"Linux\")"
   ]
  },
  {
   "cell_type": "code",
   "execution_count": 35,
   "metadata": {},
   "outputs": [
    {
     "name": "stdout",
     "output_type": "stream",
     "text": [
      "'Linux'\n"
     ]
    }
   ],
   "source": [
    "print(\"{!a}\".format(\"Linux\"))"
   ]
  },
  {
   "cell_type": "markdown",
   "metadata": {},
   "source": [
    "### Some conversion examples:"
   ]
  },
  {
   "cell_type": "raw",
   "metadata": {},
   "source": [
    "\"Harold's a clever {0!s}\"        # Calls str() on the argument first\n",
    "\"Bring out the holy {name!r}\"    # Calls repr() on the argument first\n",
    "\"More {!a}\"                      # Calls ascii() on the argument first"
   ]
  },
  {
   "cell_type": "code",
   "execution_count": 54,
   "metadata": {},
   "outputs": [
    {
     "name": "stdout",
     "output_type": "stream",
     "text": [
      "Harold's a clever okay\n"
     ]
    }
   ],
   "source": [
    "print(\"Harold's a clever {0!s}\".format('okay'))"
   ]
  },
  {
   "cell_type": "code",
   "execution_count": 56,
   "metadata": {},
   "outputs": [
    {
     "data": {
      "text/plain": [
       "\"Bring out the holy 'day'\""
      ]
     },
     "execution_count": 56,
     "metadata": {},
     "output_type": "execute_result"
    }
   ],
   "source": [
    "\"Bring out the holy {name!r}\".format(name = 'day')"
   ]
  },
  {
   "cell_type": "markdown",
   "metadata": {},
   "source": [
    "### Simple format string examples:"
   ]
  },
  {
   "cell_type": "raw",
   "metadata": {},
   "source": [
    "\"First, thou shalt count to {0}\"  # References first positional argument\n",
    "\"Bring me a {}\"                   # Implicitly references the first positional argument\n",
    "\"From {} to {}\"                   # Same as \"From {0} to {1}\"\n",
    "\"My quest is {name}\"              # References keyword argument 'name'\n",
    "\"Weight in tons {0.weight}\"       # 'weight' attribute of first positional arg\n",
    "\"Units destroyed: {players[0]}\"   # First element of keyword argument 'players'."
   ]
  },
  {
   "cell_type": "markdown",
   "metadata": {},
   "source": [
    "### format specifiers"
   ]
  },
  {
   "cell_type": "raw",
   "metadata": {},
   "source": [
    "The format_spec field contains a specification of how the value should be presented, including such details as field width, alignment, padding, decimal precision and so on. Each value type can define its own “formatting mini-language” or interpretation of the format_spec."
   ]
  },
  {
   "cell_type": "markdown",
   "metadata": {},
   "source": [
    "#### Zero float means integer"
   ]
  },
  {
   "cell_type": "code",
   "execution_count": 19,
   "metadata": {},
   "outputs": [
    {
     "data": {
      "text/plain": [
       "'234'"
      ]
     },
     "execution_count": 19,
     "metadata": {},
     "output_type": "execute_result"
    }
   ],
   "source": [
    "\"{:.0f}\".format(234.1423)"
   ]
  },
  {
   "cell_type": "markdown",
   "metadata": {},
   "source": [
    "#### 1 float"
   ]
  },
  {
   "cell_type": "code",
   "execution_count": 21,
   "metadata": {},
   "outputs": [
    {
     "data": {
      "text/plain": [
       "'234.1'"
      ]
     },
     "execution_count": 21,
     "metadata": {},
     "output_type": "execute_result"
    }
   ],
   "source": [
    "\"{:.1f}\".format(234.1423)"
   ]
  },
  {
   "cell_type": "markdown",
   "metadata": {},
   "source": [
    "#### 2 float"
   ]
  },
  {
   "cell_type": "code",
   "execution_count": 22,
   "metadata": {},
   "outputs": [
    {
     "data": {
      "text/plain": [
       "'234.14'"
      ]
     },
     "execution_count": 22,
     "metadata": {},
     "output_type": "execute_result"
    }
   ],
   "source": [
    "\"{:.2f}\".format(234.1423)"
   ]
  },
  {
   "cell_type": "markdown",
   "metadata": {},
   "source": [
    "#### Percentage"
   ]
  },
  {
   "cell_type": "code",
   "execution_count": 58,
   "metadata": {},
   "outputs": [
    {
     "data": {
      "text/plain": [
       "'20.000000%'"
      ]
     },
     "execution_count": 58,
     "metadata": {},
     "output_type": "execute_result"
    }
   ],
   "source": [
    "\"{:%}\".format(20/100)"
   ]
  },
  {
   "cell_type": "code",
   "execution_count": 63,
   "metadata": {},
   "outputs": [
    {
     "data": {
      "text/plain": [
       "'20%'"
      ]
     },
     "execution_count": 63,
     "metadata": {},
     "output_type": "execute_result"
    }
   ],
   "source": [
    "\"{:.0%}\".format(20/100)"
   ]
  },
  {
   "cell_type": "markdown",
   "metadata": {},
   "source": [
    "#### thousands separator"
   ]
  },
  {
   "cell_type": "code",
   "execution_count": 26,
   "metadata": {},
   "outputs": [
    {
     "data": {
      "text/plain": [
       "'12,345,678'"
      ]
     },
     "execution_count": 26,
     "metadata": {},
     "output_type": "execute_result"
    }
   ],
   "source": [
    "\"{:,}\".format(12345678)"
   ]
  },
  {
   "cell_type": "markdown",
   "metadata": {},
   "source": [
    "## Format Specification Mini-Language"
   ]
  },
  {
   "cell_type": "raw",
   "metadata": {},
   "source": [
    "“Format specifications” are used within replacement fields contained within a format string \n",
    "to define how individual values are presented"
   ]
  },
  {
   "cell_type": "markdown",
   "metadata": {},
   "source": [
    "### The general form of a standard format specifier is:"
   ]
  },
  {
   "cell_type": "raw",
   "metadata": {},
   "source": [
    "The following options for format specifications, although some of the formatting options \n",
    "are only supported by the numeric types."
   ]
  },
  {
   "cell_type": "markdown",
   "metadata": {},
   "source": [
    "### fill  ::=  anycharacter\n"
   ]
  },
  {
   "cell_type": "raw",
   "metadata": {},
   "source": [
    "If a valid align value is specified, it can be preceded by a fill character that \n",
    "can be any character and defaults to a space if omitted. It is not possible to use \n",
    "a literal curly brace (“{” or “}”) as the fill character in a formatted string literal"
   ]
  },
  {
   "cell_type": "code",
   "execution_count": 67,
   "metadata": {},
   "outputs": [
    {
     "name": "stdout",
     "output_type": "stream",
     "text": [
      "8\n"
     ]
    }
   ],
   "source": [
    "# No fill\n",
    "\n",
    "print(\"{}\".format(8))"
   ]
  },
  {
   "cell_type": "code",
   "execution_count": 65,
   "metadata": {},
   "outputs": [
    {
     "name": "stdout",
     "output_type": "stream",
     "text": [
      " 8\n"
     ]
    }
   ],
   "source": [
    "# filled with empty space\n",
    "\n",
    "print(\"{:2}\".format(8))"
   ]
  },
  {
   "cell_type": "code",
   "execution_count": 69,
   "metadata": {},
   "outputs": [
    {
     "name": "stdout",
     "output_type": "stream",
     "text": [
      "08\n"
     ]
    }
   ],
   "source": [
    "# filled with zero\n",
    "\n",
    "print(\"{:02}\".format(8))"
   ]
  },
  {
   "cell_type": "code",
   "execution_count": 91,
   "metadata": {},
   "outputs": [
    {
     "data": {
      "text/plain": [
       "'**********'"
      ]
     },
     "execution_count": 91,
     "metadata": {},
     "output_type": "execute_result"
    }
   ],
   "source": [
    "# filled with *\n",
    "'{:*>10}'.format('')"
   ]
  },
  {
   "cell_type": "code",
   "execution_count": 57,
   "metadata": {},
   "outputs": [
    {
     "data": {
      "text/plain": [
       "'test------'"
      ]
     },
     "execution_count": 57,
     "metadata": {},
     "output_type": "execute_result"
    }
   ],
   "source": [
    "'{:-<10}'.format('test')"
   ]
  },
  {
   "cell_type": "code",
   "execution_count": 61,
   "metadata": {},
   "outputs": [
    {
     "data": {
      "text/plain": [
       "'######test'"
      ]
     },
     "execution_count": 61,
     "metadata": {},
     "output_type": "execute_result"
    }
   ],
   "source": [
    "'{:#>10}'.format('test')"
   ]
  },
  {
   "cell_type": "markdown",
   "metadata": {},
   "source": [
    "### align    ::=  \"<\" | \">\" | \"=\" | \"^\""
   ]
  },
  {
   "cell_type": "raw",
   "metadata": {},
   "source": [
    "The meaning of the various alignment options is as follows:\n",
    "\n",
    "Option\tMeaning\n",
    "'<'\t    Forces the field to be left-aligned within the available space (this is the default for most objects).\n",
    "'>'\t    Forces the field to be right-aligned within the available space (this is the default for numbers).\n",
    "'='\t    Forces the padding to be placed after the sign (if any) but before the digits. This is used for printing           fields in the form ‘+000000120’. This alignment option is only valid for numeric types. It becomes the             default when ‘0’ immediately precedes the field width.\n",
    "'^'\t    Forces the field to be centered within the available space."
   ]
  },
  {
   "cell_type": "markdown",
   "metadata": {},
   "source": [
    "### width           ::=  digit+"
   ]
  },
  {
   "cell_type": "raw",
   "metadata": {},
   "source": [
    "width is a decimal integer defining the minimum field width. If not specified, then the \n",
    "field width will be determined by the content.\n",
    "\n",
    "When no explicit alignment is given, preceding the width field by a zero ('0') character \n",
    "enables sign-aware zero-padding for numeric types. This is equivalent to a fill character \n",
    "of '0' with an alignment type of '='."
   ]
  },
  {
   "cell_type": "markdown",
   "metadata": {},
   "source": [
    "### sign            ::=  \"+\" | \"-\" | \" \""
   ]
  },
  {
   "cell_type": "raw",
   "metadata": {},
   "source": [
    "The sign option is only valid for number types."
   ]
  },
  {
   "cell_type": "raw",
   "metadata": {},
   "source": [
    "Option\t Meaning\n",
    "'+'\t     indicates that a sign should be used for both positive as well as negative numbers.\n",
    "'-'\t     indicates that a sign should be used only for negative numbers (this is the default behavior).\n",
    "space\t indicates that a leading space should be used on positive numbers, and a minus sign on negative numbers."
   ]
  },
  {
   "cell_type": "markdown",
   "metadata": {},
   "source": [
    "### #"
   ]
  },
  {
   "cell_type": "raw",
   "metadata": {},
   "source": [
    "The '#' option causes the “alternate form” to be used for the conversion. The alternate form is defined differently for different types. This option is only valid for integer, float, complex and Decimal types. For integers, when binary, octal, or hexadecimal output is used, this option adds the prefix respective '0b', '0o', or '0x' to the output value. For floats, complex and Decimal the alternate form causes the result of the conversion to always contain a decimal-point character, even if no digits follow it. Normally, a decimal-point character appears in the result of these conversions only if a digit follows it. In addition, for 'g' and 'G' conversions, trailing zeros are not removed from the result."
   ]
  },
  {
   "cell_type": "markdown",
   "metadata": {},
   "source": [
    "### grouping_option ::=  \"_\" | \",\""
   ]
  },
  {
   "cell_type": "raw",
   "metadata": {},
   "source": [
    "The ',' option signals the use of a comma for a thousands separator. \n",
    "For a locale aware separator, use the 'n' integer presentation type instead.\n",
    "\n",
    "\n",
    "The '_' option signals the use of an underscore for a thousands separator for floating point \n",
    "presentation types and for integer presentation type 'd'. For integer presentation types\n",
    "'b', 'o', 'x', and 'X', underscores will be inserted every 4 digits. \n",
    "For other presentation types, specifying this option is an error."
   ]
  },
  {
   "cell_type": "markdown",
   "metadata": {},
   "source": [
    "### precision       ::=  digit+"
   ]
  },
  {
   "cell_type": "raw",
   "metadata": {},
   "source": [
    "The precision is a decimal number indicating how many digits should be displayed after \n",
    "the decimal point for a floating point value formatted with 'f' and 'F', or before and after \n",
    "the decimal point for a floating point value formatted with 'g' or 'G'. For non-number types \n",
    "the field indicates the maximum field size - in other words, how many characters will be used \n",
    "from the field content. The precision is not allowed for integer values."
   ]
  },
  {
   "cell_type": "markdown",
   "metadata": {},
   "source": [
    "### type            ::=  \"b\" | \"c\" | \"d\" | \"e\" | \"E\" | \"f\" | \"F\" | \"g\" | \"G\" | \"n\" | \"o\" | \"s\" | \"x\" | \"X\" | \"%\""
   ]
  },
  {
   "cell_type": "raw",
   "metadata": {},
   "source": [
    "The available string presentation types are:\n",
    "\n",
    "Type\tMeaning\n",
    "'s'\t    String format. This is the default type for strings and may be omitted.\n",
    "None\tThe same as 's'."
   ]
  },
  {
   "cell_type": "raw",
   "metadata": {},
   "source": [
    "The available integer presentation types are:\n",
    "\n",
    "Type\tMeaning\n",
    "'b'\t    Binary format. Outputs the number in base 2.\n",
    "'c'\t    Character. Converts the integer to the corresponding unicode character before printing.\n",
    "'d'\t    Decimal Integer. Outputs the number in base 10.\n",
    "'o'\t    Octal format. Outputs the number in base 8.\n",
    "'x'\t    Hex format. Outputs the number in base 16, using lower-case letters for the digits above 9.\n",
    "'X'\t    Hex format. Outputs the number in base 16, using upper-case letters for the digits above 9.\n",
    "'n'\t    Number. This is the same as 'd', except that it uses the current locale setting to insert the appropriate         number separator characters.\n",
    "None\tThe same as 'd'."
   ]
  },
  {
   "cell_type": "raw",
   "metadata": {},
   "source": [
    "The available presentation types for floating point and decimal values are:\n",
    "\n",
    "Type\tMeaning\n",
    "'e'\t    Exponent notation. Prints the number in scientific notation using the letter ‘e’ to indicate the exponent.         The default precision is 6.\n",
    "'E'\t    Exponent notation. Same as 'e' except it uses an upper case ‘E’ as the separator character.\n",
    "'f'\t    Fixed-point notation. Displays the number as a fixed-point number. The default precision is 6.\n",
    "'F'\t    Fixed-point notation. Same as 'f', but converts nan to NAN and inf to INF.\n",
    "'g'\t    General format. For a given precision p >= 1, this rounds the number to p significant digits and then             formats the result in either fixed-point format or in scientific notation, depending on its magnitude.\n",
    "'G'\t    General format. Same as 'g' except switches to 'E' if the number gets too large. The representations of           infinity and NaN are uppercased, too.\n",
    "'n'\t    Number. This is the same as 'g', except that it uses the current locale setting to insert the appropriate         number separator characters.\n",
    "'%'\t    Percentage. Multiplies the number by 100 and displays in fixed ('f') format, followed by a percent sign.\n",
    "None\tSimilar to 'g', except that fixed-point notation, when used, has at least one digit past the decimal               point. The default precision is as high as needed to represent the particular value. The overall effect is         to match the output of str() as altered by the other format modifiers."
   ]
  },
  {
   "cell_type": "raw",
   "metadata": {},
   "source": [
    "d\tDecimal integer\n",
    "c\tCorresponding Unicode character\n",
    "b\tBinary format\n",
    "o\tOctal format\n",
    "x\tHexadecimal format (lower case)\n",
    "X\tHexadecimal format (upper case)\n",
    "n\tSame as 'd'. Except it uses current locale setting for number separator\n",
    "e\tExponential notation. (lowercase e)\n",
    "E\tExponential notation (uppercase E)\n",
    "f\tDisplays fixed point number (Default: 6)\n",
    "F\tSame as 'f'. Except displays 'inf' as 'INF' and 'nan' as 'NAN'\n",
    "g\tGeneral format. Rounds number to p significant digits. (Default precision: 6)\n",
    "G\tSame as 'g'. Except switches to 'E' if the number is large.\n",
    "%\tPercentage. Multiples by 100 and puts % at the end."
   ]
  },
  {
   "cell_type": "markdown",
   "metadata": {},
   "source": [
    "# Excercise"
   ]
  },
  {
   "cell_type": "markdown",
   "metadata": {},
   "source": [
    "### Accessing arguments by position:"
   ]
  },
  {
   "cell_type": "code",
   "execution_count": 73,
   "metadata": {},
   "outputs": [
    {
     "data": {
      "text/plain": [
       "'a, b, c'"
      ]
     },
     "execution_count": 73,
     "metadata": {},
     "output_type": "execute_result"
    }
   ],
   "source": [
    "'{0}, {1}, {2}'.format('a', 'b', 'c')"
   ]
  },
  {
   "cell_type": "code",
   "execution_count": 75,
   "metadata": {},
   "outputs": [
    {
     "data": {
      "text/plain": [
       "'a, b, c'"
      ]
     },
     "execution_count": 75,
     "metadata": {},
     "output_type": "execute_result"
    }
   ],
   "source": [
    "'{}, {}, {}'.format('a', 'b', 'c')  # Version 3.1+ only"
   ]
  },
  {
   "cell_type": "code",
   "execution_count": 76,
   "metadata": {},
   "outputs": [
    {
     "data": {
      "text/plain": [
       "'c, b, a'"
      ]
     },
     "execution_count": 76,
     "metadata": {},
     "output_type": "execute_result"
    }
   ],
   "source": [
    "'{2}, {1}, {0}'.format('a', 'b', 'c')"
   ]
  },
  {
   "cell_type": "code",
   "execution_count": 77,
   "metadata": {},
   "outputs": [
    {
     "data": {
      "text/plain": [
       "'c, b, a'"
      ]
     },
     "execution_count": 77,
     "metadata": {},
     "output_type": "execute_result"
    }
   ],
   "source": [
    "'{2}, {1}, {0}'.format(*'abc')      # unpacking argument sequence"
   ]
  },
  {
   "cell_type": "code",
   "execution_count": 78,
   "metadata": {},
   "outputs": [
    {
     "data": {
      "text/plain": [
       "'abracadabra'"
      ]
     },
     "execution_count": 78,
     "metadata": {},
     "output_type": "execute_result"
    }
   ],
   "source": [
    "'{0}{1}{0}'.format('abra', 'cad')   # arguments' indices can be repeated"
   ]
  },
  {
   "cell_type": "code",
   "execution_count": 81,
   "metadata": {},
   "outputs": [
    {
     "data": {
      "text/plain": [
       "'Manavalan Micheal'"
      ]
     },
     "execution_count": 81,
     "metadata": {},
     "output_type": "execute_result"
    }
   ],
   "source": [
    "firstname = 'Manavalan' \n",
    "lastname = 'Micheal'\n",
    "\"{} {}\".format(firstname, lastname)"
   ]
  },
  {
   "cell_type": "markdown",
   "metadata": {},
   "source": [
    "### Accessing arguments by name or keyword arguments::"
   ]
  },
  {
   "cell_type": "code",
   "execution_count": 80,
   "metadata": {},
   "outputs": [
    {
     "data": {
      "text/plain": [
       "'Manavalan Micheal'"
      ]
     },
     "execution_count": 80,
     "metadata": {},
     "output_type": "execute_result"
    }
   ],
   "source": [
    "\"{firstname} {lastname}\".format(firstname = 'Manavalan', lastname = 'Micheal')"
   ]
  },
  {
   "cell_type": "code",
   "execution_count": 83,
   "metadata": {},
   "outputs": [
    {
     "data": {
      "text/plain": [
       "'Manavalan Micheal'"
      ]
     },
     "execution_count": 83,
     "metadata": {},
     "output_type": "execute_result"
    }
   ],
   "source": [
    "name = {'firstname': 'Manavalan','lastname': 'Micheal'}\n",
    "\"{firstname} {lastname}\".format(**name)\n"
   ]
  },
  {
   "cell_type": "markdown",
   "metadata": {},
   "source": [
    "### Accessing arguments’ attributes:\n",
    "Accessing attributes on objects via getattr()."
   ]
  },
  {
   "cell_type": "code",
   "execution_count": 85,
   "metadata": {},
   "outputs": [
    {
     "data": {
      "text/plain": [
       "'The complex number (3-5j) is formed from the real part 3.0 and the imaginary part -5.0.'"
      ]
     },
     "execution_count": 85,
     "metadata": {},
     "output_type": "execute_result"
    }
   ],
   "source": [
    "c = 3-5j \n",
    "('The complex number {0} is formed from the real part {0.real} and the imaginary part {0.imag}.').format(c)"
   ]
  },
  {
   "cell_type": "code",
   "execution_count": 86,
   "metadata": {},
   "outputs": [
    {
     "data": {
      "text/plain": [
       "'Point(4, 2)'"
      ]
     },
     "execution_count": 86,
     "metadata": {},
     "output_type": "execute_result"
    }
   ],
   "source": [
    "class Point:\n",
    "    def __init__(self, x, y):\n",
    "        self.x, self.y = x, y\n",
    "    def __str__(self):\n",
    "        return 'Point({self.x}, {self.y})'.format(self=self)\n",
    "\n",
    "str(Point(4, 2))"
   ]
  },
  {
   "cell_type": "code",
   "execution_count": 104,
   "metadata": {},
   "outputs": [
    {
     "data": {
      "text/plain": [
       "'tree'"
      ]
     },
     "execution_count": 104,
     "metadata": {},
     "output_type": "execute_result"
    }
   ],
   "source": [
    "# Accessing attributes on objects via getattr().\n",
    "\n",
    "class Plant:\n",
    "    type = 'tree'\n",
    "    \n",
    "'{p.type}'.format(p=Plant())"
   ]
  },
  {
   "cell_type": "code",
   "execution_count": 107,
   "metadata": {},
   "outputs": [
    {
     "data": {
      "text/plain": [
       "'tree: oak'"
      ]
     },
     "execution_count": 107,
     "metadata": {},
     "output_type": "execute_result"
    }
   ],
   "source": [
    "class Plant:\n",
    "    type = 'tree'\n",
    "    kinds = [{'name': 'oak'}, {'name': 'maple'}]\n",
    "    \n",
    "'{p.type}: {p.kinds[0][name]}'.format(p=Plant())"
   ]
  },
  {
   "cell_type": "markdown",
   "metadata": {},
   "source": [
    "### Custom objects:"
   ]
  },
  {
   "cell_type": "raw",
   "metadata": {},
   "source": [
    "The datetime example works through the use of the __format__() magic method. \n",
    "You can define custom format handling in your own objects by overriding this method. \n",
    "This gives you complete control over the format syntax used."
   ]
  },
  {
   "cell_type": "code",
   "execution_count": 141,
   "metadata": {},
   "outputs": [
    {
     "data": {
      "text/plain": [
       "'Manavalan'"
      ]
     },
     "execution_count": 141,
     "metadata": {},
     "output_type": "execute_result"
    }
   ],
   "source": [
    "class Mana:\n",
    "    def __format__(self, format):\n",
    "        if format == 'name':\n",
    "            return 'Manavalan'\n",
    "    \n",
    "'{:name}'.format(Mana())"
   ]
  },
  {
   "cell_type": "markdown",
   "metadata": {},
   "source": [
    "### Accessing arguments’ items:"
   ]
  },
  {
   "cell_type": "code",
   "execution_count": 87,
   "metadata": {},
   "outputs": [
    {
     "data": {
      "text/plain": [
       "'X: 3;  Y: 5'"
      ]
     },
     "execution_count": 87,
     "metadata": {},
     "output_type": "execute_result"
    }
   ],
   "source": [
    "coord = (3, 5)\n",
    "'X: {0[0]};  Y: {0[1]}'.format(coord)"
   ]
  },
  {
   "cell_type": "code",
   "execution_count": 96,
   "metadata": {},
   "outputs": [
    {
     "data": {
      "text/plain": [
       "'Manavalan Micheal'"
      ]
     },
     "execution_count": 96,
     "metadata": {},
     "output_type": "execute_result"
    }
   ],
   "source": [
    "person = {'first': 'Manavalan', 'last': 'Micheal'}\n",
    "'{p[first]} {p[last]}'.format(p=person)"
   ]
  },
  {
   "cell_type": "code",
   "execution_count": 98,
   "metadata": {},
   "outputs": [
    {
     "data": {
      "text/plain": [
       "'4 16'"
      ]
     },
     "execution_count": 98,
     "metadata": {},
     "output_type": "execute_result"
    }
   ],
   "source": [
    "data = [4, 8, 15, 16, 23, 42]\n",
    "'{d[0]} {d[3]}'.format(d=data)"
   ]
  },
  {
   "cell_type": "markdown",
   "metadata": {},
   "source": [
    "### Replacing %s and %r:"
   ]
  },
  {
   "cell_type": "code",
   "execution_count": 88,
   "metadata": {},
   "outputs": [
    {
     "data": {
      "text/plain": [
       "\"repr() shows quotes: 'test1'; str() doesn't: test2\""
      ]
     },
     "execution_count": 88,
     "metadata": {},
     "output_type": "execute_result"
    }
   ],
   "source": [
    "\"repr() shows quotes: {!r}; str() doesn't: {!s}\".format('test1', 'test2')"
   ]
  },
  {
   "cell_type": "markdown",
   "metadata": {},
   "source": [
    "### Aligning the text and specifying a width:"
   ]
  },
  {
   "cell_type": "raw",
   "metadata": {},
   "source": [
    "Left Aligned - Default string algined left."
   ]
  },
  {
   "cell_type": "code",
   "execution_count": 9,
   "metadata": {},
   "outputs": [
    {
     "data": {
      "text/plain": [
       "'left aligned                  '"
      ]
     },
     "execution_count": 9,
     "metadata": {},
     "output_type": "execute_result"
    }
   ],
   "source": [
    "'{:30}'.format('left aligned')"
   ]
  },
  {
   "cell_type": "code",
   "execution_count": 1,
   "metadata": {},
   "outputs": [
    {
     "data": {
      "text/plain": [
       "'left aligned                  '"
      ]
     },
     "execution_count": 1,
     "metadata": {},
     "output_type": "execute_result"
    }
   ],
   "source": [
    "'{:<30}'.format('left aligned')"
   ]
  },
  {
   "cell_type": "code",
   "execution_count": 13,
   "metadata": {},
   "outputs": [
    {
     "data": {
      "text/plain": [
       "'                           500'"
      ]
     },
     "execution_count": 13,
     "metadata": {},
     "output_type": "execute_result"
    }
   ],
   "source": [
    "'{:30}'.format(500)"
   ]
  },
  {
   "cell_type": "code",
   "execution_count": 14,
   "metadata": {},
   "outputs": [
    {
     "data": {
      "text/plain": [
       "'500                           '"
      ]
     },
     "execution_count": 14,
     "metadata": {},
     "output_type": "execute_result"
    }
   ],
   "source": [
    "'{:<30}'.format(500)"
   ]
  },
  {
   "cell_type": "raw",
   "metadata": {},
   "source": [
    "Right Aligned - Default number algined right."
   ]
  },
  {
   "cell_type": "code",
   "execution_count": 11,
   "metadata": {},
   "outputs": [
    {
     "data": {
      "text/plain": [
       "'                           500'"
      ]
     },
     "execution_count": 11,
     "metadata": {},
     "output_type": "execute_result"
    }
   ],
   "source": [
    "'{:30}'.format(500)"
   ]
  },
  {
   "cell_type": "code",
   "execution_count": 15,
   "metadata": {},
   "outputs": [
    {
     "data": {
      "text/plain": [
       "'right aligned                 '"
      ]
     },
     "execution_count": 15,
     "metadata": {},
     "output_type": "execute_result"
    }
   ],
   "source": [
    "'{:30}'.format('right aligned')"
   ]
  },
  {
   "cell_type": "code",
   "execution_count": 6,
   "metadata": {},
   "outputs": [
    {
     "data": {
      "text/plain": [
       "'                 right aligned'"
      ]
     },
     "execution_count": 6,
     "metadata": {},
     "output_type": "execute_result"
    }
   ],
   "source": [
    "'{:>30}'.format('right aligned')"
   ]
  },
  {
   "cell_type": "raw",
   "metadata": {},
   "source": [
    "Centere Aligned"
   ]
  },
  {
   "cell_type": "code",
   "execution_count": 16,
   "metadata": {},
   "outputs": [
    {
     "data": {
      "text/plain": [
       "'           centered           '"
      ]
     },
     "execution_count": 16,
     "metadata": {},
     "output_type": "execute_result"
    }
   ],
   "source": [
    "'{:^30}'.format('centered')"
   ]
  },
  {
   "cell_type": "code",
   "execution_count": 17,
   "metadata": {},
   "outputs": [
    {
     "data": {
      "text/plain": [
       "'***********centered***********'"
      ]
     },
     "execution_count": 17,
     "metadata": {},
     "output_type": "execute_result"
    }
   ],
   "source": [
    "'{:*^30}'.format('centered')  # use '*' as a fill char"
   ]
  },
  {
   "cell_type": "code",
   "execution_count": 71,
   "metadata": {},
   "outputs": [
    {
     "data": {
      "text/plain": [
       "'***********Manavalan'"
      ]
     },
     "execution_count": 71,
     "metadata": {},
     "output_type": "execute_result"
    }
   ],
   "source": [
    "'{text:{pad}>{width}}'.format(text = 'Manavalan', pad = '*', width = 20)"
   ]
  },
  {
   "cell_type": "markdown",
   "metadata": {},
   "source": [
    "### Replacing %+f, %-f, and % f and specifying a sign:"
   ]
  },
  {
   "cell_type": "code",
   "execution_count": 19,
   "metadata": {},
   "outputs": [
    {
     "data": {
      "text/plain": [
       "'+3.140000; -3.140000'"
      ]
     },
     "execution_count": 19,
     "metadata": {},
     "output_type": "execute_result"
    }
   ],
   "source": [
    "'{:+f}; {:+f}'.format(3.14, -3.14)  # show it always"
   ]
  },
  {
   "cell_type": "code",
   "execution_count": 20,
   "metadata": {},
   "outputs": [
    {
     "data": {
      "text/plain": [
       "' 3.140000; -3.140000'"
      ]
     },
     "execution_count": 20,
     "metadata": {},
     "output_type": "execute_result"
    }
   ],
   "source": [
    "'{: f}; {: f}'.format(3.14, -3.14)  # show a space for positive numbers"
   ]
  },
  {
   "cell_type": "code",
   "execution_count": 21,
   "metadata": {},
   "outputs": [
    {
     "data": {
      "text/plain": [
       "'3.140000; -3.140000'"
      ]
     },
     "execution_count": 21,
     "metadata": {},
     "output_type": "execute_result"
    }
   ],
   "source": [
    "'{:-f}; {:-f}'.format(3.14, -3.14)  # show only the minus -- same as '{:f}; {:f}'"
   ]
  },
  {
   "cell_type": "markdown",
   "metadata": {},
   "source": [
    "### Format numbers"
   ]
  },
  {
   "cell_type": "code",
   "execution_count": 86,
   "metadata": {},
   "outputs": [
    {
     "data": {
      "text/plain": [
       "'500'"
      ]
     },
     "execution_count": 86,
     "metadata": {},
     "output_type": "execute_result"
    }
   ],
   "source": [
    "'{:d}'.format(500)"
   ]
  },
  {
   "cell_type": "code",
   "execution_count": 85,
   "metadata": {},
   "outputs": [
    {
     "data": {
      "text/plain": [
       "' 500'"
      ]
     },
     "execution_count": 85,
     "metadata": {},
     "output_type": "execute_result"
    }
   ],
   "source": [
    "'{:4d}'.format(500)"
   ]
  },
  {
   "cell_type": "code",
   "execution_count": 91,
   "metadata": {},
   "outputs": [
    {
     "data": {
      "text/plain": [
       "'0500'"
      ]
     },
     "execution_count": 91,
     "metadata": {},
     "output_type": "execute_result"
    }
   ],
   "source": [
    "'{:04d}'.format(500)"
   ]
  },
  {
   "cell_type": "code",
   "execution_count": 87,
   "metadata": {},
   "outputs": [
    {
     "data": {
      "text/plain": [
       "'3.141593'"
      ]
     },
     "execution_count": 87,
     "metadata": {},
     "output_type": "execute_result"
    }
   ],
   "source": [
    "'{:f}'.format(3.141592653589793)"
   ]
  },
  {
   "cell_type": "code",
   "execution_count": 90,
   "metadata": {},
   "outputs": [
    {
     "data": {
      "text/plain": [
       "'03.14'"
      ]
     },
     "execution_count": 90,
     "metadata": {},
     "output_type": "execute_result"
    }
   ],
   "source": [
    "'{:05.2f}'.format(3.141592653589793)"
   ]
  },
  {
   "cell_type": "markdown",
   "metadata": {},
   "source": [
    "### Signed numbers"
   ]
  },
  {
   "cell_type": "code",
   "execution_count": 92,
   "metadata": {},
   "outputs": [
    {
     "data": {
      "text/plain": [
       "'+50'"
      ]
     },
     "execution_count": 92,
     "metadata": {},
     "output_type": "execute_result"
    }
   ],
   "source": [
    "'{:+}'.format(50)"
   ]
  },
  {
   "cell_type": "code",
   "execution_count": 93,
   "metadata": {},
   "outputs": [
    {
     "data": {
      "text/plain": [
       "'50'"
      ]
     },
     "execution_count": 93,
     "metadata": {},
     "output_type": "execute_result"
    }
   ],
   "source": [
    "'{:-}'.format(50)"
   ]
  },
  {
   "cell_type": "raw",
   "metadata": {},
   "source": [
    "Forces the signed (+) (-) to the leftmost position.\n",
    "\n",
    "Forces the padding to be placed after the sign (if any) but before the digits.\n",
    "This is used for printing fields in the form ‘+000000120’. This alignment option\n",
    "is only valid for numeric types. It becomes the default when ‘0’ immediately precedes the field width."
   ]
  },
  {
   "cell_type": "code",
   "execution_count": 94,
   "metadata": {},
   "outputs": [
    {
     "data": {
      "text/plain": [
       "'+  23'"
      ]
     },
     "execution_count": 94,
     "metadata": {},
     "output_type": "execute_result"
    }
   ],
   "source": [
    "'{:=+5d}'.format(23)"
   ]
  },
  {
   "cell_type": "markdown",
   "metadata": {},
   "source": [
    "### Replacing %x and %o and converting the value to different bases:"
   ]
  },
  {
   "cell_type": "code",
   "execution_count": 1,
   "metadata": {},
   "outputs": [
    {
     "data": {
      "text/plain": [
       "'int: 42;  hex: 2a;  oct: 52;  bin: 101010'"
      ]
     },
     "execution_count": 1,
     "metadata": {},
     "output_type": "execute_result"
    }
   ],
   "source": [
    "\"int: {0:d};  hex: {0:x};  oct: {0:o};  bin: {0:b}\".format(42)"
   ]
  },
  {
   "cell_type": "code",
   "execution_count": 2,
   "metadata": {},
   "outputs": [
    {
     "data": {
      "text/plain": [
       "'int: 42;  hex: 0x2a;  oct: 0o52;  bin: 0b101010'"
      ]
     },
     "execution_count": 2,
     "metadata": {},
     "output_type": "execute_result"
    }
   ],
   "source": [
    "# with 0x, 0o, or 0b as prefix:\n",
    "\"int: {0:d};  hex: {0:#x};  oct: {0:#o};  bin: {0:#b}\".format(42)"
   ]
  },
  {
   "cell_type": "markdown",
   "metadata": {},
   "source": [
    "### Using the comma as a thousands separator:"
   ]
  },
  {
   "cell_type": "code",
   "execution_count": 3,
   "metadata": {},
   "outputs": [
    {
     "data": {
      "text/plain": [
       "'1,234,567,890'"
      ]
     },
     "execution_count": 3,
     "metadata": {},
     "output_type": "execute_result"
    }
   ],
   "source": [
    "'{:,}'.format(1234567890)"
   ]
  },
  {
   "cell_type": "markdown",
   "metadata": {},
   "source": [
    "### Expressing a percentage:"
   ]
  },
  {
   "cell_type": "code",
   "execution_count": 4,
   "metadata": {},
   "outputs": [
    {
     "data": {
      "text/plain": [
       "'Correct answers: 86.36%'"
      ]
     },
     "execution_count": 4,
     "metadata": {},
     "output_type": "execute_result"
    }
   ],
   "source": [
    "points = 19\n",
    "total = 22\n",
    "'Correct answers: {:.2%}'.format(points/total)"
   ]
  },
  {
   "cell_type": "code",
   "execution_count": 5,
   "metadata": {},
   "outputs": [
    {
     "data": {
      "text/plain": [
       "'Correct answers: 86%'"
      ]
     },
     "execution_count": 5,
     "metadata": {},
     "output_type": "execute_result"
    }
   ],
   "source": [
    "points = 19\n",
    "total = 22\n",
    "'Correct answers: {:.0%}'.format(points/total)\n"
   ]
  },
  {
   "cell_type": "markdown",
   "metadata": {},
   "source": [
    "### Using type-specific formatting:"
   ]
  },
  {
   "cell_type": "code",
   "execution_count": 6,
   "metadata": {},
   "outputs": [
    {
     "data": {
      "text/plain": [
       "'24-03-2019 12:18:18'"
      ]
     },
     "execution_count": 6,
     "metadata": {},
     "output_type": "execute_result"
    }
   ],
   "source": [
    "from datetime import datetime\n",
    "\"{:%d-%m-%Y %H:%M:%S}\".format(datetime.now())"
   ]
  },
  {
   "cell_type": "code",
   "execution_count": 128,
   "metadata": {},
   "outputs": [
    {
     "data": {
      "text/plain": [
       "'25/03/19 12:49:54'"
      ]
     },
     "execution_count": 128,
     "metadata": {},
     "output_type": "execute_result"
    }
   ],
   "source": [
    "from datetime import datetime\n",
    "'{:{dfmt} {tfmt}}'.format(datetime.now(), dfmt = '%d/%m/%y', tfmt = '%T')"
   ]
  },
  {
   "cell_type": "markdown",
   "metadata": {},
   "source": [
    "### Nesting arguments and more complex examples:"
   ]
  },
  {
   "cell_type": "code",
   "execution_count": 75,
   "metadata": {},
   "outputs": [
    {
     "data": {
      "text/plain": [
       "'***********Manavalan'"
      ]
     },
     "execution_count": 75,
     "metadata": {},
     "output_type": "execute_result"
    }
   ],
   "source": [
    "'{:{pad}>{width}}'.format('Manavalan', pad = '*', width = 20)"
   ]
  },
  {
   "cell_type": "code",
   "execution_count": 74,
   "metadata": {},
   "outputs": [
    {
     "data": {
      "text/plain": [
       "'***********Manavalan'"
      ]
     },
     "execution_count": 74,
     "metadata": {},
     "output_type": "execute_result"
    }
   ],
   "source": [
    "text = 'Manavalan'\n",
    "'{0:{pad}>{width}}'.format(text , pad = '*', width = 20)"
   ]
  },
  {
   "cell_type": "code",
   "execution_count": 72,
   "metadata": {},
   "outputs": [
    {
     "data": {
      "text/plain": [
       "'***********Manavalan'"
      ]
     },
     "execution_count": 72,
     "metadata": {},
     "output_type": "execute_result"
    }
   ],
   "source": [
    "'{text:{pad}>{width}}'.format(text = 'Manavalan', pad = '*', width = 20)"
   ]
  },
  {
   "cell_type": "code",
   "execution_count": 111,
   "metadata": {},
   "outputs": [
    {
     "data": {
      "text/plain": [
       "'     Manavalan      '"
      ]
     },
     "execution_count": 111,
     "metadata": {},
     "output_type": "execute_result"
    }
   ],
   "source": [
    "'{:{algin}{width}}'.format('Manavalan', algin = '^', width = '20')"
   ]
  },
  {
   "cell_type": "code",
   "execution_count": 114,
   "metadata": {},
   "outputs": [
    {
     "data": {
      "text/plain": [
       "'     Manavalan      '"
      ]
     },
     "execution_count": 114,
     "metadata": {},
     "output_type": "execute_result"
    }
   ],
   "source": [
    "name = 'Manavalan'\n",
    "'{:{algin}{width}}'.format(name, algin = '^', width = '20')"
   ]
  },
  {
   "cell_type": "code",
   "execution_count": 113,
   "metadata": {},
   "outputs": [
    {
     "data": {
      "text/plain": [
       "'     Manavalan      '"
      ]
     },
     "execution_count": 113,
     "metadata": {},
     "output_type": "execute_result"
    }
   ],
   "source": [
    "'{name:{algin}{width}}'.format(name = 'Manavalan', algin = '^', width = '20')"
   ]
  },
  {
   "cell_type": "code",
   "execution_count": 136,
   "metadata": {},
   "outputs": [
    {
     "data": {
      "text/plain": [
       "'*****Manavalan******'"
      ]
     },
     "execution_count": 136,
     "metadata": {},
     "output_type": "execute_result"
    }
   ],
   "source": [
    "#The nested formats can be positional arguments. Position depends on the order of the opening curly braces:\n",
    "'{:{}{}{}}'.format('Manavalan', '*', '^', 20)"
   ]
  },
  {
   "cell_type": "code",
   "execution_count": 132,
   "metadata": {},
   "outputs": [
    {
     "data": {
      "text/plain": [
       "'     +2.72'"
      ]
     },
     "execution_count": 132,
     "metadata": {},
     "output_type": "execute_result"
    }
   ],
   "source": [
    "'{:{}{}{}.{}}'.format(2.7182818284, '>', '+', 10, 3)"
   ]
  },
  {
   "cell_type": "code",
   "execution_count": 137,
   "metadata": {},
   "outputs": [
    {
     "data": {
      "text/plain": [
       "'     +2.72'"
      ]
     },
     "execution_count": 137,
     "metadata": {},
     "output_type": "execute_result"
    }
   ],
   "source": [
    "#keyword arguments can be added to the mix\n",
    "'{:{}{sign}{}.{}}'.format(2.7182818284, '>', 10, 3, sign='+')"
   ]
  },
  {
   "cell_type": "code",
   "execution_count": 17,
   "metadata": {},
   "outputs": [
    {
     "name": "stdout",
     "output_type": "stream",
     "text": [
      "left<<<<<<<<<<<<\n",
      "^^^^^center^^^^^\n",
      ">>>>>>>>>>>right\n"
     ]
    }
   ],
   "source": [
    "for align, text in zip('<^>', ['left', 'center', 'right']):\n",
    "    print('{0:{fill}{align}16}'.format(text, fill=align, align=align))"
   ]
  },
  {
   "cell_type": "code",
   "execution_count": null,
   "metadata": {},
   "outputs": [],
   "source": [
    "string = \"{:{fill}{align}{width}}\"\n"
   ]
  },
  {
   "cell_type": "markdown",
   "metadata": {},
   "source": [
    "### How to format sequence string?"
   ]
  },
  {
   "cell_type": "code",
   "execution_count": 2,
   "metadata": {},
   "outputs": [
    {
     "name": "stdout",
     "output_type": "stream",
     "text": [
      "Name              File              Dir               Link              FIFO              Block             \n"
     ]
    }
   ],
   "source": [
    "hfmt = '{:18s}'*6\n",
    "print(hfmt.format('Name', 'File', 'Dir', 'Link', 'FIFO', 'Block', 'Character'))"
   ]
  },
  {
   "cell_type": "code",
   "execution_count": 1,
   "metadata": {},
   "outputs": [
    {
     "name": "stdout",
     "output_type": "stream",
     "text": [
      "Name                 File    Dir   Link   FIFO  Block  Character\n"
     ]
    }
   ],
   "source": [
    "hfmt = '{:18s}' + ('  {:>5}' * 6)\n",
    "print(hfmt.format('Name', 'File', 'Dir', 'Link', 'FIFO', 'Block', 'Character'))"
   ]
  },
  {
   "cell_type": "code",
   "execution_count": 3,
   "metadata": {},
   "outputs": [
    {
     "name": "stdout",
     "output_type": "stream",
     "text": [
      "abcd04    abcd05    abcd06    abcd07    \n"
     ]
    }
   ],
   "source": [
    "lst = ['abcd04', 'abcd05', 'abcd06', 'abcd07']\n",
    "hfmt = '{:10}' * len(lst)\n",
    "print(hfmt.format(*lst))"
   ]
  },
  {
   "cell_type": "code",
   "execution_count": 18,
   "metadata": {},
   "outputs": [
    {
     "data": {
      "text/plain": [
       "'C0A80001'"
      ]
     },
     "execution_count": 18,
     "metadata": {},
     "output_type": "execute_result"
    }
   ],
   "source": [
    "octets = [192, 168, 0, 1]\n",
    "'{:02X}{:02X}{:02X}{:02X}'.format(*octets)"
   ]
  },
  {
   "cell_type": "code",
   "execution_count": 21,
   "metadata": {},
   "outputs": [
    {
     "data": {
      "text/plain": [
       "'C0'"
      ]
     },
     "execution_count": 21,
     "metadata": {},
     "output_type": "execute_result"
    }
   ],
   "source": [
    "'{:02X}'.format(192)"
   ]
  },
  {
   "cell_type": "code",
   "execution_count": 22,
   "metadata": {},
   "outputs": [
    {
     "data": {
      "text/plain": [
       "'C0'"
      ]
     },
     "execution_count": 22,
     "metadata": {},
     "output_type": "execute_result"
    }
   ],
   "source": [
    "'{:0X}'.format(192)"
   ]
  },
  {
   "cell_type": "code",
   "execution_count": 23,
   "metadata": {},
   "outputs": [
    {
     "data": {
      "text/plain": [
       "192"
      ]
     },
     "execution_count": 23,
     "metadata": {},
     "output_type": "execute_result"
    }
   ],
   "source": [
    "int(_, 16)"
   ]
  },
  {
   "cell_type": "code",
   "execution_count": 49,
   "metadata": {},
   "outputs": [
    {
     "name": "stdout",
     "output_type": "stream",
     "text": [
      "    5     5     5   101 \n",
      "    6     6     6   110 \n",
      "    7     7     7   111 \n",
      "    8     8    10  1000 \n",
      "    9     9    11  1001 \n",
      "   10     A    12  1010 \n",
      "   11     B    13  1011 \n"
     ]
    }
   ],
   "source": [
    "width = 5\n",
    "for num in range(5,12): \n",
    "    for base in 'dXob':\n",
    "        print('{0:{width}{base}}'.format(num, base=base, width=width), end=' ')\n",
    "    print()"
   ]
  },
  {
   "cell_type": "code",
   "execution_count": null,
   "metadata": {},
   "outputs": [],
   "source": []
  },
  {
   "cell_type": "markdown",
   "metadata": {},
   "source": [
    "### Truncating long strings"
   ]
  },
  {
   "cell_type": "code",
   "execution_count": 80,
   "metadata": {},
   "outputs": [
    {
     "data": {
      "text/plain": [
       "'Mana'"
      ]
     },
     "execution_count": 80,
     "metadata": {},
     "output_type": "execute_result"
    }
   ],
   "source": [
    "\"{:.4}\".format('Manavalan')"
   ]
  },
  {
   "cell_type": "markdown",
   "metadata": {},
   "source": [
    "### Combining truncating and padding"
   ]
  },
  {
   "cell_type": "code",
   "execution_count": 82,
   "metadata": {},
   "outputs": [
    {
     "data": {
      "text/plain": [
       "'Mana      '"
      ]
     },
     "execution_count": 82,
     "metadata": {},
     "output_type": "execute_result"
    }
   ],
   "source": [
    "'{:10.4}'.format('Manavalan')"
   ]
  },
  {
   "cell_type": "code",
   "execution_count": 99,
   "metadata": {},
   "outputs": [
    {
     "data": {
      "text/plain": [
       "' cat '"
      ]
     },
     "execution_count": 99,
     "metadata": {},
     "output_type": "execute_result"
    }
   ],
   "source": [
    "'{:^5.3}'.format(\"caterpillar\")"
   ]
  },
  {
   "cell_type": "code",
   "execution_count": 123,
   "metadata": {},
   "outputs": [
    {
     "data": {
      "text/plain": [
       "'Man = 2.715'"
      ]
     },
     "execution_count": 123,
     "metadata": {},
     "output_type": "execute_result"
    }
   ],
   "source": [
    "'{:.{trunc}} = {:.{trunc}f}'.format('Manavalan', 2.71489000, trunc = 3)"
   ]
  },
  {
   "cell_type": "code",
   "execution_count": 127,
   "metadata": {},
   "outputs": [
    {
     "data": {
      "text/plain": [
       "'Man = 2.715'"
      ]
     },
     "execution_count": 127,
     "metadata": {},
     "output_type": "execute_result"
    }
   ],
   "source": [
    "#The nested format can be used to replace any part of the format spec.\n",
    "'{:{trunc}} = {:{trunc}f}'.format('Manavalan', 2.71489000, trunc = '.3')"
   ]
  },
  {
   "cell_type": "code",
   "execution_count": null,
   "metadata": {},
   "outputs": [],
   "source": []
  },
  {
   "cell_type": "markdown",
   "metadata": {},
   "source": [
    "### How to unpack str,list,dict and format?"
   ]
  },
  {
   "cell_type": "code",
   "execution_count": 72,
   "metadata": {},
   "outputs": [
    {
     "data": {
      "text/plain": [
       "'c, b, a'"
      ]
     },
     "execution_count": 72,
     "metadata": {},
     "output_type": "execute_result"
    }
   ],
   "source": [
    "'{2}, {1}, {0}'.format(*'abc')  # unpacking argument sequence"
   ]
  },
  {
   "cell_type": "code",
   "execution_count": 1,
   "metadata": {},
   "outputs": [
    {
     "name": "stdout",
     "output_type": "stream",
     "text": [
      "1 F 32\n"
     ]
    }
   ],
   "source": [
    "li = ['1', 'F', '32']\n",
    "\n",
    "print('{} {} {}'.format(*li))"
   ]
  },
  {
   "cell_type": "code",
   "execution_count": 101,
   "metadata": {},
   "outputs": [
    {
     "data": {
      "text/plain": [
       "'4 16'"
      ]
     },
     "execution_count": 101,
     "metadata": {},
     "output_type": "execute_result"
    }
   ],
   "source": [
    "data = [4, 8, 15, 16, 23, 42]\n",
    "'{d[0]} {d[3]}'.format(d=data)"
   ]
  },
  {
   "cell_type": "code",
   "execution_count": 102,
   "metadata": {},
   "outputs": [
    {
     "data": {
      "text/plain": [
       "'X: 3;  Y: 5'"
      ]
     },
     "execution_count": 102,
     "metadata": {},
     "output_type": "execute_result"
    }
   ],
   "source": [
    "coord = (3, 5)\n",
    "'X: {0[0]};  Y: {0[1]}'.format(coord)"
   ]
  },
  {
   "cell_type": "code",
   "execution_count": 84,
   "metadata": {},
   "outputs": [
    {
     "data": {
      "text/plain": [
       "'Manavalan Micheal'"
      ]
     },
     "execution_count": 84,
     "metadata": {},
     "output_type": "execute_result"
    }
   ],
   "source": [
    "name = {'firstname': 'Manavalan','lastname': 'Micheal'}\n",
    "\"{firstname} {lastname}\".format(**name)"
   ]
  },
  {
   "cell_type": "code",
   "execution_count": 1,
   "metadata": {},
   "outputs": [
    {
     "name": "stdout",
     "output_type": "stream",
     "text": [
      "Adam's age is: 23\n"
     ]
    }
   ],
   "source": [
    "person = {'age': 23, 'name': 'Adam'}\n",
    "print(\"{name}'s age is: {age}\".format(**person))"
   ]
  },
  {
   "cell_type": "code",
   "execution_count": 100,
   "metadata": {},
   "outputs": [
    {
     "data": {
      "text/plain": [
       "'Manavalan Micheal'"
      ]
     },
     "execution_count": 100,
     "metadata": {},
     "output_type": "execute_result"
    }
   ],
   "source": [
    "person = {'first': 'Manavalan', 'last': 'Micheal'}\n",
    "'{p[first]} {p[last]}'.format(p=person)"
   ]
  },
  {
   "cell_type": "markdown",
   "metadata": {},
   "source": [
    "### How to use indexing in format?"
   ]
  },
  {
   "cell_type": "code",
   "execution_count": 2,
   "metadata": {},
   "outputs": [
    {
     "data": {
      "text/plain": [
       "'Bin: 11001; Oct: 31'"
      ]
     },
     "execution_count": 2,
     "metadata": {},
     "output_type": "execute_result"
    }
   ],
   "source": [
    "\"Bin: {0:b}; Oct: {0:o}\".format(25)"
   ]
  },
  {
   "cell_type": "markdown",
   "metadata": {},
   "source": [
    "### How to convert Binary,Octal,Hexadecimal from integer?"
   ]
  },
  {
   "cell_type": "code",
   "execution_count": 3,
   "metadata": {},
   "outputs": [
    {
     "data": {
      "text/plain": [
       "'Bin: 1001101; Oct: 115; Hex:4D'"
      ]
     },
     "execution_count": 3,
     "metadata": {},
     "output_type": "execute_result"
    }
   ],
   "source": [
    "\"Bin: {0:b}; Oct: {0:o}; Hex:{0:X}\".format(77)"
   ]
  },
  {
   "cell_type": "markdown",
   "metadata": {},
   "source": [
    "### zfill"
   ]
  },
  {
   "cell_type": "code",
   "execution_count": 7,
   "metadata": {},
   "outputs": [
    {
     "name": "stdout",
     "output_type": "stream",
     "text": [
      "03\n"
     ]
    }
   ],
   "source": [
    "print(\"{0:02d}\".format(3))"
   ]
  },
  {
   "cell_type": "code",
   "execution_count": 1,
   "metadata": {},
   "outputs": [
    {
     "name": "stdout",
     "output_type": "stream",
     "text": [
      "0001\n",
      "0010\n",
      "0011\n",
      "0100\n",
      "0101\n",
      "0110\n",
      "0111\n",
      "1000\n",
      "1001\n",
      "1010\n"
     ]
    }
   ],
   "source": [
    "for i in range(1,11):\n",
    "    print('{:b}'.format(i).zfill(4))"
   ]
  },
  {
   "cell_type": "markdown",
   "metadata": {},
   "source": [
    "### New string format"
   ]
  },
  {
   "cell_type": "code",
   "execution_count": 1,
   "metadata": {},
   "outputs": [
    {
     "data": {
      "text/plain": [
       "'upper is 2, and lower is 3'"
      ]
     },
     "execution_count": 1,
     "metadata": {},
     "output_type": "execute_result"
    }
   ],
   "source": [
    "sentence = 'Linux is good Operating system.'\n",
    "\n",
    "def up_low(*args):\n",
    "    lower = [i for i in list(args) if i.islower()]\n",
    "    return  f'upper is {len(args)-len(lower)}, and lower is {len(lower)}'\n",
    "up_low(*sentence.split())"
   ]
  },
  {
   "cell_type": "code",
   "execution_count": 1,
   "metadata": {},
   "outputs": [
    {
     "name": "stdout",
     "output_type": "stream",
     "text": [
      "0000 1000\n",
      "0001 1001\n",
      "0010 1010\n",
      "0011 1011\n",
      "0100 1100\n",
      "0101 1101\n",
      "0110 1110\n",
      "0111 1111\n"
     ]
    }
   ],
   "source": [
    "for left, right in zip(range(0, 8), range(8, 17)):\n",
    "    print(f'{left:0>4b} {right:0>4b}')"
   ]
  },
  {
   "cell_type": "code",
   "execution_count": null,
   "metadata": {},
   "outputs": [],
   "source": []
  },
  {
   "cell_type": "markdown",
   "metadata": {},
   "source": [
    "## f string format"
   ]
  },
  {
   "cell_type": "markdown",
   "metadata": {},
   "source": [
    "#### **How to use zfill in f string format?**"
   ]
  },
  {
   "cell_type": "code",
   "execution_count": 4,
   "metadata": {},
   "outputs": [
    {
     "name": "stdout",
     "output_type": "stream",
     "text": [
      "abcd01\n",
      "abcd02\n",
      "abcd03\n",
      "abcd04\n"
     ]
    }
   ],
   "source": [
    "for i in range(1,5):\n",
    "    print(f'abcd{i:02d}')"
   ]
  },
  {
   "cell_type": "markdown",
   "metadata": {},
   "source": [
    "#### **How to use string?**"
   ]
  },
  {
   "cell_type": "code",
   "execution_count": 5,
   "metadata": {},
   "outputs": [
    {
     "name": "stdout",
     "output_type": "stream",
     "text": [
      "Word                        Count\n"
     ]
    }
   ],
   "source": [
    "print(f'{\"Word\":15} {\"Count\":>17}')"
   ]
  },
  {
   "cell_type": "markdown",
   "metadata": {},
   "source": [
    "#### **How to use expression in f string format?**"
   ]
  },
  {
   "cell_type": "code",
   "execution_count": 8,
   "metadata": {},
   "outputs": [
    {
     "name": "stdout",
     "output_type": "stream",
     "text": [
      "    ****    \n"
     ]
    }
   ],
   "source": [
    "print(f'{\"*\"*i:^12}')"
   ]
  },
  {
   "cell_type": "markdown",
   "metadata": {},
   "source": [
    "#### **How to use a variable name inside a format specifier?**"
   ]
  },
  {
   "cell_type": "code",
   "execution_count": 1,
   "metadata": {},
   "outputs": [
    {
     "data": {
      "text/plain": [
       "'Mana           Mana           Mana           Mana           '"
      ]
     },
     "execution_count": 1,
     "metadata": {},
     "output_type": "execute_result"
    }
   ],
   "source": [
    "w = 15\n",
    "\n",
    "f'{\"Mana\":{w}s}'*4"
   ]
  },
  {
   "cell_type": "markdown",
   "metadata": {},
   "source": [
    "#### **How To Print Row And Column?**"
   ]
  },
  {
   "cell_type": "code",
   "execution_count": 4,
   "metadata": {},
   "outputs": [
    {
     "data": {
      "text/plain": [
       "'{:15s}'"
      ]
     },
     "execution_count": 4,
     "metadata": {},
     "output_type": "execute_result"
    }
   ],
   "source": [
    "'{:15s}'*1"
   ]
  },
  {
   "cell_type": "code",
   "execution_count": 9,
   "metadata": {},
   "outputs": [
    {
     "name": "stdout",
     "output_type": "stream",
     "text": [
      "             Manavalan             \n"
     ]
    }
   ],
   "source": [
    "fmt = '{:^35s}'*1\n",
    "print(fmt.format('Manavalan'))"
   ]
  },
  {
   "cell_type": "code",
   "execution_count": 11,
   "metadata": {},
   "outputs": [
    {
     "data": {
      "text/plain": [
       "'{:15s}{:15s}'"
      ]
     },
     "execution_count": 11,
     "metadata": {},
     "output_type": "execute_result"
    }
   ],
   "source": [
    "'{:15s}'*2"
   ]
  },
  {
   "cell_type": "code",
   "execution_count": 13,
   "metadata": {},
   "outputs": [
    {
     "name": "stdout",
     "output_type": "stream",
     "text": [
      "Manavalan           Micheal             \n"
     ]
    }
   ],
   "source": [
    "fmt = '{:20s}'*2\n",
    "print(fmt.format('Manavalan', 'Micheal'))"
   ]
  },
  {
   "cell_type": "code",
   "execution_count": 2,
   "metadata": {},
   "outputs": [
    {
     "data": {
      "text/plain": [
       "'{:15s}{:15s}{:15s}{:15s}'"
      ]
     },
     "execution_count": 2,
     "metadata": {},
     "output_type": "execute_result"
    }
   ],
   "source": [
    "'{:15s}'*4"
   ]
  },
  {
   "cell_type": "code",
   "execution_count": 14,
   "metadata": {},
   "outputs": [
    {
     "name": "stdout",
     "output_type": "stream",
     "text": [
      "capitalize    casefold      center        count         \n",
      "encode        endswith      expandtabs    find          \n",
      "format        format_map    index         isalnum       \n",
      "isalpha       isdecimal     isdigit       isidentifier  \n",
      "islower       isnumeric     isprintable   isspace       \n",
      "istitle       isupper       join          ljust         \n",
      "lower         lstrip        maketrans     partition     \n",
      "replace       rfind         rindex        rjust         \n",
      "rpartition    rsplit        rstrip        split         \n",
      "splitlines    startswith    strip         swapcase      \n",
      "title         translate     upper         zfill         \n"
     ]
    }
   ],
   "source": [
    "methods = [i for i  in dir(str) if i[0].islower()]\n",
    "w = str(len(max(methods, key=len))+2)\n",
    "fmt = ('{:'+w+'s}')*4\n",
    "\n",
    "for fn in zip(*[iter(methods)] *4):\n",
    "    print(fmt.format(*fn))"
   ]
  },
  {
   "cell_type": "code",
   "execution_count": null,
   "metadata": {},
   "outputs": [],
   "source": []
  }
 ],
 "metadata": {
  "kernelspec": {
   "display_name": "Python 3",
   "language": "python",
   "name": "python3"
  },
  "language_info": {
   "codemirror_mode": {
    "name": "ipython",
    "version": 3
   },
   "file_extension": ".py",
   "mimetype": "text/x-python",
   "name": "python",
   "nbconvert_exporter": "python",
   "pygments_lexer": "ipython3",
   "version": "3.6.9"
  },
  "widgets": {
   "application/vnd.jupyter.widget-state+json": {
    "state": {},
    "version_major": 2,
    "version_minor": 0
   }
  }
 },
 "nbformat": 4,
 "nbformat_minor": 2
}
