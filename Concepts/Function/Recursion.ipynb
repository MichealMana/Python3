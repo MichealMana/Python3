{
 "cells": [
  {
   "cell_type": "markdown",
   "metadata": {},
   "source": [
    "### **Recursion**\n",
    "\n",
    "**A function is said to be a recursive if it calls itself.**\n",
    "\n",
    "For example,<br></br> lets say we have a function xyx() and in the body of xyz() there is a call to the abc().\n",
    "\n",
    "**Example of Recursion:**<br></br>In this example we are defining a user-defined function factorial(). \n",
    "\n",
    "This function finds the factorial of a number by calling itself repeatedly until the base case is reached."
   ]
  },
  {
   "cell_type": "markdown",
   "metadata": {},
   "source": [
    "#### **What is Factorial?**\n",
    "\n",
    "**The factorial function (symbol: !) says to multiply all whole numbers from our chosen number<br></br> down to 1.**\n",
    "\n",
    "Examples:\n",
    "\n",
    "* 4! = 4 × 3 × 2 × 1 = 24\n",
    "\n",
    "* 7! = 7 × 6 × 5 × 4 × 3 × 2 × 1 = 5040\n",
    "\n",
    "* 1! = 1\n",
    "\n",
    "\n",
    "|n\t|n!|! | result|\n",
    "|--|--|--|--|\n",
    "|1\t|1\t|1\t|1\n",
    "|2\t|2 × 1\t|= 2 × 1!\t|= 2\n",
    "|3\t|3 × 2 × 1\t|= 3 × 2!\t|= 6\n",
    "|4\t|4 × 3 × 2 × 1\t|= 4 × 3!\t|= 24\n",
    "|5\t|5 × 4 × 3 × 2 × 1\t|= 5 × 4!\t|= 120\n",
    "\n",
    "<br></br>\n",
    "**Factorial of 5!**\n",
    "\n",
    "5! = 120"
   ]
  },
  {
   "cell_type": "code",
   "execution_count": 1,
   "metadata": {},
   "outputs": [
    {
     "name": "stdout",
     "output_type": "stream",
     "text": [
      "Factorial of 5 is:  120\n"
     ]
    }
   ],
   "source": [
    "# find the factorial of a given number\n",
    "\n",
    "def factorial(num):\n",
    "    \"\"\"This function calls itself to find\n",
    "    the factorial of a number\"\"\"\n",
    "\n",
    "    if num == 1:\n",
    "        return 1\n",
    "    else:\n",
    "        return (num * factorial(num - 1))\n",
    "\n",
    "num = 5\n",
    "print(\"Factorial of\", num, \"is: \", factorial(num))"
   ]
  }
 ],
 "metadata": {
  "kernelspec": {
   "display_name": "Python 3",
   "language": "python",
   "name": "python3"
  },
  "language_info": {
   "codemirror_mode": {
    "name": "ipython",
    "version": 3
   },
   "file_extension": ".py",
   "mimetype": "text/x-python",
   "name": "python",
   "nbconvert_exporter": "python",
   "pygments_lexer": "ipython3",
   "version": "3.6.9"
  },
  "widgets": {
   "application/vnd.jupyter.widget-state+json": {
    "state": {},
    "version_major": 2,
    "version_minor": 0
   }
  }
 },
 "nbformat": 4,
 "nbformat_minor": 2
}
