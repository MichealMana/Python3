{
 "cells": [
  {
   "cell_type": "markdown",
   "metadata": {},
   "source": [
    "### **MarkDown Shortcut**"
   ]
  },
  {
   "cell_type": "markdown",
   "metadata": {},
   "source": [
    "* Scroll up and down your cells with your Up and Down keys.\n",
    "\n",
    "* Press A or B to insert a new cell above or below the active cell.\n",
    "\n",
    "* M will transform the active cell to a Markdown cell.\n",
    "\n",
    "* Y will set the active cell to a code cell.\n",
    "\n",
    "* D + D (D twice) will delete the active cell.\n",
    "\n",
    "* Z will undo cell deletion.\n",
    "\n",
    "* Esc + F Find and replace on your code but not the outputs.\n",
    "\n",
    "* Hold Shift and press Up or Down to select multiple cells at once.\n",
    "With multiple cells selected, <br></br>Shift + M will merge your selection.\n",
    "\n",
    "* Ctrl + Shift + -, in edit mode, will split the active cell at the cursor.\n",
    "\n",
    "* You can also click and Shift + Click in the margin to the left of your cells to select them.\n",
    "\n",
    "**Select Multiple Cells:**\n",
    "1. Shift + J or Shift + Down selects the next sell in a downwards direction. \n",
    "\n",
    "+ You can also select sells in an upwards direction by using Shift + K or Shift Up.\n",
    "\n",
    "+ Once cells are selected, you can then delete / copy / cut / paste / run them as a batch. This is helpful when you need to move parts of a notebook.\n",
    "\n",
    "+ You can also use Shift + M to merge multiple cells."
   ]
  },
  {
   "cell_type": "markdown",
   "metadata": {},
   "source": [
    "**Command Mode (press Esc to enable)**\n",
    "1. F: find and replace\n",
    "\n",
    "2. Ctrl-Shift-F: open the command palette\n",
    "\n",
    "3. Ctrl-Shift-P: open the command palette\n",
    "\n",
    "4. Enter: enter edit mode\n",
    "\n",
    "5. P: open the command palette\n",
    "\n",
    "6. Shift-Enter: run cell, select below\n",
    "\n",
    "7. Ctrl-Enter: run selected cells\n",
    "\n",
    "8. Alt-Enter: run the cell and insert below\n",
    "\n",
    "9. Y: change cell to code\n",
    "\n",
    "10. M: change the cell to markdown\n",
    "\n",
    "11. R: change the cell to raw\n",
    "\n",
    "12. 1: change the cell to heading 1\n",
    "\n",
    "13. 2: change the cell to heading 2\n",
    "\n",
    "14. 3: change the cell to heading 3\n",
    "\n",
    "15. 4: change the cell to heading 4\n",
    "\n",
    "16. 5: change the cell to heading 5\n",
    "\n",
    "17. 6: change the cell to heading 6\n",
    "\n",
    "18. K: select cell above\n",
    "\n",
    "19. Up: select cell above\n",
    "\n",
    "20. Down: select cell below\n",
    "\n",
    "21. J: select cell below\n",
    "\n",
    "22. Shift-K: extend selected cells above\n",
    "\n",
    "23. Shift-Up: extend selected cells above\n",
    "\n",
    "24. Shift-Down: extend selected cells below\n",
    "\n",
    "25. Shift-J: extend selected cells below\n",
    "\n",
    "26. A: insert cell above\n",
    "\n",
    "27. B: insert cell below\n",
    "\n",
    "28. X: cut selected cells\n",
    "\n",
    "29. C: copy selected cells\n",
    "\n",
    "30. Shift-V: paste cells above\n",
    "\n",
    "31. V: paste cells below\n",
    "\n",
    "32. Z: undo cell deletion\n",
    "\n",
    "33. D, D: delete selected cells\n",
    "\n",
    "34. Shift-M: merge selected cells, or current cell with cell below if only one cell is selected\n",
    "\n",
    "35. Ctrl-S: Save and Checkpoint\n",
    "\n",
    "36. S: Save and Checkpoint\n",
    "\n",
    "37. L: toggle line numbers\n",
    "\n",
    "38. O: toggle output of selected cells\n",
    "\n",
    "39. Shift-O: toggle output scrolling of selected cells\n",
    "\n",
    "40. H: show keyboard shortcuts\n",
    "\n",
    "41. I, I: interrupt the kernel\n",
    "\n",
    "42. 0,0: restart the kernel (with dialog)\n",
    "\n",
    "43. Esc: Close the pager\n",
    "\n",
    "44. Q: close the pager\n",
    "\n",
    "45. Shift-L: toggles line numbers in all cells, and persist the setting\n",
    "\n",
    "46. Shift-Space: scroll notebook up\n",
    "\n",
    "47. Space: scroll notebook down\n",
    "\n",
    "**Edit Mode (press Enter to enable)**\n",
    "1. Tab: code completion or indent\n",
    "\n",
    "2. Shift-Tab: tooltip\n",
    "\n",
    "3. Ctrl-]: indent\n",
    "\n",
    "4. Ctrl-[: dedent\n",
    "\n",
    "5. Ctrl-A: select all\n",
    "\n",
    "6. Ctrl-Z: undo\n",
    "\n",
    "7. Ctrl-/: comment\n",
    "\n",
    "8. Ctrl-D: delete the whole line\n",
    "\n",
    "9. Ctrl-U: undo selection\n",
    "\n",
    "10. Insert: toggle overwrite flag\n",
    "\n",
    "11. Ctrl-Home: go to cell start\n",
    "\n",
    "12. Ctrl-Up: go to cell start\n",
    "\n",
    "13. Ctrl-End: go to cell end\n",
    "\n",
    "14. Ctrl-Down: go to cell end\n",
    "\n",
    "15. Ctrl-Left: go one word left\n",
    "\n",
    "16. Ctrl-Right: go one word right\n",
    "\n",
    "17. Ctrl-Backspace: delete word before\n",
    "\n",
    "18. Ctrl-Delete: delete word after\n",
    "\n",
    "19. Ctrl-Y: redo\n",
    "\n",
    "20. Alt-U: redo selection\n",
    "\n",
    "21. Ctrl-M: enter command mode\n",
    "\n",
    "22. Ctrl-Shift-F: open the command palette\n",
    "\n",
    "23. Ctrl-Shift-P: open the command palette\n",
    "\n",
    "24. Esc: enter command mode\n",
    "\n",
    "25. Shift-Enter: run cell, select below\n",
    "\n",
    "26. Ctrl-Enter: run selected cells\n",
    "\n",
    "27. Alt-Enter: run the cell and insert below\n",
    "\n",
    "28. Ctrl-Shift-Minus: split cell at cursor\n",
    "\n",
    "29. Ctrl-S: Save and Checkpoint\n",
    "\n",
    "30. Down: Move cursor down\n",
    "\n",
    "31. Up: move the cursor up"
   ]
  },
  {
   "cell_type": "markdown",
   "metadata": {},
   "source": [
    "### **Help**"
   ]
  },
  {
   "cell_type": "code",
   "execution_count": 5,
   "metadata": {},
   "outputs": [],
   "source": [
    "?str.upper"
   ]
  },
  {
   "cell_type": "markdown",
   "metadata": {},
   "source": [
    "###  **Add Table**"
   ]
  },
  {
   "cell_type": "markdown",
   "metadata": {},
   "source": [
    "|Layer        | $k$ (m/d) | $z_b$ (m) | $z_t$ | $c$ (days) |\n",
    "|:-----------:|----------:|----------:|------:|-----------:|\n",
    "|Aquifer 0    |    2      |     0     |   20  |    -       |\n",
    "|Leaky Layer 1|    -      |    -10    |   0   |   500      |\n",
    "|Aquifer 1    |    80     |    -30    |   -10 |   -        |"
   ]
  },
  {
   "cell_type": "markdown",
   "metadata": {},
   "source": [
    "| Country  | Capital |\n",
    "| -------- | --------|\n",
    "| Portugal | Lisbon  |\n",
    "| Spain    | Madrid  |\n",
    "| Cuba     | Havana  |"
   ]
  },
  {
   "cell_type": "markdown",
   "metadata": {},
   "source": [
    "### **Draw Equations**"
   ]
  },
  {
   "cell_type": "markdown",
   "metadata": {},
   "source": [
    "### &nbsp; $K$ (m/d) $Z_b$"
   ]
  },
  {
   "cell_type": "markdown",
   "metadata": {},
   "source": [
    "&nbsp;\n",
    "$K$ (m/d) $Z_b$"
   ]
  },
  {
   "cell_type": "markdown",
   "metadata": {},
   "source": [
    "### **Comparision Operators**"
   ]
  },
  {
   "cell_type": "markdown",
   "metadata": {},
   "source": [
    "&nbsp;\n",
    "\n",
    "&lt;\n",
    "\n",
    "&gt;\n",
    "\n",
    "&le;\n",
    "\n",
    "&ge;"
   ]
  },
  {
   "cell_type": "markdown",
   "metadata": {},
   "source": [
    "### **Horizontal line**"
   ]
  },
  {
   "cell_type": "markdown",
   "metadata": {},
   "source": [
    "&nbsp;\n",
    "***"
   ]
  },
  {
   "cell_type": "markdown",
   "metadata": {},
   "source": [
    "### **Numbered list**"
   ]
  },
  {
   "cell_type": "markdown",
   "metadata": {},
   "source": [
    "1. One\n",
    "+ Two\n",
    "+ Three\n",
    "\n",
    "<ol type=\"1\">\n",
    "  <li>Coffee</li>\n",
    "  <li>Tea</li>\n",
    "  <li>Milk</li>\n",
    "</ol>"
   ]
  },
  {
   "cell_type": "markdown",
   "metadata": {},
   "source": [
    "### **Bullet**"
   ]
  },
  {
   "cell_type": "markdown",
   "metadata": {},
   "source": [
    "* Rose\n",
    "* Roja\n",
    "* Lotus"
   ]
  },
  {
   "cell_type": "markdown",
   "metadata": {},
   "source": [
    "### **Link to webpage**"
   ]
  },
  {
   "cell_type": "markdown",
   "metadata": {},
   "source": [
    "&nbsp;\n",
    "[link to WikiPedia](https://en.wikipedia.org/wiki/Main_Page)   "
   ]
  },
  {
   "cell_type": "markdown",
   "metadata": {},
   "source": [
    "### **Non Breaking Space**\n",
    "https://en.wikipedia.org/wiki/List_of_XML_and_HTML_character_entity_references#Character_entity_references_in_HTML"
   ]
  },
  {
   "cell_type": "markdown",
   "metadata": {},
   "source": [
    "### **Non Breaking Space**\n",
    "\n",
    "Although you can use &nbsp; at no. of times you wish and most of users do it. But it results in only one space at a <BR></BR>time and for more spacing we've to use it no. of times i.e &nbsp;&nbsp;\n",
    "\n",
    "So,I am here discussing about three more entity reference that can be used.\n",
    "\n",
    "&nbsp; = &thinsp; Results in one character space; e.g. A B <br></br>\n",
    "&ensp; Results in two character space; e.g. A B <br></br>\n",
    "&emsp; Results in four character space; e.g. A B <br></br>\n",
    "\n",
    "\n",
    "In other words, the character width of them are:\n",
    "\n",
    "&thinsp; = 1 x &nbsp;\n",
    "&ensp; = 2 x &nbsp;\n",
    "&emsp; = 2 x &ensp; = 4 x &nbsp;\n",
    "Let's check:\n",
    "\n",
    "A B (using &emsp; once)\n",
    "\n",
    "A  B (using &ensp; twice)\n",
    "\n",
    "A    B (using &nbsp; four times)\n",
    "\n",
    "So, as per requirement, we can use &nbsp; (U+00A0), &ensp;(U+2002) or &emsp;(U+2003)"
   ]
  },
  {
   "cell_type": "markdown",
   "metadata": {},
   "source": [
    "A&ensp;B\n",
    "\n",
    "A&emsp;B"
   ]
  },
  {
   "cell_type": "markdown",
   "metadata": {},
   "source": [
    "### **Highlight Code**"
   ]
  },
  {
   "cell_type": "markdown",
   "metadata": {},
   "source": [
    "**`This is Highlight`**"
   ]
  },
  {
   "cell_type": "markdown",
   "metadata": {},
   "source": [
    "### **Centered text**"
   ]
  },
  {
   "cell_type": "markdown",
   "metadata": {},
   "source": [
    "#### <h2 align=center><b>Markdown</b></center></h2>"
   ]
  },
  {
   "cell_type": "markdown",
   "metadata": {},
   "source": [
    "### **How to write text various length?**"
   ]
  },
  {
   "cell_type": "markdown",
   "metadata": {},
   "source": [
    "<tt>\n",
    "blah blah blah blah blah \n",
    "    \n",
    "    \n",
    "blah blah blah blah blah blah blah blah blah  \n",
    "blah blah blah blah blah blah blah blah blah blah blah  \n",
    "blah blah blah blah blah  \n",
    "blah blah blah blah blah   \n",
    "blah blah blah blah blah blah blah blah blah blah blah blah blah  \n",
    "</tt>"
   ]
  },
  {
   "cell_type": "markdown",
   "metadata": {},
   "source": [
    "### **Code Examples**"
   ]
  },
  {
   "cell_type": "markdown",
   "metadata": {},
   "source": [
    "<pre>\n",
    "```python\n",
    "def function(n):\n",
    "    return n + 1\n",
    "```\n",
    "</pre>"
   ]
  },
  {
   "cell_type": "code",
   "execution_count": null,
   "metadata": {},
   "outputs": [],
   "source": []
  },
  {
   "cell_type": "markdown",
   "metadata": {},
   "source": [
    "#### **How can I get display() to show to equations side by side?**"
   ]
  },
  {
   "cell_type": "code",
   "execution_count": 1,
   "metadata": {},
   "outputs": [
    {
     "data": {
      "text/markdown": [
       "${x = \\frac{1}{\\lambda^{2}}}$ &nbsp; &nbsp; optional_text_here &nbsp; &nbsp; ${\\delta x = \\frac{2 \\delta \\lambda \\left|{\\lambda}\\right|}{\\lambda^{4}}}$"
      ],
      "text/plain": [
       "<IPython.core.display.Markdown object>"
      ]
     },
     "metadata": {},
     "output_type": "display_data"
    }
   ],
   "source": [
    "import sympy as sym\n",
    "from IPython.display import display, Markdown\n",
    "\n",
    "x = sym.symbols('x')\n",
    "dx = sym.Symbol(r'\\delta x')\n",
    "lam = sym.Symbol(r'\\lambda')\n",
    "dlam = sym.Symbol(r'\\delta \\lambda')\n",
    "\n",
    "expr1 = sym.latex(sym.Eq(x, 1/lam**2))\n",
    "expr2 = sym.latex(sym.Eq(dx, 2*dlam*sym.Abs(lam)/lam**4))\n",
    "\n",
    "# To add space use #alt-0160 (on Windows) for non-breaking spaces,\n",
    "# or the HTML '&nbsp;'. Otherwise, Markdown removes the space.\n",
    "exprMark = f'${{{expr1}}}$ &nbsp; &nbsp; optional_text_here &nbsp; &nbsp; ${{{expr2}}}$'\n",
    "display(Markdown(exprMark))"
   ]
  },
  {
   "cell_type": "code",
   "execution_count": null,
   "metadata": {},
   "outputs": [],
   "source": []
  }
 ],
 "metadata": {
  "kernelspec": {
   "display_name": "Python 3",
   "language": "python",
   "name": "python3"
  },
  "language_info": {
   "codemirror_mode": {
    "name": "ipython",
    "version": 3
   },
   "file_extension": ".py",
   "mimetype": "text/x-python",
   "name": "python",
   "nbconvert_exporter": "python",
   "pygments_lexer": "ipython3",
   "version": "3.6.9"
  }
 },
 "nbformat": 4,
 "nbformat_minor": 2
}
