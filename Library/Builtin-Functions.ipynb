{
 "cells": [
  {
   "cell_type": "markdown",
   "metadata": {},
   "source": [
    "\n"
   ]
  },
  {
   "cell_type": "markdown",
   "metadata": {},
   "source": [
    "<h2 align=\"center\"><b>Builtin Functions</b></h2> "
   ]
  },
  {
   "cell_type": "markdown",
   "metadata": {},
   "source": [
    "&nbsp;"
   ]
  },
  {
   "cell_type": "markdown",
   "metadata": {},
   "source": [
    "### **How to list Python builtin functions?**"
   ]
  },
  {
   "cell_type": "code",
   "execution_count": 2,
   "metadata": {},
   "outputs": [
    {
     "name": "stdout",
     "output_type": "stream",
     "text": [
      "abs          all          any          ascii        bin          bool         \n",
      "bytearray    bytes        callable     chr          classmethod  compile      \n",
      "complex      copyright    credits      delattr      dict         dir          \n",
      "display      divmod       enumerate    eval         exec         filter       \n",
      "float        format       frozenset    get_ipython  getattr      globals      \n",
      "hasattr      hash         help         hex          id           input        \n",
      "int          isinstance   issubclass   iter         len          license      \n",
      "list         locals       map          max          memoryview   min          \n",
      "next         object       oct          open         ord          pow          \n",
      "print        property     range        repr         reversed     round        \n",
      "set          setattr      slice        sorted       staticmethod str          \n",
      "sum          super        tuple        type         vars         zip          \n"
     ]
    }
   ],
   "source": [
    "import builtins\n",
    "\n",
    "functions = [i for i in dir(builtins) \n",
    "             if i[0].islower()]\n",
    "fmt = '{:13s}'*6\n",
    "\n",
    "for fn in zip(*[iter(functions)] *6):\n",
    "    print(fmt.format(*fn))"
   ]
  },
  {
   "cell_type": "markdown",
   "metadata": {},
   "source": [
    "***"
   ]
  },
  {
   "cell_type": "markdown",
   "metadata": {},
   "source": [
    "### **abs(x)**\n",
    "**Return the absolute value of the argument.**"
   ]
  },
  {
   "cell_type": "markdown",
   "metadata": {},
   "source": [
    "#### **abs() Parameters**\n",
    "\n",
    "The abs() method takes a single argument:\n",
    "\n",
    "**num - number whose absolute value is to be returned.**\n",
    "\n",
    "The number can be:\n",
    "* **integer**\n",
    "\n",
    "* **floating number**\n",
    "\n",
    "* **complex number**\n",
    "\n",
    "#### **Return value from abs()**\n",
    "\n",
    "The abs() method returns the absolute value of the given number.\n",
    "\n",
    "* **integers** - integer absolute value is returned\n",
    "\n",
    "* **floating numbers** - floating absolute value is returned\n",
    "\n",
    "* **complex numbers** - magnitude of the number is returned"
   ]
  },
  {
   "cell_type": "code",
   "execution_count": 12,
   "metadata": {},
   "outputs": [
    {
     "data": {
      "text/plain": [
       "10"
      ]
     },
     "execution_count": 12,
     "metadata": {},
     "output_type": "execute_result"
    }
   ],
   "source": [
    "abs(-10)"
   ]
  },
  {
   "cell_type": "code",
   "execution_count": 13,
   "metadata": {},
   "outputs": [
    {
     "data": {
      "text/plain": [
       "10.5"
      ]
     },
     "execution_count": 13,
     "metadata": {},
     "output_type": "execute_result"
    }
   ],
   "source": [
    "abs(-10.5)"
   ]
  },
  {
   "cell_type": "markdown",
   "metadata": {},
   "source": [
    "***"
   ]
  },
  {
   "cell_type": "markdown",
   "metadata": {},
   "source": [
    "### **all(iterable)**\n",
    "**Returns True when all elements in the given iterable are true. If not, it returns False.**"
   ]
  },
  {
   "cell_type": "markdown",
   "metadata": {},
   "source": [
    "#### **all() Parameters**\n",
    "\n",
    "The all() method takes a single parameter:\n",
    "\n",
    "**iterable** - any iterable *(list, tuple, dictionary, etc.)* which contains the elements\n",
    "\n",
    "#### **Return Value from all()**\n",
    "\n",
    "The all() method returns:\n",
    "\n",
    "**True -** If all elements in an iterable are true\n",
    "\n",
    "**False -** If any element in an iterable is false\n",
    "\n",
    "<br></br>\n",
    "Truth table for all()\n",
    "<h4><span style=\"padding-left:90px;color:black;\"><b>Truth table for all()</b></span></h2>\n",
    "\n",
    "|When\t|Return Value|\n",
    "|-------|------------|\n",
    "All values are true\t|True\n",
    "All values are false\t|False\n",
    "One value is true (others are false)\t|False\n",
    "One value is false (others are true)\t|False\n",
    "Empty Iterable\t|True\n"
   ]
  },
  {
   "cell_type": "code",
   "execution_count": 18,
   "metadata": {},
   "outputs": [
    {
     "data": {
      "text/plain": [
       "True"
      ]
     },
     "execution_count": 18,
     "metadata": {},
     "output_type": "execute_result"
    }
   ],
   "source": [
    "L = [1, 'e', 4.5, '8', '0', 45]\n",
    "all(L)"
   ]
  },
  {
   "cell_type": "code",
   "execution_count": 20,
   "metadata": {},
   "outputs": [
    {
     "data": {
      "text/plain": [
       "False"
      ]
     },
     "execution_count": 20,
     "metadata": {},
     "output_type": "execute_result"
    }
   ],
   "source": [
    "L = [0, 0.0, None, False, 0]\n",
    "all(L)"
   ]
  },
  {
   "cell_type": "code",
   "execution_count": 21,
   "metadata": {},
   "outputs": [
    {
     "data": {
      "text/plain": [
       "False"
      ]
     },
     "execution_count": 21,
     "metadata": {},
     "output_type": "execute_result"
    }
   ],
   "source": [
    "L = [0,0.0, None, False, 3, 0]\n",
    "all(L)"
   ]
  },
  {
   "cell_type": "code",
   "execution_count": 19,
   "metadata": {},
   "outputs": [
    {
     "data": {
      "text/plain": [
       "False"
      ]
     },
     "execution_count": 19,
     "metadata": {},
     "output_type": "execute_result"
    }
   ],
   "source": [
    "L = [1, 'e', 4.5, '8', '0', 0.0, 45]\n",
    "all(L)"
   ]
  }
 ],
 "metadata": {
  "kernelspec": {
   "display_name": "Python 3",
   "language": "python",
   "name": "python3"
  },
  "language_info": {
   "codemirror_mode": {
    "name": "ipython",
    "version": 3
   },
   "file_extension": ".py",
   "mimetype": "text/x-python",
   "name": "python",
   "nbconvert_exporter": "python",
   "pygments_lexer": "ipython3",
   "version": "3.6.9"
  }
 },
 "nbformat": 4,
 "nbformat_minor": 2
}
