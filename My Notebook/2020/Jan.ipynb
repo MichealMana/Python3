{
 "cells": [
  {
   "cell_type": "markdown",
   "metadata": {},
   "source": [
    "### **Assgiment arguments in Dictionary**"
   ]
  },
  {
   "cell_type": "code",
   "execution_count": 186,
   "metadata": {},
   "outputs": [
    {
     "data": {
      "text/plain": [
       "{'A': 1, 'B': 2, 'C': 3}"
      ]
     },
     "execution_count": 186,
     "metadata": {},
     "output_type": "execute_result"
    }
   ],
   "source": [
    "\n",
    "dict(A=1, B=2, C=3)"
   ]
  },
  {
   "cell_type": "markdown",
   "metadata": {},
   "source": [
    "### ping"
   ]
  },
  {
   "cell_type": "code",
   "execution_count": 187,
   "metadata": {},
   "outputs": [
    {
     "data": {
      "text/plain": [
       "'google.com'"
      ]
     },
     "execution_count": 187,
     "metadata": {},
     "output_type": "execute_result"
    }
   ],
   "source": [
    "from subprocess import check_output\n",
    "\n",
    "def ping(ip):\n",
    "    cmd = 'ping '+ ip + ' -c 2'\n",
    "    out = check_output(cmd.split()).decode()\n",
    "    \n",
    "    if 'bytes from' in out:\n",
    "        return ip\n",
    "    elif 'Destination Most Unreachable':\n",
    "        return 'Down'\n",
    "    else:\n",
    "        return 'Unknown'\n",
    "            \n",
    "ping('google.com')"
   ]
  },
  {
   "cell_type": "code",
   "execution_count": null,
   "metadata": {},
   "outputs": [],
   "source": [
    "%%bash\n",
    "\n",
    "while read name\n",
    "do \n",
    "echo -n \"$name-->\"\n",
    "(curl -Is $name | grep -i \"location\" &> /dev/null) && echo \"host Up\" || echo \"host down\" \n",
    "done < /home/mana/Work/hosts.txt\n"
   ]
  },
  {
   "cell_type": "markdown",
   "metadata": {},
   "source": [
    "### How to check if ICMP blocking is enabled in a system?\n"
   ]
  },
  {
   "cell_type": "code",
   "execution_count": 215,
   "metadata": {},
   "outputs": [
    {
     "name": "stdout",
     "output_type": "stream",
     "text": [
      "ICMP protocol enabled.\n"
     ]
    }
   ],
   "source": [
    "%%bash\n",
    "\n",
    "value=$(cat /proc/sys/net/ipv4/icmp_echo_ignore_all)\n",
    "\n",
    "if (($value == 0))\n",
    "then\n",
    "echo \"ICMP protocol enabled.\"\n",
    "else\n",
    "echo \"ICMP protocol disabled.\"\n",
    "fi"
   ]
  },
  {
   "cell_type": "code",
   "execution_count": 216,
   "metadata": {},
   "outputs": [
    {
     "name": "stdout",
     "output_type": "stream",
     "text": [
      "ICMP protocol enabled.\n"
     ]
    }
   ],
   "source": [
    "%%python3\n",
    "\n",
    "from pathlib import Path\n",
    "\n",
    "value = Path('/proc/sys/net/ipv4/icmp_echo_ignore_all').read_text()\n",
    "\n",
    "if int(value) == 0:\n",
    "    print(\"ICMP protocol enabled.\")\n",
    "else:\n",
    "    print('\"ICMP protocol disabled.\"')\n",
    "    "
   ]
  },
  {
   "cell_type": "markdown",
   "metadata": {},
   "source": [
    "### Making the program repeat after typing the incorrect password"
   ]
  },
  {
   "cell_type": "code",
   "execution_count": null,
   "metadata": {},
   "outputs": [],
   "source": [
    "passwd = 'correct'\n",
    "usr_passwd = input('Enter Password: ')\n",
    "while passwd != usr_passwd:\n",
    "    print(\"Sorry, your password is 'incorrect'!\")\n",
    "    usr_passwd = input('Enter Password Again: ')\n",
    "else:\n",
    "    print('Password Correct.')"
   ]
  },
  {
   "cell_type": "markdown",
   "metadata": {},
   "source": [
    "### How to check module installed or not?"
   ]
  },
  {
   "cell_type": "code",
   "execution_count": 218,
   "metadata": {},
   "outputs": [
    {
     "name": "stdout",
     "output_type": "stream",
     "text": [
      "Already module installed.\n"
     ]
    }
   ],
   "source": [
    "try:\n",
    "    import numpy \n",
    "except ModuleNotFoundError as p:\n",
    "    print(p,'Install Module.')\n",
    "else:\n",
    "    print('Already module installed.')"
   ]
  },
  {
   "cell_type": "code",
   "execution_count": 219,
   "metadata": {},
   "outputs": [
    {
     "name": "stdout",
     "output_type": "stream",
     "text": [
      "No module named 'keras' Install Module.\n"
     ]
    }
   ],
   "source": [
    "try:\n",
    "    import keras\n",
    "except ModuleNotFoundError as p:\n",
    "    print(p, 'Install Module.')\n",
    "else:\n",
    "    print('Already module installed.')"
   ]
  },
  {
   "cell_type": "markdown",
   "metadata": {},
   "source": [
    "### How to get the type of exception?\n"
   ]
  },
  {
   "cell_type": "code",
   "execution_count": 220,
   "metadata": {},
   "outputs": [
    {
     "name": "stdout",
     "output_type": "stream",
     "text": [
      "<class 'TypeError'>\n"
     ]
    }
   ],
   "source": [
    "import sys\n",
    "try:\n",
    "    6+'6'\n",
    "except:\n",
    "    print(sys.exc_info()[0])"
   ]
  },
  {
   "cell_type": "markdown",
   "metadata": {},
   "source": [
    "### How to remove all special characters in this string?"
   ]
  },
  {
   "cell_type": "code",
   "execution_count": 221,
   "metadata": {},
   "outputs": [
    {
     "data": {
      "text/plain": [
       "['li', 'class', 'pass', 'line', 'li']"
      ]
     },
     "execution_count": 221,
     "metadata": {},
     "output_type": "execute_result"
    }
   ],
   "source": [
    "import re\n",
    "\n",
    "st = '''<li class=\"pass\">'+line+'</li>'''\n",
    "re.sub(r'\\W',' ',st).split()"
   ]
  },
  {
   "cell_type": "markdown",
   "metadata": {},
   "source": [
    "### How to create simple Tamil Dictionary using Python?"
   ]
  },
  {
   "cell_type": "code",
   "execution_count": 222,
   "metadata": {},
   "outputs": [
    {
     "name": "stdout",
     "output_type": "stream",
     "text": [
      "Enter Word:milk\n",
      "Milk means பால்\n"
     ]
    }
   ],
   "source": [
    "word = {'banana':'வாழைப்பழம',\n",
    "            'milk':'பால்',\n",
    "            'water':'நீர்',\n",
    "            'rice':'சாதம',\n",
    "            'coffee':'காப்பி',\n",
    "            'fish':'மீன்',\n",
    "            'meat':'இறைச்சி',  \n",
    "            'fruit': 'பழம',\n",
    "            'chicken':'கோழி',\n",
    "            'tommato':'தக்காளி'}\n",
    "\n",
    "inp = input('Enter Word:')\n",
    "if inp in word:\n",
    "    print('{} means {}'.format(inp.title(),word[inp]))\n",
    "else:\n",
    "    print('Word not fonud')"
   ]
  },
  {
   "cell_type": "markdown",
   "metadata": {},
   "source": [
    "### Format string"
   ]
  },
  {
   "cell_type": "code",
   "execution_count": 223,
   "metadata": {},
   "outputs": [
    {
     "name": "stdout",
     "output_type": "stream",
     "text": [
      "The cost of 2 apples 3 mangoes and 5 oranges is Rs 50 .\n"
     ]
    }
   ],
   "source": [
    "%%python3\n",
    "\n",
    "app = 2\n",
    "man = 3\n",
    "orgn = 5 \n",
    "tot = 50\n",
    "\n",
    "print(f'The cost of {app} apples {man} mangoes and {orgn} oranges is Rs {tot} .')"
   ]
  },
  {
   "cell_type": "code",
   "execution_count": 224,
   "metadata": {},
   "outputs": [
    {
     "name": "stdout",
     "output_type": "stream",
     "text": [
      "The cost of 2 apples 3 mangoes and 5 oranges is Rs 50 .\n"
     ]
    }
   ],
   "source": [
    "%%bash\n",
    "\n",
    "app=2\n",
    "man=3\n",
    "orgn=5 \n",
    "tot=50\n",
    "\n",
    "echo \"The cost of ${app} apples ${man} mangoes and ${orgn} oranges is Rs ${tot} .\""
   ]
  },
  {
   "cell_type": "markdown",
   "metadata": {},
   "source": [
    "### factorial"
   ]
  },
  {
   "cell_type": "code",
   "execution_count": 225,
   "metadata": {},
   "outputs": [
    {
     "name": "stdout",
     "output_type": "stream",
     "text": [
      "The factorial of 23 is : 25852016738884976640000\n"
     ]
    }
   ],
   "source": [
    "n = 23\n",
    "fact = 1\n",
    "  \n",
    "for i in range(1,n+1): \n",
    "    fact = fact * i \n",
    "      \n",
    "print (\"The factorial of 23 is : \",end=\"\") \n",
    "print (fact) "
   ]
  },
  {
   "cell_type": "code",
   "execution_count": 226,
   "metadata": {},
   "outputs": [
    {
     "name": "stdout",
     "output_type": "stream",
     "text": [
      "23!-  25852016738884976640000\n"
     ]
    }
   ],
   "source": [
    "import math \n",
    "\n",
    "print ('23!- ',math.factorial(23)) "
   ]
  },
  {
   "cell_type": "markdown",
   "metadata": {},
   "source": [
    "### How to count the all zero at the last of a factorial number?"
   ]
  },
  {
   "cell_type": "code",
   "execution_count": 227,
   "metadata": {},
   "outputs": [
    {
     "name": "stdout",
     "output_type": "stream",
     "text": [
      "25852016738884976640000\n"
     ]
    }
   ],
   "source": [
    "import math \n",
    "\n",
    "print (math.factorial(23)) "
   ]
  },
  {
   "cell_type": "code",
   "execution_count": 228,
   "metadata": {},
   "outputs": [
    {
     "data": {
      "text/plain": [
       "4"
      ]
     },
     "execution_count": 228,
     "metadata": {},
     "output_type": "execute_result"
    }
   ],
   "source": [
    "import math \n",
    "import re\n",
    "\n",
    "fact = str(math.factorial(23))\n",
    "last = re.findall(r'[1-9]0*$',fact)\n",
    "len(re.sub(r'^.','',last[0]))"
   ]
  },
  {
   "cell_type": "markdown",
   "metadata": {},
   "source": [
    "### **How to remove empty space in list?**"
   ]
  },
  {
   "cell_type": "markdown",
   "metadata": {},
   "source": [
    "##### Method:1"
   ]
  },
  {
   "cell_type": "code",
   "execution_count": 229,
   "metadata": {},
   "outputs": [
    {
     "data": {
      "text/plain": [
       "['Python', '2020']"
      ]
     },
     "execution_count": 229,
     "metadata": {},
     "output_type": "execute_result"
    }
   ],
   "source": [
    "lst = [' ','Python', ' ', '2020']\n",
    "[i for i in lst if i != ' ' ]"
   ]
  },
  {
   "cell_type": "markdown",
   "metadata": {},
   "source": [
    "##### Method:2"
   ]
  },
  {
   "cell_type": "code",
   "execution_count": 230,
   "metadata": {},
   "outputs": [
    {
     "data": {
      "text/plain": [
       "['Python', '2020']"
      ]
     },
     "execution_count": 230,
     "metadata": {},
     "output_type": "execute_result"
    }
   ],
   "source": [
    "lst = [' ','Python', ' ', '2020']\n",
    "[i for i in lst if not i.isspace() ]"
   ]
  },
  {
   "cell_type": "markdown",
   "metadata": {},
   "source": [
    "##### Method:3"
   ]
  },
  {
   "cell_type": "code",
   "execution_count": 231,
   "metadata": {},
   "outputs": [
    {
     "data": {
      "text/plain": [
       "['Python', '2020']"
      ]
     },
     "execution_count": 231,
     "metadata": {},
     "output_type": "execute_result"
    }
   ],
   "source": [
    "import re\n",
    "\n",
    "lst = [' ','Python', ' ', '2020']\n",
    "[i for i in lst if re.match(r'^\\w',i)]"
   ]
  },
  {
   "cell_type": "markdown",
   "metadata": {},
   "source": [
    "### **How to list Built-In-Exceptions Error?**"
   ]
  },
  {
   "cell_type": "code",
   "execution_count": 232,
   "metadata": {},
   "outputs": [
    {
     "name": "stdout",
     "output_type": "stream",
     "text": [
      "ArithmeticError           AssertionError       AttributeError      \n",
      "BaseException             BlockingIOError      BrokenPipeError     \n",
      "BufferError               BytesWarning         ChildProcessError   \n",
      "ConnectionAbortedError    ConnectionError      ConnectionRefusedError\n",
      "ConnectionResetError      DeprecationWarning   EOFError            \n",
      "EnvironmentError          Exception            FileExistsError     \n",
      "FileNotFoundError         FloatingPointError   FutureWarning       \n",
      "GeneratorExit             IOError              ImportError         \n",
      "ImportWarning             IndentationError     IndexError          \n",
      "InterruptedError          IsADirectoryError    KeyError            \n",
      "KeyboardInterrupt         LookupError          MemoryError         \n",
      "ModuleNotFoundError       NameError            NotADirectoryError  \n",
      "NotImplemented            NotImplementedError  OSError             \n",
      "OverflowError             PendingDeprecationWarning PermissionError     \n",
      "ProcessLookupError        RecursionError       ReferenceError      \n",
      "ResourceWarning           RuntimeError         RuntimeWarning      \n",
      "StopAsyncIteration        StopIteration        SyntaxError         \n",
      "SyntaxWarning             SystemError          SystemExit          \n",
      "TabError                  TimeoutError         TypeError           \n",
      "UnboundLocalError         UnicodeDecodeError   UnicodeEncodeError  \n",
      "UnicodeError              UnicodeTranslateError UnicodeWarning      \n",
      "UserWarning               ValueError           Warning             \n"
     ]
    }
   ],
   "source": [
    "import re\n",
    "\n",
    "match = re.findall(r'^[AZ].*[EW]', ' '.join(dir(__builtins__)))\n",
    "match_splt = match[0].split()\n",
    "extra = ['False', 'True', 'None', 'Ellipsis']\n",
    "final = sorted(list(set(match_splt) - set(extra)))\n",
    "\n",
    "for i,j,k in zip(*[iter(final)] *3):\n",
    "    print('{:<25} {:<20} {:<20}'.format(i, j, k))\n"
   ]
  },
  {
   "cell_type": "markdown",
   "metadata": {},
   "source": [
    "### **Standard errno system table**"
   ]
  },
  {
   "cell_type": "markdown",
   "metadata": {},
   "source": [
    "#### **To translate a numeric error code to an error message**"
   ]
  },
  {
   "cell_type": "code",
   "execution_count": 233,
   "metadata": {},
   "outputs": [
    {
     "name": "stdout",
     "output_type": "stream",
     "text": [
      "Error-Code  Error-Symbol    Error-Message\n",
      "--------------------------------------------------\n",
      "1         EPERM         Operation not permitted            \n",
      "2         ENOENT        No such file or directory          \n",
      "3         ESRCH         No such process                    \n",
      "4         EINTR         Interrupted system call            \n",
      "5          EIO          Input/output error                 \n",
      "6         ENXIO         No such device or address          \n",
      "7         E2BIG         Argument list too long             \n",
      "8        ENOEXEC        Exec format error                  \n",
      "9         EBADF         Bad file descriptor                \n",
      "10         ECHILD        No child processes                 \n",
      "11         EAGAIN        Resource temporarily unavailable   \n",
      "12         ENOMEM        Cannot allocate memory             \n",
      "13         EACCES        Permission denied                  \n",
      "14         EFAULT        Bad address                        \n",
      "15        ENOTBLK        Block device required              \n",
      "16         EBUSY         Device or resource busy            \n",
      "17         EEXIST        File exists                        \n",
      "18         EXDEV         Invalid cross-device link          \n",
      "19         ENODEV        No such device                     \n",
      "20        ENOTDIR        Not a directory                    \n",
      "21         EISDIR        Is a directory                     \n",
      "22         EINVAL        Invalid argument                   \n",
      "23         ENFILE        Too many open files in system      \n",
      "24         EMFILE        Too many open files                \n",
      "25         ENOTTY        Inappropriate ioctl for device     \n",
      "26        ETXTBSY        Text file busy                     \n",
      "27         EFBIG         File too large                     \n",
      "28         ENOSPC        No space left on device            \n",
      "29         ESPIPE        Illegal seek                       \n",
      "30         EROFS         Read-only file system              \n",
      "31         EMLINK        Too many links                     \n",
      "32         EPIPE         Broken pipe                        \n",
      "33          EDOM         Numerical argument out of domain   \n",
      "34         ERANGE        Numerical result out of range      \n",
      "35       EDEADLOCK       Resource deadlock avoided          \n",
      "36      ENAMETOOLONG     File name too long                 \n",
      "37         ENOLCK        No locks available                 \n",
      "38         ENOSYS        Function not implemented           \n",
      "39       ENOTEMPTY       Directory not empty                \n",
      "40         ELOOP         Too many levels of symbolic links  \n",
      "42         ENOMSG        No message of desired type         \n",
      "43         EIDRM         Identifier removed                 \n",
      "44         ECHRNG        Channel number out of range        \n",
      "45        EL2NSYNC       Level 2 not synchronized           \n",
      "46         EL3HLT        Level 3 halted                     \n",
      "47         EL3RST        Level 3 reset                      \n",
      "48         ELNRNG        Link number out of range           \n",
      "49        EUNATCH        Protocol driver not attached       \n",
      "50         ENOCSI        No CSI structure available         \n",
      "51         EL2HLT        Level 2 halted                     \n",
      "52         EBADE         Invalid exchange                   \n",
      "53         EBADR         Invalid request descriptor         \n",
      "54         EXFULL        Exchange full                      \n",
      "55         ENOANO        No anode                           \n",
      "56        EBADRQC        Invalid request code               \n",
      "57        EBADSLT        Invalid slot                       \n",
      "59         EBFONT        Bad font file format               \n",
      "60         ENOSTR        Device not a stream                \n",
      "61        ENODATA        No data available                  \n",
      "62         ETIME         Timer expired                      \n",
      "63         ENOSR         Out of streams resources           \n",
      "64         ENONET        Machine is not on the network      \n",
      "65         ENOPKG        Package not installed              \n",
      "66        EREMOTE        Object is remote                   \n",
      "67        ENOLINK        Link has been severed              \n",
      "68          EADV         Advertise error                    \n",
      "69         ESRMNT        Srmount error                      \n",
      "70         ECOMM         Communication error on send        \n",
      "71         EPROTO        Protocol error                     \n",
      "72       EMULTIHOP       Multihop attempted                 \n",
      "73        EDOTDOT        RFS specific error                 \n",
      "74        EBADMSG        Bad message                        \n",
      "75       EOVERFLOW       Value too large for defined data type\n",
      "76        ENOTUNIQ       Name not unique on network         \n",
      "77         EBADFD        File descriptor in bad state       \n",
      "78        EREMCHG        Remote address changed             \n",
      "79        ELIBACC        Can not access a needed shared library\n",
      "80        ELIBBAD        Accessing a corrupted shared library\n",
      "81        ELIBSCN        .lib section in a.out corrupted    \n",
      "82        ELIBMAX        Attempting to link in too many shared libraries\n",
      "83        ELIBEXEC       Cannot exec a shared library directly\n",
      "84         EILSEQ        Invalid or incomplete multibyte or wide character\n",
      "85        ERESTART       Interrupted system call should be restarted\n",
      "86        ESTRPIPE       Streams pipe error                 \n",
      "87         EUSERS        Too many users                     \n",
      "88        ENOTSOCK       Socket operation on non-socket     \n",
      "89      EDESTADDRREQ     Destination address required       \n",
      "90        EMSGSIZE       Message too long                   \n",
      "91       EPROTOTYPE      Protocol wrong type for socket     \n",
      "92      ENOPROTOOPT      Protocol not available             \n",
      "93    EPROTONOSUPPORT    Protocol not supported             \n",
      "94    ESOCKTNOSUPPORT    Socket type not supported          \n",
      "95        ENOTSUP        Operation not supported            \n",
      "96      EPFNOSUPPORT     Protocol family not supported      \n",
      "97      EAFNOSUPPORT     Address family not supported by protocol\n",
      "98       EADDRINUSE      Address already in use             \n",
      "99     EADDRNOTAVAIL     Cannot assign requested address    \n",
      "100        ENETDOWN       Network is down                    \n",
      "101      ENETUNREACH      Network is unreachable             \n",
      "102       ENETRESET       Network dropped connection on reset\n",
      "103      ECONNABORTED     Software caused connection abort   \n",
      "104       ECONNRESET      Connection reset by peer           \n",
      "105        ENOBUFS        No buffer space available          \n",
      "106        EISCONN        Transport endpoint is already connected\n",
      "107        ENOTCONN       Transport endpoint is not connected\n",
      "108       ESHUTDOWN       Cannot send after transport endpoint shutdown\n",
      "109      ETOOMANYREFS     Too many references: cannot splice \n",
      "110       ETIMEDOUT       Connection timed out               \n",
      "111      ECONNREFUSED     Connection refused                 \n",
      "112       EHOSTDOWN       Host is down                       \n",
      "113      EHOSTUNREACH     No route to host                   \n",
      "114        EALREADY       Operation already in progress      \n",
      "115      EINPROGRESS      Operation now in progress          \n",
      "116         ESTALE        Stale file handle                  \n",
      "117        EUCLEAN        Structure needs cleaning           \n",
      "118        ENOTNAM        Not a XENIX named type file        \n",
      "119        ENAVAIL        No XENIX semaphores available      \n",
      "120         EISNAM        Is a named type file               \n",
      "121       EREMOTEIO       Remote I/O error                   \n",
      "122         EDQUOT        Disk quota exceeded                \n",
      "123       ENOMEDIUM       No medium found                    \n",
      "124      EMEDIUMTYPE      Wrong medium type                  \n",
      "125       ECANCELED       Operation canceled                 \n",
      "126         ENOKEY        Required key not available         \n",
      "127      EKEYEXPIRED      Key has expired                    \n",
      "128      EKEYREVOKED      Key has been revoked               \n",
      "129      EKEYREJECTED     Key was rejected by service        \n",
      "130       EOWNERDEAD      Owner died                         \n",
      "131    ENOTRECOVERABLE    State not recoverable              \n",
      "132        ERFKILL        Operation not possible due to RF-kill\n"
     ]
    }
   ],
   "source": [
    "import errno\n",
    "import os\n",
    "\n",
    "print('{:<10} {:^14} {:>15}'.format('Error-Code','Error-Symbol','Error-Message'))\n",
    "print('-'*50)\n",
    "for x,y in sorted(errno.errorcode.items()):\n",
    "    print('{}  {:^20} {:<35}'.format(x, y, os.strerror(x)))"
   ]
  },
  {
   "cell_type": "markdown",
   "metadata": {},
   "source": [
    "### **Password Validation**\n"
   ]
  },
  {
   "cell_type": "raw",
   "metadata": {},
   "source": [
    "The password is vaild if it has at minimum 2 numbers and \n",
    "2 following of special characters and a length of at least 7 charcters."
   ]
  },
  {
   "cell_type": "code",
   "execution_count": 234,
   "metadata": {},
   "outputs": [
    {
     "name": "stdout",
     "output_type": "stream",
     "text": [
      "Vaild\n"
     ]
    }
   ],
   "source": [
    "import re\n",
    "st = 'mk$*als^r73'\n",
    "\n",
    "if len(st) >= 7 and len(re.findall(r'\\W{2,}',st)) and len(re.findall(r'\\d{2,}',st)):\n",
    "    print('Vaild')\n",
    "else:\n",
    "    print('Not Vaild')\n"
   ]
  },
  {
   "cell_type": "markdown",
   "metadata": {},
   "source": [
    "### **How to use 'and', 'None'?**"
   ]
  },
  {
   "cell_type": "code",
   "execution_count": 235,
   "metadata": {},
   "outputs": [
    {
     "name": "stdout",
     "output_type": "stream",
     "text": [
      "Wrong\n"
     ]
    }
   ],
   "source": [
    "st = 'Mana'\n",
    "if len(st) >= 7 and 0:\n",
    "    print('Correct')\n",
    "else:\n",
    "    print('Wrong')\n"
   ]
  },
  {
   "cell_type": "code",
   "execution_count": 236,
   "metadata": {},
   "outputs": [
    {
     "name": "stdout",
     "output_type": "stream",
     "text": [
      "Correct\n"
     ]
    }
   ],
   "source": [
    "st = 'Manavalan'\n",
    "if len(st) >= 7 and 1:\n",
    "    print('Correct')\n",
    "else:\n",
    "    print('Wrong')\n"
   ]
  },
  {
   "cell_type": "markdown",
   "metadata": {},
   "source": [
    "### **Check whether a directory is empty or not**"
   ]
  },
  {
   "cell_type": "code",
   "execution_count": 237,
   "metadata": {},
   "outputs": [
    {
     "name": "stdout",
     "output_type": "stream",
     "text": [
      "/home/mana/Documents is empty.\n"
     ]
    }
   ],
   "source": [
    "%%python3\n",
    "\n",
    "from pathlib import Path \n",
    "\n",
    "p = Path('/home/mana/Documents')\n",
    "if len([*p.glob('*')]):\n",
    "    print(p,'is not empty.')\n",
    "else:\n",
    "    print(p,'is empty.')"
   ]
  },
  {
   "cell_type": "code",
   "execution_count": 238,
   "metadata": {},
   "outputs": [
    {
     "name": "stdout",
     "output_type": "stream",
     "text": [
      "/home/mana/Documents is empty.\n"
     ]
    }
   ],
   "source": [
    "%%bash\n",
    "\n",
    "find /home/mana/Documents -type d -empty -exec echo {} is empty. \\;"
   ]
  },
  {
   "cell_type": "markdown",
   "metadata": {},
   "source": [
    "### **Evaluate expression in single line**"
   ]
  },
  {
   "cell_type": "code",
   "execution_count": 239,
   "metadata": {},
   "outputs": [
    {
     "name": "stdout",
     "output_type": "stream",
     "text": [
      "Vaild\n"
     ]
    }
   ],
   "source": [
    "%%bash\n",
    "\n",
    "((0 <= 40 && 40 <= 100 )) && echo 'Vaild' || echo 'Not Vaild'"
   ]
  },
  {
   "cell_type": "code",
   "execution_count": 240,
   "metadata": {},
   "outputs": [
    {
     "name": "stdout",
     "output_type": "stream",
     "text": [
      "valid\n"
     ]
    }
   ],
   "source": [
    "%%python3\n",
    "\n",
    "print('valid' if 0 <= 40 <=100 else 'Not Valid')"
   ]
  },
  {
   "cell_type": "markdown",
   "metadata": {},
   "source": [
    "### **Dictionary setdefault method** "
   ]
  },
  {
   "cell_type": "code",
   "execution_count": 241,
   "metadata": {},
   "outputs": [
    {
     "data": {
      "text/plain": [
       "{'M': ['M'],\n",
       " 'a': ['a', 'a', 'a', 'a'],\n",
       " 'n': ['n', 'n'],\n",
       " 'v': ['v'],\n",
       " 'l': ['l']}"
      ]
     },
     "execution_count": 241,
     "metadata": {},
     "output_type": "execute_result"
    }
   ],
   "source": [
    "name = 'Manavalan'\n",
    "d = {}\n",
    "for i in name:\n",
    "    d.setdefault(i, []).append(i)\n",
    "d"
   ]
  },
  {
   "cell_type": "markdown",
   "metadata": {},
   "source": [
    "### **Dictionary get method**"
   ]
  },
  {
   "cell_type": "code",
   "execution_count": 242,
   "metadata": {},
   "outputs": [
    {
     "data": {
      "text/plain": [
       "{'M': 1, 'a': 4, 'n': 2, 'v': 1, 'l': 1}"
      ]
     },
     "execution_count": 242,
     "metadata": {},
     "output_type": "execute_result"
    }
   ],
   "source": [
    "name = 'Manavalan'\n",
    "d = {}\n",
    "for i in name:\n",
    "    d[i] = d.get(i,0)+1\n",
    "d"
   ]
  },
  {
   "cell_type": "markdown",
   "metadata": {},
   "source": [
    "### **Most common character**"
   ]
  },
  {
   "cell_type": "code",
   "execution_count": 243,
   "metadata": {},
   "outputs": [
    {
     "data": {
      "text/plain": [
       "('a', 4)"
      ]
     },
     "execution_count": 243,
     "metadata": {},
     "output_type": "execute_result"
    }
   ],
   "source": [
    "name = 'Manavalan'\n",
    "d = {}\n",
    "for i in name:\n",
    "    d[i] = d.get(i,0)+1\n",
    "sorted(d.items(), key = lambda x: x[1])[-1]"
   ]
  },
  {
   "cell_type": "code",
   "execution_count": 244,
   "metadata": {},
   "outputs": [
    {
     "data": {
      "text/plain": [
       "[('a', 4)]"
      ]
     },
     "execution_count": 244,
     "metadata": {},
     "output_type": "execute_result"
    }
   ],
   "source": [
    "from collections import Counter\n",
    "\n",
    "name = 'Manavalan'\n",
    "Counter(name).most_common(1)"
   ]
  },
  {
   "cell_type": "markdown",
   "metadata": {},
   "source": [
    "### **How to create tail command using Python?**"
   ]
  },
  {
   "cell_type": "code",
   "execution_count": 245,
   "metadata": {},
   "outputs": [
    {
     "name": "stdout",
     "output_type": "stream",
     "text": [
      "hplip:x:120:7:HPLIP system user,,,:/var/run/hplip:/bin/false\n",
      "geoclue:x:121:129::/var/lib/geoclue:/usr/sbin/nologin\n",
      "mana:x:1000:1000:mana,,,:/home/mana:/bin/bash\n",
      "sshd:x:122:65534::/run/sshd:/usr/sbin/nologin\n"
     ]
    }
   ],
   "source": [
    "from collections import deque\n",
    "from pathlib import Path\n",
    "\n",
    "lines = Path('/etc/passwd').read_text().splitlines()\n",
    "print(*deque(lines, 4), sep = '\\n')"
   ]
  },
  {
   "cell_type": "code",
   "execution_count": null,
   "metadata": {},
   "outputs": [],
   "source": [
    "!tail -4 /etc/passwd"
   ]
  },
  {
   "cell_type": "markdown",
   "metadata": {},
   "source": [
    "### **How to generate 5 random numbers?**"
   ]
  },
  {
   "cell_type": "code",
   "execution_count": null,
   "metadata": {},
   "outputs": [],
   "source": [
    "from collections import deque\n",
    "import random\n",
    "\n",
    "lst = [random.randint(0, 100) for _ in range(20)]\n",
    "deque(lst, 5)"
   ]
  },
  {
   "cell_type": "markdown",
   "metadata": {},
   "source": [
    "### **How to find inode number of file?**"
   ]
  },
  {
   "cell_type": "code",
   "execution_count": null,
   "metadata": {},
   "outputs": [],
   "source": [
    "%%python3\n",
    "\n",
    "import os\n",
    "\n",
    "file = '/home/mana/Work/user.csv'\n",
    "print(os.stat(file).st_ino, file)"
   ]
  },
  {
   "cell_type": "code",
   "execution_count": null,
   "metadata": {},
   "outputs": [],
   "source": [
    "!ls -i /home/mana/Work/user.csv"
   ]
  },
  {
   "cell_type": "markdown",
   "metadata": {},
   "source": [
    "### **How to make dictionary from keyword args?**"
   ]
  },
  {
   "cell_type": "code",
   "execution_count": null,
   "metadata": {},
   "outputs": [],
   "source": [
    "dict(a=1, b=2, c=3)"
   ]
  },
  {
   "cell_type": "markdown",
   "metadata": {},
   "source": [
    "### **How Jio validate days?**\n",
    "> 'This is One Month Plan'"
   ]
  },
  {
   "cell_type": "code",
   "execution_count": null,
   "metadata": {},
   "outputs": [],
   "source": [
    "from datetime import datetime\n",
    "\n",
    "recharge_date = '10-12-2019'\n",
    "diff = datetime.now() - datetime.strptime(recharge_date,\"%d-%m-%Y\")\n",
    "print(diff.days, 'days.')"
   ]
  },
  {
   "cell_type": "markdown",
   "metadata": {},
   "source": [
    "### **How to check whether systemd or init?**"
   ]
  },
  {
   "cell_type": "code",
   "execution_count": null,
   "metadata": {},
   "outputs": [],
   "source": [
    "%%python3\n",
    "\n",
    "from pathlib import Path\n",
    "\n",
    "pro = Path('/proc/1/status').read_text().splitlines()[0]\n",
    "if pro.split()[1] == 'systemd':\n",
    "    print('This is systemd system.')\n",
    "else:\n",
    "    print('This is init system.')"
   ]
  },
  {
   "cell_type": "code",
   "execution_count": null,
   "metadata": {},
   "outputs": [],
   "source": [
    "%%bash\n",
    "\n",
    "awk '/Name:/ {if ($2 == \"systemd.\") print \"systemd\"; else print \"initd.\"}' \\\n",
    "/proc/1/status"
   ]
  },
  {
   "cell_type": "markdown",
   "metadata": {},
   "source": [
    "### **10 Most Frequently Used Linux commands**"
   ]
  },
  {
   "cell_type": "code",
   "execution_count": null,
   "metadata": {},
   "outputs": [],
   "source": [
    "from collections import Counter\n",
    "from pathlib import Path\n",
    "from os import environ\n",
    "\n",
    "home = environ['HOME']\n",
    "lines = Path(home+'/.bash_history').read_text().splitlines()\n",
    "commands = [x.split()[0] for x in lines if x]\n",
    "result = Counter(commands).most_common(10)\n",
    "\n",
    "for i,j in result:\n",
    "    print(f'{i:10} {j}') "
   ]
  },
  {
   "cell_type": "code",
   "execution_count": null,
   "metadata": {},
   "outputs": [],
   "source": [
    "from pathlib import Path\n",
    "from os import environ\n",
    "\n",
    "dcommand = {}\n",
    "home = environ['HOME']\n",
    "lines = Path(home+'/.bash_history').read_text().splitlines()\n",
    "for x in lines:\n",
    "    if x:\n",
    "        splt = x.split()[0]\n",
    "        dcommand[splt] = dcommand.get(splt, 0)+1\n",
    "\n",
    "result = sorted(dcommand.items(), key = lambda x: x[1], reverse = True)[0:10]\n",
    "for i,j in result:\n",
    "    print(f'{i:10} {j}')"
   ]
  },
  {
   "cell_type": "code",
   "execution_count": null,
   "metadata": {},
   "outputs": [],
   "source": [
    "from collections import Counter\n",
    "from os import environ\n",
    "from re import findall\n",
    "\n",
    "home = environ['HOME']\n",
    "compose = findall(r'.*', open(home+'/.bash_history').read())\n",
    "commands = [x.split()[0] for x in compose if x]\n",
    "result = Counter(commands).most_common(10)\n",
    "for i,j in result:\n",
    "    print(f'{i:10} {j}')"
   ]
  },
  {
   "cell_type": "markdown",
   "metadata": {},
   "source": [
    "### **Read file in single line code**"
   ]
  },
  {
   "cell_type": "code",
   "execution_count": null,
   "metadata": {},
   "outputs": [],
   "source": [
    "open('/home/mana/Work/user.txt').read()\n"
   ]
  },
  {
   "cell_type": "code",
   "execution_count": null,
   "metadata": {},
   "outputs": [],
   "source": [
    "open('/home/mana/Work/user.txt').readlines()"
   ]
  },
  {
   "cell_type": "markdown",
   "metadata": {},
   "source": [
    "### **How to split lines in a file?**"
   ]
  },
  {
   "cell_type": "code",
   "execution_count": null,
   "metadata": {},
   "outputs": [],
   "source": [
    "list(map(str.split, open('/home/mana/Work/user.txt').readlines()))\n",
    "open('/home/mana/Work/user.txt').close()"
   ]
  },
  {
   "cell_type": "markdown",
   "metadata": {},
   "source": [
    "### **How to remove empty elements?**"
   ]
  },
  {
   "cell_type": "code",
   "execution_count": null,
   "metadata": {},
   "outputs": [],
   "source": [
    "lst = [3, 'M', '', 'B', 78, 0]\n",
    "list(filter(lambda x: x  != '', lst))"
   ]
  },
  {
   "cell_type": "code",
   "execution_count": null,
   "metadata": {},
   "outputs": [],
   "source": [
    "lst = [3, 'M', '', 'B', 78, 0]\n",
    "[x for x in lst if x  != '']"
   ]
  },
  {
   "cell_type": "markdown",
   "metadata": {},
   "source": [
    "### **How to find longest word in file?**\n",
    "\n",
    "if two or more words are same length, it print first occurance word only."
   ]
  },
  {
   "cell_type": "code",
   "execution_count": null,
   "metadata": {},
   "outputs": [],
   "source": [
    "max(open('/home/mana/Work/fruit2.txt').read().split(), key=len)"
   ]
  },
  {
   "cell_type": "markdown",
   "metadata": {},
   "source": [
    "### **How to find longest line in a file?**"
   ]
  },
  {
   "cell_type": "code",
   "execution_count": null,
   "metadata": {},
   "outputs": [],
   "source": [
    "!cat /home/mana/Work/fruit2.txt"
   ]
  },
  {
   "cell_type": "code",
   "execution_count": null,
   "metadata": {},
   "outputs": [],
   "source": [
    "%%bash\n",
    "\n",
    "awk '{print length, $0}' /home/mana/Work/fruit2.txt | sort -nr | head -1"
   ]
  },
  {
   "cell_type": "code",
   "execution_count": null,
   "metadata": {},
   "outputs": [],
   "source": [
    "%%python3\n",
    "\n",
    "print(max(open('/home/mana/Work/fruit2.txt'), key=len))"
   ]
  },
  {
   "cell_type": "markdown",
   "metadata": {},
   "source": [
    "### **How to generate HTML file?**"
   ]
  },
  {
   "cell_type": "code",
   "execution_count": null,
   "metadata": {},
   "outputs": [],
   "source": [
    "with open(\"/home/mana/Work/file.html\", \"w\") as f:\n",
    "    str = '<html>'\n",
    "    str += '\\n <body>'\n",
    "    str += '\\n <svg width=\"100\" height=\"100\">'\n",
    "    str += '\\n <circle cx=\"50\" cy=\"50\" r=\"40\" stroke=\"green\" stroke-width=\"4\" fill=\"yellow\" />'\n",
    "    str += '\\n </svg>'\n",
    "    str += '\\n </body>'\n",
    "    str += '\\n</html>'\n",
    "    f.write(str)"
   ]
  },
  {
   "cell_type": "markdown",
   "metadata": {},
   "source": [
    "### **How many times split in the line?**\n",
    "\n",
    "Default it split each space."
   ]
  },
  {
   "cell_type": "code",
   "execution_count": null,
   "metadata": {},
   "outputs": [],
   "source": [
    "st = 'I am a beginner.'\n",
    "\n",
    "f'{len(st.split())-1} times'"
   ]
  },
  {
   "cell_type": "markdown",
   "metadata": {},
   "source": [
    "### **How to find size of file?**"
   ]
  },
  {
   "cell_type": "markdown",
   "metadata": {},
   "source": [
    "#### python3"
   ]
  },
  {
   "cell_type": "code",
   "execution_count": null,
   "metadata": {},
   "outputs": [],
   "source": [
    "from pathlib import Path\n",
    "import bisect\n",
    "\n",
    "#size = [1, 1e+3, 1e+6, 1e+9]\n",
    "size = [1, 2**10, 2**20, 2**30]\n",
    "unit = ['B', 'K', 'M', 'G']\n",
    "fpath = input('Enter file name: ') \n",
    "fsize = Path(fpath).stat().st_size\n",
    "\n",
    "def convert(byts):\n",
    "    if byts != 0:\n",
    "        index = bisect.bisect(size, byts) -1\n",
    "        return f'{byts/size[index]:.1f}{unit[index]}'\n",
    "    else: \n",
    "        return '0B'\n",
    "print(f'{convert(fsize)} {fpath}')"
   ]
  },
  {
   "cell_type": "code",
   "execution_count": null,
   "metadata": {},
   "outputs": [],
   "source": [
    "%%bash\n",
    "\n",
    "ls -1sh /home/mana/Pro-Python-System-Administration.pdf"
   ]
  },
  {
   "cell_type": "markdown",
   "metadata": {},
   "source": [
    "### **Find and Remove files bigger than a specific size and type**\n",
    "Here I remove the files more than 10MB size."
   ]
  },
  {
   "cell_type": "code",
   "execution_count": null,
   "metadata": {},
   "outputs": [],
   "source": [
    "%%python3\n",
    "\n",
    "from pathlib import Path\n",
    "    \n",
    "dpath = Path('/home/mana/Work')\n",
    "fsize = [(i,i.stat().st_size) for i in dpath.iterdir() if i.is_file()]\n",
    "\n",
    "print(\"Follwing files are reomoved:\")\n",
    "for x,y in fsize:\n",
    "    if y >= 1e+7 and x.suffix in ['.tar', '.zip', '.pdf']:\n",
    "        print(x.name)\n",
    "        x.unlink()"
   ]
  },
  {
   "cell_type": "code",
   "execution_count": null,
   "metadata": {},
   "outputs": [],
   "source": [
    "%%bash\n",
    "\n",
    "echo \"Follwing files are reomoved:\"\n",
    "find /home/mana/Work/ -maxdepth 1 -type f \\\n",
    "\\( -name \"*zip\" -o -name \"*tar\" -o -name \"*pdf\" \\) \\\n",
    "-size +10M -printf \"%f\\n\" -delete"
   ]
  },
  {
   "cell_type": "markdown",
   "metadata": {},
   "source": [
    "### **How to split a list into multiple lists?**"
   ]
  },
  {
   "cell_type": "raw",
   "metadata": {},
   "source": [
    "Expected Output:\n",
    "\n",
    "['CS']\n",
    "['CS-PP']\n",
    "['CS-PP-GE']\n",
    "['CS-PP-GE-RI']\n",
    "['CS-PP-GE-RI-ET']"
   ]
  },
  {
   "cell_type": "code",
   "execution_count": null,
   "metadata": {},
   "outputs": [],
   "source": [
    "l = 'CS-PP-GE-RI-ET'.split('-')\n",
    "m = [['-'.join(l[0:i+1])] for i in range(len(l))]\n",
    "print(*m, sep = '\\n')"
   ]
  },
  {
   "cell_type": "code",
   "execution_count": null,
   "metadata": {},
   "outputs": [],
   "source": [
    "from itertools import accumulate\n",
    "\n",
    "l = 'CS-PP-GE-RI-ET'.split('-')\n",
    "print(*accumulate(l, lambda x, y: '-'.join([x, y])), sep='\\n')"
   ]
  },
  {
   "cell_type": "raw",
   "metadata": {},
   "source": [
    "Replace every instance of 'o' with $ Except the first occurence \n",
    "in the string below:\n",
    "\n",
    "'Welcome to Python 101'"
   ]
  },
  {
   "cell_type": "code",
   "execution_count": null,
   "metadata": {},
   "outputs": [],
   "source": [
    "st = 'Welcome to Python 101'[::-1]\n",
    "st.replace('o','$', 2)[::-1]\n"
   ]
  },
  {
   "cell_type": "code",
   "execution_count": null,
   "metadata": {},
   "outputs": [],
   "source": [
    "import re\n",
    "\n",
    "st = 'Welcome to Python 101'[::-1]\n",
    "re.sub(r'o','$', st, count = 2)[::-1]"
   ]
  },
  {
   "cell_type": "raw",
   "metadata": {},
   "source": [
    "Replace every instance of 'o' with $ Except 'o' occurence end of word\n",
    "in the string below:\n",
    "\n",
    "'Welcome to Python 101'"
   ]
  },
  {
   "cell_type": "code",
   "execution_count": null,
   "metadata": {},
   "outputs": [],
   "source": [
    "%%python3\n",
    "\n",
    "import re\n",
    "\n",
    "st = 'Welcome to Python 101'\n",
    "print(re.sub(r'o\\B','$', st))"
   ]
  },
  {
   "cell_type": "code",
   "execution_count": null,
   "metadata": {},
   "outputs": [],
   "source": [
    "%%bash\n",
    "\n",
    "echo 'Welcome to Python 101' | sed -rn 's/o\\B/$/gp'"
   ]
  },
  {
   "cell_type": "code",
   "execution_count": null,
   "metadata": {},
   "outputs": [],
   "source": [
    "print('Bye.')"
   ]
  },
  {
   "cell_type": "markdown",
   "metadata": {},
   "source": [
    "## **Emulate df command using python**"
   ]
  },
  {
   "cell_type": "code",
   "execution_count": null,
   "metadata": {},
   "outputs": [],
   "source": [
    "from os import statvfs as svfs\n",
    "from pathlib import Path\n",
    "import bisect\n",
    "import re\n",
    "\n",
    "#size = [1, 1e+3, 1e+6, 1e+9]      ## GB\n",
    "size = [1, 2**10, 2**20, 2**30]  ## GiB\n",
    "unit = ['B', 'K', 'M', 'G']\n",
    "mline = Path('/proc/mounts').read_text().splitlines()\n",
    "mdev = [lp.split()[:2] for lp in mline if re.match(r'^/dev/sd[a-z][1-9]', lp)]\n",
    "clt = [(fsl,svfs(mpl)[0]*svfs(mpl)[2],svfs(mpl)[0]*svfs(mpl)[3],mpl) \n",
    "       for fsl, mpl in mdev]\n",
    "\n",
    "def con(byts):\n",
    "    index = bisect.bisect(size, byts)-1\n",
    "    return \"{:.0f}{}\".format(byts/size[index], unit[index])\n",
    "\n",
    "print('{:20} {:^9} {:^9} {:^9} {:>13}'\n",
    "      .format('Filesystem','Size','Used','Avail','Mounted-on'))\n",
    "print('*'*66)\n",
    "for fs in clt:\n",
    "     print('{:20} {:^9} {:^9} {:^9}    {:20}'\n",
    "           .format(fs[0],con(fs[1]),con(fs[1]-fs[2]),con(fs[2]),fs[3]))  "
   ]
  },
  {
   "cell_type": "markdown",
   "metadata": {},
   "source": [
    "### **How many apples to here?**"
   ]
  },
  {
   "cell_type": "code",
   "execution_count": null,
   "metadata": {},
   "outputs": [],
   "source": [
    "st = 'Apple Orange Mango Apple Banana Orange'\n",
    "st.count('Apple')"
   ]
  },
  {
   "cell_type": "code",
   "execution_count": null,
   "metadata": {},
   "outputs": [],
   "source": [
    "st = 'Apple Orange Mango Apple Banana Orange'\n",
    "\n",
    "aps = []\n",
    "\n",
    "for i in st.split():\n",
    "    if i == 'Apple':\n",
    "        aps.append(i)\n",
    "len(aps)"
   ]
  },
  {
   "cell_type": "code",
   "execution_count": null,
   "metadata": {},
   "outputs": [],
   "source": [
    "from collections import Counter\n",
    "st = 'Apple Orange Mango Apple Banana Orange'\n",
    "\n",
    "Counter(st.split())"
   ]
  },
  {
   "cell_type": "code",
   "execution_count": null,
   "metadata": {},
   "outputs": [],
   "source": [
    "from collections import defaultdic"
   ]
  },
  {
   "cell_type": "code",
   "execution_count": null,
   "metadata": {},
   "outputs": [],
   "source": [
    "setdefault"
   ]
  },
  {
   "cell_type": "markdown",
   "metadata": {},
   "source": [
    "### How can i get ASCII number of every letter?"
   ]
  },
  {
   "cell_type": "code",
   "execution_count": null,
   "metadata": {},
   "outputs": [],
   "source": [
    "from string import ascii_uppercase,ascii_lowercase\n",
    "\n",
    "{i: ord(i) for i  in ascii_uppercase+ascii_lowercase}"
   ]
  },
  {
   "cell_type": "markdown",
   "metadata": {},
   "source": [
    "### **What is output this program?**"
   ]
  },
  {
   "cell_type": "code",
   "execution_count": null,
   "metadata": {},
   "outputs": [],
   "source": [
    "a = 10\n",
    "b = 'z'\n",
    "print(a+b)"
   ]
  },
  {
   "cell_type": "raw",
   "metadata": {},
   "source": [
    "1. 10z\n",
    "2. 10 + 'z'\n",
    "3. Type Error\n",
    "4. a+b"
   ]
  },
  {
   "cell_type": "markdown",
   "metadata": {},
   "source": [
    "### **How to use check_output method in Linux system?**"
   ]
  },
  {
   "cell_type": "code",
   "execution_count": null,
   "metadata": {},
   "outputs": [],
   "source": [
    "%%python3\n",
    "\n",
    "from subprocess import check_output\n",
    "\n",
    "cmd = 'ping -c3 8.8.8.8'\n",
    "print(*check_output(cmd.split()).decode().splitlines(), sep = '\\n')"
   ]
  },
  {
   "cell_type": "markdown",
   "metadata": {},
   "source": [
    "### **How to call function through another function?**"
   ]
  },
  {
   "cell_type": "code",
   "execution_count": null,
   "metadata": {},
   "outputs": [],
   "source": [
    "def add(a, b):\n",
    "    return a + b\n",
    "\n",
    "def call_add():\n",
    "    return add(3, 2)\n",
    "\n",
    "call_add()"
   ]
  },
  {
   "cell_type": "markdown",
   "metadata": {},
   "source": [
    "### **Print current working directory**"
   ]
  },
  {
   "cell_type": "code",
   "execution_count": null,
   "metadata": {},
   "outputs": [],
   "source": [
    "%%bash\n",
    "\n",
    "pwd\n",
    "\n",
    "## OR ###\n",
    "\n",
    "echo \"$PWD\""
   ]
  },
  {
   "cell_type": "code",
   "execution_count": null,
   "metadata": {},
   "outputs": [],
   "source": [
    "%%python3\n",
    "\n",
    "import os\n",
    "\n",
    "print(os.getcwd())"
   ]
  },
  {
   "cell_type": "markdown",
   "metadata": {},
   "source": [
    "### **How to format date?**"
   ]
  },
  {
   "cell_type": "code",
   "execution_count": null,
   "metadata": {},
   "outputs": [],
   "source": [
    "from datetime import datetime\n",
    "\n",
    "person1_date = '24-12-1984'\n",
    "person1 = datetime.strptime(person1_date, \"%d-%m-%Y\")\n",
    "person2_date = '08-12-1986'\n",
    "person2 = datetime.strptime(person2_date, \"%d-%m-%Y\")\n",
    "\n",
    "print((person2 - person1).days, 'days')\n",
    "print(round((person2 - person1).days/365), 'years')\n",
    "\n"
   ]
  },
  {
   "cell_type": "markdown",
   "metadata": {},
   "source": [
    "### **list of date formats**"
   ]
  },
  {
   "cell_type": "code",
   "execution_count": null,
   "metadata": {},
   "outputs": [],
   "source": [
    "%%bash\n",
    "date --help | grep -Po \"\\s{2}%.*\""
   ]
  },
  {
   "cell_type": "code",
   "execution_count": null,
   "metadata": {},
   "outputs": [],
   "source": [
    "%%python3\n",
    "\n",
    "from subprocess import check_output\n",
    "from re import findall\n",
    "\n",
    "cmd = 'date --help'\n",
    "out = check_output(cmd.split())\n",
    "print(*findall(r'\\s{2}%.*', out.decode()), sep = '\\n')"
   ]
  },
  {
   "cell_type": "markdown",
   "metadata": {},
   "source": [
    "### **How to create a timer in python?**"
   ]
  },
  {
   "cell_type": "code",
   "execution_count": null,
   "metadata": {},
   "outputs": [],
   "source": [
    "from time import sleep\n",
    "sec = int(input('Select seconds:'))\n",
    "print(sec)\n",
    "for t in range(sec,-1,-1):\n",
    "    print(t, end = '\\f\\r')\n",
    "    sleep(1)"
   ]
  },
  {
   "cell_type": "markdown",
   "metadata": {},
   "source": [
    "### **How to use base argument in integer function?**"
   ]
  },
  {
   "cell_type": "markdown",
   "metadata": {},
   "source": [
    "#### **Convert integer from Binary**"
   ]
  },
  {
   "cell_type": "code",
   "execution_count": null,
   "metadata": {},
   "outputs": [],
   "source": [
    "int('1001', 2)"
   ]
  },
  {
   "cell_type": "markdown",
   "metadata": {},
   "source": [
    "#### **Convert integer from Oct**"
   ]
  },
  {
   "cell_type": "code",
   "execution_count": null,
   "metadata": {},
   "outputs": [],
   "source": [
    "int('13', 8)"
   ]
  },
  {
   "cell_type": "markdown",
   "metadata": {},
   "source": [
    "#### **Convert integer from Hex**"
   ]
  },
  {
   "cell_type": "code",
   "execution_count": null,
   "metadata": {},
   "outputs": [],
   "source": [
    "int('4F', 16)"
   ]
  },
  {
   "cell_type": "markdown",
   "metadata": {},
   "source": [
    "### **Checking the Usage of Memory**\n",
    "We can check the amount of memory consumed by each variable."
   ]
  },
  {
   "cell_type": "code",
   "execution_count": null,
   "metadata": {},
   "outputs": [],
   "source": [
    "# Example: 1\n",
    "from sys import getsizeof\n",
    "x = 'Manavalan'\n",
    "y = 459\n",
    "z = ['M', 90, 'Chennai', 0, 'Paris']\n",
    "print(getsizeof(x))\n",
    "print(getsizeof(y))\n",
    "print(getsizeof(z))"
   ]
  },
  {
   "cell_type": "code",
   "execution_count": null,
   "metadata": {},
   "outputs": [],
   "source": [
    "# Example: 2\n",
    "from sys import getsizeof\n",
    "def add(x):\n",
    "    return 5**10000+6+9+x\n",
    "\n",
    "print(getsizeof(add(100000)))"
   ]
  },
  {
   "cell_type": "markdown",
   "metadata": {},
   "source": [
    "### This is sample program to generate function name"
   ]
  },
  {
   "cell_type": "code",
   "execution_count": null,
   "metadata": {},
   "outputs": [],
   "source": [
    "import builtins\n",
    "\n",
    "fn = ['abs','all', 'any']\n",
    "\n",
    "for x in fn:\n",
    "    print(x)\n",
    "    print(getattr(builtins, x).__doc__)\n",
    "    print('*'*50)"
   ]
  },
  {
   "cell_type": "markdown",
   "metadata": {},
   "source": [
    "#### Can you explain the code print(int('13',8)) and How to get 11?"
   ]
  },
  {
   "cell_type": "code",
   "execution_count": null,
   "metadata": {},
   "outputs": [],
   "source": [
    "int function has 2 arguments. \n",
    "one argument is string_number value or float value. another one is base.\n",
    "\n",
    "If you convert string_number to integer with base 10(This is ordinary decimal).\n",
    "Dont need mention base.\n",
    "For Example:\n",
    "    int('25')\n",
    "    \n",
    "Suppose if you want convert Binary string_number to integer. \n",
    "You need mention the base is 2.\n",
    "For Example:\n",
    "    int('1001', base = 2)\n",
    "    \n",
    "\n",
    "Suppose if you want convert Octal string_number to integer. \n",
    "You need mention the base is 8.\n",
    "For Example:\n",
    "    int('31', base = 8)\n",
    "    \n",
    "Suppose if you want convert Hex string_number to integer. \n",
    "You need mention the base is 16.\n",
    "For Example:\n",
    "    int('4F', base = 16)"
   ]
  },
  {
   "cell_type": "code",
   "execution_count": null,
   "metadata": {},
   "outputs": [],
   "source": [
    "print(int('1001', 2))\n",
    "print(int('13', 8))\n",
    "print(int('4F', 16))\n"
   ]
  },
  {
   "cell_type": "markdown",
   "metadata": {},
   "source": [
    "### Multiple assginments\n",
    "Here, name and age assgine in single line\n",
    "\n",
    "using multiple assignments."
   ]
  },
  {
   "cell_type": "code",
   "execution_count": null,
   "metadata": {},
   "outputs": [],
   "source": [
    "name, age = 'Jane', 22\n",
    "print(f'Her name is {name}. she is {age}')"
   ]
  },
  {
   "cell_type": "markdown",
   "metadata": {},
   "source": [
    "### **How to use if ..else in lambda?**"
   ]
  },
  {
   "cell_type": "code",
   "execution_count": null,
   "metadata": {},
   "outputs": [],
   "source": [
    "(lambda a,b : a if a > b else b)(10, 5)"
   ]
  },
  {
   "cell_type": "markdown",
   "metadata": {},
   "source": [
    "### **How to use and or in lambda?**"
   ]
  },
  {
   "cell_type": "code",
   "execution_count": null,
   "metadata": {},
   "outputs": [],
   "source": [
    "(lambda a,b : a > b and a or b)(10, 5)"
   ]
  },
  {
   "cell_type": "markdown",
   "metadata": {},
   "source": [
    "### **Sum of different length Lists of list**"
   ]
  },
  {
   "cell_type": "code",
   "execution_count": null,
   "metadata": {},
   "outputs": [],
   "source": [
    "lst = [[1, 4, 5], [7, 3], [4], [46, 7, 3]] \n",
    "sum(sum(lst, []))"
   ]
  },
  {
   "cell_type": "code",
   "execution_count": null,
   "metadata": {},
   "outputs": [],
   "source": [
    "from itertools import chain \n",
    "\n",
    "lst = [[1, 4, 5], [7, 3], [4], [46, 7, 3]] \n",
    "sum(list(chain(*lst)))"
   ]
  },
  {
   "cell_type": "code",
   "execution_count": null,
   "metadata": {},
   "outputs": [],
   "source": [
    "import operator\n",
    "from functools import reduce\n",
    "\n",
    "lst = [[1, 4, 5], [7, 3], [4], [46, 7, 3]] \n",
    "reduce(operator.add, sum(lst, []))"
   ]
  },
  {
   "cell_type": "markdown",
   "metadata": {},
   "source": [
    "### **nested for loop in list comprehension**"
   ]
  },
  {
   "cell_type": "code",
   "execution_count": null,
   "metadata": {},
   "outputs": [],
   "source": [
    "lst = [[1, 4, 5], [7, 3], [4], [46, 7, 3]] \n",
    "[y for x in lst for y in x]"
   ]
  },
  {
   "cell_type": "markdown",
   "metadata": {},
   "source": [
    "### **How to change list of list into single list?**"
   ]
  },
  {
   "cell_type": "code",
   "execution_count": null,
   "metadata": {},
   "outputs": [],
   "source": [
    "lst = [[1, 4, 5], [7, 3], [4], [46, 7, 3]] \n",
    "sum(lst, [])"
   ]
  },
  {
   "cell_type": "code",
   "execution_count": null,
   "metadata": {},
   "outputs": [],
   "source": [
    "lst = [[1, 4, 5], [7, 3], [4], [46, 7, 3]] \n",
    "[y for x in lst for y in x]"
   ]
  },
  {
   "cell_type": "code",
   "execution_count": null,
   "metadata": {},
   "outputs": [],
   "source": [
    "from itertools import chain \n",
    "\n",
    "lst = [[1, 4, 5], [7, 3], [4], [46, 7, 3]] \n",
    "list(chain(*lst))"
   ]
  },
  {
   "cell_type": "markdown",
   "metadata": {},
   "source": [
    "### **What is output of this program?**"
   ]
  },
  {
   "cell_type": "code",
   "execution_count": null,
   "metadata": {},
   "outputs": [],
   "source": [
    "print(10 > 5 and 10 or 5)"
   ]
  },
  {
   "cell_type": "raw",
   "metadata": {},
   "source": [
    "1. 10\n",
    "2. 5\n",
    "3. None\n",
    "4. 15"
   ]
  },
  {
   "cell_type": "markdown",
   "metadata": {},
   "source": [
    "### **How to sum two list?**"
   ]
  },
  {
   "cell_type": "code",
   "execution_count": null,
   "metadata": {},
   "outputs": [],
   "source": [
    "lst1 = [2, 3, 4]\n",
    "lst2 = [4, 5, 6]\n",
    "\n",
    "sum(lst1+lst2)"
   ]
  },
  {
   "cell_type": "code",
   "execution_count": null,
   "metadata": {},
   "outputs": [],
   "source": [
    "import operator\n",
    "\n",
    "lst1 = [2, 3, 4]\n",
    "lst2 = [4, 5, 6]\n",
    "sum(map(operator.add, lst1, lst2))"
   ]
  },
  {
   "cell_type": "code",
   "execution_count": null,
   "metadata": {},
   "outputs": [],
   "source": [
    "from functools import reduce\n",
    "from operator import add\n",
    "\n",
    "lst1 = [2, 3, 4]\n",
    "lst2 = [4, 5, 6]\n",
    "\n",
    "reduce(add, lst1+lst2)\n"
   ]
  },
  {
   "cell_type": "markdown",
   "metadata": {},
   "source": [
    "### Why sencond statement failed?"
   ]
  },
  {
   "cell_type": "code",
   "execution_count": null,
   "metadata": {},
   "outputs": [],
   "source": [
    "print(0 and Null)\n",
    "print(1 and Null)"
   ]
  },
  {
   "cell_type": "markdown",
   "metadata": {},
   "source": [
    "### **What is output?**"
   ]
  },
  {
   "cell_type": "code",
   "execution_count": null,
   "metadata": {},
   "outputs": [],
   "source": [
    "print(4 and 6 and 11)"
   ]
  },
  {
   "cell_type": "raw",
   "metadata": {},
   "source": [
    "1. 4\n",
    "2. 11\n",
    "3. 6\n",
    "4. None"
   ]
  },
  {
   "cell_type": "markdown",
   "metadata": {},
   "source": [
    "### **How to assgin empty keyword on function arguments?**"
   ]
  },
  {
   "cell_type": "code",
   "execution_count": null,
   "metadata": {},
   "outputs": [],
   "source": [
    "from subprocess import check_output\n",
    "\n",
    "def uptime(x = ''):\n",
    "    cmd = 'uptime -' + x\n",
    "    out = check_output(cmd.split()).decode()\n",
    "    return out\n",
    "\n",
    "print('How long the system has been running?\\n',uptime())\n",
    "print('Show uptime in pretty format:\\n', uptime('p'))\n",
    "print('System up since:\\n',uptime('s'))"
   ]
  },
  {
   "cell_type": "code",
   "execution_count": null,
   "metadata": {},
   "outputs": [],
   "source": [
    "from functools import partial\n",
    "from subprocess import check_output\n",
    "\n",
    "def uptime(x = ''):\n",
    "    cmd = 'uptime -' + x\n",
    "    out = check_output(cmd.split()).decode()\n",
    "    return out\n",
    "\n",
    "print('How long the system has been running?')\n",
    "print(partial(uptime))\n",
    "      \n",
    "print('Show uptime in pretty format:\\n', uptime('p'))\n",
    "print('System up since:\\n',uptime('s'))"
   ]
  },
  {
   "cell_type": "code",
   "execution_count": null,
   "metadata": {},
   "outputs": [],
   "source": [
    "from functools import partial\n",
    "from subprocess import check_output\n",
    "\n",
    "def uptime(x):\n",
    "    cmd = 'uptime -' + x\n",
    "    out = check_output(cmd.split()).decode()\n",
    "    return out\n",
    "\n",
    "print('How long the system has been running?')\n",
    "print(partial(uptime, x = ''))\n",
    "      "
   ]
  },
  {
   "cell_type": "code",
   "execution_count": null,
   "metadata": {},
   "outputs": [],
   "source": [
    "from functools import partial\n",
    "partial(int)\n"
   ]
  },
  {
   "cell_type": "markdown",
   "metadata": {},
   "source": [
    "### **Find a word in text file**"
   ]
  },
  {
   "cell_type": "code",
   "execution_count": null,
   "metadata": {},
   "outputs": [],
   "source": [
    "!cat /home/mana/Work/linux.txt"
   ]
  },
  {
   "cell_type": "code",
   "execution_count": null,
   "metadata": {},
   "outputs": [],
   "source": [
    "from pathlib import Path\n",
    "\n",
    "'kernel' in Path('/home/mana/Work/linux.txt').read_text().split()"
   ]
  },
  {
   "cell_type": "code",
   "execution_count": null,
   "metadata": {},
   "outputs": [],
   "source": [
    "from pathlib import Path\n",
    "\n",
    "'gravity' in Path('/home/mana/Work/linux.txt').read_text().split()"
   ]
  },
  {
   "cell_type": "markdown",
   "metadata": {},
   "source": [
    "### **Word count in file**"
   ]
  },
  {
   "cell_type": "code",
   "execution_count": null,
   "metadata": {},
   "outputs": [],
   "source": [
    "!cat /home/mana/Work/linux.txt"
   ]
  },
  {
   "cell_type": "code",
   "execution_count": null,
   "metadata": {},
   "outputs": [],
   "source": [
    "%%bash\n",
    "\n",
    "wc -w /home/mana/Work/linux.txt"
   ]
  },
  {
   "cell_type": "code",
   "execution_count": null,
   "metadata": {},
   "outputs": [],
   "source": [
    "%%python3\n",
    "\n",
    "from pathlib import Path\n",
    "\n",
    "print(len(Path('/home/mana/Work/linux.txt').read_text().split()))"
   ]
  },
  {
   "cell_type": "code",
   "execution_count": null,
   "metadata": {},
   "outputs": [],
   "source": [
    "!egrep -o \"\\w*\" /home/mana/Work/linux.txt | wc -l"
   ]
  },
  {
   "cell_type": "markdown",
   "metadata": {},
   "source": [
    "### **Capture current date log and compress into tar file**"
   ]
  },
  {
   "cell_type": "code",
   "execution_count": null,
   "metadata": {},
   "outputs": [],
   "source": [
    "%%python3\n",
    "\n",
    "from datetime import datetime\n",
    "from pathlib import Path\n",
    "import tarfile\n",
    "\n",
    "dpath = '/home/mana/Work/'\n",
    "log_file = Path('/var/log/syslog').read_text().splitlines()\n",
    "today = datetime.today().strftime('%b %d')\n",
    "current_date_log = [i for i in log_file if i.startswith(today)]\n",
    "print(*current_date_log, sep = '\\n', file = open(dpath+'log.txt', 'w'))\n",
    "with tarfile.open('/home/mana/Work/log.tar.gz', \"w:gz\") as tar:\n",
    "    tar.add(dpath+'log.txt', arcname=Path(dpath+'log.txt').name)\n",
    "Path(dpath+'log.txt').unlink()"
   ]
  },
  {
   "cell_type": "markdown",
   "metadata": {},
   "source": [
    "### **How to Compress a file?**"
   ]
  },
  {
   "cell_type": "code",
   "execution_count": null,
   "metadata": {},
   "outputs": [],
   "source": [
    "%%bash\n",
    "\n",
    "cd /home/mana/Work\n",
    "tar -czf test.tar.gz test.txt"
   ]
  },
  {
   "cell_type": "code",
   "execution_count": null,
   "metadata": {},
   "outputs": [],
   "source": [
    "%%python3\n",
    "\n",
    "from pathlib import Path\n",
    "import tarfile\n",
    "\n",
    "with tarfile.open('/home/mana/Work/test.tar.gz', \"w:gz\") as tar:\n",
    "    tar.add('/home/mana/Work/test.txt', \n",
    "            arcname=Path('/home/mana/Work/test.txt').name)"
   ]
  },
  {
   "cell_type": "markdown",
   "metadata": {},
   "source": [
    "### **Print cat**"
   ]
  },
  {
   "cell_type": "code",
   "execution_count": null,
   "metadata": {},
   "outputs": [],
   "source": [
    "chr(128008)"
   ]
  },
  {
   "cell_type": "code",
   "execution_count": 189,
   "metadata": {},
   "outputs": [
    {
     "data": {
      "text/plain": [
       "'🐆'"
      ]
     },
     "execution_count": 189,
     "metadata": {},
     "output_type": "execute_result"
    }
   ],
   "source": [
    "chr(128006)"
   ]
  },
  {
   "cell_type": "markdown",
   "metadata": {},
   "source": [
    "### **Print emoji**"
   ]
  },
  {
   "cell_type": "code",
   "execution_count": 190,
   "metadata": {},
   "outputs": [
    {
     "name": "stdout",
     "output_type": "stream",
     "text": [
      "🐀 🐁 🐂 🐃 🐄 🐅 🐆 🐇 🐈 🐉 🐊 🐋 🐌 🐍 🐎 "
     ]
    }
   ],
   "source": [
    "for i in range(128000, 128015):\n",
    "    print(chr(i), end = ' ')"
   ]
  },
  {
   "cell_type": "code",
   "execution_count": 191,
   "metadata": {},
   "outputs": [
    {
     "data": {
      "text/plain": [
       "'❀'"
      ]
     },
     "execution_count": 191,
     "metadata": {},
     "output_type": "execute_result"
    }
   ],
   "source": [
    "chr(int('2740', base = 16))"
   ]
  },
  {
   "cell_type": "code",
   "execution_count": 192,
   "metadata": {},
   "outputs": [
    {
     "name": "stdout",
     "output_type": "stream",
     "text": [
      "🧞”❀️\n"
     ]
    }
   ],
   "source": [
    "print(u\"\\U0001F9DE\\u201D\\u2740\\uFE0F\")"
   ]
  },
  {
   "cell_type": "code",
   "execution_count": 193,
   "metadata": {},
   "outputs": [
    {
     "name": "stdout",
     "output_type": "stream",
     "text": [
      "🧞\n"
     ]
    }
   ],
   "source": [
    "print(u\"\\U0001F9DE\")"
   ]
  },
  {
   "cell_type": "code",
   "execution_count": 194,
   "metadata": {},
   "outputs": [
    {
     "name": "stdout",
     "output_type": "stream",
     "text": [
      "❀\n"
     ]
    }
   ],
   "source": [
    "print(u\"\\u2740\")"
   ]
  },
  {
   "cell_type": "code",
   "execution_count": 195,
   "metadata": {},
   "outputs": [
    {
     "data": {
      "text/plain": [
       "'\\ue421'"
      ]
     },
     "execution_count": 195,
     "metadata": {},
     "output_type": "execute_result"
    }
   ],
   "source": [
    "chr(58401)"
   ]
  },
  {
   "cell_type": "code",
   "execution_count": 196,
   "metadata": {},
   "outputs": [
    {
     "name": "stdout",
     "output_type": "stream",
     "text": [
      "👎\n"
     ]
    }
   ],
   "source": [
    "print(u\"\\U0001F44E\")"
   ]
  },
  {
   "cell_type": "markdown",
   "metadata": {},
   "source": [
    "### **How to find router(Gateway) address from /proc/net/router file?**"
   ]
  },
  {
   "cell_type": "code",
   "execution_count": 197,
   "metadata": {},
   "outputs": [
    {
     "name": "stdout",
     "output_type": "stream",
     "text": [
      "192.168.1.1\n"
     ]
    }
   ],
   "source": [
    "%%python3\n",
    "\n",
    "from pathlib import Path\n",
    "from re import findall\n",
    "\n",
    "route = Path('/proc/net/route').read_text().splitlines()[1]\n",
    "hex_addr = findall(r'..',route.split('\\t')[2])[::-1]\n",
    "hex_base = [str(int(x, base=16)) for x in hex_addr]\n",
    "print('.'.join(hex_base))"
   ]
  },
  {
   "cell_type": "code",
   "execution_count": 198,
   "metadata": {},
   "outputs": [
    {
     "name": "stdout",
     "output_type": "stream",
     "text": [
      "192.168.1.1\n"
     ]
    }
   ],
   "source": [
    "%%bash\n",
    "\n",
    "ip route | awk 'NR == 1 {print $3}'"
   ]
  },
  {
   "cell_type": "markdown",
   "metadata": {},
   "source": [
    "### **How to use color code?**"
   ]
  },
  {
   "cell_type": "code",
   "execution_count": 199,
   "metadata": {},
   "outputs": [
    {
     "name": "stdout",
     "output_type": "stream",
     "text": [
      "\u001b[1;34;40m Welcome \n"
     ]
    }
   ],
   "source": [
    "%%python3\n",
    "\n",
    "print('\\033[1;34;40m Welcome ')"
   ]
  },
  {
   "cell_type": "code",
   "execution_count": 200,
   "metadata": {},
   "outputs": [
    {
     "name": "stdout",
     "output_type": "stream",
     "text": [
      "\u001b[1;34;40m Welcome \n"
     ]
    }
   ],
   "source": [
    "%%bash\n",
    "\n",
    "echo -e \"\\033[1;34;40m Welcome \""
   ]
  },
  {
   "cell_type": "markdown",
   "metadata": {},
   "source": [
    "### **Memory size of 'x' and Memory view of 'x'**"
   ]
  },
  {
   "cell_type": "code",
   "execution_count": 201,
   "metadata": {},
   "outputs": [
    {
     "name": "stdout",
     "output_type": "stream",
     "text": [
      "b'Python'\n",
      "Memory Size of x:  39\n",
      "<memory at 0x7ffaf42fb648>\n"
     ]
    }
   ],
   "source": [
    "from sys import getsizeof\n",
    "\n",
    "x = 'Python'.encode()\n",
    "\n",
    "print(x)\n",
    "print('Memory Size of x: ', getsizeof(x))\n",
    "print(memoryview(bytes(x)))"
   ]
  },
  {
   "cell_type": "markdown",
   "metadata": {},
   "source": [
    "### **What is output?**"
   ]
  },
  {
   "cell_type": "code",
   "execution_count": 202,
   "metadata": {},
   "outputs": [
    {
     "name": "stdout",
     "output_type": "stream",
     "text": [
      "b'Python'\n"
     ]
    }
   ],
   "source": [
    "x = 'Python'.encode()\n",
    "print(x)"
   ]
  },
  {
   "cell_type": "raw",
   "metadata": {},
   "source": [
    "1. 'Python'\n",
    "2. Python\n",
    "3. b'Python'\n",
    "4. None"
   ]
  },
  {
   "cell_type": "markdown",
   "metadata": {},
   "source": [
    "### **How to print current year?**"
   ]
  },
  {
   "cell_type": "code",
   "execution_count": 203,
   "metadata": {},
   "outputs": [
    {
     "name": "stdout",
     "output_type": "stream",
     "text": [
      "2020\n"
     ]
    }
   ],
   "source": [
    "from datetime import datetime\n",
    "\n",
    "print(datetime.today().strftime('%Y'))"
   ]
  },
  {
   "cell_type": "markdown",
   "metadata": {},
   "source": [
    "### **Find Second Largest Number**"
   ]
  },
  {
   "cell_type": "code",
   "execution_count": 204,
   "metadata": {},
   "outputs": [
    {
     "data": {
      "text/plain": [
       "83"
      ]
     },
     "execution_count": 204,
     "metadata": {},
     "output_type": "execute_result"
    }
   ],
   "source": [
    "my_nums = [ 44, 11, 83, 25, 76, 88]\n",
    "sorted(my_nums)[-2]"
   ]
  },
  {
   "cell_type": "code",
   "execution_count": 205,
   "metadata": {},
   "outputs": [
    {
     "data": {
      "text/plain": [
       "83"
      ]
     },
     "execution_count": 205,
     "metadata": {},
     "output_type": "execute_result"
    }
   ],
   "source": [
    "my_nums = [ 44, 11, 83, 25, 76, 88]\n",
    "my_nums.sort()\n",
    "my_nums[-2]"
   ]
  },
  {
   "cell_type": "code",
   "execution_count": 206,
   "metadata": {},
   "outputs": [
    {
     "data": {
      "text/plain": [
       "83"
      ]
     },
     "execution_count": 206,
     "metadata": {},
     "output_type": "execute_result"
    }
   ],
   "source": [
    "my_nums = [ 44, 11, 83, 25, 76, 88]\n",
    "my_nums.remove(max(my_nums))\n",
    "max(my_nums)"
   ]
  },
  {
   "cell_type": "code",
   "execution_count": 207,
   "metadata": {},
   "outputs": [
    {
     "data": {
      "text/plain": [
       "83"
      ]
     },
     "execution_count": 207,
     "metadata": {},
     "output_type": "execute_result"
    }
   ],
   "source": [
    "import heapq\n",
    "\n",
    "my_nums = [ 44, 11, 83, 25, 76, 88]\n",
    "heapq.heapify\n",
    "heapq.nlargest(2, my_nums)[1]"
   ]
  },
  {
   "cell_type": "code",
   "execution_count": 208,
   "metadata": {},
   "outputs": [
    {
     "data": {
      "text/plain": [
       "83"
      ]
     },
     "execution_count": 208,
     "metadata": {},
     "output_type": "execute_result"
    }
   ],
   "source": [
    "import heapq\n",
    "\n",
    "my_nums = [ 44, 11, 83, 25, 76, 88]\n",
    "heapq.heapify\n",
    "min(heapq.nlargest(2, my_nums))"
   ]
  },
  {
   "cell_type": "markdown",
   "metadata": {},
   "source": [
    "### **How to find Nth largest number in an array?**"
   ]
  },
  {
   "cell_type": "code",
   "execution_count": 406,
   "metadata": {},
   "outputs": [
    {
     "data": {
      "text/plain": [
       "20"
      ]
     },
     "execution_count": 406,
     "metadata": {},
     "output_type": "execute_result"
    }
   ],
   "source": [
    "arr = [7,10,4,3,3,20,15,7]\n",
    "max(arr)"
   ]
  },
  {
   "cell_type": "code",
   "execution_count": 412,
   "metadata": {},
   "outputs": [
    {
     "data": {
      "text/plain": [
       "20"
      ]
     },
     "execution_count": 412,
     "metadata": {},
     "output_type": "execute_result"
    }
   ],
   "source": [
    "sorted(arr)[-1]"
   ]
  },
  {
   "cell_type": "code",
   "execution_count": 411,
   "metadata": {},
   "outputs": [
    {
     "data": {
      "text/plain": [
       "20"
      ]
     },
     "execution_count": 411,
     "metadata": {},
     "output_type": "execute_result"
    }
   ],
   "source": [
    "arr.sort()\n",
    "arr[-1]"
   ]
  },
  {
   "cell_type": "code",
   "execution_count": 421,
   "metadata": {},
   "outputs": [
    {
     "data": {
      "text/plain": [
       "[20]"
      ]
     },
     "execution_count": 421,
     "metadata": {},
     "output_type": "execute_result"
    }
   ],
   "source": [
    "import heapq\n",
    "heapq.heapify\n",
    "heapq.nlargest(1,arr)"
   ]
  },
  {
   "cell_type": "code",
   "execution_count": 425,
   "metadata": {},
   "outputs": [
    {
     "data": {
      "text/plain": [
       "20"
      ]
     },
     "execution_count": 425,
     "metadata": {},
     "output_type": "execute_result"
    }
   ],
   "source": [
    "from functools import reduce\n",
    "reduce(max,arr)"
   ]
  },
  {
   "cell_type": "code",
   "execution_count": 423,
   "metadata": {},
   "outputs": [
    {
     "data": {
      "text/plain": [
       "20"
      ]
     },
     "execution_count": 423,
     "metadata": {},
     "output_type": "execute_result"
    }
   ],
   "source": [
    "from itertools import accumulate\n",
    "list(accumulate(arr,max))[-1]"
   ]
  },
  {
   "cell_type": "raw",
   "metadata": {},
   "source": [
    "1 : what if?\n",
    "2 : what elif?\n",
    "3 : what else?"
   ]
  },
  {
   "cell_type": "code",
   "execution_count": 209,
   "metadata": {},
   "outputs": [
    {
     "name": "stdout",
     "output_type": "stream",
     "text": [
      "1. if \"5\" is greater than \"4\".\n",
      "2. elseif is \"5\" greater than equal to \"5\".\n",
      "3. else \"4\" is less than \"5\".\n"
     ]
    }
   ],
   "source": [
    "def comparision(x, y):\n",
    "    if x > y:\n",
    "        return f'1. if \"{x}\" is greater than \"{y}\".'\n",
    "    elif x >= y:\n",
    "        return f'2. elseif is \"{x}\" greater than equal to \"{y}\".'\n",
    "    else:\n",
    "        return f'3. else \"{x}\" is less than \"{y}\".'\n",
    "        \n",
    "    \n",
    "print(comparision(5, 4))\n",
    "print(comparision(5, 5))\n",
    "print(comparision(4, 5))"
   ]
  },
  {
   "cell_type": "markdown",
   "metadata": {},
   "source": [
    "#### **What are differences between required arguments and key word arguments**"
   ]
  },
  {
   "cell_type": "code",
   "execution_count": 210,
   "metadata": {},
   "outputs": [
    {
     "ename": "TypeError",
     "evalue": "add() missing 1 required positional argument: 'y'",
     "output_type": "error",
     "traceback": [
      "\u001b[0;31m---------------------------------------------------------------------------\u001b[0m",
      "\u001b[0;31mTypeError\u001b[0m                                 Traceback (most recent call last)",
      "\u001b[0;32m<ipython-input-210-593609bae48e>\u001b[0m in \u001b[0;36m<module>\u001b[0;34m\u001b[0m\n\u001b[1;32m      2\u001b[0m     \u001b[0;32mreturn\u001b[0m \u001b[0mx\u001b[0m \u001b[0;34m+\u001b[0m \u001b[0my\u001b[0m\u001b[0;34m\u001b[0m\u001b[0;34m\u001b[0m\u001b[0m\n\u001b[1;32m      3\u001b[0m \u001b[0;34m\u001b[0m\u001b[0m\n\u001b[0;32m----> 4\u001b[0;31m \u001b[0mprint\u001b[0m\u001b[0;34m(\u001b[0m\u001b[0madd\u001b[0m\u001b[0;34m(\u001b[0m\u001b[0;36m7\u001b[0m\u001b[0;34m)\u001b[0m\u001b[0;34m)\u001b[0m\u001b[0;34m\u001b[0m\u001b[0;34m\u001b[0m\u001b[0m\n\u001b[0m\u001b[1;32m      5\u001b[0m \u001b[0mprint\u001b[0m\u001b[0;34m(\u001b[0m\u001b[0madd\u001b[0m\u001b[0;34m(\u001b[0m\u001b[0;36m7\u001b[0m\u001b[0;34m,\u001b[0m \u001b[0;36m3\u001b[0m\u001b[0;34m)\u001b[0m\u001b[0;34m)\u001b[0m\u001b[0;34m\u001b[0m\u001b[0;34m\u001b[0m\u001b[0m\n",
      "\u001b[0;31mTypeError\u001b[0m: add() missing 1 required positional argument: 'y'"
     ]
    }
   ],
   "source": [
    "def add(x,y):\n",
    "    return x + y\n",
    "\n",
    "print(add(7))\n",
    "print(add(7, 3))"
   ]
  },
  {
   "cell_type": "code",
   "execution_count": 211,
   "metadata": {},
   "outputs": [
    {
     "name": "stdout",
     "output_type": "stream",
     "text": [
      "7\n",
      "10\n"
     ]
    }
   ],
   "source": [
    "def add(x, y = 0):\n",
    "    return x + y\n",
    "\n",
    "print(add(7))\n",
    "print(add(7, 3))"
   ]
  },
  {
   "cell_type": "code",
   "execution_count": null,
   "metadata": {},
   "outputs": [],
   "source": []
  },
  {
   "cell_type": "code",
   "execution_count": null,
   "metadata": {},
   "outputs": [],
   "source": [
    "import subprocess\n",
    "\n",
    "subprocess.run('ls')"
   ]
  },
  {
   "cell_type": "code",
   "execution_count": null,
   "metadata": {},
   "outputs": [],
   "source": [
    "nums = [5, 12, 54, 87, 55, 69, 23, 17]\n",
    "nums.remove(max(nums))\n",
    "print(max(nums))"
   ]
  },
  {
   "cell_type": "markdown",
   "metadata": {},
   "source": [
    "### **How to list which user uses which shell?**"
   ]
  },
  {
   "cell_type": "code",
   "execution_count": null,
   "metadata": {},
   "outputs": [],
   "source": [
    "from collections import defaultdict\n",
    "from pwd import getpwall\n",
    "\n",
    "user_dict = defaultdict(list)\n",
    "users_shell = [(i[-1], i[0]) for i in getpwall()]\n",
    "\n",
    "for x,y in users_shell:\n",
    "    user_dict[x].append(y)\n",
    "\n",
    "user_dict"
   ]
  },
  {
   "cell_type": "markdown",
   "metadata": {},
   "source": [
    "### **Draw Triangle**"
   ]
  },
  {
   "cell_type": "code",
   "execution_count": null,
   "metadata": {},
   "outputs": [],
   "source": [
    "%%python3\n",
    "\n",
    "for i in range(1,10,2):\n",
    "    print(('^'*i).center(20))"
   ]
  },
  {
   "cell_type": "code",
   "execution_count": null,
   "metadata": {},
   "outputs": [],
   "source": [
    "%%python3\n",
    "\n",
    "for i in range(1,10,2):\n",
    "    print(f'{\"^\"*i:^20}') "
   ]
  },
  {
   "cell_type": "markdown",
   "metadata": {},
   "source": [
    "### **last in last out**"
   ]
  },
  {
   "cell_type": "code",
   "execution_count": 213,
   "metadata": {},
   "outputs": [
    {
     "name": "stdout",
     "output_type": "stream",
     "text": [
      "[0, 0, 2, 3]\n",
      "[0, 0, 2, 3]\n",
      "[0, 2, 2, 3]\n",
      "[0, 3, 2, 3]\n"
     ]
    }
   ],
   "source": [
    "a = [0, 1, 2, 3]\n",
    "\n",
    "for a[1] in a:\n",
    "    print(a)"
   ]
  },
  {
   "cell_type": "code",
   "execution_count": 363,
   "metadata": {},
   "outputs": [
    {
     "name": "stdout",
     "output_type": "stream",
     "text": [
      "[0, 1, 2, 0]\n",
      "0\n",
      "[0, 1, 2, 1]\n",
      "1\n",
      "[0, 1, 2, 2]\n",
      "2\n",
      "[0, 1, 2, 2]\n",
      "2\n"
     ]
    }
   ],
   "source": [
    "a = [0, 1, 2, 3]\n",
    "for a[-1] in a:\n",
    "    print (a)\n",
    "    print (a[-1])"
   ]
  },
  {
   "cell_type": "markdown",
   "metadata": {},
   "source": [
    "### **How to pick the numbers which sums upto 15?**"
   ]
  },
  {
   "cell_type": "code",
   "execution_count": 67,
   "metadata": {},
   "outputs": [
    {
     "name": "stdout",
     "output_type": "stream",
     "text": [
      "(1, 14)\n",
      "(12, 3)\n",
      "(3, 12)\n",
      "(7, 8)\n",
      "(2, 5, 8)\n",
      "(1, 2, 12)\n",
      "(5, 7, 3)\n",
      "(1, 5, 9)\n",
      "(3, 8, 4)\n",
      "(3, 3, 9)\n",
      "(2, 4, 9)\n",
      "(5, 3, 7)\n",
      "(1, 2, 3, 9)\n",
      "(1, 2, 5, 7)\n",
      "(5, 3, 3, 4)\n",
      "(1, 2, 8, 4)\n",
      "(1, 3, 7, 4)\n",
      "(1, 3, 3, 8)\n",
      "(1, 7, 3, 4)\n",
      "(2, 3, 7, 3)\n",
      "(1, 2, 5, 3, 4)\n"
     ]
    }
   ],
   "source": [
    "from itertools import combinations\n",
    "from functools import reduce\n",
    "from operator import add\n",
    "\n",
    "lst_nums = [1, 2, 17, 14, 5, 3, 7, 12, 3, 8, 4, 9]\n",
    "sum = 15\n",
    "match_lst = []\n",
    "for i in range(1,len(lst_nums)):\n",
    "    x = list(combinations(lst_nums, i))\n",
    "    for y in x:\n",
    "        tmp = reduce(add, y)\n",
    "        if tmp == sum:\n",
    "            match_lst.append(y)\n",
    "\n",
    "print(*sorted(set(match_lst), key = len), sep = '\\n')"
   ]
  },
  {
   "cell_type": "markdown",
   "metadata": {},
   "source": [
    "### **Find common elements in list of lists**"
   ]
  },
  {
   "cell_type": "code",
   "execution_count": 11,
   "metadata": {},
   "outputs": [
    {
     "data": {
      "text/plain": [
       "[8, 3, 4]"
      ]
     },
     "execution_count": 11,
     "metadata": {},
     "output_type": "execute_result"
    }
   ],
   "source": [
    "# Method: 1\n",
    "lst = [[12, 3, 8, 4, 3], [3, 8, 4, 3], [8, 4, 3]]\n",
    "list(set.intersection(*map(set, lst))) "
   ]
  },
  {
   "cell_type": "code",
   "execution_count": 12,
   "metadata": {},
   "outputs": [
    {
     "data": {
      "text/plain": [
       "[8, 3, 4]"
      ]
     },
     "execution_count": 12,
     "metadata": {},
     "output_type": "execute_result"
    }
   ],
   "source": [
    "# Method: 2\n",
    "from functools import reduce\n",
    "\n",
    "lst = [[12, 3, 8, 4, 3], [3, 8, 4, 3], [8, 4, 3]]\n",
    "list(reduce(lambda i, j: i & j, (set(x) for x in lst))) "
   ]
  },
  {
   "cell_type": "markdown",
   "metadata": {},
   "source": [
    "### **How to fetch the port from this line?**"
   ]
  },
  {
   "cell_type": "code",
   "execution_count": 1,
   "metadata": {},
   "outputs": [
    {
     "name": "stdout",
     "output_type": "stream",
     "text": [
      "8080\n"
     ]
    }
   ],
   "source": [
    "%%bash\n",
    "\n",
    "line=\"tomcatapp 2291 test 717u IPv4 159994 0t0 TCP 0.0.1.1:8080 (LISTEN)\"\n",
    "echo $line | awk -F \":\" '{print $2}' | awk '{print $1}'\n"
   ]
  },
  {
   "cell_type": "code",
   "execution_count": 7,
   "metadata": {},
   "outputs": [
    {
     "name": "stdout",
     "output_type": "stream",
     "text": [
      "8080\n"
     ]
    }
   ],
   "source": [
    "%%python3\n",
    "\n",
    "st = \"tomcatapp 2291 test 717u IPv4 159994 0t0 TCP 0.0.1.1:8080 (LISTEN)\"\n",
    "print(st.split(\":\")[-1].split()[0])"
   ]
  },
  {
   "cell_type": "markdown",
   "metadata": {},
   "source": [
    "### **Write a program to remove duplicates in Matrix**"
   ]
  },
  {
   "cell_type": "code",
   "execution_count": null,
   "metadata": {},
   "outputs": [],
   "source": [
    "INPUT : [[5, 6, 8], [8, 5, 3], [9, 10, 3]]\n",
    "OUTPUT: [[5, 6, 8], [3], [9, 10]]"
   ]
  },
  {
   "cell_type": "code",
   "execution_count": 372,
   "metadata": {},
   "outputs": [
    {
     "data": {
      "text/plain": [
       "[[5, 6, 8], [3], [9, 10]]"
      ]
     },
     "execution_count": 372,
     "metadata": {},
     "output_type": "execute_result"
    }
   ],
   "source": [
    "from itertools import accumulate\n",
    "\n",
    "lst = [[5, 6, 8], [8, 5, 3], [9, 10, 3]]\n",
    "list(accumulate(lst, lambda x,y : list(set(y) - set(x))))"
   ]
  },
  {
   "cell_type": "code",
   "execution_count": 376,
   "metadata": {},
   "outputs": [
    {
     "data": {
      "text/plain": [
       "[[5, 6, 8], [3], [9, 10], [3, 5]]"
      ]
     },
     "execution_count": 376,
     "metadata": {},
     "output_type": "execute_result"
    }
   ],
   "source": [
    "from itertools import accumulate\n",
    "\n",
    "lst = [[5, 6, 8], [8, 5, 3], [9, 10, 3], [3, 5]]\n",
    "list(accumulate(lst, lambda x,y : list(set(y) - set(x))))"
   ]
  },
  {
   "cell_type": "markdown",
   "metadata": {},
   "source": [
    "### **How to convert single list from list of list various length?**"
   ]
  },
  {
   "cell_type": "code",
   "execution_count": 388,
   "metadata": {},
   "outputs": [
    {
     "data": {
      "text/plain": [
       "[5, 6, 8, 8, 5, 3, 7, 9, 10, 3, 3, 5]"
      ]
     },
     "execution_count": 388,
     "metadata": {},
     "output_type": "execute_result"
    }
   ],
   "source": [
    "from itertools import chain\n",
    "\n",
    "lst = [[5, 6, 8], [8, 5, 3], [7], [9, 10, 3], [3, 5]]\n",
    "list(chain(*lst))"
   ]
  },
  {
   "cell_type": "code",
   "execution_count": 382,
   "metadata": {},
   "outputs": [
    {
     "data": {
      "text/plain": [
       "[5, 6, 8, 8, 5, 3, 7, 9, 10, 3, 3, 5]"
      ]
     },
     "execution_count": 382,
     "metadata": {},
     "output_type": "execute_result"
    }
   ],
   "source": [
    "from functools import reduce\n",
    "\n",
    "lst = [[5, 6, 8], [8, 5, 3], [7], [9, 10, 3], [3, 5]]\n",
    "list(reduce(lambda x,y: x+y, lst))"
   ]
  },
  {
   "cell_type": "code",
   "execution_count": 384,
   "metadata": {},
   "outputs": [
    {
     "data": {
      "text/plain": [
       "[5, 6, 8, 8, 5, 3, 7, 9, 10, 3, 3, 5]"
      ]
     },
     "execution_count": 384,
     "metadata": {},
     "output_type": "execute_result"
    }
   ],
   "source": [
    "from functools import reduce\n",
    "from operator import add\n",
    "\n",
    "lst = [[5, 6, 8], [8, 5, 3], [7], [9, 10, 3], [3, 5]]\n",
    "list(reduce(add, lst))"
   ]
  },
  {
   "cell_type": "code",
   "execution_count": 56,
   "metadata": {},
   "outputs": [
    {
     "data": {
      "text/plain": [
       "[5, 6, 8, 8, 5, 3, 7, 9, 10, 3, 3, 5]"
      ]
     },
     "execution_count": 56,
     "metadata": {},
     "output_type": "execute_result"
    }
   ],
   "source": [
    "from itertools import accumulate\n",
    "\n",
    "lst = [[5, 6, 8], [8, 5, 3], [7], [9, 10, 3], [3, 5]]\n",
    "list(accumulate(lst))[-1]"
   ]
  },
  {
   "cell_type": "code",
   "execution_count": 74,
   "metadata": {},
   "outputs": [
    {
     "data": {
      "text/plain": [
       "[5, 6, 8, 8, 5, 3, 7, 9, 10, 3, 3, 5]"
      ]
     },
     "execution_count": 74,
     "metadata": {},
     "output_type": "execute_result"
    }
   ],
   "source": [
    "lst = [[5, 6, 8], [8, 5, 3], [7], [9, 10, 3], [3, 5]]\n",
    "list(eval(str(lst).replace('[', '').replace(']', '')))"
   ]
  },
  {
   "cell_type": "code",
   "execution_count": 52,
   "metadata": {},
   "outputs": [
    {
     "data": {
      "text/plain": [
       "[5, 6, 8, 8, 5, 3, 7, 9, 10, 3, 3, 5]"
      ]
     },
     "execution_count": 52,
     "metadata": {},
     "output_type": "execute_result"
    }
   ],
   "source": [
    "lst = [[5, 6, 8], [8, 5, 3], [7], [9, 10, 3], [3, 5]]\n",
    "sum(lst, [])"
   ]
  },
  {
   "cell_type": "markdown",
   "metadata": {},
   "source": [
    "### **How to remove text files older than 7 days?**"
   ]
  },
  {
   "cell_type": "code",
   "execution_count": 361,
   "metadata": {},
   "outputs": [
    {
     "name": "stdout",
     "output_type": "stream",
     "text": [
      "removed: /home/mana/Work/test.txt\n"
     ]
    }
   ],
   "source": [
    "%%python3\n",
    "\n",
    "from datetime import date\n",
    "from pathlib import Path\n",
    "\n",
    "for x in Path('/home/mana/Work/').glob('*.txt'):\n",
    "    if (date.today() - date.fromtimestamp(x.stat().st_mtime)).days > 7:\n",
    "        print('removed:',x)\n",
    "        x.unlink()"
   ]
  },
  {
   "cell_type": "code",
   "execution_count": 362,
   "metadata": {},
   "outputs": [
    {
     "name": "stdout",
     "output_type": "stream",
     "text": [
      "removed '/home/mana/Work/test.txt'\n"
     ]
    }
   ],
   "source": [
    "%%bash\n",
    "\n",
    "find /home/mana/Work/ -type f -name \"*.txt\" -mtime +7 -exec rm -v {} \\;"
   ]
  },
  {
   "cell_type": "markdown",
   "metadata": {},
   "source": [
    "### **How to join the list items?**"
   ]
  },
  {
   "cell_type": "code",
   "execution_count": 436,
   "metadata": {},
   "outputs": [
    {
     "data": {
      "text/plain": [
       "'ManavalanMicheal'"
      ]
     },
     "execution_count": 436,
     "metadata": {},
     "output_type": "execute_result"
    }
   ],
   "source": [
    "name = ['Manavalan', 'Micheal']\n",
    "''.join(name)"
   ]
  },
  {
   "cell_type": "code",
   "execution_count": 435,
   "metadata": {},
   "outputs": [
    {
     "name": "stdout",
     "output_type": "stream",
     "text": [
      "ManavalanMicheal\n"
     ]
    }
   ],
   "source": [
    "from itertools import chain \n",
    "name = ['Manavalan', 'Micheal']\n",
    "\n",
    "print(*chain(*name), sep= '')"
   ]
  },
  {
   "cell_type": "markdown",
   "metadata": {},
   "source": [
    "### **How to read csv file without using using any library's?**"
   ]
  },
  {
   "cell_type": "code",
   "execution_count": 36,
   "metadata": {},
   "outputs": [
    {
     "name": "stdout",
     "output_type": "stream",
     "text": [
      "root,x,0,0,root,/root,/bin/bash\r\n",
      "daemon,x,1,1,daemon,/usr/sbin,/usr/sbin/nologin\r\n",
      "bin,x,2,2,bin,/bin,/usr/sbin/nologin\r\n",
      "sys,x,3,3,sys,/dev,/usr/sbin/nologin\r\n",
      "sync,x,4,65534,sync,/bin,/bin/sync\r\n"
     ]
    }
   ],
   "source": [
    "!cat /home/mana/Work/test.csv"
   ]
  },
  {
   "cell_type": "code",
   "execution_count": 38,
   "metadata": {},
   "outputs": [
    {
     "data": {
      "text/plain": [
       "['root,x,0,0,root,/root,/bin/bash',\n",
       " 'daemon,x,1,1,daemon,/usr/sbin,/usr/sbin/nologin',\n",
       " 'bin,x,2,2,bin,/bin,/usr/sbin/nologin',\n",
       " 'sys,x,3,3,sys,/dev,/usr/sbin/nologin',\n",
       " 'sync,x,4,65534,sync,/bin,/bin/sync']"
      ]
     },
     "execution_count": 38,
     "metadata": {},
     "output_type": "execute_result"
    }
   ],
   "source": [
    "from pathlib import Path\n",
    "\n",
    "Path('/home/mana/Work/test.csv').read_text().splitlines()"
   ]
  },
  {
   "cell_type": "markdown",
   "metadata": {},
   "source": [
    "### **How to compare two documents ?**"
   ]
  },
  {
   "cell_type": "code",
   "execution_count": 94,
   "metadata": {},
   "outputs": [
    {
     "name": "stdout",
     "output_type": "stream",
     "text": [
      "Apple.\r\n",
      "Watermelon.\r\n",
      "Orange.\r\n",
      "\r\n"
     ]
    }
   ],
   "source": [
    "!cat /home/mana/Work/fruit1.txt"
   ]
  },
  {
   "cell_type": "code",
   "execution_count": 93,
   "metadata": {},
   "outputs": [
    {
     "name": "stdout",
     "output_type": "stream",
     "text": [
      "apple.\r\n",
      "Water melon.\r\n",
      "Orange.\r\n",
      "\r\n"
     ]
    }
   ],
   "source": [
    "!cat /home/mana/Work/fruit2.txt"
   ]
  },
  {
   "cell_type": "code",
   "execution_count": 95,
   "metadata": {},
   "outputs": [
    {
     "name": "stdout",
     "output_type": "stream",
     "text": [
      "- Apple.\n",
      "? ^\n",
      "\n",
      "+ apple.\n",
      "? ^\n",
      "\n",
      "- Watermelon.\n",
      "+ Water melon.\n",
      "?      +\n",
      "\n",
      "  Orange.\n",
      "  \n"
     ]
    }
   ],
   "source": [
    "from difflib import Differ\n",
    "from pathlib import Path\n",
    "\n",
    "path = Path('/home/mana/Work')\n",
    "f1 = (path/'fruit1.txt').read_text().splitlines()\n",
    "f2 = (path/'fruit2.txt').read_text().splitlines()\n",
    "diff = Differ().compare(f1, f2)\n",
    "print(*diff, sep = '\\n')"
   ]
  },
  {
   "cell_type": "markdown",
   "metadata": {},
   "source": [
    "### **How to sum a list?**"
   ]
  },
  {
   "cell_type": "code",
   "execution_count": 30,
   "metadata": {},
   "outputs": [
    {
     "data": {
      "text/plain": [
       "6"
      ]
     },
     "execution_count": 30,
     "metadata": {},
     "output_type": "execute_result"
    }
   ],
   "source": [
    "lst = [1, 2, 3]\n",
    "sum(lst)"
   ]
  },
  {
   "cell_type": "code",
   "execution_count": 31,
   "metadata": {},
   "outputs": [
    {
     "data": {
      "text/plain": [
       "6"
      ]
     },
     "execution_count": 31,
     "metadata": {},
     "output_type": "execute_result"
    }
   ],
   "source": [
    "from functools import reduce\n",
    "from operator import add\n",
    "\n",
    "lst = [1, 2, 3]\n",
    "reduce(add, lst)"
   ]
  },
  {
   "cell_type": "code",
   "execution_count": 34,
   "metadata": {},
   "outputs": [
    {
     "data": {
      "text/plain": [
       "6"
      ]
     },
     "execution_count": 34,
     "metadata": {},
     "output_type": "execute_result"
    }
   ],
   "source": [
    "from functools import reduce\n",
    "\n",
    "lst = [1, 2, 3]\n",
    "reduce(lambda x,y: x+y, lst)"
   ]
  },
  {
   "cell_type": "code",
   "execution_count": 37,
   "metadata": {},
   "outputs": [
    {
     "data": {
      "text/plain": [
       "6"
      ]
     },
     "execution_count": 37,
     "metadata": {},
     "output_type": "execute_result"
    }
   ],
   "source": [
    "from itertools import accumulate\n",
    "from operator import add\n",
    "\n",
    "lst = [1, 2, 3]\n",
    "list(accumulate(lst, add))[-1]"
   ]
  },
  {
   "cell_type": "code",
   "execution_count": 38,
   "metadata": {},
   "outputs": [
    {
     "data": {
      "text/plain": [
       "6"
      ]
     },
     "execution_count": 38,
     "metadata": {},
     "output_type": "execute_result"
    }
   ],
   "source": [
    "from itertools import accumulate\n",
    "\n",
    "lst = [1, 2, 3]\n",
    "list(accumulate(lst, lambda x,y: x+y))[-1]"
   ]
  },
  {
   "cell_type": "markdown",
   "metadata": {},
   "source": [
    "### **How to sum list of lists various length**?"
   ]
  },
  {
   "cell_type": "code",
   "execution_count": 41,
   "metadata": {},
   "outputs": [
    {
     "data": {
      "text/plain": [
       "23"
      ]
     },
     "execution_count": 41,
     "metadata": {},
     "output_type": "execute_result"
    }
   ],
   "source": [
    "lst = [[1, 2, 3], [5, 2], [10]]\n",
    "sum(sum(lst,[]))"
   ]
  },
  {
   "cell_type": "code",
   "execution_count": 45,
   "metadata": {},
   "outputs": [
    {
     "data": {
      "text/plain": [
       "23"
      ]
     },
     "execution_count": 45,
     "metadata": {},
     "output_type": "execute_result"
    }
   ],
   "source": [
    "from functools import reduce\n",
    "from operator import add\n",
    "\n",
    "lst = [[1, 2, 3], [5, 2], [10]]\n",
    "sum(reduce(add, lst))"
   ]
  },
  {
   "cell_type": "code",
   "execution_count": 47,
   "metadata": {},
   "outputs": [
    {
     "data": {
      "text/plain": [
       "23"
      ]
     },
     "execution_count": 47,
     "metadata": {},
     "output_type": "execute_result"
    }
   ],
   "source": [
    "from functools import reduce\n",
    "from itertools import chain\n",
    "from operator import add\n",
    "\n",
    "lst = [[1, 2, 3], [5, 2], [10]]\n",
    "reduce(add, chain(*lst))"
   ]
  },
  {
   "cell_type": "code",
   "execution_count": 51,
   "metadata": {},
   "outputs": [
    {
     "data": {
      "text/plain": [
       "23"
      ]
     },
     "execution_count": 51,
     "metadata": {},
     "output_type": "execute_result"
    }
   ],
   "source": [
    "from itertools import accumulate,chain\n",
    "from operator import add\n",
    "\n",
    "lst = [[1, 2, 3], [5, 2], [10]]\n",
    "list(accumulate(chain(*lst), add))[-1]"
   ]
  },
  {
   "cell_type": "markdown",
   "metadata": {},
   "source": [
    "### **How to use while loop?**"
   ]
  },
  {
   "cell_type": "raw",
   "metadata": {},
   "source": [
    "While execute statement until condition true."
   ]
  },
  {
   "cell_type": "code",
   "execution_count": 54,
   "metadata": {},
   "outputs": [
    {
     "name": "stdout",
     "output_type": "stream",
     "text": [
      "0\n",
      "1\n",
      "2\n",
      "3\n",
      "4\n"
     ]
    }
   ],
   "source": [
    "a = 0\n",
    "\n",
    "while a < 5:\n",
    "    print(a)\n",
    "    a += 1"
   ]
  },
  {
   "cell_type": "markdown",
   "metadata": {},
   "source": [
    "### **How to convert set of list of list elements?**"
   ]
  },
  {
   "cell_type": "code",
   "execution_count": 61,
   "metadata": {},
   "outputs": [
    {
     "data": {
      "text/plain": [
       "[{3, 4, 8, 12}, {3, 4, 8}, {3, 4, 8}]"
      ]
     },
     "execution_count": 61,
     "metadata": {},
     "output_type": "execute_result"
    }
   ],
   "source": [
    "lst = [[12, 3, 8, 4, 3], [3, 8, 4, 3], [8, 4, 3]]\n",
    "list(map(set, lst))"
   ]
  },
  {
   "cell_type": "code",
   "execution_count": 70,
   "metadata": {},
   "outputs": [
    {
     "data": {
      "text/plain": [
       "[{3, 4, 8, 12}, {3, 4, 8}, {3, 4, 8}]"
      ]
     },
     "execution_count": 70,
     "metadata": {},
     "output_type": "execute_result"
    }
   ],
   "source": [
    "\n",
    "lst = [[12, 3, 8, 4, 3], [3, 8, 4, 3], [8, 4, 3]]\n",
    "[set(x) for x in lst]"
   ]
  },
  {
   "cell_type": "markdown",
   "metadata": {},
   "source": [
    "### **How to fetch last element from list?**"
   ]
  },
  {
   "cell_type": "code",
   "execution_count": 90,
   "metadata": {},
   "outputs": [
    {
     "data": {
      "text/plain": [
       "5"
      ]
     },
     "execution_count": 90,
     "metadata": {},
     "output_type": "execute_result"
    }
   ],
   "source": [
    "lst = [1, 2, 3, 4, 5]\n",
    "lst[-1]"
   ]
  },
  {
   "cell_type": "code",
   "execution_count": 89,
   "metadata": {},
   "outputs": [
    {
     "data": {
      "text/plain": [
       "deque([5])"
      ]
     },
     "execution_count": 89,
     "metadata": {},
     "output_type": "execute_result"
    }
   ],
   "source": [
    "from collections import deque\n",
    "\n",
    "lst = [1, 2, 3, 4, 5]\n",
    "deque(lst, 1)\n"
   ]
  },
  {
   "cell_type": "markdown",
   "metadata": {},
   "source": [
    "### **How to fetch last character from string?**"
   ]
  },
  {
   "cell_type": "code",
   "execution_count": 121,
   "metadata": {},
   "outputs": [],
   "source": [
    "string = 'Python'"
   ]
  },
  {
   "cell_type": "code",
   "execution_count": 129,
   "metadata": {},
   "outputs": [
    {
     "name": "stdout",
     "output_type": "stream",
     "text": [
      "n\n"
     ]
    }
   ],
   "source": [
    "print(string[-1])"
   ]
  },
  {
   "cell_type": "code",
   "execution_count": 128,
   "metadata": {},
   "outputs": [
    {
     "name": "stdout",
     "output_type": "stream",
     "text": [
      "n\n"
     ]
    }
   ],
   "source": [
    "from collections import deque\n",
    "\n",
    "print(*deque(string, 1))"
   ]
  },
  {
   "cell_type": "code",
   "execution_count": 126,
   "metadata": {},
   "outputs": [
    {
     "name": "stdout",
     "output_type": "stream",
     "text": [
      "n\n"
     ]
    }
   ],
   "source": [
    "for i in string:\n",
    "    pass\n",
    "else:\n",
    "    print(i)"
   ]
  },
  {
   "cell_type": "markdown",
   "metadata": {},
   "source": [
    "### **How to remove empty elements in list?**"
   ]
  },
  {
   "cell_type": "code",
   "execution_count": 100,
   "metadata": {},
   "outputs": [
    {
     "data": {
      "text/plain": [
       "[3, 5, 't', 'u']"
      ]
     },
     "execution_count": 100,
     "metadata": {},
     "output_type": "execute_result"
    }
   ],
   "source": [
    "lst = [3, '', 5, 't', 0, None, 'u']\n",
    "[i for i in lst if i]"
   ]
  },
  {
   "cell_type": "code",
   "execution_count": 101,
   "metadata": {},
   "outputs": [
    {
     "data": {
      "text/plain": [
       "[3, 5, 't', 'u']"
      ]
     },
     "execution_count": 101,
     "metadata": {},
     "output_type": "execute_result"
    }
   ],
   "source": [
    "lst = [3, '', 5, 't', 0, None, 'u']\n",
    "list(filter(None, lst))"
   ]
  },
  {
   "cell_type": "markdown",
   "metadata": {},
   "source": [
    "### **How to count occurrences of word in file?**"
   ]
  },
  {
   "cell_type": "code",
   "execution_count": 120,
   "metadata": {},
   "outputs": [
    {
     "name": "stdout",
     "output_type": "stream",
     "text": [
      "count occurrences of word in file linux\r\n",
      "shell script to count number of words in a file\r\n",
      "count occurrences of all words in file linux\r\n",
      "shell script to count number of lines in a file without using wc command\r\n",
      "shell script to counts number of lines and words in a file\r\n",
      "find count of string in file linux.\r\n"
     ]
    }
   ],
   "source": [
    "!cat /home/mana/Work/data.txt"
   ]
  },
  {
   "cell_type": "code",
   "execution_count": 1,
   "metadata": {},
   "outputs": [
    {
     "name": "stdout",
     "output_type": "stream",
     "text": [
      "*********************************\n",
      "Word                        Count\n",
      "*********************************\n",
      "count                         5\n",
      "occurrences                   2\n",
      "of                            6\n",
      "word                          1\n",
      "in                            6\n",
      "file                          6\n",
      "linux                         2\n",
      "shell                         3\n",
      "script                        3\n",
      "to                            3\n",
      "number                        3\n",
      "words                         3\n",
      "a                             3\n",
      "all                           1\n",
      "lines                         2\n",
      "without                       1\n",
      "using                         1\n",
      "wc                            1\n",
      "command                       1\n",
      "counts                        1\n",
      "and                           1\n",
      "find                          1\n",
      "string                        1\n",
      "linux.                        1\n"
     ]
    }
   ],
   "source": [
    "%%python3\n",
    "\n",
    "from collections import Counter\n",
    "from pathlib import Path\n",
    "\n",
    "words = Path('/home/mana/Work/data.txt').read_text().split()\n",
    "print('*'*33)\n",
    "print(f'{\"Word\":15} {\"Count\":>17}')\n",
    "print('*'*33)\n",
    "\n",
    "for i,j in Counter(words).items():\n",
    "      print(f'{i:15} {j:15}')"
   ]
  },
  {
   "cell_type": "code",
   "execution_count": 156,
   "metadata": {},
   "outputs": [
    {
     "name": "stdout",
     "output_type": "stream",
     "text": [
      "a            3\n",
      "all          1\n",
      "and          1\n",
      "command      1\n",
      "count        5\n",
      "counts       1\n",
      "file         6\n",
      "find         1\n",
      "in           6\n",
      "lines        2\n",
      "linux        3\n",
      "number       3\n",
      "occurrences  2\n",
      "of           6\n",
      "script       3\n",
      "shell        3\n",
      "string       1\n",
      "to           3\n",
      "using        1\n",
      "wc           1\n",
      "without      1\n",
      "word         1\n",
      "words        3\n"
     ]
    }
   ],
   "source": [
    "%%bash\n",
    "\n",
    "egrep -o \"\\w+\" /home/mana/Work/data.txt | sort | uniq -c \\\n",
    "| awk '{print $2, $1}' | column -t"
   ]
  },
  {
   "cell_type": "markdown",
   "metadata": {},
   "source": [
    "### **How to format sequence string and list?**"
   ]
  },
  {
   "cell_type": "code",
   "execution_count": 162,
   "metadata": {},
   "outputs": [
    {
     "name": "stdout",
     "output_type": "stream",
     "text": [
      "Name             Address   Mail  Mobileno\n"
     ]
    }
   ],
   "source": [
    "hfmt = '{:15s}' + ('  {:>5}' * 3)\n",
    "print(hfmt.format('Name', 'Address', 'Mail', 'Mobileno'))"
   ]
  },
  {
   "cell_type": "code",
   "execution_count": 8,
   "metadata": {},
   "outputs": [
    {
     "name": "stdout",
     "output_type": "stream",
     "text": [
      "abcd04    abcd05    abcd06    abcd07    \n"
     ]
    }
   ],
   "source": [
    "lst = ['abcd04', 'abcd05', 'abcd06', 'abcd07']\n",
    "hfmt = '{:10}' * len(lst)\n",
    "print(hfmt.format(*lst))"
   ]
  },
  {
   "cell_type": "code",
   "execution_count": 61,
   "metadata": {},
   "outputs": [
    {
     "name": "stdout",
     "output_type": "stream",
     "text": [
      "abcd01\n",
      "abcd02\n",
      "abcd03\n",
      "abcd04\n"
     ]
    }
   ],
   "source": [
    "for i in range(1,5):\n",
    "    print(f'abcd{i:02d}')"
   ]
  },
  {
   "cell_type": "markdown",
   "metadata": {},
   "source": [
    "### **How to use zfill in f string format?**"
   ]
  },
  {
   "cell_type": "code",
   "execution_count": 44,
   "metadata": {},
   "outputs": [
    {
     "name": "stdout",
     "output_type": "stream",
     "text": [
      "abcd01\n",
      "abcd02\n",
      "abcd03\n",
      "abcd04\n"
     ]
    }
   ],
   "source": [
    "for i in range(1,5):\n",
    "    print(f'abcd{i:02d}')"
   ]
  },
  {
   "cell_type": "markdown",
   "metadata": {},
   "source": [
    "### **last reboot**"
   ]
  },
  {
   "cell_type": "code",
   "execution_count": 53,
   "metadata": {},
   "outputs": [
    {
     "name": "stdout",
     "output_type": "stream",
     "text": [
      "wtmp begins Wed Jan  1 11:01:25 2020\r\n"
     ]
    }
   ],
   "source": [
    "!last -x1 reboot | tail -1"
   ]
  },
  {
   "cell_type": "code",
   "execution_count": 56,
   "metadata": {},
   "outputs": [
    {
     "name": "stdout",
     "output_type": "stream",
     "text": [
      " 03:57:43 up  1:34,  1 user,  load average: 0.31, 0.58, 0.68\r\n"
     ]
    }
   ],
   "source": [
    "!uptime"
   ]
  },
  {
   "cell_type": "code",
   "execution_count": 57,
   "metadata": {},
   "outputs": [
    {
     "name": "stdout",
     "output_type": "stream",
     "text": [
      " 03:57:44 up  1:34,  1 user,  load average: 0.31, 0.58, 0.68\r\n"
     ]
    }
   ],
   "source": [
    "!w | head -1"
   ]
  },
  {
   "cell_type": "markdown",
   "metadata": {},
   "source": [
    "### **How to remove all the numbers below 5?**"
   ]
  },
  {
   "cell_type": "code",
   "execution_count": 59,
   "metadata": {},
   "outputs": [
    {
     "data": {
      "text/plain": [
       "[12, 63, 89]"
      ]
     },
     "execution_count": 59,
     "metadata": {},
     "output_type": "execute_result"
    }
   ],
   "source": [
    "numbers = [1, 1, 2, 2, 3, 4, 5, 12, 63, 89]\n",
    "\n",
    "[i for i in numbers if i > 5]"
   ]
  },
  {
   "cell_type": "markdown",
   "metadata": {},
   "source": [
    "### **How to list Linux server users?**"
   ]
  },
  {
   "cell_type": "code",
   "execution_count": 119,
   "metadata": {},
   "outputs": [
    {
     "name": "stdout",
     "output_type": "stream",
     "text": [
      "root              daemon            bin               sys               \n",
      "sync              games             man               lp                \n",
      "mail              news              uucp              proxy             \n",
      "www-data          backup            list              irc               \n",
      "gnats             nobody            systemd-network   systemd-resolve   \n",
      "syslog            messagebus        _apt              uuidd             \n",
      "avahi-autoipd     usbmux            dnsmasq           rtkit             \n",
      "lightdm           cups-pk-helper    speech-dispatcher whoopsie          \n",
      "kernoops          saned             pulse             nm-openvpn        \n",
      "avahi             colord            hplip             geoclue           \n"
     ]
    }
   ],
   "source": [
    "%%python3\n",
    "\n",
    "from pwd import getpwall\n",
    "\n",
    "users = [i[0] for i in getpwall()]\n",
    "fmt = '{:18}'*4\n",
    "\n",
    "for user in zip(*[iter(users)] *4):\n",
    "    print(fmt.format(*user))\n"
   ]
  },
  {
   "cell_type": "code",
   "execution_count": 76,
   "metadata": {},
   "outputs": [
    {
     "name": "stdout",
     "output_type": "stream",
     "text": [
      "root           daemon          bin                sys\n",
      "sync           games           man                lp\n",
      "mail           news            uucp               proxy\n",
      "www-data       backup          list               irc\n",
      "gnats          nobody          systemd-network    systemd-resolve\n",
      "syslog         messagebus      _apt               uuidd\n",
      "avahi-autoipd  usbmux          dnsmasq            rtkit\n",
      "lightdm        cups-pk-helper  speech-dispatcher  whoopsie\n",
      "kernoops       saned           pulse              nm-openvpn\n",
      "avahi          colord          hplip              geoclue\n",
      "mana           sshd\n"
     ]
    }
   ],
   "source": [
    "%%bash\n",
    "\n",
    "getent passwd | awk -F \":\" '{print $1}' | xargs -n4 | column -t"
   ]
  },
  {
   "cell_type": "markdown",
   "metadata": {},
   "source": [
    "### **How to make beautiful format?**\n",
    "\n",
    "Here i taken all string methods. Then print 4 columns."
   ]
  },
  {
   "cell_type": "code",
   "execution_count": 39,
   "metadata": {},
   "outputs": [
    {
     "name": "stdout",
     "output_type": "stream",
     "text": [
      "capitalize     casefold       center         count          \n",
      "encode         endswith       expandtabs     find           \n",
      "format         format_map     index          isalnum        \n",
      "isalpha        isdecimal      isdigit        isidentifier   \n",
      "islower        isnumeric      isprintable    isspace        \n",
      "istitle        isupper        join           ljust          \n",
      "lower          lstrip         maketrans      partition      \n",
      "replace        rfind          rindex         rjust          \n",
      "rpartition     rsplit         rstrip         split          \n",
      "splitlines     startswith     strip          swapcase       \n",
      "title          translate      upper          zfill          \n"
     ]
    }
   ],
   "source": [
    "methods = [i for i in dir(str) if not i.startswith('_')]\n",
    "fmt = '{:15s}'*4\n",
    "\n",
    "for fn in zip(*[iter(methods)] *4):\n",
    "    print(fmt.format(*fn))"
   ]
  },
  {
   "cell_type": "markdown",
   "metadata": {},
   "source": [
    "### **Bubble sort**"
   ]
  },
  {
   "cell_type": "code",
   "execution_count": 16,
   "metadata": {},
   "outputs": [
    {
     "name": "stdout",
     "output_type": "stream",
     "text": [
      "i:0\n",
      "j:0\n",
      "Before Moved: lst[j]: 7, lst[j+1]: 2\n",
      "After Moved: 2, 7\n",
      "j:1\n",
      "Before Moved: lst[j]: 7, lst[j+1]: 5\n",
      "After Moved: 5, 7\n",
      "j:2\n",
      "Before Moved: lst[j]: 7, lst[j+1]: 1\n",
      "After Moved: 1, 7\n",
      "j:3\n",
      "i:1\n",
      "j:0\n",
      "j:1\n",
      "Before Moved: lst[j]: 5, lst[j+1]: 1\n",
      "After Moved: 1, 5\n",
      "j:2\n",
      "j:3\n",
      "i:2\n",
      "j:0\n",
      "Before Moved: lst[j]: 2, lst[j+1]: 1\n",
      "After Moved: 1, 2\n",
      "j:1\n",
      "j:2\n",
      "j:3\n",
      "i:3\n",
      "j:0\n",
      "j:1\n",
      "j:2\n",
      "j:3\n",
      "i:4\n",
      "j:0\n",
      "j:1\n",
      "j:2\n",
      "j:3\n",
      "[1, 2, 5, 7, 11]\n"
     ]
    }
   ],
   "source": [
    "lst = [7, 2, 5, 1, 11]\n",
    "\n",
    "for i in range(len(lst)):\n",
    "    print(f'i:{i}')\n",
    "    for j in range(len(lst) -1):\n",
    "        print(f'j:{j}')\n",
    "        if lst[j] > lst[j+1]:\n",
    "            print(f'Before Moved: lst[j]: {lst[j]}, lst[j+1]: {lst[j+1]}')\n",
    "            lst[j], lst[j+1] = lst[j+1], lst[j]\n",
    "            print(f'After Moved: {lst[j]}, {lst[j+1]}')\n",
    "            \n",
    "print(lst)"
   ]
  },
  {
   "cell_type": "markdown",
   "metadata": {},
   "source": [
    "### **How to  find size of file?**"
   ]
  },
  {
   "cell_type": "code",
   "execution_count": 33,
   "metadata": {},
   "outputs": [
    {
     "name": "stdout",
     "output_type": "stream",
     "text": [
      "2.1M /home/mana/Work/Python-System-Programming-Book.pdf\n"
     ]
    }
   ],
   "source": [
    "%%python3\n",
    "\n",
    "from bisect import bisect\n",
    "from pathlib import Path\n",
    "\n",
    "size = [1, 1e+3, 1e+6, 1e+9]\n",
    "unit = ['B', 'K', 'M', 'G']\n",
    "file = Path('/home/mana/Work/Python-System-Programming-Book.pdf')\n",
    "fsize = file.stat().st_size\n",
    "\n",
    "def convert(byts):\n",
    "    if byts != 0:\n",
    "        index = bisect(size, byts) - 1\n",
    "        return \"{:.1f}{}\".format(byts/size[index], unit[index])\n",
    "    else: \n",
    "        return '0B'\n",
    "    \n",
    "print(convert(fsize), file)"
   ]
  },
  {
   "cell_type": "code",
   "execution_count": 18,
   "metadata": {},
   "outputs": [
    {
     "name": "stdout",
     "output_type": "stream",
     "text": [
      "2.1M /home/mana/Work/Python-System-Programming-Book.pdf\n"
     ]
    }
   ],
   "source": [
    "%%bash\n",
    "\n",
    "ls -1sh ~/Work/Python-System-Programming-Book.pdf"
   ]
  },
  {
   "cell_type": "markdown",
   "metadata": {},
   "source": [
    "### **Emoji**"
   ]
  },
  {
   "cell_type": "code",
   "execution_count": 34,
   "metadata": {},
   "outputs": [],
   "source": [
    "st = '🦊❄️🐿'"
   ]
  },
  {
   "cell_type": "code",
   "execution_count": 35,
   "metadata": {},
   "outputs": [
    {
     "data": {
      "text/plain": [
       "128063"
      ]
     },
     "execution_count": 35,
     "metadata": {},
     "output_type": "execute_result"
    }
   ],
   "source": [
    "ord('🐿')"
   ]
  },
  {
   "cell_type": "code",
   "execution_count": 38,
   "metadata": {},
   "outputs": [
    {
     "name": "stdout",
     "output_type": "stream",
     "text": [
      "joe\n",
      "127.0.1.1\n",
      "/dev/sda5        29G   12G   17G  42% /\n"
     ]
    }
   ],
   "source": [
    "%%bash\n",
    "\n",
    "hostname\n",
    "hostname -i\n",
    "df -h | grep -o \"/dev/sd[a-z][1-9]*.*\" "
   ]
  },
  {
   "cell_type": "markdown",
   "metadata": {},
   "source": [
    "### **Writing a Python list into CSV**"
   ]
  },
  {
   "cell_type": "code",
   "execution_count": 43,
   "metadata": {},
   "outputs": [],
   "source": [
    "import csv\n",
    "\n",
    "line1 = 'joe'\n",
    "line2 = '121.1.1.0'\n",
    "line3 = \"\"\"statsPumpCtrl\n",
    "sactcontrol\n",
    "serviceAct\n",
    "smcontrol\n",
    "serviceMonitor\n",
    "shcontrol\n",
    "syshealthSvc\n",
    "logger\n",
    "ccs\n",
    "datapump\n",
    "rtdataSvr\n",
    "RBACManager\n",
    "java\n",
    "Naming_Service\"\"\"\n",
    "\n",
    "\n",
    "\n",
    "lst = [line1, line2, line3]\n",
    "with open('/home/mana/Work/sankar.csv','w') as f:\n",
    "    writer = csv.writer(f)\n",
    "    writer.writerow(lst)"
   ]
  },
  {
   "cell_type": "markdown",
   "metadata": {},
   "source": [
    "### **Write headers to a CSV file**"
   ]
  },
  {
   "cell_type": "code",
   "execution_count": 44,
   "metadata": {},
   "outputs": [],
   "source": [
    "import csv\n",
    "\n",
    "f = open(\"/home/mana/Work/fruits.csv\", \"w\")\n",
    "writer = csv.DictWriter(\n",
    "    f, fieldnames=[\"fruit\", \"count\"])\n",
    "writer.writeheader()\n",
    "f.close()\n"
   ]
  },
  {
   "cell_type": "code",
   "execution_count": 46,
   "metadata": {},
   "outputs": [
    {
     "data": {
      "text/plain": [
       "Counter({'word': 1,\n",
       "         'like': 2,\n",
       "         'words': 1,\n",
       "         'line': 1,\n",
       "         'lines': 1,\n",
       "         'likes': 1,\n",
       "         'liked': 1})"
      ]
     },
     "execution_count": 46,
     "metadata": {},
     "output_type": "execute_result"
    }
   ],
   "source": [
    "from collections import Counter\n",
    "lst = ['word', 'like', 'words', 'line', 'lines', 'like', 'likes', 'liked']\n",
    "Counter(lst)"
   ]
  },
  {
   "cell_type": "code",
   "execution_count": null,
   "metadata": {},
   "outputs": [],
   "source": []
  }
 ],
 "metadata": {
  "kernelspec": {
   "display_name": "Python 3",
   "language": "python",
   "name": "python3"
  },
  "language_info": {
   "codemirror_mode": {
    "name": "ipython",
    "version": 3
   },
   "file_extension": ".py",
   "mimetype": "text/x-python",
   "name": "python",
   "nbconvert_exporter": "python",
   "pygments_lexer": "ipython3",
   "version": "3.6.9"
  }
 },
 "nbformat": 4,
 "nbformat_minor": 4
}
