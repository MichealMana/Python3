{
 "cells": [
  {
   "cell_type": "markdown",
   "metadata": {},
   "source": [
    "\n"
   ]
  },
  {
   "cell_type": "markdown",
   "metadata": {},
   "source": [
    "<h2 align=\"center\"><b>Builtin Functions</b></h2> "
   ]
  },
  {
   "cell_type": "markdown",
   "metadata": {},
   "source": [
    "&nbsp;"
   ]
  },
  {
   "cell_type": "markdown",
   "metadata": {},
   "source": [
    "### **How to list Python builtin functions?**"
   ]
  },
  {
   "cell_type": "code",
   "execution_count": 2,
   "metadata": {},
   "outputs": [
    {
     "name": "stdout",
     "output_type": "stream",
     "text": [
      "abs          all          any          ascii        bin          bool         \n",
      "bytearray    bytes        callable     chr          classmethod  compile      \n",
      "complex      copyright    credits      delattr      dict         dir          \n",
      "display      divmod       enumerate    eval         exec         filter       \n",
      "float        format       frozenset    get_ipython  getattr      globals      \n",
      "hasattr      hash         help         hex          id           input        \n",
      "int          isinstance   issubclass   iter         len          license      \n",
      "list         locals       map          max          memoryview   min          \n",
      "next         object       oct          open         ord          pow          \n",
      "print        property     range        repr         reversed     round        \n",
      "set          setattr      slice        sorted       staticmethod str          \n",
      "sum          super        tuple        type         vars         zip          \n"
     ]
    }
   ],
   "source": [
    "import builtins\n",
    "\n",
    "functions = [i for i in dir(builtins) \n",
    "             if i[0].islower()]\n",
    "fmt = '{:13s}'*6\n",
    "\n",
    "for fn in zip(*[iter(functions)] *6):\n",
    "    print(fmt.format(*fn))"
   ]
  },
  {
   "cell_type": "markdown",
   "metadata": {},
   "source": [
    "***"
   ]
  },
  {
   "cell_type": "markdown",
   "metadata": {},
   "source": [
    "### **abs(x)**\n",
    "**Return the absolute value of the argument.**"
   ]
  },
  {
   "cell_type": "markdown",
   "metadata": {},
   "source": [
    "#### **abs() Parameters**\n",
    "\n",
    "The abs() method takes a single argument:\n",
    "\n",
    "**num - number whose absolute value is to be returned.**\n",
    "\n",
    "The number can be:\n",
    "* **integer**\n",
    "\n",
    "* **floating number**\n",
    "\n",
    "* **complex number**\n",
    "\n",
    "#### **Return value from abs()**\n",
    "\n",
    "The abs() method returns the absolute value of the given number.\n",
    "\n",
    "* **integers** - integer absolute value is returned\n",
    "\n",
    "* **floating numbers** - floating absolute value is returned\n",
    "\n",
    "* **complex numbers** - magnitude of the number is returned"
   ]
  },
  {
   "cell_type": "code",
   "execution_count": 51,
   "metadata": {},
   "outputs": [
    {
     "name": "stdout",
     "output_type": "stream",
     "text": [
      "10\n"
     ]
    }
   ],
   "source": [
    "print(abs(-10))"
   ]
  },
  {
   "cell_type": "code",
   "execution_count": 52,
   "metadata": {},
   "outputs": [
    {
     "name": "stdout",
     "output_type": "stream",
     "text": [
      "10.5\n"
     ]
    }
   ],
   "source": [
    "print(abs(-10.5))"
   ]
  },
  {
   "cell_type": "markdown",
   "metadata": {},
   "source": [
    "**Direct Maths**"
   ]
  },
  {
   "cell_type": "code",
   "execution_count": 72,
   "metadata": {},
   "outputs": [
    {
     "name": "stdout",
     "output_type": "stream",
     "text": [
      "10\n"
     ]
    }
   ],
   "source": [
    "print(--10)"
   ]
  },
  {
   "cell_type": "markdown",
   "metadata": {},
   "source": [
    "***"
   ]
  },
  {
   "cell_type": "markdown",
   "metadata": {},
   "source": [
    "### **all(iterable)**\n",
    "**Returns True when all elements in the given iterable are true. If not, it returns False.**"
   ]
  },
  {
   "cell_type": "markdown",
   "metadata": {},
   "source": [
    "#### **all() Parameters**\n",
    "\n",
    "The all() method takes a single parameter:\n",
    "\n",
    "**iterable** - any iterable *(list, tuple, dictionary, etc.)* which contains the elements\n",
    "<br></br>\n",
    "<br></br>\n",
    "\n",
    "#### **Return Value from all()**\n",
    "\n",
    "The all() method returns:\n",
    "\n",
    "**True -** If all elements in an iterable are true\n",
    "\n",
    "**False -** If any element in an iterable is false\n",
    "\n",
    "<br></br>\n",
    "\n",
    "|When\t|Return Value|\n",
    "|-------|------------|\n",
    "|All values are true\t|True|\n",
    "|All values are false\t|False|\n",
    "|One value is true (others are false)\t|False|\n",
    "|One value is false (others are true)\t|False|\n",
    "|Empty Iterable\t|True|\n"
   ]
  },
  {
   "cell_type": "markdown",
   "metadata": {},
   "source": [
    "**All values are true**"
   ]
  },
  {
   "cell_type": "code",
   "execution_count": 53,
   "metadata": {},
   "outputs": [
    {
     "name": "stdout",
     "output_type": "stream",
     "text": [
      "True\n"
     ]
    }
   ],
   "source": [
    "L = [1, 'e', 4.5, '8', '0', 45]\n",
    "print(all(L))"
   ]
  },
  {
   "cell_type": "markdown",
   "metadata": {},
   "source": [
    "**All values are false**"
   ]
  },
  {
   "cell_type": "code",
   "execution_count": 54,
   "metadata": {},
   "outputs": [
    {
     "name": "stdout",
     "output_type": "stream",
     "text": [
      "False\n"
     ]
    }
   ],
   "source": [
    "L = [0, 0.0, None, False, '']\n",
    "print(all(L))"
   ]
  },
  {
   "cell_type": "markdown",
   "metadata": {},
   "source": [
    "**One value is true (others are false)**"
   ]
  },
  {
   "cell_type": "code",
   "execution_count": 55,
   "metadata": {},
   "outputs": [
    {
     "name": "stdout",
     "output_type": "stream",
     "text": [
      "False\n"
     ]
    }
   ],
   "source": [
    "L = [0,0.0, None, False, 3, '']\n",
    "print(all(L))"
   ]
  },
  {
   "cell_type": "markdown",
   "metadata": {},
   "source": [
    "**One value is false (others are true)**"
   ]
  },
  {
   "cell_type": "code",
   "execution_count": 56,
   "metadata": {},
   "outputs": [
    {
     "name": "stdout",
     "output_type": "stream",
     "text": [
      "False\n"
     ]
    }
   ],
   "source": [
    "L = [1, 'e', 4.5, '8', '0', 0.0, 45]\n",
    "print(all(L))"
   ]
  },
  {
   "cell_type": "markdown",
   "metadata": {},
   "source": [
    "**Empty Iterable**"
   ]
  },
  {
   "cell_type": "code",
   "execution_count": 57,
   "metadata": {},
   "outputs": [
    {
     "name": "stdout",
     "output_type": "stream",
     "text": [
      "True\n"
     ]
    }
   ],
   "source": [
    "L = []\n",
    "print(all(L))"
   ]
  },
  {
   "cell_type": "markdown",
   "metadata": {},
   "source": [
    "***"
   ]
  },
  {
   "cell_type": "markdown",
   "metadata": {},
   "source": [
    "### **any(iterable)**\n",
    "**Return True if any element of the iterable is true. If the iterable is empty, return False.**"
   ]
  },
  {
   "cell_type": "markdown",
   "metadata": {},
   "source": [
    "#### **any() Parameters**\n",
    "The any() method takes an iterable *(list, string, dictionary etc.)* in Python.\n",
    "<br></br>\n",
    "<br></br>\n",
    "\n",
    "#### **Return Value from any()**\n",
    "any() returns:\n",
    "\n",
    "* **True** if at least one element of an iterable is true\n",
    "\n",
    "* **False** if all elements are false or if an iterable is empty\n",
    "<br></br>\n",
    "<br></br>\n",
    "\n",
    "|When\t|Return Value|\n",
    "|---|---|\n",
    "|All values are true\t|True|\n",
    "|All values are false\t|False|\n",
    "|One value is true (others are false)|\tTrue|\n",
    "|One value is false (others are true)|\tTrue|\n",
    "|Empty Iterable\t|False|"
   ]
  },
  {
   "cell_type": "markdown",
   "metadata": {},
   "source": [
    "**All values are true**"
   ]
  },
  {
   "cell_type": "code",
   "execution_count": 58,
   "metadata": {},
   "outputs": [
    {
     "name": "stdout",
     "output_type": "stream",
     "text": [
      "True\n"
     ]
    }
   ],
   "source": [
    "L = [1, 'e', 4.5, '8', '0', 45]\n",
    "print(any(L))"
   ]
  },
  {
   "cell_type": "markdown",
   "metadata": {},
   "source": [
    "**All values are false**"
   ]
  },
  {
   "cell_type": "code",
   "execution_count": 59,
   "metadata": {},
   "outputs": [
    {
     "name": "stdout",
     "output_type": "stream",
     "text": [
      "False\n"
     ]
    }
   ],
   "source": [
    "L = [0, 0.0, None, False, '']\n",
    "print(any(L))"
   ]
  },
  {
   "cell_type": "markdown",
   "metadata": {},
   "source": [
    "**One value is true (others are false)** "
   ]
  },
  {
   "cell_type": "code",
   "execution_count": 60,
   "metadata": {},
   "outputs": [
    {
     "name": "stdout",
     "output_type": "stream",
     "text": [
      "True\n"
     ]
    }
   ],
   "source": [
    "L = [0,0.0, None, False, 3, '']\n",
    "print(any(L))"
   ]
  },
  {
   "cell_type": "markdown",
   "metadata": {},
   "source": [
    "**One value is false (others are true)**"
   ]
  },
  {
   "cell_type": "code",
   "execution_count": 61,
   "metadata": {},
   "outputs": [
    {
     "name": "stdout",
     "output_type": "stream",
     "text": [
      "True\n"
     ]
    }
   ],
   "source": [
    "L = [1, 'e', 4.5, '8', '0', 0.0, 45]\n",
    "print(any(L))"
   ]
  },
  {
   "cell_type": "markdown",
   "metadata": {},
   "source": [
    "**Empty Iterable**"
   ]
  },
  {
   "cell_type": "code",
   "execution_count": 62,
   "metadata": {},
   "outputs": [
    {
     "name": "stdout",
     "output_type": "stream",
     "text": [
      "False\n"
     ]
    }
   ],
   "source": [
    "L = []\n",
    "print(any(L))"
   ]
  },
  {
   "cell_type": "markdown",
   "metadata": {},
   "source": [
    "***"
   ]
  },
  {
   "cell_type": "markdown",
   "metadata": {},
   "source": [
    "### **ascii(object)**\n",
    "**Then ascii() method returns a string containing a printable representation of an object. <br></br>It escapes the non-ASCII characters in the string using \\x, \\u or \\U escapes.**"
   ]
  },
  {
   "cell_type": "markdown",
   "metadata": {},
   "source": [
    "#### **ascii() Parameters**\n",
    "The ascii() method takes an **object** *(like: strings, list etc).*\n",
    "\n",
    "#### **Return Value from ascii()**\n",
    "It returns a string containing **printable representation** of an object.\n",
    "\n",
    "For example, **♠** is changed to **\\x2660**, <b>√</b> is changed to **\\u221a**\n",
    "\n",
    "The non-ASCII characters in the string is escaped using **\\x, \\u or \\U.**\n",
    "\n",
    "\n",
    "\n"
   ]
  },
  {
   "cell_type": "code",
   "execution_count": 63,
   "metadata": {},
   "outputs": [
    {
     "name": "stdout",
     "output_type": "stream",
     "text": [
      "'Manavalan'\n"
     ]
    }
   ],
   "source": [
    "text = 'Manavalan'\n",
    "print(ascii(text))"
   ]
  },
  {
   "cell_type": "code",
   "execution_count": 64,
   "metadata": {},
   "outputs": [
    {
     "name": "stdout",
     "output_type": "stream",
     "text": [
      "'Manaval\\u2202n'\n"
     ]
    }
   ],
   "source": [
    "text = 'Manaval∂n'\n",
    "print(ascii(text))"
   ]
  },
  {
   "cell_type": "markdown",
   "metadata": {},
   "source": [
    "***"
   ]
  },
  {
   "cell_type": "markdown",
   "metadata": {},
   "source": [
    "### **bin(num)**\n",
    "**The bin() method converts and returns the binary equivalent string of a given integer.<br></br> If the parameter isn't an integer, it has to implement __index__() method to return an integer.**"
   ]
  },
  {
   "cell_type": "code",
   "execution_count": 70,
   "metadata": {},
   "outputs": [
    {
     "name": "stdout",
     "output_type": "stream",
     "text": [
      "0b10010\n"
     ]
    }
   ],
   "source": [
    "print(bin(18))"
   ]
  },
  {
   "cell_type": "markdown",
   "metadata": {},
   "source": [
    "The prefix 0b represents that the result is a binary string."
   ]
  },
  {
   "cell_type": "markdown",
   "metadata": {},
   "source": [
    " **Using f string format**"
   ]
  },
  {
   "cell_type": "code",
   "execution_count": 71,
   "metadata": {},
   "outputs": [
    {
     "name": "stdout",
     "output_type": "stream",
     "text": [
      " 10010\n"
     ]
    }
   ],
   "source": [
    "print(f'{18: b}')"
   ]
  },
  {
   "cell_type": "markdown",
   "metadata": {},
   "source": [
    "****"
   ]
  },
  {
   "cell_type": "markdown",
   "metadata": {},
   "source": [
    "### **bool([value])**\n",
    "**The bool() method converts a value to Boolean (True or False) using the standard truth <br></br>testing procedure.**"
   ]
  },
  {
   "cell_type": "markdown",
   "metadata": {},
   "source": [
    "#### **bool() parameters**\n",
    "\n",
    "It's not mandatory to pass a value to bool(). If you do not pass a value, bool() returns False.\n",
    "\n",
    "In general use, bool() takes a single parameter value.\n",
    "\n",
    "#### **Return Value from bool()**\n",
    "The bool() returns:\n",
    "\n",
    "* **False** if the value is omitted or false\n",
    "\n",
    "* **True** if the value is true\n",
    "\n",
    "The following values are considered false in Python:\n",
    "\n",
    "* **None**\n",
    "\n",
    "* **False**\n",
    "\n",
    "* Zero of any numeric type. For example, **0, 0.0, 0j**\n",
    "\n",
    "* Empty sequence. For example, **(), [], ''.**\n",
    "\n",
    "* Empty mapping. For example, **{}**\n",
    "\n",
    "<br></br>\n",
    "All other values except these values are considered true.\n"
   ]
  },
  {
   "cell_type": "code",
   "execution_count": 73,
   "metadata": {},
   "outputs": [
    {
     "name": "stdout",
     "output_type": "stream",
     "text": [
      "False\n"
     ]
    }
   ],
   "source": [
    "print(bool())"
   ]
  },
  {
   "cell_type": "code",
   "execution_count": 74,
   "metadata": {},
   "outputs": [
    {
     "name": "stdout",
     "output_type": "stream",
     "text": [
      "True\n"
     ]
    }
   ],
   "source": [
    "print(bool(2))"
   ]
  },
  {
   "cell_type": "code",
   "execution_count": 75,
   "metadata": {},
   "outputs": [
    {
     "name": "stdout",
     "output_type": "stream",
     "text": [
      "1\n"
     ]
    }
   ],
   "source": [
    "print(1)"
   ]
  },
  {
   "cell_type": "code",
   "execution_count": 76,
   "metadata": {},
   "outputs": [
    {
     "name": "stdout",
     "output_type": "stream",
     "text": [
      "False\n"
     ]
    }
   ],
   "source": [
    "print(bool(0))"
   ]
  },
  {
   "cell_type": "code",
   "execution_count": 81,
   "metadata": {},
   "outputs": [
    {
     "name": "stdout",
     "output_type": "stream",
     "text": [
      "False\n"
     ]
    }
   ],
   "source": [
    "print(bool(0.0))"
   ]
  },
  {
   "cell_type": "code",
   "execution_count": 77,
   "metadata": {},
   "outputs": [
    {
     "name": "stdout",
     "output_type": "stream",
     "text": [
      "True\n"
     ]
    }
   ],
   "source": [
    "print(bool('a'))"
   ]
  },
  {
   "cell_type": "code",
   "execution_count": 78,
   "metadata": {},
   "outputs": [
    {
     "name": "stdout",
     "output_type": "stream",
     "text": [
      "True\n"
     ]
    }
   ],
   "source": [
    "print(bool('Mana'))"
   ]
  },
  {
   "cell_type": "code",
   "execution_count": 79,
   "metadata": {},
   "outputs": [
    {
     "name": "stdout",
     "output_type": "stream",
     "text": [
      "False\n"
     ]
    }
   ],
   "source": [
    "print(bool(None))"
   ]
  },
  {
   "cell_type": "code",
   "execution_count": 80,
   "metadata": {},
   "outputs": [
    {
     "name": "stdout",
     "output_type": "stream",
     "text": [
      "False\n"
     ]
    }
   ],
   "source": [
    "print(bool(False))"
   ]
  },
  {
   "cell_type": "code",
   "execution_count": 82,
   "metadata": {},
   "outputs": [
    {
     "name": "stdout",
     "output_type": "stream",
     "text": [
      "False\n"
     ]
    }
   ],
   "source": [
    "print(bool(()))"
   ]
  },
  {
   "cell_type": "code",
   "execution_count": 83,
   "metadata": {},
   "outputs": [
    {
     "name": "stdout",
     "output_type": "stream",
     "text": [
      "False\n"
     ]
    }
   ],
   "source": [
    "print(bool([]))"
   ]
  },
  {
   "cell_type": "code",
   "execution_count": 84,
   "metadata": {},
   "outputs": [
    {
     "name": "stdout",
     "output_type": "stream",
     "text": [
      "False\n"
     ]
    }
   ],
   "source": [
    "print(bool({}))"
   ]
  },
  {
   "cell_type": "code",
   "execution_count": 85,
   "metadata": {},
   "outputs": [
    {
     "name": "stdout",
     "output_type": "stream",
     "text": [
      "False\n"
     ]
    }
   ],
   "source": [
    "print(bool(''))"
   ]
  },
  {
   "cell_type": "markdown",
   "metadata": {},
   "source": [
    " ***"
   ]
  },
  {
   "cell_type": "markdown",
   "metadata": {},
   "source": [
    "### **bytearray([source[, encoding[, errors]]])**\n",
    "**The bytearray() method returns a bytearray object which is an array of the given bytes.**"
   ]
  },
  {
   "cell_type": "markdown",
   "metadata": {},
   "source": [
    "#### **bytearray() Parameters**\n",
    "The bytearray() takes three optional parameters:\n",
    "\n",
    "* **source (Optional)** - source to initialize the array of bytes.\n",
    "* **encoding (Optional)** - if source is a string, the encoding of the string.\n",
    "* **errors (Optional)** - if source is a string, the action to take when the encoding conversion fails\n",
    "\n",
    "\n",
    "<br></br>\n",
    "**Different source parameters**\n",
    "\n",
    "\n",
    "|Type\t        |Description|\n",
    "|----|-----|\n",
    "|**String**\t\t\t|Converts the string to bytes using str.encode() Must also provide encoding and optionally errors|\n",
    "|**Integer**\t|Creates an array of provided size, all initialized to null Object\tRead-only buffer of the object will be used to initialize the byte array|\n",
    "|**Iterable**\t\t\t|Creates an array of size equal to the iterable count and initialized to the iterable elements Must be iterable of integers between 0 <= x < 256|\t\t\n",
    "|**No source (arguments)**\t|Creates an array of size 0.|\n",
    "\n",
    "\n",
    "<br></br>\n",
    "#### **Return value from bytearray()**\n",
    "The bytearray() method returns an array of bytes of the given size and initialization values."
   ]
  },
  {
   "cell_type": "markdown",
   "metadata": {},
   "source": [
    "#### **Array of bytes from a string**"
   ]
  },
  {
   "cell_type": "code",
   "execution_count": 4,
   "metadata": {},
   "outputs": [
    {
     "name": "stdout",
     "output_type": "stream",
     "text": [
      "bytearray(b'Manavalan')\n"
     ]
    }
   ],
   "source": [
    "name = 'Manavalan'\n",
    "print(bytearray(name, 'utf-8'))"
   ]
  },
  {
   "cell_type": "markdown",
   "metadata": {},
   "source": [
    "#### **Array of bytes of given integer size**"
   ]
  },
  {
   "cell_type": "code",
   "execution_count": 6,
   "metadata": {},
   "outputs": [
    {
     "name": "stdout",
     "output_type": "stream",
     "text": [
      "bytearray(b'\\x00\\x00\\x00')\n"
     ]
    }
   ],
   "source": [
    "n = 3\n",
    "print(bytearray(n))"
   ]
  },
  {
   "cell_type": "markdown",
   "metadata": {},
   "source": [
    "#### **Array of bytes from an iterable list**"
   ]
  },
  {
   "cell_type": "code",
   "execution_count": 9,
   "metadata": {},
   "outputs": [
    {
     "name": "stdout",
     "output_type": "stream",
     "text": [
      "bytearray(b'\\x03\\x01\\x02')\n"
     ]
    }
   ],
   "source": [
    "L = [3, 1, 2]\n",
    "print(bytearray(L))"
   ]
  },
  {
   "cell_type": "markdown",
   "metadata": {},
   "source": [
    "#### **How to decode bytearray?**"
   ]
  },
  {
   "cell_type": "code",
   "execution_count": 75,
   "metadata": {},
   "outputs": [
    {
     "name": "stdout",
     "output_type": "stream",
     "text": [
      "b'\\x00\\x00\\x00'\n"
     ]
    },
    {
     "data": {
      "text/plain": [
       "[0, 0, 0]"
      ]
     },
     "execution_count": 75,
     "metadata": {},
     "output_type": "execute_result"
    }
   ],
   "source": [
    "bs = bytes(3)\n",
    "print(bs)\n",
    "list(bs)"
   ]
  },
  {
   "cell_type": "markdown",
   "metadata": {},
   "source": [
    "***"
   ]
  },
  {
   "cell_type": "markdown",
   "metadata": {},
   "source": [
    "### **What is Unicode and UTF-8**\n",
    "\n",
    "**=> Unicode is a character set. UTF-8 is encoding.**\n",
    "\n",
    "**=> UTF-8 is a method for encoding Unicode characters using 8-bit sequences.**\n",
    "\n",
    "**=> UTF8 is a character encoding where is assigns 1,112,064 characters a binary number that is <br></br>from 1 byte (8 bits) to 4 bytes (32 bits) long.**\n",
    "\n",
    "\n",
    "\n",
    "\n",
    "**Encoding** translates numbers into binary. **Character sets** translates characters to numbers.\n",
    "\n",
    "\n",
    "**=> Unicode is a list of characters with unique decimal numbers (code points). A = 65, B = 66, C = 67, ....**\n",
    "\n",
    "**=> This list of decimal numbers represent the string \"hello\": 104 101 108 108 111**\n",
    "\n",
    "\n",
    "<br></br>\n",
    "Encoding is how these numbers are translated into binary numbers to be stored in a computer:\n",
    "\n",
    "**UTF-8** encoding will store **\"hello\"** like this (binary): **01101000 01100101 01101100 01101100  01101111**"
   ]
  },
  {
   "cell_type": "markdown",
   "metadata": {},
   "source": [
    "&nbsp;"
   ]
  },
  {
   "cell_type": "markdown",
   "metadata": {},
   "source": [
    "### **bytes()**\n",
    "\n",
    "The syntax of bytes() method is:\n",
    "\n",
    "**bytes([source[, encoding[, errors]]])**\n",
    "\n",
    "The bytes() method returns a bytes object which is an immmutable.\n",
    "\n",
    "If you want to use the mutable version, use bytearray() method."
   ]
  },
  {
   "cell_type": "markdown",
   "metadata": {},
   "source": [
    "### **bytes() Parameters**\n",
    "The bytes() takes three optional parameters:\n",
    "\n",
    "* **source (Optional) -** source to initialize the array of bytes.\n",
    "\n",
    "* **encoding (Optional) -** if source is a string, the encoding of the string.\n",
    "\n",
    "* **errors (Optional) -** if source is a string, the action to take when the encoding conversion fails\n",
    "\n",
    "The source parameter can be used to initialize the byte array in the following ways:\n",
    "\n",
    "**Different source parameters**\n",
    "\n",
    "|Type\t|Description|\n",
    "|-------|-----------|\n",
    "|String\t|Converts the string to bytes using str.encode() Must also provide encoding and optionally errors|\n",
    "|Integer\t|Creates an array of provided size, all initialized to null|\n",
    "|Object\t|Read-only buffer of the object will be used to initialize the byte array|\n",
    "|Iterable\t|Creates an array of size equal to the iterable count and initialized to the iterable elements Must be iterable of integers between 0 <= x < 256|\n",
    "|No source (arguments)\t|Creates an array of size 0|\n",
    "\n",
    "#### **Return value from bytes()**\n",
    "The bytes() method returns a **bytes object** of the given size and initialization values.\n",
    "\n"
   ]
  },
  {
   "cell_type": "markdown",
   "metadata": {},
   "source": [
    "#### **Convert string to bytes**"
   ]
  },
  {
   "cell_type": "code",
   "execution_count": 53,
   "metadata": {},
   "outputs": [
    {
     "name": "stdout",
     "output_type": "stream",
     "text": [
      "b'Manavalan'\n"
     ]
    }
   ],
   "source": [
    "S = 'Manavalan'\n",
    "print(bytes(S, 'utf-8'))"
   ]
  },
  {
   "cell_type": "markdown",
   "metadata": {},
   "source": [
    " Encode the string to bytes and use the hex() method, return a string."
   ]
  },
  {
   "cell_type": "code",
   "execution_count": 80,
   "metadata": {},
   "outputs": [
    {
     "name": "stdout",
     "output_type": "stream",
     "text": [
      "68656c6c6f\n"
     ]
    }
   ],
   "source": [
    "S = \"hello\".encode(\"utf-8\").hex()\n",
    "print(S)"
   ]
  },
  {
   "cell_type": "markdown",
   "metadata": {},
   "source": [
    " **How to encoding using encode method?**"
   ]
  },
  {
   "cell_type": "code",
   "execution_count": 83,
   "metadata": {},
   "outputs": [
    {
     "data": {
      "text/plain": [
       "b'Manavalan'"
      ]
     },
     "execution_count": 83,
     "metadata": {},
     "output_type": "execute_result"
    }
   ],
   "source": [
    "'Manavalan'.encode('utf-8')"
   ]
  },
  {
   "cell_type": "markdown",
   "metadata": {},
   "source": [
    "**str method convert bytes to ascii**"
   ]
  },
  {
   "cell_type": "code",
   "execution_count": 82,
   "metadata": {},
   "outputs": [
    {
     "data": {
      "text/plain": [
       "'Manavalan'"
      ]
     },
     "execution_count": 82,
     "metadata": {},
     "output_type": "execute_result"
    }
   ],
   "source": [
    "str(b'Manavalan', 'utf-8')"
   ]
  },
  {
   "cell_type": "markdown",
   "metadata": {},
   "source": [
    "#### **Create a byte of given integer size**"
   ]
  },
  {
   "cell_type": "code",
   "execution_count": 84,
   "metadata": {},
   "outputs": [
    {
     "data": {
      "text/plain": [
       "b'\\x00\\x00\\x00\\x00\\x00'"
      ]
     },
     "execution_count": 84,
     "metadata": {},
     "output_type": "execute_result"
    }
   ],
   "source": [
    "N = 5\n",
    "bytes(N)"
   ]
  },
  {
   "cell_type": "markdown",
   "metadata": {},
   "source": [
    "#### **Convert iterable list to bytes**"
   ]
  },
  {
   "cell_type": "code",
   "execution_count": 85,
   "metadata": {},
   "outputs": [
    {
     "data": {
      "text/plain": [
       "b'\\x01\\x02\\x03'"
      ]
     },
     "execution_count": 85,
     "metadata": {},
     "output_type": "execute_result"
    }
   ],
   "source": [
    "L = [1, 2, 3]\n",
    "bytes(L)"
   ]
  },
  {
   "cell_type": "markdown",
   "metadata": {},
   "source": [
    "**Iterable elements Must be iterable of integers between 0 <= x < 256**"
   ]
  },
  {
   "cell_type": "code",
   "execution_count": 86,
   "metadata": {},
   "outputs": [
    {
     "ename": "ValueError",
     "evalue": "bytes must be in range(0, 256)",
     "output_type": "error",
     "traceback": [
      "\u001b[0;31m---------------------------------------------------------------------------\u001b[0m",
      "\u001b[0;31mValueError\u001b[0m                                Traceback (most recent call last)",
      "\u001b[0;32m<ipython-input-86-758ddeb7efee>\u001b[0m in \u001b[0;36m<module>\u001b[0;34m\u001b[0m\n\u001b[0;32m----> 1\u001b[0;31m \u001b[0mbytes\u001b[0m\u001b[0;34m(\u001b[0m\u001b[0;34m[\u001b[0m\u001b[0;36m257\u001b[0m\u001b[0;34m]\u001b[0m\u001b[0;34m)\u001b[0m\u001b[0;34m\u001b[0m\u001b[0;34m\u001b[0m\u001b[0m\n\u001b[0m",
      "\u001b[0;31mValueError\u001b[0m: bytes must be in range(0, 256)"
     ]
    }
   ],
   "source": [
    "bytes([257])"
   ]
  },
  {
   "cell_type": "markdown",
   "metadata": {},
   "source": [
    "***"
   ]
  },
  {
   "cell_type": "markdown",
   "metadata": {},
   "source": [
    "### **callable(*object*)**\n",
    "**The callable() method returns True if the object passed appears callable. If not, it returns False.**"
   ]
  },
  {
   "cell_type": "markdown",
   "metadata": {},
   "source": [
    "#### **callable() Parameters**\n",
    "The callable() method takes a single argument **object.**\n",
    "\n",
    "\n",
    "#### **Return value from callable()**\n",
    "The callable() method returns:\n",
    "\n",
    "* **True -** if the object appears callable\n",
    "* **False -** if the object is not callable.\n",
    "\n",
    "\n",
    "It important to remember that, even if the callable() is **True**, call to the object may still fail.\n",
    "\n",
    "\n",
    "However, if the callable() returns **False**, call to the object will certainly fail."
   ]
  },
  {
   "cell_type": "code",
   "execution_count": 28,
   "metadata": {},
   "outputs": [
    {
     "name": "stdout",
     "output_type": "stream",
     "text": [
      "True\n",
      "Hi\n",
      "False\n"
     ]
    }
   ],
   "source": [
    "S = 'Mana'\n",
    "def add():\n",
    "    return 'Hi'\n",
    "\n",
    "print(callable(add))\n",
    "print(add())\n",
    "print(callable(S))"
   ]
  },
  {
   "cell_type": "markdown",
   "metadata": {},
   "source": [
    "Here, the object **\"S\"** is not callable. And, the object **\"add\"** appears to be callable"
   ]
  },
  {
   "cell_type": "markdown",
   "metadata": {},
   "source": [
    "&nbsp; "
   ]
  },
  {
   "cell_type": "markdown",
   "metadata": {},
   "source": [
    "#### **Callable Object**\n",
    "\n",
    "**=>** Note that classes are callable (calling a class returns a new instance); instances are callable if their <br></br>class has a __call__() method.\n"
   ]
  },
  {
   "cell_type": "code",
   "execution_count": 45,
   "metadata": {},
   "outputs": [
    {
     "name": "stdout",
     "output_type": "stream",
     "text": [
      "True\n"
     ]
    }
   ],
   "source": [
    "class Test:\n",
    "    def __call__(self):\n",
    "        return 'Hi'\n",
    "        \n",
    "print(callable(Test))"
   ]
  },
  {
   "cell_type": "markdown",
   "metadata": {},
   "source": [
    "**The instance of Test class appears to be callable**"
   ]
  },
  {
   "cell_type": "code",
   "execution_count": 46,
   "metadata": {},
   "outputs": [
    {
     "name": "stdout",
     "output_type": "stream",
     "text": [
      "True\n",
      "Hi\n"
     ]
    }
   ],
   "source": [
    "class Test:\n",
    "    def __call__(self):\n",
    "        return 'Hi'\n",
    "        \n",
    "testcase = Test()\n",
    "print(callable(testcase))\n",
    "print(testcase())"
   ]
  },
  {
   "cell_type": "markdown",
   "metadata": {},
   "source": [
    "#### **Object Appears to be Callable but isn't callable.**"
   ]
  },
  {
   "cell_type": "code",
   "execution_count": 39,
   "metadata": {},
   "outputs": [
    {
     "name": "stdout",
     "output_type": "stream",
     "text": [
      "True\n"
     ]
    }
   ],
   "source": [
    "class Test:\n",
    "    def display(self):\n",
    "        return 'Hi'\n",
    "        \n",
    "print(callable(Test))"
   ]
  },
  {
   "cell_type": "code",
   "execution_count": 48,
   "metadata": {},
   "outputs": [
    {
     "ename": "TypeError",
     "evalue": "'Test' object is not callable",
     "output_type": "error",
     "traceback": [
      "\u001b[0;31m---------------------------------------------------------------------------\u001b[0m",
      "\u001b[0;31mTypeError\u001b[0m                                 Traceback (most recent call last)",
      "\u001b[0;32m<ipython-input-48-e64d980d8b55>\u001b[0m in \u001b[0;36m<module>\u001b[0;34m\u001b[0m\n\u001b[1;32m      4\u001b[0m \u001b[0;34m\u001b[0m\u001b[0m\n\u001b[1;32m      5\u001b[0m \u001b[0mtestcase\u001b[0m \u001b[0;34m=\u001b[0m \u001b[0mTest\u001b[0m\u001b[0;34m(\u001b[0m\u001b[0;34m)\u001b[0m\u001b[0;34m\u001b[0m\u001b[0;34m\u001b[0m\u001b[0m\n\u001b[0;32m----> 6\u001b[0;31m \u001b[0mprint\u001b[0m\u001b[0;34m(\u001b[0m\u001b[0mtestcase\u001b[0m\u001b[0;34m(\u001b[0m\u001b[0;34m)\u001b[0m\u001b[0;34m)\u001b[0m\u001b[0;34m\u001b[0m\u001b[0;34m\u001b[0m\u001b[0m\n\u001b[0m",
      "\u001b[0;31mTypeError\u001b[0m: 'Test' object is not callable"
     ]
    }
   ],
   "source": [
    "class Test:\n",
    "    def display(self):\n",
    "        return 'Hi'\n",
    "        \n",
    "testcase = Test()\n",
    "print(testcase())"
   ]
  },
  {
   "cell_type": "markdown",
   "metadata": {},
   "source": [
    "***"
   ]
  },
  {
   "cell_type": "markdown",
   "metadata": {},
   "source": [
    "### **chr()**\n",
    "\n",
    "The syntax of chr() is:\n",
    "\n",
    "**chr(i)**\n",
    "\n",
    "**The chr() method returns a character (a string) from an integer (represents unicode code point <br></br>of the character).**"
   ]
  },
  {
   "cell_type": "markdown",
   "metadata": {},
   "source": [
    "#### **chr() Parameters**\n",
    "The chr() method takes a single parameter, an **integer i**.\n",
    "\n",
    "**=>** The valid range of the integer is from **0 through 1,114,111.**\n",
    "\n",
    "<br></br>\n",
    "#### **Return Value from chr()**\n",
    "The chr() returns:\n",
    "\n",
    "**a character (a string) whose Unicode code point is the integer i**\n",
    "\n",
    "If the integer i is outside the range, ValueError will be raised."
   ]
  },
  {
   "cell_type": "markdown",
   "metadata": {},
   "source": [
    "#### **Convert integer to character(a string)**"
   ]
  },
  {
   "cell_type": "code",
   "execution_count": 87,
   "metadata": {},
   "outputs": [
    {
     "name": "stdout",
     "output_type": "stream",
     "text": [
      "N\n",
      "ݢ\n"
     ]
    }
   ],
   "source": [
    "print(chr(78))\n",
    "print(chr(1890))"
   ]
  },
  {
   "cell_type": "markdown",
   "metadata": {},
   "source": [
    "#### **Integer passed to chr() is out of the range**"
   ]
  },
  {
   "cell_type": "code",
   "execution_count": 88,
   "metadata": {},
   "outputs": [
    {
     "ename": "ValueError",
     "evalue": "chr() arg not in range(0x110000)",
     "output_type": "error",
     "traceback": [
      "\u001b[0;31m---------------------------------------------------------------------------\u001b[0m",
      "\u001b[0;31mValueError\u001b[0m                                Traceback (most recent call last)",
      "\u001b[0;32m<ipython-input-88-4de1bc8aa344>\u001b[0m in \u001b[0;36m<module>\u001b[0;34m\u001b[0m\n\u001b[0;32m----> 1\u001b[0;31m \u001b[0mprint\u001b[0m\u001b[0;34m(\u001b[0m\u001b[0mchr\u001b[0m\u001b[0;34m(\u001b[0m\u001b[0;34m-\u001b[0m\u001b[0;36m1\u001b[0m\u001b[0;34m)\u001b[0m\u001b[0;34m)\u001b[0m\u001b[0;34m\u001b[0m\u001b[0;34m\u001b[0m\u001b[0m\n\u001b[0m",
      "\u001b[0;31mValueError\u001b[0m: chr() arg not in range(0x110000)"
     ]
    }
   ],
   "source": [
    "print(chr(-1))"
   ]
  },
  {
   "cell_type": "markdown",
   "metadata": {},
   "source": [
    "***"
   ]
  },
  {
   "cell_type": "markdown",
   "metadata": {},
   "source": [
    "### **compile()**\n",
    "\n",
    "**The compile() method returns a Python code object from the source (normal string, a byte string, <br></br>or an AST object).**\n",
    "\n",
    "**The syntax of compile() is:**\n",
    "\n",
    "<p style=\"color:red;\"><b>compile(source, filename, mode, flags=0, dont_inherit=False, optimize=-1)</b></p>\n",
    "\n",
    "<br></br>\n",
    "**The code object returned by the compile() method can later be called using methods like: exec()<br></br> and eval() which will execute dynamically generated Python code.**"
   ]
  },
  {
   "cell_type": "code",
   "execution_count": null,
   "metadata": {},
   "outputs": [],
   "source": []
  }
 ],
 "metadata": {
  "kernelspec": {
   "display_name": "Python 3",
   "language": "python",
   "name": "python3"
  },
  "language_info": {
   "codemirror_mode": {
    "name": "ipython",
    "version": 3
   },
   "file_extension": ".py",
   "mimetype": "text/x-python",
   "name": "python",
   "nbconvert_exporter": "python",
   "pygments_lexer": "ipython3",
   "version": "3.6.9"
  }
 },
 "nbformat": 4,
 "nbformat_minor": 2
}
