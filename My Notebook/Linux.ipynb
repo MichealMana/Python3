{
 "cells": [
  {
   "cell_type": "markdown",
   "metadata": {},
   "source": [
    "### **Tune Network Stack (Buffers Size) To Increase Networking Performance**\n",
    "https://www.cyberciti.biz/faq/linux-tcp-tuning/"
   ]
  },
  {
   "cell_type": "markdown",
   "metadata": {},
   "source": [
    "### **Check status of services and store into csv file**\n",
    "https://www.tecmint.com/list-all-running-services-under-systemd-in-linux/"
   ]
  },
  {
   "cell_type": "code",
   "execution_count": 94,
   "metadata": {},
   "outputs": [],
   "source": [
    "from subprocess import check_output\n",
    "from re import search\n",
    "import csv\n",
    "\n",
    "cmd = 'systemctl --type=service'\n",
    "services = check_output(cmd.split()).decode().splitlines()[1:]\n",
    "status = []\n",
    "\n",
    "for i in services:\n",
    "    match = search(r'(^.*)loaded.*(running|exited|failed)',i)\n",
    "    if match:\n",
    "        status.append(list(match.groups()))\n",
    "\n",
    "status = sorted(status, key = lambda x: x[1], reverse = True)\n",
    "\n",
    "with open('/home/mana/Work/status.csv','w') as file:\n",
    "    writer = csv.writer(file)\n",
    "    writer.writerows(status)"
   ]
  },
  {
   "cell_type": "markdown",
   "metadata": {},
   "source": [
    "### **How to list of tcp services and port number and<br></br>store into csv file ?**"
   ]
  },
  {
   "cell_type": "code",
   "execution_count": 1,
   "metadata": {},
   "outputs": [],
   "source": [
    "%%python3\n",
    "\n",
    "from pathlib import Path\n",
    "from re import search\n",
    "import csv\n",
    "\n",
    "file_read = Path('/etc/services').read_text().splitlines()\n",
    "services = [i.replace('\\t', ' ').rpartition('/tcp')[0].split()\n",
    "        for i in file_read if search(r'/tcp', i)]\n",
    "\n",
    "with open('services.csv', 'w', newline = '') as file:\n",
    "    fieldnames = ['Services', 'Port']\n",
    "    wrih = csv.DictWriter(file, fieldnames)\n",
    "    wrih.writeheader()\n",
    "    wrir = csv.writer(file, delimiter = ',', \n",
    "                      quoting = csv.QUOTE_NONE)\n",
    "    wrir.writerows(services)    "
   ]
  },
  {
   "cell_type": "markdown",
   "metadata": {},
   "source": [
    "### **Linux Error Code**"
   ]
  },
  {
   "cell_type": "code",
   "execution_count": null,
   "metadata": {},
   "outputs": [],
   "source": []
  },
  {
   "cell_type": "code",
   "execution_count": null,
   "metadata": {},
   "outputs": [],
   "source": []
  },
  {
   "cell_type": "markdown",
   "metadata": {},
   "source": [
    "**Please help me in this script. I need to backup MySQL database.<br></br> On failure it must issue a notification mail. The below script is working. <br></br>But in every situation it sends success notification <br></br>only and issues only success state.**\n",
    "\n",
    "**Use Python mysqldb Module**"
   ]
  },
  {
   "cell_type": "markdown",
   "metadata": {},
   "source": [
    "!/bin/bash\n",
    "<pre>\n",
    "## Script:\n",
    "# Backup script to take mysqldump\n",
    "# Retain 7 days of backup\n",
    "# Move backup to offsite\n",
    "# Send success/failure email\n",
    "# set up all the mysqldump variables\n",
    "FILE=database.sql.`date +\"%d-%m-%Y_%H.%M\"`.gz\n",
    "DBSERVER=127.0.0.1\n",
    "#REMOTE_SERVER=127.0.0.1 # move database to offsite for backup\n",
    "DATABASE=0000\n",
    "DBUSER=00000\n",
    "PASS=000\n",
    "SRC_DIR=\"/home/admin/..\"\n",
    "#REMOTE_BACKUP_DIR=/root/mysql/backup\n",
    "NOW=`date +\"%d-%m-%Y_%H.%M\"`\n",
    "email_list=\"0@gamil.com\"\n",
    "success_email=\"0@gamil.com\"\n",
    "failure_email=\"0@gamil.com\";\n",
    "START=$(date +%s)\n",
    "# function to send backup status email\n",
    "sendEmail() {\n",
    "scripttime=0;\n",
    "END=$(date +%s)\n",
    "DIFF=$(( $END - $START ))\n",
    "if [ $DIFF -le 60 ]; then\n",
    "scripttime=\"$DIFF seconds.\";\n",
    "else\n",
    "DIFF=$(( $DIFF / 60 ))\n",
    "scripttime=\"$DIFF minutes.\";\n",
    "fi;\n",
    "content=\"$content. Log: Backup duration: $scripttime\"\n",
    "echo $content | mail -s \"$subject\" $email_list\n",
    "exit;\n",
    "}\n",
    "# pipeline will return failure code if the mysqldump command fails\n",
    "set -o pipefail\n",
    "# Taking backup of all databases\n",
    "mysqldump --user=${DBUSER} --password=${PASS} --default-character-set=utf8 ${DATABASE} | gzip > ${SRC_DIR}/${FILE} 2>/dev/null\n",
    "# Verify backup is success/failure\n",
    "RESULT=$?\n",
    "if [ $RESULT -ne 0 ]; then\n",
    "subject=\"Backup-FAILURE\";\n",
    "content=\"Backup appears to have been failed for $NOW. The mysqldump/image backup command returned failure status. Please login to $DBSERVER and check the status.\"\n",
    "email_list=$failure_email\n",
    "echo \"[`date`]Backup failure.\"\n",
    "sendEmail\n",
    "fi\n",
    "# Keep only last 7 days worth backup on database server.\n",
    "find $SRC_DIR -mtime +7 -name '*.gz' -exec rm {} \\;\n",
    "# Finally send successful backup completion email.\n",
    "subject=\"Backup-SUCCESS for on $NOW\"\n",
    "content=\"The backup file of database is on $SRC_DIR/$FILE and the backup of image is on $SRC_IMAGE_DIR/$IMG_FILE \"\n",
    "content=$content.`ls -lhtr $SRC_DIR/ | awk '{print $1,$2,$3,$4,$5,$6,$7,$8,$9,$10,\"\\r\"}'`.`ls -lhtr $SRC_IMAGE_DIR/ | awk '{print $1,$2,$3,$4,$5,$6,$7,$8,$9,$10,\"\\r\"}'`\n",
    "email_list=$success_email;\n",
    "echo \"[`date +\"%H:%M\"`]Backup Success.\"\n",
    "sendEmail\n",
    "exit 0;\n",
    "</pre>"
   ]
  },
  {
   "cell_type": "code",
   "execution_count": null,
   "metadata": {},
   "outputs": [],
   "source": []
  }
 ],
 "metadata": {
  "kernelspec": {
   "display_name": "Python 3",
   "language": "python",
   "name": "python3"
  },
  "language_info": {
   "codemirror_mode": {
    "name": "ipython",
    "version": 3
   },
   "file_extension": ".py",
   "mimetype": "text/x-python",
   "name": "python",
   "nbconvert_exporter": "python",
   "pygments_lexer": "ipython3",
   "version": "3.6.9"
  }
 },
 "nbformat": 4,
 "nbformat_minor": 2
}
