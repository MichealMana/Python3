{
 "cells": [
  {
   "cell_type": "markdown",
   "metadata": {},
   "source": [
    "***"
   ]
  },
  {
   "cell_type": "markdown",
   "metadata": {},
   "source": [
    "### **Template: 1**"
   ]
  },
  {
   "cell_type": "markdown",
   "metadata": {},
   "source": [
    "<h4><span style=\"padding-left:10px;color:black;\"><b>1. True</b></span></h4>\n",
    "<h4><span style=\"padding-left:10px;color:black;\"><b>2. False</b></span></h4>\n",
    "<h4><span style=\"padding-left:10px;color:black;\"><b>3. Error</b></span></h4>\n",
    "<h4><span style=\"padding-left:10px;color:black;\"><b>4. None</b></span></h4>"
   ]
  },
  {
   "cell_type": "markdown",
   "metadata": {},
   "source": [
    "***"
   ]
  },
  {
   "cell_type": "markdown",
   "metadata": {},
   "source": [
    "### **Template: 2**"
   ]
  },
  {
   "cell_type": "markdown",
   "metadata": {},
   "source": [
    "<h4><span style=\"padding-left:10px;color:black;\"><b>A). True</b></span></h4>\n",
    "<h4><span style=\"padding-left:10px;color:black;\"><b>B). False</b></span></h4>\n",
    "<h4><span style=\"padding-left:10px;color:black;\"><b>C). Error</b></span></h4>\n",
    "<h4><span style=\"padding-left:10px;color:black;\"><b>D). None</b></span></h4>"
   ]
  },
  {
   "cell_type": "markdown",
   "metadata": {},
   "source": [
    "***"
   ]
  },
  {
   "cell_type": "code",
   "execution_count": null,
   "metadata": {},
   "outputs": [],
   "source": [
    "L = [*range(4)]"
   ]
  },
  {
   "cell_type": "markdown",
   "metadata": {},
   "source": [
    "### **Python Quiz**\n",
    "#### **What is output?**"
   ]
  },
  {
   "cell_type": "code",
   "execution_count": null,
   "metadata": {},
   "outputs": [],
   "source": [
    "S = 'one,two,three'\n",
    "S.split()"
   ]
  },
  {
   "cell_type": "markdown",
   "metadata": {},
   "source": [
    "<h4><span style=\"padding-left:10px;color:black;\"><b>1. ['one', 'two', 'three']</b></span></h4>\n",
    "<h4><span style=\"padding-left:10px;color:black;\"><b>2. ['one,two,three']</b></span></h4>\n",
    "<h4><span style=\"padding-left:10px;color:black;\"><b>3. 'one', 'two', 'three'</b></span></h4>\n",
    "<h4><span style=\"padding-left:10px;color:black;\"><b>4. Error</b></span></h4>"
   ]
  },
  {
   "cell_type": "markdown",
   "metadata": {},
   "source": [
    "### **Python Quiz**\n",
    "#### **What is output?**"
   ]
  },
  {
   "cell_type": "code",
   "execution_count": null,
   "metadata": {},
   "outputs": [],
   "source": [
    "print(--10)"
   ]
  },
  {
   "cell_type": "markdown",
   "metadata": {},
   "source": [
    "<h4><span style=\"padding-left:10px;color:black;\"><b>A). --10</b></span></h4>\n",
    "<h4><span style=\"padding-left:10px;color:black;\"><b>B). -10</b></span></h4>\n",
    "<h4><span style=\"padding-left:10px;color:black;\"><b>C). 10</b></span></h4>\n",
    "<h4><span style=\"padding-left:10px;color:black;\"><b>D). None</b></span></h4> "
   ]
  },
  {
   "cell_type": "markdown",
   "metadata": {},
   "source": [
    "### **Python Quiz**\n",
    "#### **What is output?**"
   ]
  },
  {
   "cell_type": "code",
   "execution_count": null,
   "metadata": {},
   "outputs": [],
   "source": [
    " True if 5 else False"
   ]
  },
  {
   "cell_type": "markdown",
   "metadata": {},
   "source": [
    "<h4><span style=\"padding-left:10px;color:black;\"><b>A). True</b></span></h4>\n",
    "<h4><span style=\"padding-left:10px;color:black;\"><b>B). Error</b></span></h4>\n",
    "<h4><span style=\"padding-left:10px;color:black;\"><b>C). False</b></span></h4>\n",
    "<h4><span style=\"padding-left:10px;color:black;\"><b>D). None</b></span></h4>"
   ]
  },
  {
   "cell_type": "markdown",
   "metadata": {},
   "source": [
    "### **Python Quiz**\n",
    "#### **What is output?**"
   ]
  },
  {
   "cell_type": "code",
   "execution_count": null,
   "metadata": {},
   "outputs": [],
   "source": [
    "D = {0: 'Hi', 1: 'Python'}\n",
    "all(D)"
   ]
  },
  {
   "cell_type": "markdown",
   "metadata": {},
   "source": [
    "<h4><span style=\"padding-left:10px;color:black;\"><b>A). True</b></span></h4>\n",
    "<h4><span style=\"padding-left:10px;color:black;\"><b>B). Error</b></span></h4>\n",
    "<h4><span style=\"padding-left:10px;color:black;\"><b>C). None</b></span></h4>\n",
    "<h4><span style=\"padding-left:10px;color:black;\"><b>D). False</b></span></h4>"
   ]
  },
  {
   "cell_type": "markdown",
   "metadata": {},
   "source": [
    "### **Python Quiz**\n",
    "#### **What is output?**"
   ]
  },
  {
   "cell_type": "code",
   "execution_count": null,
   "metadata": {},
   "outputs": [],
   "source": [
    "L = [1, 2, 0, 3]\n",
    "\n",
    "def chk(values):\n",
    "    for val in values:\n",
    "        if not val:\n",
    "            return False\n",
    "    return True\n",
    "    \n",
    "chk(L)"
   ]
  },
  {
   "cell_type": "markdown",
   "metadata": {},
   "source": [
    "<h4><span style=\"padding-left:10px;color:black;\"><b>A). True</b></span></h4>\n",
    "<h4><span style=\"padding-left:10px;color:black;\"><b>B). [1, 2, 0, 3]</b></span></h4>\n",
    "<h4><span style=\"padding-left:10px;color:black;\"><b>C). None</b></span></h4>\n",
    "<h4><span style=\"padding-left:10px;color:black;\"><b>D). False</b></span></h4>"
   ]
  },
  {
   "cell_type": "markdown",
   "metadata": {},
   "source": [
    "### **What is output ?**"
   ]
  },
  {
   "cell_type": "code",
   "execution_count": null,
   "metadata": {},
   "outputs": [],
   "source": [
    "s = iter('Micheal')\n",
    "print([s][1])"
   ]
  },
  {
   "cell_type": "raw",
   "metadata": {},
   "source": [
    "1. Error\n",
    "2. Micheal\n",
    "3. i\n",
    "4. M"
   ]
  },
  {
   "cell_type": "markdown",
   "metadata": {},
   "source": [
    "### **What is output?**"
   ]
  },
  {
   "cell_type": "code",
   "execution_count": null,
   "metadata": {},
   "outputs": [],
   "source": [
    "def add(a, b):\n",
    "    a + b\n",
    "    \n",
    "print(add(2, 3))"
   ]
  },
  {
   "cell_type": "raw",
   "metadata": {},
   "source": [
    "A. 5\n",
    "B. None\n",
    "C. a + b\n",
    "D. 2, 3"
   ]
  },
  {
   "cell_type": "markdown",
   "metadata": {},
   "source": [
    "### **What is output of this program?**"
   ]
  },
  {
   "cell_type": "code",
   "execution_count": null,
   "metadata": {},
   "outputs": [],
   "source": [
    "%%python3\n",
    "\n",
    "for i in range(6):\n",
    "    pass\n",
    "else:\n",
    "    print(i)"
   ]
  },
  {
   "cell_type": "raw",
   "metadata": {},
   "source": [
    "A). Error\n",
    "B). 5\n",
    "C). 6\n",
    "D). None"
   ]
  },
  {
   "cell_type": "markdown",
   "metadata": {},
   "source": [
    "### **What is output of this program?**"
   ]
  },
  {
   "cell_type": "code",
   "execution_count": null,
   "metadata": {},
   "outputs": [],
   "source": [
    "%%bash\n",
    "\n",
    "for i in {1..6}; do\n",
    ": echo $i\n",
    "done\n",
    "echo $i"
   ]
  },
  {
   "cell_type": "raw",
   "metadata": {},
   "source": [
    "A). Error\n",
    "B). 5\n",
    "C). 6\n",
    "D). None"
   ]
  },
  {
   "cell_type": "markdown",
   "metadata": {},
   "source": [
    "### What is output of this program?"
   ]
  },
  {
   "cell_type": "raw",
   "metadata": {},
   "source": [
    "a = [ 1,2,3,4,5]\n",
    "for i in range(1,5):\n",
    "    a[~i+1] = a[i]\n",
    "for i in range(0,5):\n",
    "    print(a[i], end = ' ')"
   ]
  },
  {
   "cell_type": "raw",
   "metadata": {},
   "source": [
    "1. 1,2,3,4,5\n",
    "2. 2,4,6,8,10\n",
    "3. 1 2 3 3 2\n",
    "4. 1 2 3 4 2 "
   ]
  },
  {
   "cell_type": "markdown",
   "metadata": {},
   "source": [
    "### What is Output this Program?"
   ]
  },
  {
   "cell_type": "raw",
   "metadata": {},
   "source": [
    "print(7 and 'O' and 1)"
   ]
  },
  {
   "cell_type": "raw",
   "metadata": {},
   "source": [
    "1. 7\n",
    "2. O\n",
    "3. 1\n",
    "4. True\n",
    "5. False"
   ]
  },
  {
   "cell_type": "markdown",
   "metadata": {},
   "source": [
    "### What is Output this Program?"
   ]
  },
  {
   "cell_type": "code",
   "execution_count": null,
   "metadata": {},
   "outputs": [],
   "source": [
    "lst = ['M', '', \"A\", 'N']\n",
    "print([i for i in lst if i])"
   ]
  },
  {
   "cell_type": "raw",
   "metadata": {},
   "source": [
    "1. ['M', 'A', 'N']\n",
    "2. ['M', '', \"A\", 'N']\n",
    "3. ['MAN']\n",
    "4. ['M AN']"
   ]
  },
  {
   "cell_type": "markdown",
   "metadata": {},
   "source": [
    "### What is Output this Program?"
   ]
  },
  {
   "cell_type": "raw",
   "metadata": {},
   "source": [
    "first_name = 'Manavalan'\n",
    "last_name = 'Micheal'\n",
    "name = first_name or last_name\n",
    "print(name)"
   ]
  },
  {
   "cell_type": "raw",
   "metadata": {},
   "source": [
    "1. Manavalan Micheal\n",
    "2. Micheal\n",
    "3. Manavalan\n",
    "4. None"
   ]
  },
  {
   "cell_type": "markdown",
   "metadata": {},
   "source": [
    "### What is Output this Program?"
   ]
  },
  {
   "cell_type": "code",
   "execution_count": null,
   "metadata": {},
   "outputs": [],
   "source": [
    "name = 'Manavalan'\n",
    "name.replace('a','',1)"
   ]
  },
  {
   "cell_type": "raw",
   "metadata": {},
   "source": [
    "1. 'Mnvln'\n",
    "2.  Mnavalan\n",
    "3.  Manavaln\n",
    "4. Error"
   ]
  },
  {
   "cell_type": "markdown",
   "metadata": {},
   "source": [
    "### What is Output this Program?"
   ]
  },
  {
   "cell_type": "raw",
   "metadata": {},
   "source": [
    "'Python'.split()"
   ]
  },
  {
   "cell_type": "raw",
   "metadata": {},
   "source": [
    "1. ['P', 'y', 't', 'h', 'o', 'n']\n",
    "2. None\n",
    "3. ['Python']\n",
    "4. 'Python'\n",
    "5. Python"
   ]
  },
  {
   "cell_type": "markdown",
   "metadata": {},
   "source": [
    "### What are correct statement to fetch 5 only?"
   ]
  },
  {
   "cell_type": "raw",
   "metadata": {},
   "source": [
    "num = '3257560159585'\n",
    "\n",
    "1. import re; re.findall(r'5',num)\n",
    "2. [i for i in list(num) if i ==5]\n",
    "3. [i for i in num if i ==5]\n",
    "4. [i for i in num if int(i) ==5]"
   ]
  },
  {
   "cell_type": "code",
   "execution_count": null,
   "metadata": {},
   "outputs": [],
   "source": [
    "s = iter('Micheal')\n",
    "list(zip(s, range(1,4),s))[0]"
   ]
  },
  {
   "cell_type": "markdown",
   "metadata": {},
   "source": [
    "### What is output of this program?"
   ]
  },
  {
   "cell_type": "raw",
   "metadata": {},
   "source": [
    "import re\n",
    "mystring = 'P*&yt-*h$%o@n+'\n",
    "''.join(re.findall(r'[a-zA-Z', mystring)"
   ]
  },
  {
   "cell_type": "raw",
   "metadata": {},
   "source": [
    "1. 'Python'\n",
    "2. "
   ]
  },
  {
   "cell_type": "markdown",
   "metadata": {},
   "source": [
    "### What is output of this program?"
   ]
  },
  {
   "cell_type": "raw",
   "metadata": {},
   "source": [
    "string = 'AB' + 'BA'\n",
    "print(string[::-1])"
   ]
  },
  {
   "cell_type": "raw",
   "metadata": {},
   "source": [
    "1. ABBA\n",
    "2. BAAB\n",
    "3. AABB\n",
    "4. BBAA"
   ]
  },
  {
   "cell_type": "markdown",
   "metadata": {},
   "source": [
    "### What is output of this program?"
   ]
  },
  {
   "cell_type": "raw",
   "metadata": {},
   "source": [
    "'Correct' if 'AB' + 'BA' == 'AB' else 'Wrong'"
   ]
  },
  {
   "cell_type": "markdown",
   "metadata": {},
   "source": [
    "### What is output of this program?"
   ]
  },
  {
   "cell_type": "raw",
   "metadata": {},
   "source": [
    "lst = [1,4,6,10]\n",
    "lst[4]"
   ]
  },
  {
   "cell_type": "raw",
   "metadata": {},
   "source": [
    "1. 10\n",
    "2. In"
   ]
  },
  {
   "cell_type": "markdown",
   "metadata": {},
   "source": [
    "### What is output of this program?"
   ]
  },
  {
   "cell_type": "raw",
   "metadata": {},
   "source": [
    "def num(x,y):\n",
    "    return x+y, x-y\n",
    "print(num(19,4))"
   ]
  },
  {
   "cell_type": "raw",
   "metadata": {},
   "source": [
    "1. 23, 15\n",
    "2. 19, 4\n",
    "3. (23, 15)\n",
    "4. 38"
   ]
  },
  {
   "cell_type": "markdown",
   "metadata": {},
   "source": [
    "### What is output of this program?"
   ]
  },
  {
   "cell_type": "raw",
   "metadata": {},
   "source": [
    "numbers = [1, 2, 2, 4, 5, 7, 8, 3, 4, 6, 1, 4, 6]\n",
    "print(list({num for num in numbers}))"
   ]
  },
  {
   "cell_type": "raw",
   "metadata": {},
   "source": [
    "1. {1:1,2:2,4:3,5:1,6:2,7:1,8:1}\n",
    "2. {1:2,2:2,3:1,4:3,5:1,6:2,7:1,8:1}\n",
    "3. ValueError\n",
    "4. [1, 2, 3, 4, 5, 6, 7, 8]"
   ]
  },
  {
   "cell_type": "markdown",
   "metadata": {},
   "source": [
    "### What is output of this program?"
   ]
  },
  {
   "cell_type": "code",
   "execution_count": null,
   "metadata": {},
   "outputs": [],
   "source": [
    "lst = [100, 388, 567, 3]\n",
    "for i in range(len(lst)):\n",
    "    lst[i] = i\n",
    "lst"
   ]
  },
  {
   "cell_type": "markdown",
   "metadata": {},
   "source": [
    "### What is output of this program?"
   ]
  },
  {
   "cell_type": "code",
   "execution_count": null,
   "metadata": {},
   "outputs": [],
   "source": [
    "a = {0:0}\n",
    "del a[0]\n",
    "a[0] = 0\n",
    "a"
   ]
  },
  {
   "cell_type": "markdown",
   "metadata": {},
   "source": [
    "### **What is output of this program?**"
   ]
  },
  {
   "cell_type": "code",
   "execution_count": null,
   "metadata": {},
   "outputs": [],
   "source": [
    "result = True if len('Micheal') >= 7 else False\n",
    "print(result)"
   ]
  },
  {
   "cell_type": "markdown",
   "metadata": {},
   "source": [
    "### **What is output of this program?**"
   ]
  },
  {
   "cell_type": "code",
   "execution_count": null,
   "metadata": {},
   "outputs": [],
   "source": [
    "bool('HI' and 1)"
   ]
  },
  {
   "cell_type": "markdown",
   "metadata": {},
   "source": [
    "### **Is this solvable?**"
   ]
  },
  {
   "cell_type": "code",
   "execution_count": null,
   "metadata": {},
   "outputs": [],
   "source": [
    "What is () + () + () = 30 using 1,3,5,7,9,11,13,15?"
   ]
  },
  {
   "cell_type": "code",
   "execution_count": null,
   "metadata": {},
   "outputs": [],
   "source": [
    "1. Yes\n",
    "2. No\n",
    "3. If Yes, explain\n",
    "4. If No, explain \n"
   ]
  },
  {
   "cell_type": "markdown",
   "metadata": {},
   "source": [
    "### What is output"
   ]
  },
  {
   "cell_type": "code",
   "execution_count": null,
   "metadata": {},
   "outputs": [],
   "source": [
    "print('' or 20)"
   ]
  },
  {
   "cell_type": "markdown",
   "metadata": {},
   "source": [
    "### **What is output?**"
   ]
  },
  {
   "cell_type": "code",
   "execution_count": null,
   "metadata": {},
   "outputs": [],
   "source": [
    "lst = M, A, N, A, V, A, L, A, N = [i%8 for i in range(9)]\n",
    "print(V)"
   ]
  },
  {
   "cell_type": "markdown",
   "metadata": {},
   "source": [
    "### **What is output?**"
   ]
  },
  {
   "cell_type": "code",
   "execution_count": null,
   "metadata": {},
   "outputs": [],
   "source": [
    "lst = ['M', '', \"A\", 0, 5 , 'N',  1, None, 3, 'S']\n",
    "[i for i in lst if i or i == 0]"
   ]
  },
  {
   "cell_type": "markdown",
   "metadata": {},
   "source": [
    "### What is output?"
   ]
  },
  {
   "cell_type": "code",
   "execution_count": null,
   "metadata": {},
   "outputs": [],
   "source": [
    "print(*(i*2 for i in range(9)))"
   ]
  },
  {
   "cell_type": "markdown",
   "metadata": {},
   "source": [
    "### **What is output?**"
   ]
  },
  {
   "cell_type": "code",
   "execution_count": null,
   "metadata": {},
   "outputs": [],
   "source": [
    "%%bash\n",
    "\n",
    "name=(\"Ram\", \"Robert\", \"Micheal\", \"Siva\")\n",
    "echo ${name[2+1]}\n"
   ]
  },
  {
   "cell_type": "raw",
   "metadata": {},
   "source": [
    "I), Ram\n",
    "II). Robert\n",
    "III). Mcheal\n",
    "IV). Siva"
   ]
  },
  {
   "cell_type": "markdown",
   "metadata": {},
   "source": [
    "### **What is output?**"
   ]
  },
  {
   "cell_type": "code",
   "execution_count": null,
   "metadata": {},
   "outputs": [],
   "source": [
    "%%python3\n",
    "\n",
    "name=(\"Ram\", \"Robert\", \"Micheal\", \"Siva\")\n",
    "\n",
    "print(f\"{name[-1]}\")"
   ]
  },
  {
   "cell_type": "raw",
   "metadata": {},
   "source": [
    "I). Ram\n",
    "II). Robert\n",
    "III). Mcheal\n",
    "IV). Siva"
   ]
  },
  {
   "cell_type": "markdown",
   "metadata": {},
   "source": [
    "### **What is output?**"
   ]
  },
  {
   "cell_type": "code",
   "execution_count": null,
   "metadata": {},
   "outputs": [],
   "source": [
    "name = 'Manavalan Micheal'.split()[1]\n",
    "print(name)"
   ]
  },
  {
   "cell_type": "raw",
   "metadata": {},
   "source": [
    "1. Manavalan\n",
    "2. None\n",
    "3. Micheal\n",
    "4. Manavalan Micheal"
   ]
  },
  {
   "cell_type": "markdown",
   "metadata": {},
   "source": [
    "### **What is output?**"
   ]
  },
  {
   "cell_type": "code",
   "execution_count": null,
   "metadata": {},
   "outputs": [],
   "source": [
    "echo \"Manavalan Micheal\" | awk '{print $2}'"
   ]
  },
  {
   "cell_type": "raw",
   "metadata": {},
   "source": [
    "1. Manavalan\n",
    "2. None\n",
    "3. Micheal\n",
    "4. Manavalan Micheal"
   ]
  },
  {
   "cell_type": "markdown",
   "metadata": {},
   "source": [
    "### **Guess What output will come?**"
   ]
  },
  {
   "cell_type": "code",
   "execution_count": 2,
   "metadata": {},
   "outputs": [
    {
     "name": "stdout",
     "output_type": "stream",
     "text": [
      "1\n"
     ]
    }
   ],
   "source": [
    "from random import randrange\n",
    "\n",
    "print(randrange(20))"
   ]
  },
  {
   "cell_type": "raw",
   "metadata": {},
   "source": [
    "A). 15\n",
    "B). 12\n",
    "C). 4\n",
    "D). We could not Guess it."
   ]
  },
  {
   "cell_type": "markdown",
   "metadata": {},
   "source": [
    "### **Guess What Color Print?**"
   ]
  },
  {
   "cell_type": "code",
   "execution_count": null,
   "metadata": {},
   "outputs": [],
   "source": [
    "from random import choice\n",
    "\n",
    "colors = ['Red', 'Rose', 'Black', 'Gold']\n",
    "choice(colors)"
   ]
  },
  {
   "cell_type": "raw",
   "metadata": {},
   "source": [
    "1. Red\n",
    "2. Rose\n",
    "3. Black\n",
    "4. Not Guess"
   ]
  },
  {
   "cell_type": "markdown",
   "metadata": {},
   "source": [
    "### **How many elements in this list?**"
   ]
  },
  {
   "cell_type": "code",
   "execution_count": 1,
   "metadata": {},
   "outputs": [
    {
     "data": {
      "text/plain": [
       "1"
      ]
     },
     "execution_count": 1,
     "metadata": {},
     "output_type": "execute_result"
    }
   ],
   "source": [
    "lst = ['SN;\"Name\";\"Quotes\"']\n",
    "print(len(lst))"
   ]
  },
  {
   "cell_type": "markdown",
   "metadata": {},
   "source": [
    "### **Python Quiz**\n",
    "#### **What is output?**"
   ]
  },
  {
   "cell_type": "code",
   "execution_count": null,
   "metadata": {},
   "outputs": [],
   "source": [
    "lang = 'Python'\n",
    "lang[-2:-4]"
   ]
  },
  {
   "cell_type": "markdown",
   "metadata": {},
   "source": [
    "**1. yth**\n",
    "\n",
    "**2. tho**\n",
    "\n",
    "**3. Blank Output**\n",
    "\n",
    "**4. Error**"
   ]
  },
  {
   "cell_type": "markdown",
   "metadata": {},
   "source": [
    "### **Python Quiz**\n",
    "#### **What is output?**"
   ]
  },
  {
   "cell_type": "code",
   "execution_count": null,
   "metadata": {},
   "outputs": [],
   "source": [
    "L = []\n",
    "all(L)"
   ]
  },
  {
   "cell_type": "markdown",
   "metadata": {},
   "source": [
    "<h4><span style=\"padding-left:10px;color:black;\"><b>1. True</b></span></h4>\n",
    "<h4><span style=\"padding-left:10px;color:black;\"><b>2. False</b></span></h4>\n",
    "<h4><span style=\"padding-left:10px;color:black;\"><b>3. Error</b></span></h4>\n",
    "<h4><span style=\"padding-left:10px;color:black;\"><b>4. None</b></span></h4>"
   ]
  },
  {
   "cell_type": "code",
   "execution_count": null,
   "metadata": {},
   "outputs": [],
   "source": []
  }
 ],
 "metadata": {
  "kernelspec": {
   "display_name": "Python 3",
   "language": "python",
   "name": "python3"
  },
  "language_info": {
   "codemirror_mode": {
    "name": "ipython",
    "version": 3
   },
   "file_extension": ".py",
   "mimetype": "text/x-python",
   "name": "python",
   "nbconvert_exporter": "python",
   "pygments_lexer": "ipython3",
   "version": "3.6.9"
  }
 },
 "nbformat": 4,
 "nbformat_minor": 2
}
