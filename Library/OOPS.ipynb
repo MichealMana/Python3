{
 "cells": [
  {
   "cell_type": "markdown",
   "metadata": {},
   "source": [
    "<h3 align=\"center\"><b>Object Oriented Programming Systems</h3>"
   ]
  },
  {
   "cell_type": "markdown",
   "metadata": {},
   "source": [
    "&nbsp;"
   ]
  },
  {
   "cell_type": "markdown",
   "metadata": {},
   "source": [
    "### **Direct Call Class Without Creating Object**"
   ]
  },
  {
   "cell_type": "code",
   "execution_count": 10,
   "metadata": {},
   "outputs": [
    {
     "name": "stdout",
     "output_type": "stream",
     "text": [
      "Priya\n"
     ]
    }
   ],
   "source": [
    "class A:\n",
    "    name = 'Priya'\n",
    "    \n",
    "#Call class directly to access attribute.\n",
    "print(A.name)  "
   ]
  },
  {
   "cell_type": "markdown",
   "metadata": {},
   "source": [
    "### **Create Object Without Assign To Any Identifier And Call Attributes Of Class**"
   ]
  },
  {
   "cell_type": "code",
   "execution_count": 11,
   "metadata": {},
   "outputs": [
    {
     "name": "stdout",
     "output_type": "stream",
     "text": [
      "Priya\n"
     ]
    }
   ],
   "source": [
    "class A:\n",
    "    name = 'Priya'\n",
    "    \n",
    "#Create object directly without any object name\n",
    "print(A().name) "
   ]
  },
  {
   "cell_type": "markdown",
   "metadata": {},
   "source": [
    "### **How Initialization Works In OOPS?**\n",
    "How Initialization Data Pass To Class Function In OOPS?\n",
    "<br></br>\n",
    "\n",
    "#### **What is Initialization?**\n",
    "<p><span style ='color:red';><b>Class functions that begins with double underscore (__) are called Initialization</b></span></p>\n",
    "\n",
    "* **Initialization (or initialisation) is the assignment of an initial value for a object.**\n",
    "\n",
    "\n",
    "* **This Initialization function called whenever a new object creation.**\n",
    "\n",
    "\n",
    "* **This type of function is also called constructors in Object Oriented Programming (OOP). We <br></br>normally use it to initialize all the variables.**"
   ]
  },
  {
   "cell_type": "code",
   "execution_count": 8,
   "metadata": {},
   "outputs": [
    {
     "name": "stdout",
     "output_type": "stream",
     "text": [
      "Manavalan Micheal\n",
      "Celin Micheal\n"
     ]
    }
   ],
   "source": [
    "class FatherName:\n",
    "    def __init__(self, fname):\n",
    "        self.fname = fname\n",
    "        \n",
    "    def babyname(self, bname):\n",
    "        print(bname, self.fname)\n",
    "        \n",
    "son = FatherName('Micheal')\n",
    "daughter = FatherName('Micheal')\n",
    "son.babyname('Manavalan')\n",
    "daughter.babyname('Celin')"
   ]
  },
  {
   "cell_type": "markdown",
   "metadata": {},
   "source": [
    "### **With and Without initialization**"
   ]
  },
  {
   "cell_type": "markdown",
   "metadata": {},
   "source": [
    "#### **Without initialization**"
   ]
  },
  {
   "cell_type": "code",
   "execution_count": 4,
   "metadata": {},
   "outputs": [
    {
     "name": "stdout",
     "output_type": "stream",
     "text": [
      "Hi Micheal\n"
     ]
    }
   ],
   "source": [
    "class display:\n",
    "    def hello(self, name):\n",
    "        print('Hi', name)\n",
    "        \n",
    "d1 = display()\n",
    "d1.hello('Micheal')"
   ]
  },
  {
   "cell_type": "markdown",
   "metadata": {},
   "source": [
    "#### **With initialization**"
   ]
  },
  {
   "cell_type": "code",
   "execution_count": 5,
   "metadata": {},
   "outputs": [
    {
     "name": "stdout",
     "output_type": "stream",
     "text": [
      "Hi Micheal\n"
     ]
    }
   ],
   "source": [
    "class display:\n",
    "    def __init__(self, name):\n",
    "        self.name = name\n",
    "    \n",
    "    def hello(self):\n",
    "        print('Hi', self.name)\n",
    "        \n",
    "d1 = display('Micheal')\n",
    "d1.hello()"
   ]
  },
  {
   "cell_type": "markdown",
   "metadata": {},
   "source": [
    "### **Inheritance**"
   ]
  },
  {
   "cell_type": "code",
   "execution_count": 7,
   "metadata": {},
   "outputs": [
    {
     "name": "stdout",
     "output_type": "stream",
     "text": [
      "Good Morning My Son.\n",
      "Good Morning Dad.\n"
     ]
    }
   ],
   "source": [
    "class Father:\n",
    "    def test1(self):\n",
    "        return 'Good Morning My Son.'\n",
    "    \n",
    "class Son(Father):\n",
    "    def test2(self):\n",
    "        return 'Good Morning Dad.'\n",
    "\n",
    "hello = Son()\n",
    "print(hello.test1())\n",
    "print(hello.test2())"
   ]
  },
  {
   "cell_type": "code",
   "execution_count": null,
   "metadata": {},
   "outputs": [],
   "source": []
  }
 ],
 "metadata": {
  "kernelspec": {
   "display_name": "Python 3",
   "language": "python",
   "name": "python3"
  },
  "language_info": {
   "codemirror_mode": {
    "name": "ipython",
    "version": 3
   },
   "file_extension": ".py",
   "mimetype": "text/x-python",
   "name": "python",
   "nbconvert_exporter": "python",
   "pygments_lexer": "ipython3",
   "version": "3.6.9"
  }
 },
 "nbformat": 4,
 "nbformat_minor": 2
}
