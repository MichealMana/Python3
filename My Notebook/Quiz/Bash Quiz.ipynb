{
 "cells": [
  {
   "cell_type": "markdown",
   "metadata": {},
   "source": [
    "### **Bash Quiz**\n",
    "#### **What is output?**"
   ]
  },
  {
   "cell_type": "code",
   "execution_count": null,
   "metadata": {},
   "outputs": [],
   "source": [
    "%%bash\n",
    "\n",
    "color=(Red Green Blue)\n",
    "echo ${color[2]}"
   ]
  },
  {
   "cell_type": "markdown",
   "metadata": {},
   "source": [
    "<h4><span style=\"padding-left:10px;color:black;\"><b>1. Red</b></span></h4>\n",
    "<h4><span style=\"padding-left:10px;color:black;\"><b>2. Green</b></span></h4>\n",
    "<h4><span style=\"padding-left:10px;color:black;\"><b>3. Blue</b></span></h4>\n",
    "<h4><span style=\"padding-left:10px;color:black;\"><b>4. Red Green Blue</b></span></h4>"
   ]
  },
  {
   "cell_type": "markdown",
   "metadata": {},
   "source": [
    "### **Bash Quiz**\n",
    "#### **What is output?**"
   ]
  },
  {
   "cell_type": "code",
   "execution_count": null,
   "metadata": {},
   "outputs": [],
   "source": [
    "%%bash\n",
    "\n",
    "echo \"Michael\" | sed -r 's/(.*)(.$)/\\U\\2/'"
   ]
  },
  {
   "cell_type": "markdown",
   "metadata": {},
   "source": [
    "<h4><span style=\"padding-left:10px;color:black;\"><b>1. Micheal</b></span></h4>\n",
    "<h4><span style=\"padding-left:10px;color:black;\"><b>2. L</b></span></h4>\n",
    "<h4><span style=\"padding-left:10px;color:black;\"><b>3. Blank Output</b></span></h4>\n",
    "<h4><span style=\"padding-left:10px;color:black;\"><b>4. Error</b></span></h4>"
   ]
  },
  {
   "cell_type": "markdown",
   "metadata": {},
   "source": [
    "### **Bash Quiz**\n",
    "#### **What is output?**"
   ]
  },
  {
   "cell_type": "code",
   "execution_count": null,
   "metadata": {},
   "outputs": [],
   "source": [
    "%%bash\n",
    "\n",
    "date -d \"-1 day\""
   ]
  },
  {
   "cell_type": "markdown",
   "metadata": {},
   "source": [
    "<h4><span style=\"padding-left:10px;color:black;\"><b>1. Now</b></span></h4>\n",
    "<h4><span style=\"padding-left:10px;color:black;\"><b>2. Today</b></span></h4>\n",
    "<h4><span style=\"padding-left:10px;color:black;\"><b>3. Yesterday</b></span></h4>\n",
    "<h4><span style=\"padding-left:10px;color:black;\"><b>4. Date Format Error</b></span></h4>"
   ]
  },
  {
   "cell_type": "markdown",
   "metadata": {},
   "source": [
    "### **Bash Quiz**\n",
    "#### **What is output?**"
   ]
  },
  {
   "cell_type": "code",
   "execution_count": null,
   "metadata": {},
   "outputs": [],
   "source": [
    "%%bash\n",
    "\n",
    "for i in {A..F}ox\n",
    "do\n",
    ":\n",
    "done\n",
    "echo $i"
   ]
  },
  {
   "cell_type": "markdown",
   "metadata": {},
   "source": [
    "<h4><span style=\"padding-left:10px;color:black;\"><b>1. F</b></span></h4>\n",
    "<h4><span style=\"padding-left:10px;color:black;\"><b>2. A</b></span></h4>\n",
    "<h4><span style=\"padding-left:10px;color:black;\"><b>3. Blank Output</b></span></h4>\n",
    "<h4><span style=\"padding-left:10px;color:black;\"><b>4. Fox</b></span></h4>"
   ]
  },
  {
   "cell_type": "code",
   "execution_count": 1,
   "metadata": {},
   "outputs": [
    {
     "name": "stdout",
     "output_type": "stream",
     "text": [
      "100\n"
     ]
    }
   ],
   "source": [
    "%%bash\n",
    "\n",
    "printf \"%d\\n\" 0x64"
   ]
  },
  {
   "cell_type": "code",
   "execution_count": 7,
   "metadata": {},
   "outputs": [
    {
     "name": "stdout",
     "output_type": "stream",
     "text": [
      "Mana\n"
     ]
    }
   ],
   "source": [
    "%%bash\n",
    "\n",
    "echo \"Manavalan\" | sed -r \"s/(^.{4}).*(.$)/\\1/\""
   ]
  },
  {
   "cell_type": "code",
   "execution_count": 1,
   "metadata": {},
   "outputs": [
    {
     "name": "stdout",
     "output_type": "stream",
     "text": [
      "2.5"
     ]
    }
   ],
   "source": [
    "%%bash\n",
    "\n",
    "printf \"%.1f\" \"2.5387\""
   ]
  },
  {
   "cell_type": "code",
   "execution_count": null,
   "metadata": {},
   "outputs": [],
   "source": []
  }
 ],
 "metadata": {
  "kernelspec": {
   "display_name": "Python 3",
   "language": "python",
   "name": "python3"
  },
  "language_info": {
   "codemirror_mode": {
    "name": "ipython",
    "version": 3
   },
   "file_extension": ".py",
   "mimetype": "text/x-python",
   "name": "python",
   "nbconvert_exporter": "python",
   "pygments_lexer": "ipython3",
   "version": "3.6.9"
  }
 },
 "nbformat": 4,
 "nbformat_minor": 2
}
