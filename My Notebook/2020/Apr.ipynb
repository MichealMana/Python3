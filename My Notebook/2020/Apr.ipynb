{
 "cells": [
  {
   "cell_type": "markdown",
   "metadata": {},
   "source": [
    "* [**How to filter except some text in a file?**](#How-to-filter-except-some-text-in-a-file?)\n",
    "* [**How to list nologin user?**](#How-to-list-nologin-user?)\n",
    "* [**How to insert text after a specific string in a file?**](#How-to-insert-text-after-a-specific-string-in-a-file?)\n",
    "* [**Draw Truth Table By Python**](#Draw-Truth-Table-By-Python)\n",
    "* [**How To Check Whether keyword Or Not?**](#How-To-Check-Whether-keyword-Or-Not?)"
   ]
  },
  {
   "cell_type": "markdown",
   "metadata": {},
   "source": [
    "### **How to filter except some text in a file?**\n",
    "Here i filter line text except nologin"
   ]
  },
  {
   "cell_type": "code",
   "execution_count": 67,
   "metadata": {},
   "outputs": [
    {
     "name": "stdout",
     "output_type": "stream",
     "text": [
      "geoclue:x:121:129::/var/geoclue:/usr/sbin/nologin\r\n",
      "mana:x:1000:1000:mana,,,:/home/mana:/bin/bash\r\n",
      "sshd:x:122:65534::/run/sshd:/usr/sbin/nologin\r\n",
      "\r\n"
     ]
    }
   ],
   "source": [
    "!cat ~/user.txt"
   ]
  },
  {
   "cell_type": "code",
   "execution_count": 68,
   "metadata": {},
   "outputs": [
    {
     "name": "stdout",
     "output_type": "stream",
     "text": [
      "mana:x:1000:1000:mana,,,:/home/mana:/bin/bash\n",
      "\n"
     ]
    }
   ],
   "source": [
    "%%bash\n",
    "\n",
    "grep -P '^(?!.*nologin$)' ~/user.txt"
   ]
  },
  {
   "cell_type": "code",
   "execution_count": 70,
   "metadata": {},
   "outputs": [
    {
     "name": "stdout",
     "output_type": "stream",
     "text": [
      "mana:x:1000:1000:mana,,,:/home/mana:/bin/bash \n"
     ]
    }
   ],
   "source": [
    "%%python3\n",
    "\n",
    "from pathlib import Path\n",
    "from re import search\n",
    "\n",
    "fr = Path('/home/mana/user.txt').read_text().splitlines()\n",
    "print(*[i for i in fr if search(r'^(?!.*nologin$)', i)])"
   ]
  },
  {
   "cell_type": "markdown",
   "metadata": {},
   "source": [
    "### **How to list nologin user?**"
   ]
  },
  {
   "cell_type": "code",
   "execution_count": null,
   "metadata": {},
   "outputs": [],
   "source": [
    "%%bash\n",
    "\n",
    "awk -F \":\" '/nologin$/{print $1}' <<< $(getent passwd)"
   ]
  },
  {
   "cell_type": "code",
   "execution_count": 26,
   "metadata": {},
   "outputs": [
    {
     "name": "stdout",
     "output_type": "stream",
     "text": [
      "daemon           bin              sys              games            man              \n",
      "lp               mail             news             uucp             proxy            \n",
      "www-data         backup           list             irc              gnats            \n",
      "nobody           systemd-network  systemd-resolve  syslog           messagebus       \n",
      "_apt             uuidd            avahi-autoipd    usbmux           dnsmasq          \n",
      "rtkit            cups-pk-helper   kernoops         saned            pulse            \n",
      "nm-openvpn       avahi            colord           geoclue          sshd             \n"
     ]
    }
   ],
   "source": [
    "%%python3\n",
    "\n",
    "import pwd\n",
    "\n",
    "nologin_user = [i.pw_name for i in pwd.getpwall() \n",
    "                if i.pw_shell.endswith('nologin')]\n",
    "fmt = '{:17s}'*5\n",
    "\n",
    "for user in zip(*[iter(nologin_user)] *5):\n",
    "    print(fmt.format(*user))\n"
   ]
  },
  {
   "cell_type": "markdown",
   "metadata": {},
   "source": [
    "### **How to insert text after a specific string in a file?**"
   ]
  },
  {
   "cell_type": "code",
   "execution_count": 7,
   "metadata": {},
   "outputs": [
    {
     "name": "stdout",
     "output_type": "stream",
     "text": [
      "Apple.\n",
      "Watermelon.\n",
      "Orange.\n",
      "Bannana\n",
      "Mango\n",
      "Strawberry.\n",
      "Grape.\n"
     ]
    }
   ],
   "source": [
    "%%bash\n",
    "\n",
    "sed  '/Banna/a Mango' /home/mana/Work/fruit.txt"
   ]
  },
  {
   "cell_type": "code",
   "execution_count": 12,
   "metadata": {},
   "outputs": [
    {
     "name": "stdout",
     "output_type": "stream",
     "text": [
      "Apple.\n",
      "Watermelon.\n",
      "Orange.\n",
      "Bannana\n",
      "Mango\n",
      "Strawberry.\n",
      "Grape.\n"
     ]
    }
   ],
   "source": [
    "%%python3\n",
    "\n",
    "from pathlib import Path\n",
    "\n",
    "fr = Path('/home/mana/Work/fruit.txt').read_text().splitlines()\n",
    "for i,j in enumerate(fr):\n",
    "    if 'Banna' in j:\n",
    "        fr.insert(i+1, 'Mango') \n",
    "        \n",
    "print(*fr, sep = '\\n')"
   ]
  },
  {
   "cell_type": "markdown",
   "metadata": {},
   "source": [
    "### **Draw Truth Table By Python**"
   ]
  },
  {
   "cell_type": "code",
   "execution_count": 22,
   "metadata": {},
   "outputs": [
    {
     "name": "stdout",
     "output_type": "stream",
     "text": [
      "AND:\n",
      "True and True = True\n",
      "True and False = False\n",
      "False and True = False\n",
      "False and False = False\n",
      "*************************\n",
      "OR:\n",
      "True or True = True\n",
      "True or False = True\n",
      "False or True = True\n",
      "False or False = False\n",
      "*************************\n",
      "NOT:\n",
      "Not True = False\n",
      "Not False = True\n"
     ]
    }
   ],
   "source": [
    "a = [True, False]\n",
    "b = [True, False]\n",
    "\n",
    "print(\"AND:\")\n",
    "for i in a:\n",
    "    for j in b:\n",
    "        print(i,'and', j,'=',i and j)\n",
    "print('*'*25)\n",
    "print(\"OR:\")\n",
    "for i in a:\n",
    "    for j in b:\n",
    "        print(i,'or',j,'=',i or j)\n",
    "print('*'*25)\n",
    "print(\"NOT:\")\n",
    "for i in a:\n",
    "    print('Not',i,'=',not i)"
   ]
  },
  {
   "cell_type": "markdown",
   "metadata": {},
   "source": [
    "### **How To Check Whether keyword Or Not?**"
   ]
  },
  {
   "cell_type": "code",
   "execution_count": 26,
   "metadata": {},
   "outputs": [
    {
     "name": "stdout",
     "output_type": "stream",
     "text": [
      "True\n",
      "True\n",
      "False\n"
     ]
    }
   ],
   "source": [
    "import keyword\n",
    "\n",
    "print(keyword.iskeyword('for'))\n",
    "print(keyword.iskeyword('in'))\n",
    "print(keyword.iskeyword('close'))"
   ]
  },
  {
   "cell_type": "markdown",
   "metadata": {},
   "source": [
    "### **How To Combine 2 Files Into 1 File With 2 Columns?**"
   ]
  },
  {
   "cell_type": "code",
   "execution_count": 33,
   "metadata": {},
   "outputs": [
    {
     "name": "stdout",
     "output_type": "stream",
     "text": [
      "Manavalan\r\n",
      "Saravanan\r\n",
      "Rani\r\n"
     ]
    }
   ],
   "source": [
    "!cat /home/mana/Work/name.txt"
   ]
  },
  {
   "cell_type": "code",
   "execution_count": 50,
   "metadata": {},
   "outputs": [
    {
     "name": "stdout",
     "output_type": "stream",
     "text": [
      "32\r\n",
      "18\r\n",
      "21\r\n"
     ]
    }
   ],
   "source": [
    "!cat /home/mana/Work/age.txt"
   ]
  },
  {
   "cell_type": "code",
   "execution_count": 46,
   "metadata": {},
   "outputs": [
    {
     "name": "stdout",
     "output_type": "stream",
     "text": [
      "Manavalan  32\n",
      "Saravanan  18\n",
      "Rani       21\n"
     ]
    }
   ],
   "source": [
    "%%bash\n",
    "\n",
    "cd /home/mana/Work\n",
    "paste name.txt age.txt | column -t"
   ]
  },
  {
   "cell_type": "code",
   "execution_count": 47,
   "metadata": {},
   "outputs": [
    {
     "name": "stdout",
     "output_type": "stream",
     "text": [
      "Manavalan   32\n",
      "Saravanan   18\n",
      "Rani        21\n"
     ]
    }
   ],
   "source": [
    "%%python3\n",
    "\n",
    "from pathlib import Path\n",
    "\n",
    "dir_path = Path('/home/mana/Work')\n",
    "name = (dir_path/'name.txt').read_text().splitlines()\n",
    "age = (dir_path/'age.txt').read_text().splitlines()\n",
    "for i,j in zip(name,age):\n",
    "    print(f'{i:12}{j}')"
   ]
  },
  {
   "cell_type": "markdown",
   "metadata": {},
   "source": [
    "### **How to merge two files into single file?**"
   ]
  },
  {
   "cell_type": "code",
   "execution_count": 48,
   "metadata": {},
   "outputs": [
    {
     "name": "stdout",
     "output_type": "stream",
     "text": [
      "Manavalan\r\n",
      "Saravanan\r\n",
      "Rani\r\n"
     ]
    }
   ],
   "source": [
    "!cat /home/mana/Work/name.txt"
   ]
  },
  {
   "cell_type": "code",
   "execution_count": 63,
   "metadata": {},
   "outputs": [
    {
     "name": "stdout",
     "output_type": "stream",
     "text": [
      "32\r\n",
      "18\r\n",
      "21\r\n"
     ]
    }
   ],
   "source": [
    "!cat /home/mana/Work/age.txt"
   ]
  },
  {
   "cell_type": "code",
   "execution_count": 55,
   "metadata": {},
   "outputs": [],
   "source": [
    "%%bash\n",
    "\n",
    "cat /home/mana/Work/{name.txt,age.txt} > out.txt"
   ]
  },
  {
   "cell_type": "code",
   "execution_count": 60,
   "metadata": {},
   "outputs": [],
   "source": [
    "%%python3\n",
    "\n",
    "from pathlib import Path\n",
    "\n",
    "dir_path = Path('/home/mana/Work')\n",
    "name = (dir_path/'name.txt').read_text().splitlines()\n",
    "age = (dir_path/'age.txt').read_text().splitlines()\n",
    "print(*(name+age), sep = '\\n', \n",
    "      file = open(dir_path/'out.txt', 'w'))"
   ]
  },
  {
   "cell_type": "code",
   "execution_count": 61,
   "metadata": {},
   "outputs": [
    {
     "name": "stdout",
     "output_type": "stream",
     "text": [
      "Manavalan\r\n",
      "Saravanan\r\n",
      "Rani\r\n",
      "32\r\n",
      "18\r\n",
      "21\r\n"
     ]
    }
   ],
   "source": [
    "!cat /home/mana/Work/out.txt"
   ]
  },
  {
   "cell_type": "markdown",
   "metadata": {},
   "source": [
    "### **How to count occurrence of particular word in a file?**"
   ]
  },
  {
   "cell_type": "code",
   "execution_count": 29,
   "metadata": {},
   "outputs": [
    {
     "name": "stdout",
     "output_type": "stream",
     "text": [
      "127.0.0.1\tlocalhost\r\n",
      "127.0.1.1\tjoe\r\n",
      "\r\n",
      "# The following lines are desirable for IPv6 capable hosts\r\n",
      "::1     ip6-localhost ip6-loopback\r\n",
      "fe00::0 ip6-localnet\r\n",
      "ff00::0 ip6-mcastprefix\r\n",
      "ff02::1 ip6-allnodes\r\n",
      "ff02::2 ip6-allrouters\r\n"
     ]
    }
   ],
   "source": [
    "!cat /etc/hosts"
   ]
  },
  {
   "cell_type": "code",
   "execution_count": 30,
   "metadata": {},
   "outputs": [
    {
     "name": "stdout",
     "output_type": "stream",
     "text": [
      "2\n"
     ]
    }
   ],
   "source": [
    "%%bash\n",
    "\n",
    "grep -ic \"localhost\" /etc/hosts"
   ]
  },
  {
   "cell_type": "code",
   "execution_count": 32,
   "metadata": {},
   "outputs": [
    {
     "name": "stdout",
     "output_type": "stream",
     "text": [
      "2\n"
     ]
    }
   ],
   "source": [
    "%%bash\n",
    "\n",
    "sed -n '/localhost/p' /etc/hosts | wc -l"
   ]
  },
  {
   "cell_type": "code",
   "execution_count": 38,
   "metadata": {},
   "outputs": [
    {
     "name": "stdout",
     "output_type": "stream",
     "text": [
      "2\n"
     ]
    }
   ],
   "source": [
    "%%bash\n",
    "awk '/localhost/{count++} END{print count}' /etc/hosts"
   ]
  },
  {
   "cell_type": "code",
   "execution_count": 37,
   "metadata": {},
   "outputs": [
    {
     "name": "stdout",
     "output_type": "stream",
     "text": [
      "2\n"
     ]
    }
   ],
   "source": [
    "%%python3\n",
    "\n",
    "from re import findall\n",
    "\n",
    "print(len(findall(r'localhost', open('/etc/hosts').read())))"
   ]
  },
  {
   "cell_type": "code",
   "execution_count": 52,
   "metadata": {},
   "outputs": [
    {
     "name": "stdout",
     "output_type": "stream",
     "text": [
      "2\n"
     ]
    }
   ],
   "source": [
    "%%bash\n",
    "\n",
    "echo \"Unix is unix not Linux\" | grep -iwo \"unix\" | wc -l"
   ]
  },
  {
   "cell_type": "markdown",
   "metadata": {},
   "source": [
    "### **How to read specific line in a file?**\n",
    "Here, I read 2nd line."
   ]
  },
  {
   "cell_type": "code",
   "execution_count": 55,
   "metadata": {},
   "outputs": [
    {
     "name": "stdout",
     "output_type": "stream",
     "text": [
      "Apple.\r\n",
      "Watermelon.\r\n",
      "Orange.\r\n",
      "Strawberry.\r\n",
      "Grape.\r\n"
     ]
    }
   ],
   "source": [
    "!cat /home/mana/Work/fruit.txt"
   ]
  },
  {
   "cell_type": "code",
   "execution_count": 59,
   "metadata": {},
   "outputs": [
    {
     "name": "stdout",
     "output_type": "stream",
     "text": [
      "Watermelon.\n"
     ]
    }
   ],
   "source": [
    "%%bash\n",
    "\n",
    "sed -n \"2p\" /home/mana/Work/fruit.txt"
   ]
  },
  {
   "cell_type": "code",
   "execution_count": 60,
   "metadata": {},
   "outputs": [
    {
     "name": "stdout",
     "output_type": "stream",
     "text": [
      "Watermelon.\n"
     ]
    }
   ],
   "source": [
    "%%bash\n",
    "\n",
    "awk 'NR == 2 {print}' /home/mana/Work/fruit.txt"
   ]
  },
  {
   "cell_type": "code",
   "execution_count": 58,
   "metadata": {},
   "outputs": [
    {
     "name": "stdout",
     "output_type": "stream",
     "text": [
      "Watermelon.\n"
     ]
    }
   ],
   "source": [
    "%%python3\n",
    "\n",
    "from pathlib import Path\n",
    "\n",
    "dpath = Path('/home/mana/Work/')\n",
    "print((dpath/'fruit.txt').read_text().splitlines()[1])"
   ]
  },
  {
   "cell_type": "markdown",
   "metadata": {},
   "source": [
    "### **Maximum element of the list**"
   ]
  },
  {
   "cell_type": "code",
   "execution_count": 65,
   "metadata": {},
   "outputs": [
    {
     "data": {
      "text/plain": [
       "6"
      ]
     },
     "execution_count": 65,
     "metadata": {},
     "output_type": "execute_result"
    }
   ],
   "source": [
    "lst = [ 1 , 3, 5, 6, 2 ]\n",
    "max(lst)"
   ]
  },
  {
   "cell_type": "code",
   "execution_count": 64,
   "metadata": {},
   "outputs": [
    {
     "data": {
      "text/plain": [
       "6"
      ]
     },
     "execution_count": 64,
     "metadata": {},
     "output_type": "execute_result"
    }
   ],
   "source": [
    "from functools import reduce\n",
    "\n",
    "lst = [ 1 , 3, 5, 6, 2 ]\n",
    "reduce(lambda a, b: a if a > b else b, lst)"
   ]
  },
  {
   "cell_type": "code",
   "execution_count": 66,
   "metadata": {},
   "outputs": [
    {
     "data": {
      "text/plain": [
       "6"
      ]
     },
     "execution_count": 66,
     "metadata": {},
     "output_type": "execute_result"
    }
   ],
   "source": [
    "lst = [ 1 , 3, 5, 6, 2 ]\n",
    "m = lst[0]\n",
    "\n",
    "for i in lst:\n",
    "    if i > m:\n",
    "        m = i\n",
    "m"
   ]
  },
  {
   "cell_type": "markdown",
   "metadata": {},
   "source": [
    "### **How to crack three digit number?**"
   ]
  },
  {
   "cell_type": "code",
   "execution_count": 86,
   "metadata": {},
   "outputs": [
    {
     "name": "stdout",
     "output_type": "stream",
     "text": [
      "139 Number Matched.\n"
     ]
    }
   ],
   "source": [
    "from itertools import product\n",
    "from string import digits\n",
    "\n",
    "secret_number = 139\n",
    "\n",
    "for i in product(digits, repeat = 3):\n",
    "    i = ''.join(i)\n",
    "    if int(i) == secret_number:\n",
    "        print(i, 'Number Matched.')\n",
    "        break    "
   ]
  },
  {
   "cell_type": "markdown",
   "metadata": {},
   "source": [
    "#### **How to generate 0 until 999 using functools and  string module?**"
   ]
  },
  {
   "cell_type": "code",
   "execution_count": 85,
   "metadata": {},
   "outputs": [
    {
     "name": "stdout",
     "output_type": "stream",
     "text": [
      "000\r",
      "001\r",
      "002\r",
      "003\r",
      "004\r",
      "005\r",
      "006\r",
      "007\r",
      "008\r",
      "009\r",
      "010\r",
      "011\r",
      "012\r",
      "013\r",
      "014\r",
      "015\r",
      "016\r",
      "017\r",
      "018\r",
      "019\r",
      "020\r",
      "021\r",
      "022\r",
      "023\r",
      "024\r",
      "025\r",
      "026\r",
      "027\r",
      "028\r",
      "029\r",
      "030\r",
      "031\r",
      "032\r",
      "033\r",
      "034\r",
      "035\r",
      "036\r",
      "037\r",
      "038\r",
      "039\r",
      "040\r",
      "041\r",
      "042\r",
      "043\r",
      "044\r",
      "045\r",
      "046\r",
      "047\r",
      "048\r",
      "049\r",
      "050\r",
      "051\r",
      "052\r",
      "053\r",
      "054\r",
      "055\r",
      "056\r",
      "057\r",
      "058\r",
      "059\r",
      "060\r",
      "061\r",
      "062\r",
      "063\r",
      "064\r",
      "065\r",
      "066\r",
      "067\r",
      "068\r",
      "069\r",
      "070\r",
      "071\r",
      "072\r",
      "073\r",
      "074\r",
      "075\r",
      "076\r",
      "077\r",
      "078\r",
      "079\r",
      "080\r",
      "081\r",
      "082\r",
      "083\r",
      "084\r",
      "085\r",
      "086\r",
      "087\r",
      "088\r",
      "089\r",
      "090\r",
      "091\r",
      "092\r",
      "093\r",
      "094\r",
      "095\r",
      "096\r",
      "097\r",
      "098\r",
      "099\r",
      "100\r",
      "101\r",
      "102\r",
      "103\r",
      "104\r",
      "105\r",
      "106\r",
      "107\r",
      "108\r",
      "109\r",
      "110\r",
      "111\r",
      "112\r",
      "113\r",
      "114\r",
      "115\r",
      "116\r",
      "117\r",
      "118\r",
      "119\r",
      "120\r",
      "121\r",
      "122\r",
      "123\r",
      "124\r",
      "125\r",
      "126\r",
      "127\r",
      "128\r",
      "129\r",
      "130\r",
      "131\r",
      "132\r",
      "133\r",
      "134\r",
      "135\r",
      "136\r",
      "137\r",
      "138\r",
      "139\r",
      "140\r",
      "141\r",
      "142\r",
      "143\r",
      "144\r",
      "145\r",
      "146\r",
      "147\r",
      "148\r",
      "149\r",
      "150\r",
      "151\r",
      "152\r",
      "153\r",
      "154\r",
      "155\r",
      "156\r",
      "157\r",
      "158\r",
      "159\r",
      "160\r",
      "161\r",
      "162\r",
      "163\r",
      "164\r",
      "165\r",
      "166\r",
      "167\r",
      "168\r",
      "169\r",
      "170\r",
      "171\r",
      "172\r",
      "173\r",
      "174\r",
      "175\r",
      "176\r",
      "177\r",
      "178\r",
      "179\r",
      "180\r",
      "181\r",
      "182\r",
      "183\r",
      "184\r",
      "185\r",
      "186\r",
      "187\r",
      "188\r",
      "189\r",
      "190\r",
      "191\r",
      "192\r",
      "193\r",
      "194\r",
      "195\r",
      "196\r",
      "197\r",
      "198\r",
      "199\r",
      "200\r",
      "201\r",
      "202\r",
      "203\r",
      "204\r",
      "205\r",
      "206\r",
      "207\r",
      "208\r",
      "209\r",
      "210\r",
      "211\r",
      "212\r",
      "213\r",
      "214\r",
      "215\r",
      "216\r",
      "217\r",
      "218\r",
      "219\r",
      "220\r",
      "221\r",
      "222\r",
      "223\r",
      "224\r",
      "225\r",
      "226\r",
      "227\r",
      "228\r",
      "229\r",
      "230\r",
      "231\r",
      "232\r",
      "233\r",
      "234\r",
      "235\r",
      "236\r",
      "237\r",
      "238\r",
      "239\r",
      "240\r",
      "241\r",
      "242\r",
      "243\r",
      "244\r",
      "245\r",
      "246\r",
      "247\r",
      "248\r",
      "249\r",
      "250\r",
      "251\r",
      "252\r",
      "253\r",
      "254\r",
      "255\r",
      "256\r",
      "257\r",
      "258\r",
      "259\r",
      "260\r",
      "261\r",
      "262\r",
      "263\r",
      "264\r",
      "265\r",
      "266\r",
      "267\r",
      "268\r",
      "269\r",
      "270\r",
      "271\r",
      "272\r",
      "273\r",
      "274\r",
      "275\r",
      "276\r",
      "277\r",
      "278\r",
      "279\r",
      "280\r",
      "281\r",
      "282\r",
      "283\r",
      "284\r",
      "285\r",
      "286\r",
      "287\r",
      "288\r",
      "289\r",
      "290\r",
      "291\r",
      "292\r",
      "293\r",
      "294\r",
      "295\r",
      "296\r",
      "297\r",
      "298\r",
      "299\r",
      "300\r",
      "301\r",
      "302\r",
      "303\r",
      "304\r",
      "305\r",
      "306\r",
      "307\r",
      "308\r",
      "309\r",
      "310\r",
      "311\r",
      "312\r",
      "313\r",
      "314\r",
      "315\r",
      "316\r",
      "317\r",
      "318\r",
      "319\r",
      "320\r",
      "321\r",
      "322\r",
      "323\r",
      "324\r",
      "325\r",
      "326\r",
      "327\r",
      "328\r",
      "329\r",
      "330\r",
      "331\r",
      "332\r",
      "333\r",
      "334\r",
      "335\r",
      "336\r",
      "337\r",
      "338\r",
      "339\r",
      "340\r",
      "341\r",
      "342\r",
      "343\r",
      "344\r",
      "345\r",
      "346\r",
      "347\r",
      "348\r",
      "349\r",
      "350\r",
      "351\r",
      "352\r",
      "353\r",
      "354\r",
      "355\r",
      "356\r",
      "357\r",
      "358\r",
      "359\r",
      "360\r",
      "361\r",
      "362\r",
      "363\r",
      "364\r",
      "365\r",
      "366\r",
      "367\r",
      "368\r",
      "369\r",
      "370\r",
      "371\r",
      "372\r",
      "373\r",
      "374\r",
      "375\r",
      "376\r",
      "377\r",
      "378\r",
      "379\r",
      "380\r",
      "381\r",
      "382\r",
      "383\r",
      "384\r",
      "385\r",
      "386\r",
      "387\r",
      "388\r",
      "389\r",
      "390\r",
      "391\r",
      "392\r",
      "393\r",
      "394\r",
      "395\r",
      "396\r",
      "397\r",
      "398\r",
      "399\r",
      "400\r",
      "401\r",
      "402\r",
      "403\r",
      "404\r",
      "405\r",
      "406\r",
      "407\r",
      "408\r",
      "409\r",
      "410\r",
      "411\r",
      "412\r",
      "413\r",
      "414\r",
      "415\r",
      "416\r",
      "417\r",
      "418\r",
      "419\r",
      "420\r",
      "421\r",
      "422\r",
      "423\r",
      "424\r",
      "425\r",
      "426\r",
      "427\r",
      "428\r",
      "429\r",
      "430\r",
      "431\r",
      "432\r",
      "433\r",
      "434\r",
      "435\r",
      "436\r",
      "437\r",
      "438\r",
      "439\r",
      "440\r",
      "441\r",
      "442\r",
      "443\r",
      "444\r",
      "445\r",
      "446\r",
      "447\r",
      "448\r",
      "449\r",
      "450\r",
      "451\r",
      "452\r",
      "453\r",
      "454\r",
      "455\r",
      "456\r",
      "457\r",
      "458\r",
      "459\r",
      "460\r",
      "461\r",
      "462\r",
      "463\r",
      "464\r",
      "465\r",
      "466\r",
      "467\r",
      "468\r",
      "469\r",
      "470\r",
      "471\r",
      "472\r",
      "473\r",
      "474\r",
      "475\r",
      "476\r",
      "477\r",
      "478\r",
      "479\r",
      "480\r",
      "481\r",
      "482\r",
      "483\r",
      "484\r",
      "485\r",
      "486\r",
      "487\r",
      "488\r",
      "489\r",
      "490\r",
      "491\r",
      "492\r",
      "493\r",
      "494\r",
      "495\r",
      "496\r",
      "497\r",
      "498\r",
      "499\r",
      "500\r",
      "501\r",
      "502\r",
      "503\r",
      "504\r",
      "505\r",
      "506\r",
      "507\r",
      "508\r",
      "509\r",
      "510\r",
      "511\r",
      "512\r",
      "513\r",
      "514\r",
      "515\r",
      "516\r",
      "517\r",
      "518\r",
      "519\r",
      "520\r",
      "521\r",
      "522\r",
      "523\r",
      "524\r",
      "525\r",
      "526\r",
      "527\r",
      "528\r",
      "529\r",
      "530\r",
      "531\r",
      "532\r",
      "533\r",
      "534\r",
      "535\r",
      "536\r",
      "537\r",
      "538\r",
      "539\r",
      "540\r",
      "541\r",
      "542\r",
      "543\r",
      "544\r",
      "545\r",
      "546\r",
      "547\r",
      "548\r",
      "549\r",
      "550\r",
      "551\r",
      "552\r",
      "553\r",
      "554\r",
      "555\r",
      "556\r",
      "557\r",
      "558\r",
      "559\r",
      "560\r",
      "561\r",
      "562\r",
      "563\r",
      "564\r",
      "565\r",
      "566\r",
      "567\r",
      "568\r",
      "569\r",
      "570\r",
      "571\r",
      "572\r",
      "573\r",
      "574\r",
      "575\r",
      "576\r",
      "577\r",
      "578\r",
      "579\r",
      "580\r",
      "581\r",
      "582\r",
      "583\r",
      "584\r",
      "585\r",
      "586\r",
      "587\r",
      "588\r",
      "589\r",
      "590\r",
      "591\r",
      "592\r",
      "593\r",
      "594\r",
      "595\r",
      "596\r",
      "597\r",
      "598\r",
      "599\r",
      "600\r",
      "601\r",
      "602\r",
      "603\r",
      "604\r",
      "605\r",
      "606\r",
      "607\r",
      "608\r",
      "609\r",
      "610\r",
      "611\r",
      "612\r",
      "613\r",
      "614\r",
      "615\r",
      "616\r",
      "617\r",
      "618\r",
      "619\r",
      "620\r",
      "621\r",
      "622\r",
      "623\r",
      "624\r",
      "625\r",
      "626\r",
      "627\r",
      "628\r",
      "629\r",
      "630\r",
      "631\r",
      "632\r",
      "633\r",
      "634\r",
      "635\r",
      "636\r",
      "637\r",
      "638\r",
      "639\r",
      "640\r",
      "641\r",
      "642\r",
      "643\r",
      "644\r",
      "645\r",
      "646\r",
      "647\r",
      "648\r",
      "649\r",
      "650\r",
      "651\r",
      "652\r",
      "653\r",
      "654\r",
      "655\r",
      "656\r",
      "657\r",
      "658\r",
      "659\r",
      "660\r",
      "661\r",
      "662\r",
      "663\r",
      "664\r",
      "665\r",
      "666\r",
      "667\r",
      "668\r",
      "669\r",
      "670\r",
      "671\r",
      "672\r",
      "673\r",
      "674\r",
      "675\r",
      "676\r",
      "677\r",
      "678\r",
      "679\r",
      "680\r",
      "681\r",
      "682\r",
      "683\r",
      "684\r",
      "685\r",
      "686\r",
      "687\r",
      "688\r",
      "689\r",
      "690\r",
      "691\r",
      "692\r",
      "693\r",
      "694\r",
      "695\r",
      "696\r",
      "697\r",
      "698\r",
      "699\r",
      "700\r",
      "701\r",
      "702\r",
      "703\r",
      "704\r",
      "705\r",
      "706\r",
      "707\r",
      "708\r",
      "709\r",
      "710\r",
      "711\r",
      "712\r",
      "713\r",
      "714\r",
      "715\r",
      "716\r",
      "717\r",
      "718\r",
      "719\r",
      "720\r",
      "721\r",
      "722\r",
      "723\r",
      "724\r",
      "725\r",
      "726\r",
      "727\r",
      "728\r",
      "729\r",
      "730\r",
      "731\r",
      "732\r",
      "733\r",
      "734\r",
      "735\r",
      "736\r",
      "737\r",
      "738\r",
      "739\r",
      "740\r",
      "741\r",
      "742\r",
      "743\r",
      "744\r",
      "745\r",
      "746\r",
      "747\r",
      "748\r",
      "749\r",
      "750\r",
      "751\r",
      "752\r",
      "753\r",
      "754\r",
      "755\r",
      "756\r",
      "757\r",
      "758\r",
      "759\r",
      "760\r",
      "761\r",
      "762\r",
      "763\r",
      "764\r",
      "765\r",
      "766\r",
      "767\r",
      "768\r",
      "769\r",
      "770\r",
      "771\r",
      "772\r",
      "773\r",
      "774\r",
      "775\r",
      "776\r",
      "777\r",
      "778\r",
      "779\r",
      "780\r",
      "781\r",
      "782\r",
      "783\r",
      "784\r",
      "785\r",
      "786\r",
      "787\r",
      "788\r",
      "789\r",
      "790\r",
      "791\r",
      "792\r",
      "793\r",
      "794\r",
      "795\r",
      "796\r",
      "797\r",
      "798\r",
      "799\r",
      "800\r",
      "801\r",
      "802\r",
      "803\r",
      "804\r",
      "805\r",
      "806\r",
      "807\r",
      "808\r",
      "809\r",
      "810\r",
      "811\r",
      "812\r",
      "813\r",
      "814\r",
      "815\r",
      "816\r",
      "817\r",
      "818\r",
      "819\r",
      "820\r",
      "821\r",
      "822\r",
      "823\r",
      "824\r",
      "825\r",
      "826\r",
      "827\r",
      "828\r",
      "829\r",
      "830\r",
      "831\r",
      "832\r",
      "833\r",
      "834\r",
      "835\r",
      "836\r",
      "837\r",
      "838\r",
      "839\r",
      "840\r",
      "841\r",
      "842\r",
      "843\r",
      "844\r",
      "845\r",
      "846\r",
      "847\r",
      "848\r",
      "849\r",
      "850\r",
      "851\r",
      "852\r",
      "853\r",
      "854\r",
      "855\r",
      "856\r",
      "857\r",
      "858\r",
      "859\r",
      "860\r",
      "861\r",
      "862\r",
      "863\r",
      "864\r",
      "865\r",
      "866\r",
      "867\r",
      "868\r",
      "869\r",
      "870\r",
      "871\r",
      "872\r",
      "873\r",
      "874\r",
      "875\r",
      "876\r",
      "877\r",
      "878\r",
      "879\r",
      "880\r",
      "881\r",
      "882\r",
      "883\r",
      "884\r",
      "885\r",
      "886\r",
      "887\r",
      "888\r",
      "889\r",
      "890\r",
      "891\r",
      "892\r",
      "893\r",
      "894\r",
      "895\r",
      "896\r",
      "897\r",
      "898\r",
      "899\r",
      "900\r",
      "901\r",
      "902\r",
      "903\r",
      "904\r",
      "905\r",
      "906\r",
      "907\r",
      "908\r",
      "909\r",
      "910\r",
      "911\r",
      "912\r",
      "913\r",
      "914\r",
      "915\r",
      "916\r",
      "917\r",
      "918\r",
      "919\r",
      "920\r",
      "921\r",
      "922\r",
      "923\r",
      "924\r",
      "925\r",
      "926\r",
      "927\r",
      "928\r",
      "929\r",
      "930\r",
      "931\r",
      "932\r",
      "933\r",
      "934\r",
      "935\r",
      "936\r",
      "937\r",
      "938\r",
      "939\r",
      "940\r",
      "941\r",
      "942\r",
      "943\r",
      "944\r",
      "945\r",
      "946\r",
      "947\r",
      "948\r",
      "949\r",
      "950\r",
      "951\r",
      "952\r",
      "953\r",
      "954\r",
      "955\r",
      "956\r",
      "957\r",
      "958\r",
      "959\r",
      "960\r",
      "961\r",
      "962\r",
      "963\r",
      "964\r",
      "965\r",
      "966\r",
      "967\r",
      "968\r",
      "969\r",
      "970\r",
      "971\r",
      "972\r",
      "973\r",
      "974\r",
      "975\r",
      "976\r",
      "977\r",
      "978\r",
      "979\r",
      "980\r",
      "981\r",
      "982\r",
      "983\r",
      "984\r",
      "985\r",
      "986\r",
      "987\r",
      "988\r",
      "989\r",
      "990\r",
      "991\r",
      "992\r",
      "993\r",
      "994\r",
      "995\r",
      "996\r",
      "997\r",
      "998\r",
      "999\r"
     ]
    }
   ],
   "source": [
    "from itertools import product\n",
    "from string import digits\n",
    "\n",
    "\n",
    "for i in product(digits, repeat = 3):\n",
    "    print(''.join(i), end = '\\r')"
   ]
  },
  {
   "cell_type": "markdown",
   "metadata": {},
   "source": [
    "### **With and Without initialization**"
   ]
  },
  {
   "cell_type": "markdown",
   "metadata": {},
   "source": [
    "#### **With initialization**"
   ]
  },
  {
   "cell_type": "code",
   "execution_count": 93,
   "metadata": {},
   "outputs": [
    {
     "name": "stdout",
     "output_type": "stream",
     "text": [
      "Hi Manavalan\n"
     ]
    }
   ],
   "source": [
    "class display:\n",
    "    def __init__(self, name):\n",
    "        self.name = name\n",
    "    \n",
    "    def hello(self):\n",
    "        print('Hi', self.name)\n",
    "        \n",
    "d1 = display('Manavalan')\n",
    "d1.hello()"
   ]
  },
  {
   "cell_type": "markdown",
   "metadata": {},
   "source": [
    "#### **Without initialization**"
   ]
  },
  {
   "cell_type": "code",
   "execution_count": 92,
   "metadata": {},
   "outputs": [
    {
     "name": "stdout",
     "output_type": "stream",
     "text": [
      "Hi Mana\n"
     ]
    }
   ],
   "source": [
    "class display:\n",
    "    def hello(self, name):\n",
    "        print('Hi', name)\n",
    "        \n",
    "d1 = display()\n",
    "d1.hello('Mana')"
   ]
  },
  {
   "cell_type": "markdown",
   "metadata": {},
   "source": [
    "### **How many words in a line?**"
   ]
  },
  {
   "cell_type": "code",
   "execution_count": 11,
   "metadata": {},
   "outputs": [
    {
     "name": "stdout",
     "output_type": "stream",
     "text": [
      "5\n",
      "5\n"
     ]
    }
   ],
   "source": [
    "%%bash\n",
    "\n",
    "text=\"Linux is Good Operating System.\"\n",
    "echo $text | egrep -o \"\\w+\" | wc -l\n",
    ": OR\n",
    "echo $text | egrep -o \"\\w+\" | awk 'END {print NR}'"
   ]
  },
  {
   "cell_type": "code",
   "execution_count": 10,
   "metadata": {},
   "outputs": [
    {
     "name": "stdout",
     "output_type": "stream",
     "text": [
      "5\n"
     ]
    }
   ],
   "source": [
    "%%bash\n",
    "\n",
    "text=\"Linux is Good Operating System.\"\n",
    "echo $text | awk '{print NF}'"
   ]
  },
  {
   "cell_type": "code",
   "execution_count": 12,
   "metadata": {},
   "outputs": [
    {
     "name": "stdout",
     "output_type": "stream",
     "text": [
      "5\n"
     ]
    }
   ],
   "source": [
    "%%python3\n",
    "\n",
    "text=\"Linux is Good Operating System.\"\n",
    "print(len(text.split()))"
   ]
  },
  {
   "cell_type": "code",
   "execution_count": 32,
   "metadata": {},
   "outputs": [
    {
     "name": "stdout",
     "output_type": "stream",
     "text": [
      "5\n"
     ]
    }
   ],
   "source": [
    "%%python3\n",
    "\n",
    "from re import findall\n",
    "\n",
    "text=\"Linux is Good Operating System.\"\n",
    "print(len(findall(r'\\w+', text)))"
   ]
  },
  {
   "cell_type": "markdown",
   "metadata": {},
   "source": [
    "### **How to count specific word occurrence in a same line?**"
   ]
  },
  {
   "cell_type": "code",
   "execution_count": 41,
   "metadata": {},
   "outputs": [
    {
     "name": "stdout",
     "output_type": "stream",
     "text": [
      "2\n",
      "2\n"
     ]
    }
   ],
   "source": [
    "%%bash\n",
    "\n",
    "text='Unix is unix not Linux.'\n",
    "echo $text | grep -iwo \"unix\" | wc -l\n",
    ": OR\n",
    "echo $text | grep -iwo \"unix\" | awk 'END {print NR}'"
   ]
  },
  {
   "cell_type": "code",
   "execution_count": 3,
   "metadata": {},
   "outputs": [
    {
     "name": "stdout",
     "output_type": "stream",
     "text": [
      "Unix is unix not Linux.\n"
     ]
    }
   ],
   "source": [
    "%%bash\n",
    "\n",
    "text='Unix is unix not Linux.'\n",
    "echo $text | sort -u"
   ]
  },
  {
   "cell_type": "code",
   "execution_count": 38,
   "metadata": {},
   "outputs": [
    {
     "name": "stdout",
     "output_type": "stream",
     "text": [
      "2\n"
     ]
    }
   ],
   "source": [
    "%%python3\n",
    "\n",
    "text='Unix is unix not Linux.'\n",
    "print(len([i for i in text.split() \n",
    "           if i.casefold() == 'unix']))"
   ]
  },
  {
   "cell_type": "code",
   "execution_count": 39,
   "metadata": {},
   "outputs": [
    {
     "name": "stdout",
     "output_type": "stream",
     "text": [
      "2\n"
     ]
    }
   ],
   "source": [
    "%%python3\n",
    "\n",
    "from re import findall, I\n",
    "\n",
    "text='Unix is unix not Linux.'\n",
    "print(len(findall(r'unix', text, I)))"
   ]
  },
  {
   "cell_type": "markdown",
   "metadata": {},
   "source": [
    "### **Check status of services and store into csv file**"
   ]
  },
  {
   "cell_type": "code",
   "execution_count": 69,
   "metadata": {},
   "outputs": [],
   "source": [
    "%%bash\n",
    "\n",
    "systemctl --type=service | sed -n '/service/p' | \\\n",
    "sed -rn 's/(^.*)loaded.*(running|exited|failed)(.*)/\\1, \\2/p'| \\\n",
    "sort -rk3 > ~/Work/status.csv"
   ]
  },
  {
   "cell_type": "code",
   "execution_count": 70,
   "metadata": {},
   "outputs": [],
   "source": [
    "%%python3\n",
    "\n",
    "from subprocess import check_output\n",
    "from re import search\n",
    "import csv\n",
    "\n",
    "cmd = 'systemctl --type=service'\n",
    "services = check_output(cmd.split()).decode().splitlines()[1:]\n",
    "status = []\n",
    "\n",
    "for i in services:\n",
    "    match = search(r'(^.*)loaded.*(running|exited|failed)',i)\n",
    "    if match:\n",
    "        status.append(list(match.groups()))\n",
    "\n",
    "status = sorted(status, key = lambda x: x[1], reverse = True)\n",
    "\n",
    "with open('/home/mana/Work/status.csv','w') as file:\n",
    "    writer = csv.writer(file)\n",
    "    writer.writerows(status)"
   ]
  },
  {
   "cell_type": "code",
   "execution_count": 71,
   "metadata": {},
   "outputs": [
    {
     "name": "stdout",
     "output_type": "stream",
     "text": [
      "  accounts-daemon.service                   ,running\r",
      "\r\n",
      "  acpid.service                             ,running\r",
      "\r\n",
      "  avahi-daemon.service                      ,running\r",
      "\r\n"
     ]
    }
   ],
   "source": [
    "head -3 /home/mana/Work/status.csv"
   ]
  },
  {
   "cell_type": "markdown",
   "metadata": {},
   "source": [
    "### **Recursion**\n",
    "\n",
    "A function is said to be a recursive if it calls itself. \n",
    "\n",
    "For example,<br></br> lets say we have a function xyx() and in the body of xyz() there is a call to the abc().\n",
    "\n",
    "**Example of Recursion:**<br></br>In this example we are defining a user-defined function factorial(). \n",
    "\n",
    "This function finds the factorial of a number by calling itself repeatedly until the base case is reached."
   ]
  },
  {
   "cell_type": "code",
   "execution_count": 4,
   "metadata": {},
   "outputs": [
    {
     "name": "stdout",
     "output_type": "stream",
     "text": [
      "Factorial of 5 is:  120\n"
     ]
    }
   ],
   "source": [
    "# find the factorial of a given number\n",
    "\n",
    "def factorial(num):\n",
    "    \"\"\"This function calls itself to find\n",
    "    the factorial of a number\"\"\"\n",
    "\n",
    "    if num == 1:\n",
    "        return 1\n",
    "    else:\n",
    "        return (num * factorial(num - 1))\n",
    "\n",
    "num = 5\n",
    "print(\"Factorial of\", num, \"is: \", factorial(num))"
   ]
  },
  {
   "cell_type": "markdown",
   "metadata": {},
   "source": [
    "### **How to convert file /etc/passwd to csv file?**\n",
    "Note: This program perfectly convert passwd file to csv file.\n"
   ]
  },
  {
   "cell_type": "code",
   "execution_count": 5,
   "metadata": {},
   "outputs": [],
   "source": [
    "%%python3\n",
    "\n",
    "import csv\n",
    "\n",
    "with open('/etc/passwd', newline = '') as prfile, open('/home/mana/Work/pass.csv', 'w') as pwfile:\n",
    "    csvreader = csv.reader(prfile, delimiter = ':')\n",
    "    writer = csv.writer(pwfile, delimiter = ',',quoting = csv.QUOTE_MINIMAL)\n",
    "    writer.writerows(csvreader)    "
   ]
  },
  {
   "cell_type": "code",
   "execution_count": 5,
   "metadata": {},
   "outputs": [],
   "source": [
    "%%python3\n",
    "\n",
    "import csv\n",
    "\n",
    "with open('/etc/passwd', newline = '') as prfile, open('/home/mana/Work/pass.csv', 'w') as pwfile:\n",
    "    csvreader = csv.reader(prfile, delimiter = ':')\n",
    "    writer = csv.writer(pwfile, delimiter = ',',quoting = csv.QUOTE_MINIMAL)\n",
    "    \n",
    "    for x in csvreader:\n",
    "        writer.writerow(x)    "
   ]
  },
  {
   "cell_type": "markdown",
   "metadata": {},
   "source": [
    "### **How to read and write at same time in csv file?**"
   ]
  },
  {
   "cell_type": "code",
   "execution_count": null,
   "metadata": {},
   "outputs": [],
   "source": [
    "import csv\n",
    "\n",
    "with open('/etc/passwd', newline = '') as prfile, open('/home/mana/Work/pass.csv', 'w') as pwfile:\n",
    "    csvreader = csv.reader(prfile, delimiter = ':')\n",
    "    writer = csv.writer(pwfile, delimiter = ',',quoting = csv.QUOTE_MINIMAL)\n",
    "    \n",
    "    for x in csvreader:\n",
    "        writer.writerow(x)    "
   ]
  },
  {
   "cell_type": "markdown",
   "metadata": {},
   "source": [
    "### **How to read two text files convert into csv file?**\n",
    "**One file have name information, another one file have age information.**"
   ]
  },
  {
   "cell_type": "code",
   "execution_count": 6,
   "metadata": {},
   "outputs": [
    {
     "name": "stdout",
     "output_type": "stream",
     "text": [
      "Manavalan\r\n",
      "Ram\r\n",
      "Xavier\r\n"
     ]
    }
   ],
   "source": [
    "!cat /home/mana/Work/name.txt"
   ]
  },
  {
   "cell_type": "code",
   "execution_count": 7,
   "metadata": {},
   "outputs": [
    {
     "name": "stdout",
     "output_type": "stream",
     "text": [
      "32\r\n",
      "18\r\n",
      "21\r\n"
     ]
    }
   ],
   "source": [
    "!cat /home/mana/Work/age.txt"
   ]
  },
  {
   "cell_type": "code",
   "execution_count": 18,
   "metadata": {},
   "outputs": [],
   "source": [
    "%%python3\n",
    "\n",
    "from pathlib import Path\n",
    "import csv\n",
    "\n",
    "dir_path = Path('/home/mana/Work')\n",
    "name = (dir_path/'name.txt').read_text().splitlines()\n",
    "age = (dir_path/'age.txt').read_text().splitlines()\n",
    "csv_info = list(zip(name,age))\n",
    "\n",
    "with open('/home/mana/Work/data.csv', 'w') as csvfile:\n",
    "    writer = csv.writer(csvfile)\n",
    "    writer.writerows(csv_info)"
   ]
  },
  {
   "cell_type": "code",
   "execution_count": 15,
   "metadata": {},
   "outputs": [
    {
     "name": "stdout",
     "output_type": "stream",
     "text": [
      "Manavalan,32\r",
      "\r\n",
      "Ram,18\r",
      "\r\n",
      "Xavier,21\r",
      "\r\n"
     ]
    }
   ],
   "source": [
    "!cat /home/mana/Work/data.csv"
   ]
  },
  {
   "cell_type": "markdown",
   "metadata": {},
   "source": [
    "### **Jupyter Add Table**"
   ]
  },
  {
   "cell_type": "markdown",
   "metadata": {},
   "source": [
    "### &nbsp;\n",
    "\n",
    "|Layer        | $k$ (m/d) | $z_b$ (m) | $z_t$ | $c$ (days) |\n",
    "|:-----------:|----------:|----------:|------:|-----------:|\n",
    "|Aquifer 0    |    2      |     0     |   20  |    -       |\n",
    "|Leaky Layer 1|    -      |    -10    |   0   |   500      |\n",
    "|Aquifer 1    |    80     |    -30    |   -10 |   -        |"
   ]
  },
  {
   "cell_type": "markdown",
   "metadata": {},
   "source": [
    "### &nbsp;\n",
    "| Country  | Capital |\n",
    "| -------- | --------|\n",
    "| Portugal | Lisbon  |\n",
    "| Spain    | Madrid  |\n",
    "| Cuba     | Havana  |"
   ]
  },
  {
   "cell_type": "markdown",
   "metadata": {},
   "source": [
    "### **Alternamte &nbsp**"
   ]
  },
  {
   "cell_type": "markdown",
   "metadata": {},
   "source": [
    "<pre>\n",
    "    1 \n",
    "   / \\ \n",
    "  2   2 \n",
    " / \\ / \\ \n",
    "3  4 4  3 \n",
    "</pre>"
   ]
  },
  {
   "cell_type": "markdown",
   "metadata": {},
   "source": [
    "<pre>\n",
    "| Country  | Capital |\n",
    "| -------- | --------|\n",
    "| Portugal | Lisbon  |\n",
    "| Spain    | Madrid  |\n",
    "| Cuba     | Havana  |\n",
    "</pre>\n"
   ]
  },
  {
   "cell_type": "markdown",
   "metadata": {},
   "source": [
    "### **Jupyter Draw Equations**"
   ]
  },
  {
   "cell_type": "markdown",
   "metadata": {},
   "source": [
    "&nbsp; $K$ (m/d) $Z_b$"
   ]
  },
  {
   "cell_type": "markdown",
   "metadata": {},
   "source": [
    "&nbsp;\n",
    "$K$ (m/d) $Z_b$"
   ]
  },
  {
   "cell_type": "markdown",
   "metadata": {},
   "source": [
    "&nbsp;\n",
    "&lt;"
   ]
  },
  {
   "cell_type": "markdown",
   "metadata": {},
   "source": [
    "### **How to find your original MAC address?**\n",
    "**Hardware address means the MAC address of a network interface.**\n",
    "\n",
    "This program collect your Hardware address. then convert Hex.\n",
    "\n",
    "Finally produce converted MAC address.\n",
    "\n",
    "**Note:** ip a command would not show your original MAC address<br></br>if you use virtual MAC.\n"
   ]
  },
  {
   "cell_type": "code",
   "execution_count": 8,
   "metadata": {},
   "outputs": [
    {
     "name": "stdout",
     "output_type": "stream",
     "text": [
      "Orginal MAC Address => 242ec614dfe\n",
      "Converted MAC Address => 24:2e:c6:14:df\n"
     ]
    }
   ],
   "source": [
    "%%python3\n",
    "\n",
    "from uuid import getnode\n",
    "from re import findall\n",
    "\n",
    "node_mac = f'{getnode():x}'\n",
    "print('Orginal MAC Address =>',node_mac)\n",
    "mac = ':'.join(findall(r'..',node_mac))\n",
    "print('Converted MAC Address =>', mac)"
   ]
  },
  {
   "cell_type": "markdown",
   "metadata": {},
   "source": [
    "### **How to collect daily Hardware error notification and calculate <br></br> which error came how many times from syslog?**"
   ]
  },
  {
   "cell_type": "code",
   "execution_count": 26,
   "metadata": {},
   "outputs": [
    {
     "name": "stdout",
     "output_type": "stream",
     "text": [
      "[]\n"
     ]
    }
   ],
   "source": [
    "from itertools import groupby\n",
    "from pathlib import Path\n",
    "from re import search\n",
    "import csv\n",
    "\n",
    "logfile = Path('/var/log/syslog').read_text().splitlines()\n",
    "hard_error = [text for text in logfile if 'kernel' in text and 'error:' in text]\n",
    "error_list = []\n",
    "for x in hard_error:\n",
    "    match = search(r'(\\w{3}\\s{1,2}\\d{1,2}).*(\\].*error.*)',x)\n",
    "    if match:\n",
    "        error_list.append((match.group(1), \n",
    "                           match.group(2).replace(']','')))\n",
    "        \n",
    "errors = [[''.join(e), len(list(n))] for e, n in \n",
    "          groupby(sorted(error_list))]\n",
    "print(errors)"
   ]
  },
  {
   "cell_type": "markdown",
   "metadata": {},
   "source": [
    "If you want store as report in CSV format, Use below program."
   ]
  },
  {
   "cell_type": "code",
   "execution_count": 47,
   "metadata": {},
   "outputs": [],
   "source": [
    "log_data = [(' '.join(date[0].split()[:2]), ' '.join(date[0].split()[2:]),\n",
    "             date[1]) for date in errors]\n",
    "\n",
    "with open('/home/mana/Work/log_report.csv', 'w', newline = '') as logcsv:\n",
    "    writer = csv.writer(logcsv, quoting = csv.QUOTE_MINIMAL)\n",
    "    writer.writerows(log_data)\n",
    "    "
   ]
  },
  {
   "cell_type": "markdown",
   "metadata": {},
   "source": [
    "### **How to convert /etc/passwd file to csv file using Python?**\n",
    "\n",
    "Some project needs collect user information for inventory purpose.<br></br>This script helps who needs collect user information for inventory purpose.\n",
    "\n",
    "This script perfectly convert to CSV format."
   ]
  },
  {
   "cell_type": "code",
   "execution_count": 11,
   "metadata": {},
   "outputs": [],
   "source": [
    "import csv\n",
    "\n",
    "with open('/etc/passwd', newline = '') as passfile:\n",
    "    reader = csv.reader(passfile, delimiter = ':')\n",
    "    with open('/home/mana/Work/password.csv', 'w', newline = '') as wpass:\n",
    "        writer = csv.writer(wpass, delimiter = ',')\n",
    "        writer.writerows(reader)        "
   ]
  },
  {
   "cell_type": "markdown",
   "metadata": {},
   "source": [
    "### **How to list of tcp services and port number and<br></br> store into csv file ?**\n"
   ]
  },
  {
   "cell_type": "code",
   "execution_count": 53,
   "metadata": {},
   "outputs": [],
   "source": [
    "%%bash\n",
    "\n",
    "grep -Po \"^\\w+.*\\d{1,5}/tcp\" /etc/services  \\\n",
    "| sed 's/\\s/,/g' > services.csv"
   ]
  },
  {
   "cell_type": "code",
   "execution_count": 54,
   "metadata": {},
   "outputs": [],
   "source": [
    "%%python3\n",
    "\n",
    "from pathlib import Path\n",
    "from re import search\n",
    "import csv\n",
    "\n",
    "file_read = Path('/etc/services').read_text().splitlines()\n",
    "services = [i.replace('\\t', ' ').rpartition('/tcp')[0].split()\n",
    "        for i in file_read if search(r'/tcp', i)]\n",
    "\n",
    "with open('services.csv', 'w', newline = '') as file:\n",
    "    fieldnames = ['Services', 'Port']\n",
    "    wrih = csv.DictWriter(file, fieldnames)\n",
    "    wrih.writeheader()\n",
    "    wrir = csv.writer(file, delimiter = ',', \n",
    "                      quoting = csv.QUOTE_NONE)\n",
    "    wrir.writerows(services)    "
   ]
  },
  {
   "cell_type": "code",
   "execution_count": 60,
   "metadata": {},
   "outputs": [],
   "source": [
    "%%bash\n",
    "\n",
    "grep -Po \"^\\w+.*\\d{1,5}/tcp\" /etc/services  \\\n",
    "| sed 's/\\s/,/g' > services.csv"
   ]
  },
  {
   "cell_type": "code",
   "execution_count": 52,
   "metadata": {},
   "outputs": [],
   "source": [
    "%%bash\n",
    "\n",
    "awk '!/^#|udp/{print $1 \"\\t\" $2}' /etc/services | \\\n",
    "sed -n '/^$/d'"
   ]
  },
  {
   "cell_type": "markdown",
   "metadata": {},
   "source": [
    "### **How to search network service name using port number?**"
   ]
  },
  {
   "cell_type": "markdown",
   "metadata": {},
   "source": [
    "#### **Bash**"
   ]
  },
  {
   "cell_type": "code",
   "execution_count": 235,
   "metadata": {},
   "outputs": [],
   "source": [
    "%%bash\n",
    "\n",
    "read -p \"Enter Port Number: \" port\n",
    "grep \"\\s$port/tcp\" /etc/services | awk -v p=$port ' {print p,\"-->\", $1}'"
   ]
  },
  {
   "cell_type": "markdown",
   "metadata": {},
   "source": [
    "#### **python3**"
   ]
  },
  {
   "cell_type": "code",
   "execution_count": 288,
   "metadata": {},
   "outputs": [
    {
     "name": "stdout",
     "output_type": "stream",
     "text": [
      "Enter Port Number:25\n",
      "25 --> smtp\n"
     ]
    }
   ],
   "source": [
    "from pathlib import Path\n",
    "import re\n",
    "\n",
    "port = input('Enter Port Number:')\n",
    "file_read = Path('/etc/services').read_text().splitlines()\n",
    "service = [i.split('\\t')[0] for i in file_read \n",
    " if re.search(r'\\s'+port+'/tcp',i)]\n",
    "\n",
    "print(f'{port} --> {service[0]}')"
   ]
  },
  {
   "cell_type": "code",
   "execution_count": 286,
   "metadata": {},
   "outputs": [
    {
     "name": "stdout",
     "output_type": "stream",
     "text": [
      "Enter Port Number:26\n",
      "26 --> Port not Available.\n"
     ]
    }
   ],
   "source": [
    "tcpl = [i.replace('\\t', ' ').rpartition('/tcp')[0].split()\n",
    "        for i in  file_read if re.search(r'/tcp', i)]\n",
    "port_dict = {int(no): na  for na, no in tcpl}\n",
    "\n",
    "def chk(pno):\n",
    "    if pno in port_dict:\n",
    "        print(pno,'-->', port_dict[pno])\n",
    "    else:\n",
    "        print(pno, '-->', port_dict.get(pno,'Port not Available.'))\n",
    "\n",
    "inp = int(input('Enter Port Number:'))\n",
    "chk(inp)"
   ]
  },
  {
   "cell_type": "markdown",
   "metadata": {},
   "source": [
    "### **Is it possible decode the string again from message digest?**"
   ]
  },
  {
   "cell_type": "code",
   "execution_count": 74,
   "metadata": {},
   "outputs": [
    {
     "data": {
      "text/plain": [
       "'96d91ec12563de18f0e68cc3fde1124dbf345226ca6b38800c3bc7bac352273d'"
      ]
     },
     "execution_count": 74,
     "metadata": {},
     "output_type": "execute_result"
    }
   ],
   "source": [
    "from hashlib import sha256\n",
    "sha256(b'Manavalan').hexdigest()"
   ]
  },
  {
   "cell_type": "markdown",
   "metadata": {},
   "source": [
    "### **What is output?**"
   ]
  },
  {
   "cell_type": "code",
   "execution_count": null,
   "metadata": {},
   "outputs": [],
   "source": [
    "x = y = z = \"rwx\"\n",
    "\n",
    "print(x is z)"
   ]
  },
  {
   "cell_type": "markdown",
   "metadata": {},
   "source": [
    "**1. True**\n",
    "\n",
    "**2. False**\n",
    "\n",
    "**3. rwx**\n",
    "\n",
    "**4. None**\n"
   ]
  },
  {
   "cell_type": "markdown",
   "metadata": {},
   "source": [
    "### **What is output?**"
   ]
  },
  {
   "cell_type": "code",
   "execution_count": null,
   "metadata": {},
   "outputs": [],
   "source": [
    "print('G' > 'g')"
   ]
  },
  {
   "cell_type": "markdown",
   "metadata": {},
   "source": [
    "**1. True**\n",
    "\n",
    "**2. False**\n",
    "\n",
    "**3. Error**\n",
    "\n",
    "**4. None**\n",
    "\n",
    "\n"
   ]
  },
  {
   "cell_type": "markdown",
   "metadata": {},
   "source": [
    "### **What is the difference between sticky bit and suid?**\n",
    "<img src=\"stick.gif\" height=\"350\" width=\"350\" align=\"left\">\n",
    "\n"
   ]
  },
  {
   "cell_type": "markdown",
   "metadata": {},
   "source": [
    "#### **Sticky bit:**\n",
    "**Sticky bit** is to allow anyone to **create** a file in the directory, but only allow that<br></br> user or root to **remove** the file.\n",
    "\n",
    "**Turn ON sticky bit:**<br></br>\n",
    "chmod +t Work/<br></br>\n",
    "**Turn OFF sticky bit:**<br></br>\n",
    "chmod -t Work/\n",
    "\n",
    "\n",
    "\n",
    "#### **Suid:**\n",
    "**Suid is setuid.** When the program runs, set the <b>effective userid</b> to the owner <br></br>of the file instead of the logged in user. \n",
    "\n",
    "\n",
    "**Turn ON suid:**<br></br>\n",
    "chmod +s status.py<br></br>\n",
    "**Turn OFF suid:**<br></br>\n",
    "chmod -s status.py"
   ]
  },
  {
   "cell_type": "markdown",
   "metadata": {},
   "source": [
    "### **Python Quiz**\n",
    "\n",
    "#### **What is Output?**\n",
    "\n",
    "\n"
   ]
  },
  {
   "cell_type": "code",
   "execution_count": 43,
   "metadata": {},
   "outputs": [
    {
     "name": "stdout",
     "output_type": "stream",
     "text": [
      "{}\n"
     ]
    }
   ],
   "source": [
    "mydict = dict()\n",
    "print(mydict)\n"
   ]
  },
  {
   "cell_type": "markdown",
   "metadata": {},
   "source": [
    "**1. dict()**\n",
    "\n",
    "**2. {}**\n",
    "\n",
    "**3. Error**\n",
    "\n",
    "**4. dict**"
   ]
  },
  {
   "cell_type": "markdown",
   "metadata": {},
   "source": [
    "### **How to search directory recursively?**\n",
    "you may use find command. Here i use different approach.<br></br>\n",
    "$ find /home/mana/ -type d -name \"test\" -print"
   ]
  },
  {
   "cell_type": "markdown",
   "metadata": {},
   "source": [
    "**Python3:**"
   ]
  },
  {
   "cell_type": "code",
   "execution_count": 33,
   "metadata": {},
   "outputs": [
    {
     "name": "stdout",
     "output_type": "stream",
     "text": [
      "Enter Search Directory:test\n",
      "\"test\" Directory exists.\n"
     ]
    }
   ],
   "source": [
    "from pathlib import Path\n",
    "\n",
    "mydir = input('Enter Search Directory:')\n",
    "dir_list = Path('/home/mana/').rglob('Work/*')\n",
    "only_dir = [i.name for i in dir_list if i.is_dir()]\n",
    "if mydir in only_dir:\n",
    "    print(f'\"{mydir}\" Directory exists.')"
   ]
  },
  {
   "cell_type": "markdown",
   "metadata": {},
   "source": [
    "**Bash:**"
   ]
  },
  {
   "cell_type": "code",
   "execution_count": 34,
   "metadata": {},
   "outputs": [
    {
     "name": "stdout",
     "output_type": "stream",
     "text": [
      "'test' Directory exists.\n"
     ]
    }
   ],
   "source": [
    "%%bash\n",
    "\n",
    "mydir=test\n",
    "for i in /home/mana/Work/*\n",
    "do\n",
    "if [[ -d $i ]]\n",
    "then\n",
    "if [[ $(basename $i) == $mydir ]]\n",
    "then\n",
    "echo \"'$mydir' Directory exists.\"\n",
    "fi\n",
    "fi\n",
    "done"
   ]
  },
  {
   "cell_type": "markdown",
   "metadata": {},
   "source": [
    "### **Python Quiz**\n",
    "#### **What is output?**"
   ]
  },
  {
   "cell_type": "markdown",
   "metadata": {},
   "source": [
    "**1. P**\n",
    "\n",
    "**2. Python**\n",
    "\n",
    "**3. Blank Output**\n",
    "\n",
    "**4. Error**"
   ]
  },
  {
   "cell_type": "markdown",
   "metadata": {},
   "source": [
    "### **How google map works?**\n",
    "\n",
    "**Google Maps developed by Python**<br></br>\n",
    "\n",
    "**What is Latitude and Longitude?**<br></br>\n",
    "Latitude and Longitude are the units that represent the coordinates at geographic<br></br> coordinate system.\n",
    "<ol type='1'>\n",
    "<li>Latitudes and longitudes are horizontal and vertical lines respectively.</li>\n",
    "\n",
    "<li>Latitudes are parellel to equator and equator itself is also a latitude i.e. 0° Latitude.</li>\n",
    "\n",
    "<li>Longitude intersects with equator at 90°</li>\n",
    "</pre>"
   ]
  },
  {
   "cell_type": "code",
   "execution_count": 134,
   "metadata": {},
   "outputs": [
    {
     "data": {
      "text/plain": [
       "'Latitude 37.0902, Longitude 95.7129 is USA'"
      ]
     },
     "execution_count": 134,
     "metadata": {},
     "output_type": "execute_result"
    }
   ],
   "source": [
    "import bisect \n",
    "\n",
    "lati_long = [[], [20.5937,78.9629], [37.0902,95.7129], \n",
    "             [52.1326,5.2913], [55.3781, 3.4360]]\n",
    "country = ['', 'India', 'USA', 'Netherlands', 'UK']\n",
    "\n",
    "def map(arg):\n",
    "    idx = bisect.bisect(lati_long, arg) -1\n",
    "    return f'Latitude {arg[0]}, Longitude {arg[1]} is {country[idx]}'\n",
    "\n",
    "map([37.0902, 95.7129])"
   ]
  },
  {
   "cell_type": "markdown",
   "metadata": {},
   "source": [
    "### **How Google Transliteration Works?**\n",
    "\n",
    "**Google Transliteration use Python to transliteration(Convert English to other Language.)**\n",
    "\n",
    "Here I explain How Google Transliteration convert English charcters(\"i\") to Tamil(\"ஐ\").\n",
    "<img src=\"unicode.png\" height=\"500\" width=\"500\" align=\"left\">"
   ]
  },
  {
   "cell_type": "markdown",
   "metadata": {},
   "source": [
    "**Map unicode point English character(i) to Tamil unicode point('ஐ')**"
   ]
  },
  {
   "cell_type": "code",
   "execution_count": 19,
   "metadata": {},
   "outputs": [
    {
     "data": {
      "text/plain": [
       "{105: 2960}"
      ]
     },
     "execution_count": 19,
     "metadata": {},
     "output_type": "execute_result"
    }
   ],
   "source": [
    "trans_table = {105: 0xb90}\n",
    "#str.maketrans(trans_table)"
   ]
  },
  {
   "cell_type": "markdown",
   "metadata": {},
   "source": [
    "**Now Transliterate from i to ஐ**"
   ]
  },
  {
   "cell_type": "code",
   "execution_count": 20,
   "metadata": {},
   "outputs": [
    {
     "name": "stdout",
     "output_type": "stream",
     "text": [
      "Enter Character: i\n",
      "i transliterate to ஐ.\n"
     ]
    }
   ],
   "source": [
    "value = input('Enter Character: ')\n",
    "result = value.translate(trans_table)\n",
    "print(f'{value} transliterate to {result}.')"
   ]
  },
  {
   "cell_type": "markdown",
   "metadata": {},
   "source": [
    "**This is dirctely mapped to character.**"
   ]
  },
  {
   "cell_type": "code",
   "execution_count": 198,
   "metadata": {},
   "outputs": [
    {
     "name": "stdout",
     "output_type": "stream",
     "text": [
      "{105: 2960}\n"
     ]
    }
   ],
   "source": [
    "dict = str.maketrans('i', 'ஐ')\n",
    "print(dict)"
   ]
  },
  {
   "cell_type": "markdown",
   "metadata": {},
   "source": [
    "### **Python Quiz**\n",
    "#### **What is output?**"
   ]
  },
  {
   "cell_type": "code",
   "execution_count": null,
   "metadata": {},
   "outputs": [],
   "source": [
    "print(0.0 > 0)"
   ]
  },
  {
   "cell_type": "markdown",
   "metadata": {},
   "source": [
    "<h4><span style=\"padding-left:10px;color:black;\"><b>1. True</b></span></h4>\n",
    "<h4><span style=\"padding-left:10px;color:black;\"><b>2. False</b></span></h4>\n",
    "<h4><span style=\"padding-left:10px;color:black;\"><b>3. Error</b></span></h4>\n",
    "<h4><span style=\"padding-left:10px;color:black;\"><b>4. None</b></span></h4>"
   ]
  },
  {
   "cell_type": "markdown",
   "metadata": {},
   "source": [
    "### **What is c value?**"
   ]
  },
  {
   "cell_type": "code",
   "execution_count": null,
   "metadata": {},
   "outputs": [],
   "source": [
    "a=5\n",
    "b=6\n",
    "c = a if a > b else b\n",
    "print(c)"
   ]
  },
  {
   "cell_type": "markdown",
   "metadata": {},
   "source": [
    "<h4><span style=\"padding-left:10px;color:black;\"><b>A). 5</b></span></h4>\n",
    "<h4><span style=\"padding-left:10px;color:black;\"><b>B). 6</b></span></h4>\n",
    "<h4><span style=\"padding-left:10px;color:black;\"><b>C). Error</b></span></h4>\n",
    "<h4><span style=\"padding-left:10px;color:black;\"><b>D). None</b></span></h4>"
   ]
  },
  {
   "cell_type": "markdown",
   "metadata": {},
   "source": [
    "### **Python Quiz**\n",
    "#### **What is output?**"
   ]
  },
  {
   "cell_type": "code",
   "execution_count": null,
   "metadata": {},
   "outputs": [],
   "source": [
    "if 'a':\n",
    "    print('True')\n",
    "else:\n",
    "    print('False')"
   ]
  },
  {
   "cell_type": "markdown",
   "metadata": {},
   "source": [
    "<h4><span style=\"padding-left:10px;color:black;\"><b>1. True</b></span></h4>\n",
    "<h4><span style=\"padding-left:10px;color:black;\"><b>2. False</b></span></h4>\n",
    "<h4><span style=\"padding-left:10px;color:black;\"><b>3. Error</b></span></h4>\n",
    "<h4><span style=\"padding-left:10px;color:black;\"><b>4. None</b></span></h4>"
   ]
  },
  {
   "cell_type": "markdown",
   "metadata": {},
   "source": [
    "### **Python Quiz**\n",
    "#### **What is output?**"
   ]
  },
  {
   "cell_type": "code",
   "execution_count": null,
   "metadata": {},
   "outputs": [],
   "source": [
    "score = 50 > 35\n",
    "print(\"Pass\" if score  else \"Fail\")"
   ]
  },
  {
   "cell_type": "markdown",
   "metadata": {},
   "source": [
    "<h4><span style=\"padding-left:10px;color:black;\"><b>1. Pass</b></span></h4>\n",
    "<h4><span style=\"padding-left:10px;color:black;\"><b>2. Fail</b></span></h4>\n",
    "<h4><span style=\"padding-left:10px;color:black;\"><b>3. None</b></span></h4>\n",
    "<h4><span style=\"padding-left:10px;color:black;\"><b>4. score</b></span></h4>"
   ]
  },
  {
   "cell_type": "markdown",
   "metadata": {},
   "source": [
    "### **Python Quiz**\n",
    "#### **What is output?**"
   ]
  },
  {
   "cell_type": "code",
   "execution_count": null,
   "metadata": {},
   "outputs": [],
   "source": [
    "print('ma123*'.isalnum())"
   ]
  },
  {
   "cell_type": "markdown",
   "metadata": {},
   "source": [
    "<h4><span style=\"padding-left:10px;color:black;\"><b>1. True</b></span></h4>\n",
    "<h4><span style=\"padding-left:10px;color:black;\"><b>2. False</b></span></h4>\n",
    "<h4><span style=\"padding-left:10px;color:black;\"><b>3. Error</b></span></h4>\n",
    "<h4><span style=\"padding-left:10px;color:black;\"><b>4. None</b></span></h4>"
   ]
  },
  {
   "cell_type": "markdown",
   "metadata": {},
   "source": [
    "### **Python Quiz**\n",
    "#### **What is output?**"
   ]
  },
  {
   "cell_type": "code",
   "execution_count": null,
   "metadata": {},
   "outputs": [],
   "source": [
    "name = 'Mari Muthu'\n",
    "print(name.rfind('M'))"
   ]
  },
  {
   "cell_type": "markdown",
   "metadata": {},
   "source": [
    "<h4><span style=\"padding-left:10px;color:black;\"><b>A). 0</b></span></h4>\n",
    "<h4><span style=\"padding-left:10px;color:black;\"><b>B). 6</b></span></h4>\n",
    "<h4><span style=\"padding-left:10px;color:black;\"><b>C). 5</b></span></h4>\n",
    "<h4><span style=\"padding-left:10px;color:black;\"><b>D). 4</b></span></h4>"
   ]
  },
  {
   "cell_type": "markdown",
   "metadata": {},
   "source": [
    "### **Python Quiz**\n",
    "#### **What is output?**"
   ]
  },
  {
   "cell_type": "code",
   "execution_count": null,
   "metadata": {},
   "outputs": [],
   "source": [
    "print([77, 97, 110, 97]  <  [109, 97, 110, 97])"
   ]
  },
  {
   "cell_type": "markdown",
   "metadata": {},
   "source": [
    "<h4><span style=\"padding-left:10px;color:black;\"><b>1. True</b></span></h4>\n",
    "<h4><span style=\"padding-left:10px;color:black;\"><b>2. False</b></span></h4>\n",
    "<h4><span style=\"padding-left:10px;color:black;\"><b>3. Error</b></span></h4>\n",
    "<h4><span style=\"padding-left:10px;color:black;\"><b>4. None</b></span></h4>"
   ]
  },
  {
   "cell_type": "markdown",
   "metadata": {},
   "source": [
    "### **Python Quiz**\n",
    "#### **What is output?** "
   ]
  },
  {
   "cell_type": "code",
   "execution_count": 246,
   "metadata": {},
   "outputs": [],
   "source": [
    "while 0:\n",
    "    print('Hello')"
   ]
  },
  {
   "cell_type": "markdown",
   "metadata": {},
   "source": [
    "**A). 0**\n",
    "\n",
    "**B). loop execute infinite**\n",
    "\n",
    "**C). Blank Output**\n",
    "\n",
    "**D). Error**"
   ]
  },
  {
   "cell_type": "markdown",
   "metadata": {},
   "source": [
    "### **How to read csv filed header only?**"
   ]
  },
  {
   "cell_type": "markdown",
   "metadata": {},
   "source": [
    "**Method: 1**"
   ]
  },
  {
   "cell_type": "code",
   "execution_count": 237,
   "metadata": {},
   "outputs": [
    {
     "data": {
      "text/plain": [
       "['Name', 'Age', 'Profession']"
      ]
     },
     "execution_count": 237,
     "metadata": {},
     "output_type": "execute_result"
    }
   ],
   "source": [
    "import csv\n",
    "\n",
    "with open('/home/mana/Work/peoples.csv', newline = '') as csvfile:\n",
    "    reader = csv.reader(csvfile)\n",
    "    header = next(reader)\n",
    "    \n",
    "header"
   ]
  },
  {
   "cell_type": "markdown",
   "metadata": {},
   "source": [
    "**Method: 2**"
   ]
  },
  {
   "cell_type": "code",
   "execution_count": 236,
   "metadata": {},
   "outputs": [
    {
     "data": {
      "text/plain": [
       "['Name', 'Age', 'Profession']"
      ]
     },
     "execution_count": 236,
     "metadata": {},
     "output_type": "execute_result"
    }
   ],
   "source": [
    "import csv\n",
    "\n",
    "with open('/home/mana/Work/peoples.csv', newline = '') as csvfile:\n",
    "    header = csv.DictReader(csvfile).fieldnames    \n",
    "    \n",
    "header"
   ]
  },
  {
   "cell_type": "markdown",
   "metadata": {},
   "source": [
    "### **Write function that takes two args: list of strings and a prefix <br></br>(string). The function should iterate over the list and find all <br></br>strings which start with the prefix, then return list of such strings**"
   ]
  },
  {
   "cell_type": "code",
   "execution_count": 253,
   "metadata": {},
   "outputs": [
    {
     "data": {
      "text/plain": [
       "['Rani', 'Ram', 'Rex']"
      ]
     },
     "execution_count": 253,
     "metadata": {},
     "output_type": "execute_result"
    }
   ],
   "source": [
    "string_list = ['Rani', \"Lawerence\", 'Ram', 'Xavier', 'Veena', 'Rex']\n",
    "def start(a, *string_list):\n",
    "    return [i for i in string_list if i.startswith(a)]\n",
    "\n",
    "\n",
    "start('R', *string_list)"
   ]
  },
  {
   "cell_type": "markdown",
   "metadata": {},
   "source": [
    "### **Write function which takes string AAAAaaBCCCDDe as argument<br></br> and returns its compressed version A4a2B1C3D2e1**"
   ]
  },
  {
   "cell_type": "code",
   "execution_count": 266,
   "metadata": {},
   "outputs": [
    {
     "name": "stdout",
     "output_type": "stream",
     "text": [
      "A4a2B1C3D2e1"
     ]
    }
   ],
   "source": [
    "S = 'AAAAaaBCCCDDe'\n",
    "uni = {x: S.count(x) for x in S}\n",
    "for m, n in uni.items():\n",
    "    print(m+str(n), end = '')"
   ]
  },
  {
   "cell_type": "code",
   "execution_count": 275,
   "metadata": {},
   "outputs": [
    {
     "name": "stdout",
     "output_type": "stream",
     "text": [
      "A4a2B1C3D2e1"
     ]
    }
   ],
   "source": [
    "from itertools import groupby\n",
    "\n",
    "S = 'AAAAaaBCCCDDe'\n",
    "chacount = [(x, len(list(y))) for x, y in groupby(S)]\n",
    "\n",
    "for m, n in chacount:\n",
    "    print(m+str(n), end = '')"
   ]
  },
  {
   "cell_type": "markdown",
   "metadata": {},
   "source": [
    "### **How to list all Python builtin functions?**"
   ]
  },
  {
   "cell_type": "code",
   "execution_count": 291,
   "metadata": {},
   "outputs": [
    {
     "name": "stdout",
     "output_type": "stream",
     "text": [
      "abs          all          any          ascii        \n",
      "bin          bool         bytearray    bytes        \n",
      "callable     chr          classmethod  compile      \n",
      "complex      copyright    credits      delattr      \n",
      "dict         dir          display      divmod       \n",
      "enumerate    eval         exec         filter       \n",
      "float        format       frozenset    get_ipython  \n",
      "getattr      globals      hasattr      hash         \n",
      "help         hex          id           input        \n",
      "int          isinstance   issubclass   iter         \n",
      "len          license      list         locals       \n",
      "map          max          memoryview   min          \n",
      "next         object       oct          open         \n",
      "ord          pow          print        property     \n",
      "range        repr         reversed     round        \n",
      "set          setattr      slice        sorted       \n",
      "staticmethod str          sum          super        \n",
      "tuple        type         vars         zip          \n"
     ]
    }
   ],
   "source": [
    "import builtins\n",
    "\n",
    "functions = [i for i in dir(builtins) \n",
    "             if i[0].islower()]\n",
    "fmt = '{:13s}'*4\n",
    "\n",
    "for fn in zip(*[iter(functions)] *4):\n",
    "    print(fmt.format(*fn))"
   ]
  },
  {
   "cell_type": "markdown",
   "metadata": {},
   "source": [
    "### **Linux Quiz**"
   ]
  },
  {
   "cell_type": "code",
   "execution_count": 46,
   "metadata": {},
   "outputs": [
    {
     "name": "stdout",
     "output_type": "stream",
     "text": [
      "Manavalan \r\n",
      "Ram\r\n",
      "Xavier\r\n",
      "Gopal\r\n"
     ]
    }
   ],
   "source": [
    "!cat ~/Work/name.txt"
   ]
  },
  {
   "cell_type": "markdown",
   "metadata": {},
   "source": [
    "\n",
    "#### **What is sed output?**"
   ]
  },
  {
   "cell_type": "code",
   "execution_count": null,
   "metadata": {},
   "outputs": [],
   "source": [
    "!sed -n '$p' ~/Work/name.txt"
   ]
  },
  {
   "cell_type": "markdown",
   "metadata": {},
   "source": [
    "<h4><span style=\"padding-left:10px;color:black;\"><b>1. Manavalan</b></span></h4>\n",
    "<h4><span style=\"padding-left:10px;color:black;\"><b>2. Gopal</b></span></h4>\n",
    "<h4><span style=\"padding-left:10px;color:black;\"><b>3. Xavier</b></span></h4>\n",
    "<h4><span style=\"padding-left:10px;color:black;\"><b>4. Ram</b></span></h4>"
   ]
  },
  {
   "cell_type": "markdown",
   "metadata": {},
   "source": [
    "### **How to read specific column in file ?**"
   ]
  },
  {
   "cell_type": "code",
   "execution_count": 57,
   "metadata": {},
   "outputs": [
    {
     "name": "stdout",
     "output_type": "stream",
     "text": [
      "Name,Age,Profession\r\n",
      "Jack,23,Doctor\r\n",
      "Miller,22,Engineer\r\n",
      "Xavier,25,Worker\r\n"
     ]
    }
   ],
   "source": [
    "!cat /home/mana/Work/peoples.csv"
   ]
  },
  {
   "cell_type": "code",
   "execution_count": 56,
   "metadata": {},
   "outputs": [
    {
     "name": "stdout",
     "output_type": "stream",
     "text": [
      "Jack\n",
      "Miller\n",
      "Xavier\n"
     ]
    }
   ],
   "source": [
    "import csv\n",
    "\n",
    "with open('/home/mana/Work/peoples.csv') as csvfile:\n",
    "    reader = csv.DictReader(csvfile)\n",
    "    \n",
    "    for row in reader:\n",
    "        print(row.get('Name'))"
   ]
  },
  {
   "cell_type": "markdown",
   "metadata": {},
   "source": [
    "### **How to calculate total cost and total product count from quoted csv file?**"
   ]
  },
  {
   "cell_type": "code",
   "execution_count": 97,
   "metadata": {},
   "outputs": [
    {
     "name": "stdout",
     "output_type": "stream",
     "text": [
      "﻿\"TimeStamp,RID,MSISDN,ProductID,ProductName,ProductType,ProductCost,SubsciptionChannel,PaySource,FailedCommand,Interface,FailuerReason\"\r",
      "\r\n",
      "\"2020-04-08 12:48:30:988, http_10.131.13.143_d665091f-d1a6-4728-8917-62f68fe1445f, 2349062058463, 603, Share N Sell 1, Time2Share, null, ussd, CIS_SCAPv2, Refund, CIS_SCAPv2, DIAMETER_UNABLE_TO_COMPLY\"\r",
      "\r\n",
      "\"2020-04-08 13:01:23:901,WEB_10.129.7.178_f0b765a0-ecdf-4fc0-8c38-3264d95b7c2a,2349013977971,152,350MB Weekly data plan,DATA,300,evd,CIS_SCAPv2,GetAccountDetails,UCIP,Subscriber not found\"\r",
      "\r\n",
      "\"2020-04-08 13:03:03:719,WEB_10.128.12.217_9a149815-b84c-40b2-a9c8-993df8a4f503,2348085298734,745,8GB Monthly Plan,DATA,3000,evd,CIS_SCAPv2,GetAccountDetails,UCIP,Subscriber not found\"\r",
      "\r\n"
     ]
    }
   ],
   "source": [
    "!cat /home/mana/Work/sample.csv"
   ]
  },
  {
   "cell_type": "code",
   "execution_count": 10,
   "metadata": {},
   "outputs": [
    {
     "name": "stdout",
     "output_type": "stream",
     "text": [
      "Total Cost: 3300\n",
      "Total Count: 2\n"
     ]
    }
   ],
   "source": [
    "import csv\n",
    "\n",
    "total_cost = []\n",
    "total_count = []\n",
    "    \n",
    "with open('/home/mana/Work/sample.csv', newline = '') as csvfile:\n",
    "    reader = csv.DictReader(csvfile, quoting = csv.QUOTE_NONE)\n",
    "    for row in reader:\n",
    "        dcon = dict(row)\n",
    "        if dcon.get('ProductCost') != ' null':\n",
    "            total_cost.append(int(dcon.get('ProductCost')))\n",
    "            total_count.append(dcon.get('ProductID'))\n",
    "\n",
    "print('Total Cost:', sum(total_cost))\n",
    "print('Total Count:', len(total_count))"
   ]
  },
  {
   "cell_type": "markdown",
   "metadata": {},
   "source": [
    "### **Convert From Lower  Case To Upper Case**"
   ]
  },
  {
   "cell_type": "code",
   "execution_count": 21,
   "metadata": {},
   "outputs": [
    {
     "name": "stdout",
     "output_type": "stream",
     "text": [
      "MANAVALAN MICHEAL\n"
     ]
    }
   ],
   "source": [
    "%%bash\n",
    "name=\"Manavalan Micheal\"\n",
    "echo ${name^^}"
   ]
  },
  {
   "cell_type": "code",
   "execution_count": 31,
   "metadata": {},
   "outputs": [
    {
     "name": "stdout",
     "output_type": "stream",
     "text": [
      "MANAVALAN MICHEAL\n"
     ]
    }
   ],
   "source": [
    "%%bash\n",
    "echo \"Manavalan Micheal\" | tr \"[:lower:]\" \"[:upper:]\""
   ]
  },
  {
   "cell_type": "code",
   "execution_count": 32,
   "metadata": {},
   "outputs": [
    {
     "name": "stdout",
     "output_type": "stream",
     "text": [
      "MANAVALAN MICHEAL\n"
     ]
    }
   ],
   "source": [
    "%%bash\n",
    "echo \"Manavalan Micheal\" | awk '{print toupper($0)}'"
   ]
  },
  {
   "cell_type": "code",
   "execution_count": 6,
   "metadata": {},
   "outputs": [
    {
     "name": "stdout",
     "output_type": "stream",
     "text": [
      "CESAR RIZZO\n"
     ]
    }
   ],
   "source": [
    "%%bash\n",
    "\n",
    "awk '{print toupper($0)}' < <(echo \"Cesar Rizzo\" )\n"
   ]
  },
  {
   "cell_type": "code",
   "execution_count": 33,
   "metadata": {},
   "outputs": [
    {
     "name": "stdout",
     "output_type": "stream",
     "text": [
      "MANAVALAN MICHEAL\n"
     ]
    }
   ],
   "source": [
    "%%bash\n",
    "echo \"Manavalan Micheal\" | sed -r 's/(^.*$)/\\U\\1/'"
   ]
  },
  {
   "cell_type": "code",
   "execution_count": 34,
   "metadata": {},
   "outputs": [
    {
     "name": "stdout",
     "output_type": "stream",
     "text": [
      "MANAVALAN MICHEAL\n"
     ]
    }
   ],
   "source": [
    "%%python3\n",
    "text = \"Manavalan Micheal\"\n",
    "print(text.upper())"
   ]
  },
  {
   "cell_type": "markdown",
   "metadata": {},
   "source": [
    "### **How To Know Error Number Using Error Description?**\n",
    "Generlly we receive only error description if comand fail. This program will help <br></br>to know error number of corresponding error description."
   ]
  },
  {
   "cell_type": "code",
   "execution_count": null,
   "metadata": {},
   "outputs": [],
   "source": []
  },
  {
   "cell_type": "markdown",
   "metadata": {},
   "source": [
    "### **Find and Replace The String**\n",
    "Here, I find **whitespace(\\s)** replace by **Underscore(_)**."
   ]
  },
  {
   "cell_type": "code",
   "execution_count": 58,
   "metadata": {},
   "outputs": [
    {
     "name": "stdout",
     "output_type": "stream",
     "text": [
      "Linux_is_Good_Operating_System.\n"
     ]
    }
   ],
   "source": [
    "%%bash\n",
    "text=\"Linux is Good Operating System.\"\n",
    "echo ${text// /_}"
   ]
  },
  {
   "cell_type": "code",
   "execution_count": 132,
   "metadata": {},
   "outputs": [
    {
     "name": "stdout",
     "output_type": "stream",
     "text": [
      "Linux_is_Good_Operating_System.\n",
      "\u001b[35;1m\tOR\u001b[m\n",
      "Linux_is_Good_Operating_System.\n"
     ]
    }
   ],
   "source": [
    "%%bash\n",
    "\n",
    "text=\"Linux is Good Operating System.\"\n",
    "echo $text | sed \"s/\\s/_/g\"\n",
    "echo  $'\\e[35;1m\\tOR\\e[m'\n",
    "echo $text | tr  \"[:blank:]\" \"_\""
   ]
  },
  {
   "cell_type": "code",
   "execution_count": 117,
   "metadata": {},
   "outputs": [
    {
     "name": "stdout",
     "output_type": "stream",
     "text": [
      "Linux_is_Good_Operating_System.\n"
     ]
    }
   ],
   "source": [
    "%%python3\n",
    "text=\"Linux is Good Operating System.\"\n",
    "print(text.replace(' ','_'))"
   ]
  },
  {
   "cell_type": "code",
   "execution_count": 119,
   "metadata": {},
   "outputs": [
    {
     "name": "stdout",
     "output_type": "stream",
     "text": [
      "Linux_is_Good_Operating_System.\n"
     ]
    }
   ],
   "source": [
    "%%python3\n",
    "\n",
    "import re\n",
    "text=\"Linux is Good Operating System.\"\n",
    "print(re.sub(r'\\s','_',text))"
   ]
  },
  {
   "cell_type": "markdown",
   "metadata": {},
   "source": [
    "### **How to Get Color Output?**"
   ]
  },
  {
   "cell_type": "markdown",
   "metadata": {},
   "source": [
    "### **How To Remove All Alphabetical Letters?**"
   ]
  },
  {
   "cell_type": "code",
   "execution_count": null,
   "metadata": {},
   "outputs": [],
   "source": [
    "%%bash\n",
    "\n",
    " echo \"my ID is 73535\" | tr -cd [:digit:]"
   ]
  },
  {
   "cell_type": "markdown",
   "metadata": {},
   "source": [
    "### **How To Remove All the Digits From The String?**"
   ]
  },
  {
   "cell_type": "code",
   "execution_count": null,
   "metadata": {},
   "outputs": [],
   "source": [
    "%%bash\n",
    "\n",
    "echo \"my ID is 73535\" | tr -d [:digit:]"
   ]
  },
  {
   "cell_type": "markdown",
   "metadata": {},
   "source": [
    "### **How to delete specified characters?**"
   ]
  },
  {
   "cell_type": "code",
   "execution_count": null,
   "metadata": {},
   "outputs": [],
   "source": [
    "%%bash\n",
    "\n",
    "echo \"Welcome To GeeksforGeeks\" | tr -d 'w'"
   ]
  },
  {
   "cell_type": "markdown",
   "metadata": {},
   "source": [
    "### **How To Make Title?**"
   ]
  },
  {
   "cell_type": "code",
   "execution_count": null,
   "metadata": {},
   "outputs": [],
   "source": []
  },
  {
   "cell_type": "markdown",
   "metadata": {},
   "source": [
    "### **How To Replace Multiple Spaces With One**"
   ]
  },
  {
   "cell_type": "code",
   "execution_count": 59,
   "metadata": {},
   "outputs": [
    {
     "name": "stdout",
     "output_type": "stream",
     "text": [
      "ID Name\n",
      "1 a\n",
      "2 b\n",
      "3 g\n",
      "6 f\n"
     ]
    }
   ],
   "source": [
    "%%bash\n",
    "\n",
    "cat ~/Work/collapse.txt | tr -s \" \"\n"
   ]
  },
  {
   "cell_type": "code",
   "execution_count": 60,
   "metadata": {},
   "outputs": [
    {
     "name": "stdout",
     "output_type": "stream",
     "text": [
      "ID Name\n",
      "1 a\n",
      "2 b\n",
      "3 g\n",
      "6 f\n"
     ]
    }
   ],
   "source": [
    "%%bash\n",
    "\n",
    "cat ~/Work/collapse.txt | awk '{$2=$2};1'"
   ]
  },
  {
   "cell_type": "code",
   "execution_count": null,
   "metadata": {},
   "outputs": [],
   "source": [
    "%%python3\n",
    "\n"
   ]
  },
  {
   "cell_type": "markdown",
   "metadata": {},
   "source": [
    "#### **How to check disk usage of the set of files, recursively for directories?**"
   ]
  },
  {
   "cell_type": "code",
   "execution_count": 71,
   "metadata": {},
   "outputs": [
    {
     "name": "stdout",
     "output_type": "stream",
     "text": [
      "80K\tApr.ipynb\n",
      "56K\tFeb.ipynb\n",
      "92K\tJan.ipynb\n",
      "8.0K\tLinux.ipynb\n",
      "76K\tMar.ipynb\n",
      "8.0K\tstick.gif\n",
      "132K\tsuuid.png\n",
      "52K\tunicode.png\n"
     ]
    }
   ],
   "source": [
    "%%bash\n",
    "\n",
    "du -sh *"
   ]
  },
  {
   "cell_type": "markdown",
   "metadata": {},
   "source": [
    "#### **How to use end parameter in \"for loop\"?**\n",
    "**It print like this 0 1 2 3 4 if change end aparemeter**\n"
   ]
  },
  {
   "cell_type": "code",
   "execution_count": 76,
   "metadata": {},
   "outputs": [
    {
     "name": "stdout",
     "output_type": "stream",
     "text": [
      "0 1 2 3 4 "
     ]
    }
   ],
   "source": [
    "for x in range(5):\n",
    "    print(x, end = ' ')"
   ]
  },
  {
   "cell_type": "markdown",
   "metadata": {},
   "source": [
    "### **How To Trace System Call?**"
   ]
  },
  {
   "cell_type": "code",
   "execution_count": 3,
   "metadata": {},
   "outputs": [
    {
     "name": "stdout",
     "output_type": "stream",
     "text": [
      "\n"
     ]
    },
    {
     "name": "stderr",
     "output_type": "stream",
     "text": [
      "execve(\"/bin/bash\", [\"bash\", \"-c\", \"awk '{print toupper(bash)}' < <(\"...], 0x7ffc766c3c38 /* 69 vars */) = 0\n",
      "read(3, \"\\177ELF\\2\\1\\1\\0\\0\\0\\0\\0\\0\\0\\0\\0\\3\\0>\\0\\1\\0\\0\\0\\220\\311\\0\\0\\0\\0\\0\\0\"..., 832) = 832\n",
      "read(3, \"\\177ELF\\2\\1\\1\\0\\0\\0\\0\\0\\0\\0\\0\\0\\3\\0>\\0\\1\\0\\0\\0P\\16\\0\\0\\0\\0\\0\\0\"..., 832) = 832\n",
      "read(3, \"\\177ELF\\2\\1\\1\\3\\0\\0\\0\\0\\0\\0\\0\\0\\3\\0>\\0\\1\\0\\0\\0\\260\\34\\2\\0\\0\\0\\0\\0\"..., 832) = 832\n",
      "strace: Process 20866 attached\n",
      "[pid 20866] dup2(3, 63)                 = 63\n",
      "[pid 20866] dup2(3, 0)                  = 0\n",
      "[pid 20866] execve(\"/usr/bin/awk\", [\"awk\", \"{print toupper(bash)}\"], 0x55ae7a83d260 /* 69 vars */strace: Process 20867 attached\n",
      " <unfinished ...>\n",
      "[pid 20867] dup2(4, 1)                  = 1\n",
      "[pid 20867] write(1, \"Cesar Rizzo\\n\", 12) = 12\n",
      "[pid 20867] +++ exited with 0 +++\n",
      "[pid 20866] <... execve resumed> )      = 0\n",
      "[pid 20866] --- SIGCHLD {si_signo=SIGCHLD, si_code=CLD_EXITED, si_pid=20867, si_uid=1000, si_status=0, si_utime=0, si_stime=0} ---\n",
      "[pid 20866] read(3, \"\\177ELF\\2\\1\\1\\3\\0\\0\\0\\0\\0\\0\\0\\0\\3\\0>\\0\\1\\0\\0\\0\\200\\272\\0\\0\\0\\0\\0\\0\"..., 832) = 832\n",
      "[pid 20866] read(3, \"\\177ELF\\2\\1\\1\\3\\0\\0\\0\\0\\0\\0\\0\\0\\3\\0>\\0\\1\\0\\0\\0\\260\\34\\2\\0\\0\\0\\0\\0\"..., 832) = 832\n",
      "[pid 20866] read(0, \"Cesar Rizzo\\n\", 4096) = 12\n",
      "[pid 20866] read(0, \"\", 4084)           = 0\n",
      "[pid 20866] write(1, \"\\n\", 1)           = 1\n",
      "[pid 20866] +++ exited with 0 +++\n",
      "--- SIGCHLD {si_signo=SIGCHLD, si_code=CLD_EXITED, si_pid=20866, si_uid=1000, si_status=0, si_utime=0, si_stime=0} ---\n",
      "+++ exited with 0 +++\n"
     ]
    }
   ],
   "source": [
    "%%bash\n",
    "\n",
    "strace -f -e open,read,write,dup2,unlink,execve bash -c \"awk '{print toupper($0)}' < <(echo 'Cesar Rizzo' )\""
   ]
  },
  {
   "cell_type": "markdown",
   "metadata": {},
   "source": [
    "#### **How To Child Class Access Method Of Parent Class?**"
   ]
  },
  {
   "cell_type": "code",
   "execution_count": 16,
   "metadata": {},
   "outputs": [
    {
     "name": "stdout",
     "output_type": "stream",
     "text": [
      "Good Morning My Son.\n",
      "Good Morning Dad.\n"
     ]
    }
   ],
   "source": [
    "class A:\n",
    "    def test1(self):\n",
    "        return 'Good Morning My Son.'\n",
    "    \n",
    "class B(A):\n",
    "    def test2(self):\n",
    "        return 'Good Morning Dad.'\n",
    "\n",
    "hello = B()\n",
    "print(hello.test1())\n",
    "print(hello.test2())"
   ]
  },
  {
   "cell_type": "markdown",
   "metadata": {},
   "source": [
    "### **Inherit same function name from several classes**"
   ]
  },
  {
   "cell_type": "code",
   "execution_count": 32,
   "metadata": {},
   "outputs": [
    {
     "name": "stdout",
     "output_type": "stream",
     "text": [
      "Hi Good Morning.\n",
      "Hi Good Evening.\n",
      "Hi Good Night.\n"
     ]
    }
   ],
   "source": [
    "class A:\n",
    "    def test(self):\n",
    "        print('Hi Good Morning.')\n",
    "    \n",
    "class B:\n",
    "    def test(self):\n",
    "        print('Hi Good Evening.')\n",
    "    \n",
    "class C(A,B):\n",
    "    def test(self):\n",
    "        A.test(self)\n",
    "        B.test(self)\n",
    "        print('Hi Good Night.')\n",
    "    \n",
    "\n",
    "hello = C()\n",
    "hello.test()\n"
   ]
  },
  {
   "cell_type": "code",
   "execution_count": null,
   "metadata": {},
   "outputs": [],
   "source": []
  }
 ],
 "metadata": {
  "kernelspec": {
   "display_name": "Python 3",
   "language": "python",
   "name": "python3"
  },
  "language_info": {
   "codemirror_mode": {
    "name": "ipython",
    "version": 3
   },
   "file_extension": ".py",
   "mimetype": "text/x-python",
   "name": "python",
   "nbconvert_exporter": "python",
   "pygments_lexer": "ipython3",
   "version": "3.6.9"
  }
 },
 "nbformat": 4,
 "nbformat_minor": 2
}
